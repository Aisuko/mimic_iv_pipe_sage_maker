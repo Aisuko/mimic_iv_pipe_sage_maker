{
 "cells": [
  {
   "cell_type": "code",
   "execution_count": 527,
   "id": "italic-private",
   "metadata": {},
   "outputs": [],
   "source": [
    "# // %%javascript\n",
    "# // function toggler(){\n",
    "# //     if(window.already_toggling){\n",
    "# //         // Don't add multiple buttons.\n",
    "# //         return 0\n",
    "# //     }\n",
    "# //     let btn = $('.input').append('<button>Toggle Code</button>')\n",
    "# //         .children('button');\n",
    "# //     btn.on('click', function(e){\n",
    "# //         let tgt = e.currentTarget;\n",
    "# //         $(tgt).parent().children('.inner_cell').toggle()\n",
    "# //     })\n",
    "# //     window.already_toggling = true;\n",
    "# // }\n",
    "# // // Since javascript cells are executed as soon as we load\n",
    "# // // the notebook (if it's trusted), and this cell might be at the\n",
    "# // // top of the notebook (so is executed first), we need to\n",
    "# // // allow time for all of the other code cells to load before\n",
    "# // // running. Let's give it 5 seconds.\n",
    "\n",
    "# // setTimeout(toggler, 5000);"
   ]
  },
  {
   "cell_type": "code",
   "execution_count": 528,
   "id": "available-albany",
   "metadata": {},
   "outputs": [],
   "source": [
    "import ipywidgets as widgets\n",
    "import sys\n",
    "from pathlib import Path\n",
    "import os\n",
    "import importlib\n",
    "\n",
    "\n",
    "module_path='preprocessing/day_intervals_preproc'\n",
    "if module_path not in sys.path:\n",
    "    sys.path.append(module_path)\n",
    "\n",
    "module_path='utils'\n",
    "if module_path not in sys.path:\n",
    "    sys.path.append(module_path)\n",
    "    \n",
    "module_path='preprocessing/hosp_module_preproc'\n",
    "if module_path not in sys.path:\n",
    "    sys.path.append(module_path)\n",
    "    \n",
    "module_path='model'\n",
    "if module_path not in sys.path:\n",
    "    sys.path.append(module_path)\n",
    "#print(sys.path)\n",
    "root_dir = os.path.dirname(os.path.abspath('UserInterface.ipynb'))\n",
    "from day_intervals_cohort import *\n",
    "import data_generation_icu\n",
    "from data_generation_icu import *\n",
    "from feature_selection_hosp import *\n",
    "import train\n",
    "from train import *\n",
    "from feature_selection_icu import *"
   ]
  },
  {
   "cell_type": "code",
   "execution_count": 529,
   "id": "nutritional-chicago",
   "metadata": {},
   "outputs": [],
   "source": [
    "importlib.reload(data_generation_icu)\n",
    "import day_intervals_cohort\n",
    "from day_intervals_cohort import *\n",
    "import data_generation_icu\n",
    "from data_generation_icu import *\n",
    "importlib.reload(train)\n",
    "import train\n",
    "from train import *"
   ]
  },
  {
   "cell_type": "markdown",
   "id": "representative-reggae",
   "metadata": {},
   "source": [
    "# Welcome to your MIMIC-IV Project"
   ]
  },
  {
   "cell_type": "code",
   "execution_count": 45,
   "id": "structured-dimension",
   "metadata": {
    "tags": [
     "{",
     "\"tags\":",
     "[",
     "\"hide-input\"",
     "]",
     "}"
    ]
   },
   "outputs": [
    {
     "name": "stdout",
     "output_type": "stream",
     "text": [
      "Extract Data\n",
      "Please select below if you want to work with ICU or Non-ICU data ?\n"
     ]
    },
    {
     "data": {
      "application/vnd.jupyter.widget-view+json": {
       "model_id": "b39fd9a252344cba804614894c9f2e19",
       "version_major": 2,
       "version_minor": 0
      },
      "text/plain": [
       "RadioButtons(options=('ICU', 'Non-ICU'), value='ICU')"
      ]
     },
     "metadata": {},
     "output_type": "display_data"
    },
    {
     "name": "stdout",
     "output_type": "stream",
     "text": [
      "Please select what prediction task you want to perform ?\n"
     ]
    },
    {
     "data": {
      "application/vnd.jupyter.widget-view+json": {
       "model_id": "af16279af9464756b5380372dda14d8f",
       "version_major": 2,
       "version_minor": 0
      },
      "text/plain": [
       "RadioButtons(options=('30 Day Readmission', '60 Day Readmission', '90 Day Readmission', '120 Day Readmission',…"
      ]
     },
     "metadata": {},
     "output_type": "display_data"
    },
    {
     "name": "stdout",
     "output_type": "stream",
     "text": [
      "Please select if you want to perform choosen prediction task for a specific disease.\n"
     ]
    },
    {
     "data": {
      "application/vnd.jupyter.widget-view+json": {
       "model_id": "dc404fc98ac44c0c9e50678b496ee02a",
       "version_major": 2,
       "version_minor": 0
      },
      "text/plain": [
       "RadioButtons(options=('No Disease Filter', 'Heart Failure', 'CKD', 'Respiratory Failure', 'COPD'), value='No D…"
      ]
     },
     "metadata": {},
     "output_type": "display_data"
    }
   ],
   "source": [
    "print(\"Extract Data\")\n",
    "print(\"Please select below if you want to work with ICU or Non-ICU data ?\")\n",
    "radio_input1 = widgets.RadioButtons(options=['ICU', 'Non-ICU'],value='ICU')\n",
    "display(radio_input1)\n",
    "      \n",
    "print(\"Please select what prediction task you want to perform ?\")\n",
    "radio_input2 = widgets.RadioButtons(options=['30 Day Readmission','60 Day Readmission','90 Day Readmission','120 Day Readmission', 'Mortality'],value='30 Day Readmission')\n",
    "display(radio_input2)\n",
    "      \n",
    "print(\"Please select if you want to perform choosen prediction task for a specific disease.\")\n",
    "radio_input3 = widgets.RadioButtons(options=['No Disease Filter','Heart Failure','CKD','Respiratory Failure','COPD'],value='No Disease Filter')\n",
    "display(radio_input3)\n"
   ]
  },
  {
   "cell_type": "code",
   "execution_count": 46,
   "id": "constant-blake",
   "metadata": {},
   "outputs": [
    {
     "name": "stdout",
     "output_type": "stream",
     "text": [
      "EXTRACTING FOR: | ICU | MORTALITY |\n",
      "[ MORTALITY LABELS FINISHED ]\n",
      "[ COHORT SUCCESSFULLY SAVED ]\n",
      "[ SUMMARY SUCCESSFULLY SAVED ]\n",
      "Mortality FOR ICU DATA\n",
      "# Admission Records: 76540\n",
      "# Patients: 53150\n",
      "# Positive cases: 5107\n",
      "# Negative cases: 71433\n"
     ]
    }
   ],
   "source": [
    "data_icu=True\n",
    "data_mort=True\n",
    "if (radio_input1.value==\"ICU\"):\n",
    "    data_icu=True\n",
    "else:\n",
    "    data_icu=False\n",
    "\n",
    "if (radio_input2.value==\"Mortality\"):\n",
    "    data_mort=True\n",
    "else:\n",
    "    data_mort=False\n",
    "\n",
    "cohort_output = extract_data(radio_input1.value,radio_input2.value, root_dir)"
   ]
  },
  {
   "cell_type": "code",
   "execution_count": 47,
   "id": "raised-olympus",
   "metadata": {},
   "outputs": [
    {
     "name": "stdout",
     "output_type": "stream",
     "text": [
      "Feature Selection\n",
      "Which Features you want to include for cohort?\n"
     ]
    },
    {
     "data": {
      "application/vnd.jupyter.widget-view+json": {
       "model_id": "6869807b94bb456199c7a44dfbad4db6",
       "version_major": 2,
       "version_minor": 0
      },
      "text/plain": [
       "Checkbox(value=False, description='Diagnosis')"
      ]
     },
     "metadata": {},
     "output_type": "display_data"
    },
    {
     "data": {
      "application/vnd.jupyter.widget-view+json": {
       "model_id": "47a854b22bdb4122b207b9831274c423",
       "version_major": 2,
       "version_minor": 0
      },
      "text/plain": [
       "Checkbox(value=False, description='Output Events')"
      ]
     },
     "metadata": {},
     "output_type": "display_data"
    },
    {
     "data": {
      "application/vnd.jupyter.widget-view+json": {
       "model_id": "923b39a7c58f4b0896e044e46871f153",
       "version_major": 2,
       "version_minor": 0
      },
      "text/plain": [
       "Checkbox(value=False, description='Chart Events')"
      ]
     },
     "metadata": {},
     "output_type": "display_data"
    },
    {
     "data": {
      "application/vnd.jupyter.widget-view+json": {
       "model_id": "214a327c1c7146939a97cba200f6835e",
       "version_major": 2,
       "version_minor": 0
      },
      "text/plain": [
       "Checkbox(value=False, description='Procedures')"
      ]
     },
     "metadata": {},
     "output_type": "display_data"
    },
    {
     "data": {
      "application/vnd.jupyter.widget-view+json": {
       "model_id": "34c2b1d182b04f9798446c4f55a693db",
       "version_major": 2,
       "version_minor": 0
      },
      "text/plain": [
       "Checkbox(value=False, description='Medications')"
      ]
     },
     "metadata": {},
     "output_type": "display_data"
    }
   ],
   "source": [
    "print(\"Feature Selection\")\n",
    "if data_icu:\n",
    "    print(\"Which Features you want to include for cohort?\")\n",
    "    check_input1 = widgets.Checkbox(description='Diagnosis')\n",
    "    display(check_input1)\n",
    "    check_input2 = widgets.Checkbox(description='Output Events')\n",
    "    display(check_input2)\n",
    "    check_input3 = widgets.Checkbox(description='Chart Events')\n",
    "    display(check_input3)\n",
    "    check_input4 = widgets.Checkbox(description='Procedures')\n",
    "    display(check_input4)\n",
    "    check_input5 = widgets.Checkbox(description='Medications')\n",
    "    display(check_input5)\n",
    "else:\n",
    "    print(\"Which Features you want to include for cohort?\")\n",
    "    check_input1 = widgets.Checkbox(description='Diagnosis')\n",
    "    display(check_input1)\n",
    "    check_input2 = widgets.Checkbox(description='Labs')\n",
    "    display(check_input2)\n",
    "    check_input3 = widgets.Checkbox(description='Procedures')\n",
    "    display(check_input3)\n",
    "    check_input4 = widgets.Checkbox(description='Medications')\n",
    "    display(check_input4)"
   ]
  },
  {
   "cell_type": "code",
   "execution_count": 48,
   "id": "native-covering",
   "metadata": {},
   "outputs": [
    {
     "name": "stdout",
     "output_type": "stream",
     "text": [
      "[EXTRACTING DIAGNOSIS DATA]\n",
      "# unique ICD-9 codes 6686\n",
      "# unique ICD-10 codes 10120\n",
      "# unique ICD-10 codes (After converting ICD-9 to ICD-10) 10414\n",
      "# unique ICD-10 codes (After clinical gruping ICD-10 codes) 1522\n",
      "# Admissions:   76504\n",
      "Total rows 1362068\n",
      "[SUCCESSFULLY SAVED DIAGNOSIS DATA]\n",
      "[EXTRACTING OUPTPUT EVENTS DATA]\n",
      "# Unique Events:   71\n",
      "# Admissions:   74364\n",
      "Total rows 4457381\n",
      "[SUCCESSFULLY SAVED OUPTPUT EVENTS DATA]\n",
      "[EXTRACTING PROCEDURES DATA]\n",
      "# Unique Events:   157\n",
      "# Admissions:   76041\n",
      "Total rows 713377\n",
      "[SUCCESSFULLY SAVED PROCEDURES DATA]\n",
      "[EXTRACTING MEDICATIONS DATA]\n",
      "# of unique type of drug:  325\n",
      "# Admissions:   76025\n",
      "# Total rows 9460658\n",
      "[SUCCESSFULLY SAVED MEDICATIONS DATA]\n"
     ]
    }
   ],
   "source": [
    "diag_flag=False\n",
    "out_flag=False\n",
    "chart_flag=False\n",
    "lab_flag=False\n",
    "proc_flag=False\n",
    "med_flag=False\n",
    "\n",
    "if data_icu:\n",
    "    diag_flag=check_input1.value\n",
    "    out_flag=check_input2.value\n",
    "    chart_flag=check_input3.value\n",
    "    proc_flag=check_input4.value\n",
    "    med_flag=check_input5.value\n",
    "    feature_icu(cohort_output, diag_flag,out_flag,chart_flag,proc_flag,med_flag)\n",
    "else:\n",
    "    diag_flag=check_input1.value\n",
    "    lab_flag=check_input2.value\n",
    "    proc_flag=check_input3.value\n",
    "    med_flag=check_input4.value\n",
    "    feature_nonicu(cohort_output, diag_flag,lab_flag,proc_flag,med_flag)"
   ]
  },
  {
   "cell_type": "code",
   "execution_count": 49,
   "id": "partial-manhattan",
   "metadata": {},
   "outputs": [
    {
     "name": "stdout",
     "output_type": "stream",
     "text": [
      "Do you want to group ICD 10 DIAG codes ?\n"
     ]
    },
    {
     "data": {
      "application/vnd.jupyter.widget-view+json": {
       "model_id": "7117c61693b34209a690dc4dec9ac5b1",
       "version_major": 2,
       "version_minor": 0
      },
      "text/plain": [
       "RadioButtons(options=('Keep both ICD-9 and ICD-10 codes', 'Convert ICD-9 to ICD-10 codes', 'Convert ICD-9 to I…"
      ]
     },
     "metadata": {},
     "output_type": "display_data"
    }
   ],
   "source": [
    "if data_icu:\n",
    "    if diag_flag:\n",
    "        print(\"Do you want to group ICD 10 DIAG codes ?\")\n",
    "        radio_input4 = widgets.RadioButtons(options=['Keep both ICD-9 and ICD-10 codes','Convert ICD-9 to ICD-10 codes','Convert ICD-9 to ICD-10 and group ICD-10 codes'],value='Keep both ICD-9 and ICD-10 codes')\n",
    "        display(radio_input4)        \n",
    "else:\n",
    "    if diag_flag:\n",
    "        print(\"Do you want to group ICD 10 DIAG codes ?\")\n",
    "        radio_input4 = widgets.RadioButtons(options=['Keep both ICD-9 and ICD-10 codes','Convert ICD-9 to ICD-10 codes','Convert ICD-9 to ICD-10 and group ICD-10 codes'],value='Keep both ICD-9 and ICD-10 codes')\n",
    "        display(radio_input4)         \n",
    "    if med_flag:\n",
    "        print(\"Do you want to group Medication codes to use Non propietary names?\")\n",
    "        radio_input5 = widgets.RadioButtons(options=['Yes','No'],value='Yes')\n",
    "        display(radio_input5)\n",
    "    if proc_flag:\n",
    "        print(\"which ICD codes for Procedures you want to keep in data?\")\n",
    "        radio_input5 = widgets.RadioButtons(options=['ICD-9 and ICD-10','ICD-10'],value='ICD-9 and ICD-10')\n",
    "        display(radio_input5)"
   ]
  },
  {
   "cell_type": "code",
   "execution_count": 50,
   "id": "descending-symphony",
   "metadata": {},
   "outputs": [
    {
     "name": "stdout",
     "output_type": "stream",
     "text": [
      "[PROCESSING DIAGNOSIS DATA]\n",
      "Total number of rows 1289600\n",
      "[SUCCESSFULLY SAVED DIAGNOSIS DATA]\n"
     ]
    }
   ],
   "source": [
    "group_diag=False\n",
    "group_med=False\n",
    "group_proc=False\n",
    "if data_icu:\n",
    "    if diag_flag:\n",
    "        group_diag=radio_input4.value\n",
    "    preprocess_features_icu(cohort_output, diag_flag, group_diag)\n",
    "else:\n",
    "    if diag_flag:\n",
    "        group_diag=radio_input4.value\n",
    "    if med_flag:\n",
    "        group_med=radio_input5.value\n",
    "    if proc_flag:\n",
    "        group_proc=radio_input6.value\n",
    "    preprocess_features_hosp(cohort_output, diag_flag,proc_flag,med_flag,group_diag,group_med,group_proc)"
   ]
  },
  {
   "cell_type": "code",
   "execution_count": 51,
   "id": "mechanical-three",
   "metadata": {},
   "outputs": [
    {
     "name": "stdout",
     "output_type": "stream",
     "text": [
      "=======Time-series Data Represenation=======\n",
      "What time bucket size you want to choose ?\n"
     ]
    },
    {
     "data": {
      "application/vnd.jupyter.widget-view+json": {
       "model_id": "bb9b212b869f4c8a8d613509b3328048",
       "version_major": 2,
       "version_minor": 0
      },
      "text/plain": [
       "RadioButtons(options=('1 hour', '2 hour', '3 hour', '4 hour', '5 hour', 'Custom'), value='1 hour')"
      ]
     },
     "metadata": {},
     "output_type": "display_data"
    },
    {
     "data": {
      "application/vnd.jupyter.widget-view+json": {
       "model_id": "0b77e0f756964581997ebcb6e19f27d9",
       "version_major": 2,
       "version_minor": 0
      },
      "text/plain": [
       "IntText(value=1, description='Bucket Size (in hours):')"
      ]
     },
     "metadata": {},
     "output_type": "display_data"
    },
    {
     "name": "stdout",
     "output_type": "stream",
     "text": [
      "Do you want data for whole admission or ?\n"
     ]
    },
    {
     "data": {
      "application/vnd.jupyter.widget-view+json": {
       "model_id": "b7c8f1b954364f1bb86caf4fd324dd42",
       "version_major": 2,
       "version_minor": 0
      },
      "text/plain": [
       "RadioButtons(options=('Last 72 hours', 'Last 48 hours', 'Last 24 hours', 'Custom'), value='Last 72 hours')"
      ]
     },
     "metadata": {},
     "output_type": "display_data"
    },
    {
     "data": {
      "application/vnd.jupyter.widget-view+json": {
       "model_id": "fdce6a96b3ef418188f746e19061cfe8",
       "version_major": 2,
       "version_minor": 0
      },
      "text/plain": [
       "IntText(value=72, description='Last')"
      ]
     },
     "metadata": {},
     "output_type": "display_data"
    },
    {
     "name": "stdout",
     "output_type": "stream",
     "text": [
      "If you have choosen mortality prediction task, then what prediction window length you want to keep?\n"
     ]
    },
    {
     "data": {
      "application/vnd.jupyter.widget-view+json": {
       "model_id": "f7fdd0b36e034d2ab693f2700a4514fa",
       "version_major": 2,
       "version_minor": 0
      },
      "text/plain": [
       "RadioButtons(options=('2 hours', '4 hours', '6 hours', '8 hours', 'Custom'), value='2 hours')"
      ]
     },
     "metadata": {},
     "output_type": "display_data"
    },
    {
     "data": {
      "application/vnd.jupyter.widget-view+json": {
       "model_id": "867273db9f8c4ba1b655354f4ea647d8",
       "version_major": 2,
       "version_minor": 0
      },
      "text/plain": [
       "IntText(value=2, description='Prediction window (in hours)')"
      ]
     },
     "metadata": {},
     "output_type": "display_data"
    }
   ],
   "source": [
    "print(\"=======Time-series Data Represenation=======\")\n",
    "print(\"What time bucket size you want to choose ?\")\n",
    "radio_input7 = widgets.RadioButtons(options=['1 hour','2 hour','3 hour','4 hour','5 hour','Custom'],value='1 hour')\n",
    "display(radio_input7)\n",
    "text1=widgets.IntText(\n",
    "    value=1,\n",
    "    description='Bucket Size (in hours):',\n",
    "    disabled=False\n",
    ")\n",
    "display(text1)\n",
    "\n",
    "print(\"Do you want data for whole admission or ?\")\n",
    "radio_input8 = widgets.RadioButtons(options=['Last 72 hours','Last 48 hours','Last 24 hours','Custom'],value='Last 72 hours')\n",
    "display(radio_input8)\n",
    "text2=widgets.IntText(\n",
    "    value=72,\n",
    "    description='Last',\n",
    "    disabled=False\n",
    ")\n",
    "display(text2)\n",
    "\n",
    "radio_input6 = widgets.RadioButtons(options=['0 hours','2 hours','4 hours','6 hours'],value='0 hours')\n",
    "if(data_mort):\n",
    "    print(\"If you have choosen mortality prediction task, then what prediction window length you want to keep?\")\n",
    "    radio_input6 = widgets.RadioButtons(options=['2 hours','4 hours','6 hours','8 hours','Custom'],value='2 hours')\n",
    "    display(radio_input6)\n",
    "    text3=widgets.IntText(\n",
    "    value=2,\n",
    "    description='Prediction window (in hours)',\n",
    "    disabled=False\n",
    "    )\n",
    "    display(text3)"
   ]
  },
  {
   "cell_type": "code",
   "execution_count": 52,
   "id": "indie-appendix",
   "metadata": {},
   "outputs": [],
   "source": [
    "predW=0\n",
    "if (radio_input7.value=='Custom'):\n",
    "    bucket=int(text1.value)\n",
    "else:\n",
    "    bucket=int(radio_input7.value[0].strip())\n",
    "if (radio_input8.value=='Custom'):\n",
    "    include=int(text2.value)\n",
    "else:\n",
    "    include=int(radio_input8.value[5:7].strip())\n",
    "\n",
    "if(data_mort):\n",
    "    if (radio_input6.value=='Custom'):\n",
    "        predW=int(text3.value)\n",
    "    else:\n",
    "        predW=int(radio_input6.value[0].strip())"
   ]
  },
  {
   "cell_type": "code",
   "execution_count": 63,
   "id": "likely-sleeve",
   "metadata": {},
   "outputs": [
    {
     "data": {
      "text/plain": [
       "2"
      ]
     },
     "execution_count": 63,
     "metadata": {},
     "output_type": "execute_result"
    }
   ],
   "source": [
    "bucket"
   ]
  },
  {
   "cell_type": "code",
   "execution_count": 228,
   "id": "after-indonesia",
   "metadata": {},
   "outputs": [
    {
     "data": {
      "text/plain": [
       "4"
      ]
     },
     "execution_count": 228,
     "metadata": {},
     "output_type": "execute_result"
    }
   ],
   "source": [
    "predW"
   ]
  },
  {
   "cell_type": "code",
   "execution_count": 229,
   "id": "sexual-japan",
   "metadata": {},
   "outputs": [
    {
     "data": {
      "text/plain": [
       "48"
      ]
     },
     "execution_count": 229,
     "metadata": {},
     "output_type": "execute_result"
    }
   ],
   "source": [
    "include"
   ]
  },
  {
   "cell_type": "code",
   "execution_count": 230,
   "id": "extensive-sequence",
   "metadata": {},
   "outputs": [
    {
     "name": "stdout",
     "output_type": "stream",
     "text": [
      "[ READ COHORT ]\n",
      "[ ======READING DIAGNOSIS ]\n",
      "[ ======READING PROCEDURES ]\n",
      "[ ======READING OUT EVENTS ]\n",
      "[ ======READING MEDICATIONS ]\n",
      "[ READ ALL FEATURES ]\n",
      "[ PROCESSED TIME SERIES TO EQUAL LENGTH  ]\n"
     ]
    },
    {
     "name": "stderr",
     "output_type": "stream",
     "text": [
      "100%|██████████| 22/22 [00:03<00:00,  6.16it/s]\n"
     ]
    },
    {
     "name": "stdout",
     "output_type": "stream",
     "text": [
      "[ PROCESSED TIME SERIES TO EQUAL TIME INTERVAL ]\n"
     ]
    },
    {
     "name": "stderr",
     "output_type": "stream",
     "text": [
      "100%|██████████| 36858/36858 [31:47<00:00, 19.33it/s]\n"
     ]
    },
    {
     "name": "stdout",
     "output_type": "stream",
     "text": [
      "[ SUCCESSFULLY SAVED DATA DICTIONARIES ]\n"
     ]
    }
   ],
   "source": [
    "if data_icu:\n",
    "    gen=Generator(cohort_output,data_mort,diag_flag,proc_flag,out_flag,chart_flag,med_flag,include,bucket,predW)\n",
    "else:\n",
    "    gen=Generator(cohort_output,data_mort,diag_flag,proc_flag,med_flag,include,bucket,predW)"
   ]
  },
  {
   "cell_type": "code",
   "execution_count": 223,
   "id": "greenhouse-partnership",
   "metadata": {},
   "outputs": [
    {
     "data": {
      "text/plain": [
       "'BLACK/AFRICAN AMERICAN'"
      ]
     },
     "execution_count": 223,
     "metadata": {},
     "output_type": "execute_result"
    }
   ],
   "source": [
    "gen.data[gen.data['stay_id']==37510196]['ethnicity'].iloc[0]"
   ]
  },
  {
   "cell_type": "code",
   "execution_count": null,
   "id": "conservative-poland",
   "metadata": {},
   "outputs": [],
   "source": []
  },
  {
   "cell_type": "markdown",
   "id": "involved-glance",
   "metadata": {},
   "source": [
    "D. Model Building\n",
    "*** Go to parameter.py and define all variables needed for model building and training"
   ]
  },
  {
   "cell_type": "code",
   "execution_count": 530,
   "id": "cordless-steam",
   "metadata": {
    "scrolled": true
   },
   "outputs": [
    {
     "name": "stdout",
     "output_type": "stream",
     "text": [
      "[ DATA DIVIDED INTO BATCHES ]\n",
      "[ TRAIN-TEST-VALIDATION SET CREATED ]\n",
      "[ MODEL CREATED ]\n",
      "CNNBaseH(\n",
      "  (med): CodeCNN(\n",
      "    (codeEmbed): Embedding(274, 124, padding_idx=0)\n",
      "    (conv1): Conv1d(124, 256, kernel_size=(3,), stride=(1,))\n",
      "    (bn1): BatchNorm1d(256, eps=1e-05, momentum=0.1, affine=True, track_running_stats=True)\n",
      "    (maxpool1): AdaptiveMaxPool1d(output_size=1)\n",
      "  )\n",
      "  (proc): CodeCNN(\n",
      "    (codeEmbed): Embedding(152, 124, padding_idx=0)\n",
      "    (conv1): Conv1d(124, 256, kernel_size=(3,), stride=(1,))\n",
      "    (bn1): BatchNorm1d(256, eps=1e-05, momentum=0.1, affine=True, track_running_stats=True)\n",
      "    (maxpool1): AdaptiveMaxPool1d(output_size=1)\n",
      "  )\n",
      "  (condEmbed): Embedding(1424, 124, padding_idx=0)\n",
      "  (ethEmbed): Embedding(9, 124, padding_idx=0)\n",
      "  (genderEmbed): Embedding(3, 124, padding_idx=0)\n",
      "  (ageEmbed): Embedding(84, 124, padding_idx=0)\n",
      "  (demo_fc): Linear(in_features=372, out_features=256, bias=False)\n",
      "  (fc): Linear(in_features=5604, out_features=1, bias=False)\n",
      "  (sig): Sigmoid()\n",
      ")\n",
      "[ TRAINING STARTED ]\n",
      "======= EPOCH 0.0 ========\n",
      "torch.Size([200, 280, 22])\n",
      "torch.Size([200, 124, 22])\n",
      "med_h_n torch.Size([200, 256])\n",
      "torch.Size([200, 24, 22])\n",
      "torch.Size([200, 124, 22])\n",
      "torch.Size([200, 39, 124])\n",
      "torch.Size([200, 4836])\n",
      "out1 torch.Size([200, 5348])\n"
     ]
    },
    {
     "ename": "RuntimeError",
     "evalue": "size mismatch, m1: [200 x 5348], m2: [5604 x 1] at C:\\w\\1\\s\\tmp_conda_3.7_055457\\conda\\conda-bld\\pytorch_1565416617654\\work\\aten\\src\\TH/generic/THTensorMath.cpp:752",
     "output_type": "error",
     "traceback": [
      "\u001b[1;31m---------------------------------------------------------------------------\u001b[0m",
      "\u001b[1;31mRuntimeError\u001b[0m                              Traceback (most recent call last)",
      "\u001b[1;32m<ipython-input-530-cdb73626d08e>\u001b[0m in \u001b[0;36m<module>\u001b[1;34m\u001b[0m\n\u001b[1;32m----> 1\u001b[1;33m \u001b[0mmodel\u001b[0m\u001b[1;33m=\u001b[0m\u001b[0mModel_Train\u001b[0m\u001b[1;33m(\u001b[0m\u001b[0mdiag_flag\u001b[0m\u001b[1;33m,\u001b[0m\u001b[0mproc_flag\u001b[0m\u001b[1;33m,\u001b[0m\u001b[0mout_flag\u001b[0m\u001b[1;33m,\u001b[0m\u001b[0mchart_flag\u001b[0m\u001b[1;33m,\u001b[0m\u001b[0mmed_flag\u001b[0m\u001b[1;33m)\u001b[0m\u001b[1;33m\u001b[0m\u001b[1;33m\u001b[0m\u001b[0m\n\u001b[0m",
      "\u001b[1;32m~\\Desktop\\MIMIC-IV\\model\\train.py\u001b[0m in \u001b[0;36m__init__\u001b[1;34m(self, diag_flag, proc_flag, out_flag, chart_flag, med_flag)\u001b[0m\n\u001b[0;32m     74\u001b[0m         \u001b[0mself\u001b[0m\u001b[1;33m.\u001b[0m\u001b[0mloss\u001b[0m\u001b[1;33m=\u001b[0m\u001b[0mevaluation\u001b[0m\u001b[1;33m.\u001b[0m\u001b[0mLoss\u001b[0m\u001b[1;33m(\u001b[0m\u001b[0mself\u001b[0m\u001b[1;33m.\u001b[0m\u001b[0mdevice\u001b[0m\u001b[1;33m,\u001b[0m\u001b[1;32mTrue\u001b[0m\u001b[1;33m,\u001b[0m\u001b[1;32mTrue\u001b[0m\u001b[1;33m,\u001b[0m\u001b[1;32mTrue\u001b[0m\u001b[1;33m,\u001b[0m\u001b[1;32mTrue\u001b[0m\u001b[1;33m,\u001b[0m\u001b[1;32mTrue\u001b[0m\u001b[1;33m,\u001b[0m\u001b[1;32mTrue\u001b[0m\u001b[1;33m,\u001b[0m\u001b[1;32mTrue\u001b[0m\u001b[1;33m,\u001b[0m\u001b[1;32mTrue\u001b[0m\u001b[1;33m,\u001b[0m\u001b[1;32mFalse\u001b[0m\u001b[1;33m,\u001b[0m\u001b[1;32mTrue\u001b[0m\u001b[1;33m,\u001b[0m\u001b[1;32mFalse\u001b[0m\u001b[1;33m)\u001b[0m\u001b[1;33m\u001b[0m\u001b[1;33m\u001b[0m\u001b[0m\n\u001b[0;32m     75\u001b[0m         \u001b[0mprint\u001b[0m\u001b[1;33m(\u001b[0m\u001b[1;34m\"[ TRAINING STARTED ]\"\u001b[0m\u001b[1;33m)\u001b[0m\u001b[1;33m\u001b[0m\u001b[1;33m\u001b[0m\u001b[0m\n\u001b[1;32m---> 76\u001b[1;33m         \u001b[0mself\u001b[0m\u001b[1;33m.\u001b[0m\u001b[0mmodel_train\u001b[0m\u001b[1;33m(\u001b[0m\u001b[1;33m)\u001b[0m\u001b[1;33m\u001b[0m\u001b[1;33m\u001b[0m\u001b[0m\n\u001b[0m\u001b[0;32m     77\u001b[0m         \u001b[0mprint\u001b[0m\u001b[1;33m(\u001b[0m\u001b[1;34m\"[ TRAINING COMPLETED ]\"\u001b[0m\u001b[1;33m)\u001b[0m\u001b[1;33m\u001b[0m\u001b[1;33m\u001b[0m\u001b[0m\n\u001b[0;32m     78\u001b[0m \u001b[1;33m\u001b[0m\u001b[0m\n",
      "\u001b[1;32m~\\Desktop\\MIMIC-IV\\model\\train.py\u001b[0m in \u001b[0;36mmodel_train\u001b[1;34m(self)\u001b[0m\n\u001b[0;32m    144\u001b[0m \u001b[1;33m\u001b[0m\u001b[0m\n\u001b[0;32m    145\u001b[0m                     \u001b[1;31m# get the output sequence from the input and the initial hidden and cell states\u001b[0m\u001b[1;33m\u001b[0m\u001b[1;33m\u001b[0m\u001b[1;33m\u001b[0m\u001b[0m\n\u001b[1;32m--> 146\u001b[1;33m                     \u001b[0moutput\u001b[0m \u001b[1;33m=\u001b[0m \u001b[0mself\u001b[0m\u001b[1;33m.\u001b[0m\u001b[0mnet\u001b[0m\u001b[1;33m(\u001b[0m\u001b[0mmeds\u001b[0m\u001b[1;33m,\u001b[0m\u001b[0mproc\u001b[0m\u001b[1;33m,\u001b[0m\u001b[0mconds\u001b[0m\u001b[1;33m,\u001b[0m\u001b[0mdemo\u001b[0m\u001b[1;33m,\u001b[0m\u001b[0mcontrib\u001b[0m\u001b[1;33m=\u001b[0m\u001b[1;32mFalse\u001b[0m\u001b[1;33m)\u001b[0m\u001b[1;33m\u001b[0m\u001b[1;33m\u001b[0m\u001b[0m\n\u001b[0m\u001b[0;32m    147\u001b[0m                     \u001b[0moutput\u001b[0m\u001b[1;33m=\u001b[0m\u001b[0moutput\u001b[0m\u001b[1;33m.\u001b[0m\u001b[0msqueeze\u001b[0m\u001b[1;33m(\u001b[0m\u001b[1;33m)\u001b[0m\u001b[1;33m\u001b[0m\u001b[1;33m\u001b[0m\u001b[0m\n\u001b[0;32m    148\u001b[0m \u001b[1;33m\u001b[0m\u001b[0m\n",
      "\u001b[1;32m~\\Anaconda3\\envs\\DSRA\\lib\\site-packages\\torch\\nn\\modules\\module.py\u001b[0m in \u001b[0;36m__call__\u001b[1;34m(self, *input, **kwargs)\u001b[0m\n\u001b[0;32m    545\u001b[0m             \u001b[0mresult\u001b[0m \u001b[1;33m=\u001b[0m \u001b[0mself\u001b[0m\u001b[1;33m.\u001b[0m\u001b[0m_slow_forward\u001b[0m\u001b[1;33m(\u001b[0m\u001b[1;33m*\u001b[0m\u001b[0minput\u001b[0m\u001b[1;33m,\u001b[0m \u001b[1;33m**\u001b[0m\u001b[0mkwargs\u001b[0m\u001b[1;33m)\u001b[0m\u001b[1;33m\u001b[0m\u001b[1;33m\u001b[0m\u001b[0m\n\u001b[0;32m    546\u001b[0m         \u001b[1;32melse\u001b[0m\u001b[1;33m:\u001b[0m\u001b[1;33m\u001b[0m\u001b[1;33m\u001b[0m\u001b[0m\n\u001b[1;32m--> 547\u001b[1;33m             \u001b[0mresult\u001b[0m \u001b[1;33m=\u001b[0m \u001b[0mself\u001b[0m\u001b[1;33m.\u001b[0m\u001b[0mforward\u001b[0m\u001b[1;33m(\u001b[0m\u001b[1;33m*\u001b[0m\u001b[0minput\u001b[0m\u001b[1;33m,\u001b[0m \u001b[1;33m**\u001b[0m\u001b[0mkwargs\u001b[0m\u001b[1;33m)\u001b[0m\u001b[1;33m\u001b[0m\u001b[1;33m\u001b[0m\u001b[0m\n\u001b[0m\u001b[0;32m    548\u001b[0m         \u001b[1;32mfor\u001b[0m \u001b[0mhook\u001b[0m \u001b[1;32min\u001b[0m \u001b[0mself\u001b[0m\u001b[1;33m.\u001b[0m\u001b[0m_forward_hooks\u001b[0m\u001b[1;33m.\u001b[0m\u001b[0mvalues\u001b[0m\u001b[1;33m(\u001b[0m\u001b[1;33m)\u001b[0m\u001b[1;33m:\u001b[0m\u001b[1;33m\u001b[0m\u001b[1;33m\u001b[0m\u001b[0m\n\u001b[0;32m    549\u001b[0m             \u001b[0mhook_result\u001b[0m \u001b[1;33m=\u001b[0m \u001b[0mhook\u001b[0m\u001b[1;33m(\u001b[0m\u001b[0mself\u001b[0m\u001b[1;33m,\u001b[0m \u001b[0minput\u001b[0m\u001b[1;33m,\u001b[0m \u001b[0mresult\u001b[0m\u001b[1;33m)\u001b[0m\u001b[1;33m\u001b[0m\u001b[1;33m\u001b[0m\u001b[0m\n",
      "\u001b[1;32m~\\Desktop\\MIMIC-IV\\model\\mimic_model.py\u001b[0m in \u001b[0;36mforward\u001b[1;34m(self, meds, procs, conds, demo, contrib)\u001b[0m\n\u001b[0;32m    632\u001b[0m         \u001b[0mout1\u001b[0m\u001b[1;33m=\u001b[0m\u001b[0mtorch\u001b[0m\u001b[1;33m.\u001b[0m\u001b[0mcat\u001b[0m\u001b[1;33m(\u001b[0m\u001b[1;33m(\u001b[0m\u001b[0mout1\u001b[0m\u001b[1;33m,\u001b[0m\u001b[0mdemog\u001b[0m\u001b[1;33m)\u001b[0m\u001b[1;33m,\u001b[0m\u001b[1;36m1\u001b[0m\u001b[1;33m)\u001b[0m\u001b[1;33m\u001b[0m\u001b[1;33m\u001b[0m\u001b[0m\n\u001b[0;32m    633\u001b[0m         \u001b[0mprint\u001b[0m\u001b[1;33m(\u001b[0m\u001b[1;34m\"out1\"\u001b[0m\u001b[1;33m,\u001b[0m\u001b[0mout1\u001b[0m\u001b[1;33m.\u001b[0m\u001b[0mshape\u001b[0m\u001b[1;33m)\u001b[0m\u001b[1;33m\u001b[0m\u001b[1;33m\u001b[0m\u001b[0m\n\u001b[1;32m--> 634\u001b[1;33m         \u001b[0mout1\u001b[0m \u001b[1;33m=\u001b[0m \u001b[0mself\u001b[0m\u001b[1;33m.\u001b[0m\u001b[0mfc\u001b[0m\u001b[1;33m(\u001b[0m\u001b[0mout1\u001b[0m\u001b[1;33m)\u001b[0m\u001b[1;33m\u001b[0m\u001b[1;33m\u001b[0m\u001b[0m\n\u001b[0m\u001b[0;32m    635\u001b[0m         \u001b[1;31m#print(\"out1\",out1.shape)\u001b[0m\u001b[1;33m\u001b[0m\u001b[1;33m\u001b[0m\u001b[1;33m\u001b[0m\u001b[0m\n\u001b[0;32m    636\u001b[0m \u001b[1;33m\u001b[0m\u001b[0m\n",
      "\u001b[1;32m~\\Anaconda3\\envs\\DSRA\\lib\\site-packages\\torch\\nn\\modules\\module.py\u001b[0m in \u001b[0;36m__call__\u001b[1;34m(self, *input, **kwargs)\u001b[0m\n\u001b[0;32m    545\u001b[0m             \u001b[0mresult\u001b[0m \u001b[1;33m=\u001b[0m \u001b[0mself\u001b[0m\u001b[1;33m.\u001b[0m\u001b[0m_slow_forward\u001b[0m\u001b[1;33m(\u001b[0m\u001b[1;33m*\u001b[0m\u001b[0minput\u001b[0m\u001b[1;33m,\u001b[0m \u001b[1;33m**\u001b[0m\u001b[0mkwargs\u001b[0m\u001b[1;33m)\u001b[0m\u001b[1;33m\u001b[0m\u001b[1;33m\u001b[0m\u001b[0m\n\u001b[0;32m    546\u001b[0m         \u001b[1;32melse\u001b[0m\u001b[1;33m:\u001b[0m\u001b[1;33m\u001b[0m\u001b[1;33m\u001b[0m\u001b[0m\n\u001b[1;32m--> 547\u001b[1;33m             \u001b[0mresult\u001b[0m \u001b[1;33m=\u001b[0m \u001b[0mself\u001b[0m\u001b[1;33m.\u001b[0m\u001b[0mforward\u001b[0m\u001b[1;33m(\u001b[0m\u001b[1;33m*\u001b[0m\u001b[0minput\u001b[0m\u001b[1;33m,\u001b[0m \u001b[1;33m**\u001b[0m\u001b[0mkwargs\u001b[0m\u001b[1;33m)\u001b[0m\u001b[1;33m\u001b[0m\u001b[1;33m\u001b[0m\u001b[0m\n\u001b[0m\u001b[0;32m    548\u001b[0m         \u001b[1;32mfor\u001b[0m \u001b[0mhook\u001b[0m \u001b[1;32min\u001b[0m \u001b[0mself\u001b[0m\u001b[1;33m.\u001b[0m\u001b[0m_forward_hooks\u001b[0m\u001b[1;33m.\u001b[0m\u001b[0mvalues\u001b[0m\u001b[1;33m(\u001b[0m\u001b[1;33m)\u001b[0m\u001b[1;33m:\u001b[0m\u001b[1;33m\u001b[0m\u001b[1;33m\u001b[0m\u001b[0m\n\u001b[0;32m    549\u001b[0m             \u001b[0mhook_result\u001b[0m \u001b[1;33m=\u001b[0m \u001b[0mhook\u001b[0m\u001b[1;33m(\u001b[0m\u001b[0mself\u001b[0m\u001b[1;33m,\u001b[0m \u001b[0minput\u001b[0m\u001b[1;33m,\u001b[0m \u001b[0mresult\u001b[0m\u001b[1;33m)\u001b[0m\u001b[1;33m\u001b[0m\u001b[1;33m\u001b[0m\u001b[0m\n",
      "\u001b[1;32m~\\Anaconda3\\envs\\DSRA\\lib\\site-packages\\torch\\nn\\modules\\linear.py\u001b[0m in \u001b[0;36mforward\u001b[1;34m(self, input)\u001b[0m\n\u001b[0;32m     85\u001b[0m \u001b[1;33m\u001b[0m\u001b[0m\n\u001b[0;32m     86\u001b[0m     \u001b[1;32mdef\u001b[0m \u001b[0mforward\u001b[0m\u001b[1;33m(\u001b[0m\u001b[0mself\u001b[0m\u001b[1;33m,\u001b[0m \u001b[0minput\u001b[0m\u001b[1;33m)\u001b[0m\u001b[1;33m:\u001b[0m\u001b[1;33m\u001b[0m\u001b[1;33m\u001b[0m\u001b[0m\n\u001b[1;32m---> 87\u001b[1;33m         \u001b[1;32mreturn\u001b[0m \u001b[0mF\u001b[0m\u001b[1;33m.\u001b[0m\u001b[0mlinear\u001b[0m\u001b[1;33m(\u001b[0m\u001b[0minput\u001b[0m\u001b[1;33m,\u001b[0m \u001b[0mself\u001b[0m\u001b[1;33m.\u001b[0m\u001b[0mweight\u001b[0m\u001b[1;33m,\u001b[0m \u001b[0mself\u001b[0m\u001b[1;33m.\u001b[0m\u001b[0mbias\u001b[0m\u001b[1;33m)\u001b[0m\u001b[1;33m\u001b[0m\u001b[1;33m\u001b[0m\u001b[0m\n\u001b[0m\u001b[0;32m     88\u001b[0m \u001b[1;33m\u001b[0m\u001b[0m\n\u001b[0;32m     89\u001b[0m     \u001b[1;32mdef\u001b[0m \u001b[0mextra_repr\u001b[0m\u001b[1;33m(\u001b[0m\u001b[0mself\u001b[0m\u001b[1;33m)\u001b[0m\u001b[1;33m:\u001b[0m\u001b[1;33m\u001b[0m\u001b[1;33m\u001b[0m\u001b[0m\n",
      "\u001b[1;32m~\\Anaconda3\\envs\\DSRA\\lib\\site-packages\\torch\\nn\\functional.py\u001b[0m in \u001b[0;36mlinear\u001b[1;34m(input, weight, bias)\u001b[0m\n\u001b[0;32m   1369\u001b[0m         \u001b[0mret\u001b[0m \u001b[1;33m=\u001b[0m \u001b[0mtorch\u001b[0m\u001b[1;33m.\u001b[0m\u001b[0maddmm\u001b[0m\u001b[1;33m(\u001b[0m\u001b[0mbias\u001b[0m\u001b[1;33m,\u001b[0m \u001b[0minput\u001b[0m\u001b[1;33m,\u001b[0m \u001b[0mweight\u001b[0m\u001b[1;33m.\u001b[0m\u001b[0mt\u001b[0m\u001b[1;33m(\u001b[0m\u001b[1;33m)\u001b[0m\u001b[1;33m)\u001b[0m\u001b[1;33m\u001b[0m\u001b[1;33m\u001b[0m\u001b[0m\n\u001b[0;32m   1370\u001b[0m     \u001b[1;32melse\u001b[0m\u001b[1;33m:\u001b[0m\u001b[1;33m\u001b[0m\u001b[1;33m\u001b[0m\u001b[0m\n\u001b[1;32m-> 1371\u001b[1;33m         \u001b[0moutput\u001b[0m \u001b[1;33m=\u001b[0m \u001b[0minput\u001b[0m\u001b[1;33m.\u001b[0m\u001b[0mmatmul\u001b[0m\u001b[1;33m(\u001b[0m\u001b[0mweight\u001b[0m\u001b[1;33m.\u001b[0m\u001b[0mt\u001b[0m\u001b[1;33m(\u001b[0m\u001b[1;33m)\u001b[0m\u001b[1;33m)\u001b[0m\u001b[1;33m\u001b[0m\u001b[1;33m\u001b[0m\u001b[0m\n\u001b[0m\u001b[0;32m   1372\u001b[0m         \u001b[1;32mif\u001b[0m \u001b[0mbias\u001b[0m \u001b[1;32mis\u001b[0m \u001b[1;32mnot\u001b[0m \u001b[1;32mNone\u001b[0m\u001b[1;33m:\u001b[0m\u001b[1;33m\u001b[0m\u001b[1;33m\u001b[0m\u001b[0m\n\u001b[0;32m   1373\u001b[0m             \u001b[0moutput\u001b[0m \u001b[1;33m+=\u001b[0m \u001b[0mbias\u001b[0m\u001b[1;33m\u001b[0m\u001b[1;33m\u001b[0m\u001b[0m\n",
      "\u001b[1;31mRuntimeError\u001b[0m: size mismatch, m1: [200 x 5348], m2: [5604 x 1] at C:\\w\\1\\s\\tmp_conda_3.7_055457\\conda\\conda-bld\\pytorch_1565416617654\\work\\aten\\src\\TH/generic/THTensorMath.cpp:752"
     ]
    }
   ],
   "source": [
    "model=Model_Train(diag_flag,proc_flag,out_flag,chart_flag,med_flag)"
   ]
  },
  {
   "cell_type": "code",
   "execution_count": 338,
   "id": "civic-butler",
   "metadata": {},
   "outputs": [],
   "source": [
    "with open ('./data/dict/'+'outputDict', 'rb') as fp:\n",
    "        ageVocabDict = pickle.load(fp)"
   ]
  },
  {
   "cell_type": "code",
   "execution_count": 175,
   "id": "finite-posting",
   "metadata": {},
   "outputs": [
    {
     "data": {
      "text/plain": [
       "[90, 171, 183, 104, 40, 35, 149, 136, 151, 59, 33, 78, 21, 63, 31]"
      ]
     },
     "execution_count": 175,
     "metadata": {},
     "output_type": "execute_result"
    }
   ],
   "source": [
    "model.val_batch"
   ]
  },
  {
   "cell_type": "markdown",
   "id": "juvenile-auditor",
   "metadata": {},
   "source": [
    "D. Evaluation"
   ]
  },
  {
   "cell_type": "code",
   "execution_count": 21,
   "id": "equal-buddy",
   "metadata": {},
   "outputs": [
    {
     "data": {
      "application/vnd.jupyter.widget-view+json": {
       "model_id": "a793a5a4ea4442b7968b1e8232108ffa",
       "version_major": 2,
       "version_minor": 0
      },
      "text/plain": [
       "Checkbox(value=False, description='Accuracy')"
      ]
     },
     "metadata": {},
     "output_type": "display_data"
    },
    {
     "data": {
      "application/vnd.jupyter.widget-view+json": {
       "model_id": "bd9c36d62e5d4078a062f0a1a21be118",
       "version_major": 2,
       "version_minor": 0
      },
      "text/plain": [
       "Checkbox(value=False, description='Precision/PPV')"
      ]
     },
     "metadata": {},
     "output_type": "display_data"
    },
    {
     "data": {
      "application/vnd.jupyter.widget-view+json": {
       "model_id": "4c86d5a52d5948a18dc4e6abcdb83ad2",
       "version_major": 2,
       "version_minor": 0
      },
      "text/plain": [
       "Checkbox(value=False, description='Recall/TPR/Sensitivity')"
      ]
     },
     "metadata": {},
     "output_type": "display_data"
    },
    {
     "data": {
      "application/vnd.jupyter.widget-view+json": {
       "model_id": "a56e89e3fbd44ce39224298fa087783b",
       "version_major": 2,
       "version_minor": 0
      },
      "text/plain": [
       "Checkbox(value=False, description='AUROC')"
      ]
     },
     "metadata": {},
     "output_type": "display_data"
    },
    {
     "data": {
      "application/vnd.jupyter.widget-view+json": {
       "model_id": "f1da18f079bb426bb04d3201831b57e8",
       "version_major": 2,
       "version_minor": 0
      },
      "text/plain": [
       "Checkbox(value=False, description='AUROC-Plot')"
      ]
     },
     "metadata": {},
     "output_type": "display_data"
    },
    {
     "data": {
      "application/vnd.jupyter.widget-view+json": {
       "model_id": "a1962221fbd64b6494c5f1205c7344df",
       "version_major": 2,
       "version_minor": 0
      },
      "text/plain": [
       "Checkbox(value=False, description='AUPRC')"
      ]
     },
     "metadata": {},
     "output_type": "display_data"
    },
    {
     "data": {
      "application/vnd.jupyter.widget-view+json": {
       "model_id": "44c58090ddbc4683a5b7af5891ad1ad9",
       "version_major": 2,
       "version_minor": 0
      },
      "text/plain": [
       "Checkbox(value=False, description='AUPRC-Plot')"
      ]
     },
     "metadata": {},
     "output_type": "display_data"
    },
    {
     "data": {
      "application/vnd.jupyter.widget-view+json": {
       "model_id": "7584a70771cb488095badf34a5341fdf",
       "version_major": 2,
       "version_minor": 0
      },
      "text/plain": [
       "Checkbox(value=False, description='Specificity/TNR')"
      ]
     },
     "metadata": {},
     "output_type": "display_data"
    },
    {
     "data": {
      "application/vnd.jupyter.widget-view+json": {
       "model_id": "20f807d0780d4c73996f0665ef6eff75",
       "version_major": 2,
       "version_minor": 0
      },
      "text/plain": [
       "Checkbox(value=False, description='NPV')"
      ]
     },
     "metadata": {},
     "output_type": "display_data"
    },
    {
     "data": {
      "application/vnd.jupyter.widget-view+json": {
       "model_id": "778782a1ac904d1798d14be5612ab1f2",
       "version_major": 2,
       "version_minor": 0
      },
      "text/plain": [
       "Checkbox(value=False, description='Callibration')"
      ]
     },
     "metadata": {},
     "output_type": "display_data"
    },
    {
     "data": {
      "application/vnd.jupyter.widget-view+json": {
       "model_id": "6dac3f1be1f84d1e8b6ee26a22e81240",
       "version_major": 2,
       "version_minor": 0
      },
      "text/plain": [
       "Checkbox(value=False, description='Fairness')"
      ]
     },
     "metadata": {},
     "output_type": "display_data"
    }
   ],
   "source": [
    "#print(\"Which Features you want to include for cohort?\")\n",
    "check_input5 = widgets.Checkbox(description='Accuracy')\n",
    "display(check_input5)\n",
    "check_input6 = widgets.Checkbox(description='Precision/PPV')\n",
    "display(check_input6)\n",
    "check_input7 = widgets.Checkbox(description='Recall/TPR/Sensitivity')\n",
    "display(check_input7)\n",
    "check_input8 = widgets.Checkbox(description='AUROC')\n",
    "display(check_input8)\n",
    "check_input9 = widgets.Checkbox(description='AUROC-Plot')\n",
    "display(check_input9)\n",
    "check_input10 = widgets.Checkbox(description='AUPRC')\n",
    "display(check_input10)\n",
    "check_input11 = widgets.Checkbox(description='AUPRC-Plot')\n",
    "display(check_input11)\n",
    "check_input12 = widgets.Checkbox(description='Specificity/TNR')\n",
    "display(check_input12)\n",
    "check_input13 = widgets.Checkbox(description='NPV')\n",
    "display(check_input13)\n",
    "check_input14 = widgets.Checkbox(description='Callibration')\n",
    "display(check_input14)\n",
    "check_input15 = widgets.Checkbox(description='Fairness')\n",
    "display(check_input15)"
   ]
  },
  {
   "cell_type": "code",
   "execution_count": null,
   "id": "fourth-lecture",
   "metadata": {},
   "outputs": [],
   "source": [
    "loss=evaluation.Loss()\n",
    "loss(model.pred,model.labels)"
   ]
  }
 ],
 "metadata": {
  "hide_input": false,
  "kernelspec": {
   "display_name": "Python [conda env:DSRA] *",
   "language": "python",
   "name": "conda-env-DSRA-py"
  },
  "language_info": {
   "codemirror_mode": {
    "name": "ipython",
    "version": 3
   },
   "file_extension": ".py",
   "mimetype": "text/x-python",
   "name": "python",
   "nbconvert_exporter": "python",
   "pygments_lexer": "ipython3",
   "version": "3.7.1"
  }
 },
 "nbformat": 4,
 "nbformat_minor": 5
}
