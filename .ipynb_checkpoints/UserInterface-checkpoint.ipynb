{
 "cells": [
  {
   "cell_type": "code",
   "execution_count": 1,
   "id": "italic-private",
   "metadata": {},
   "outputs": [
    {
     "data": {
      "application/javascript": [
       "function toggler(){\n",
       "    if(window.already_toggling){\n",
       "        // Don't add multiple buttons.\n",
       "        return 0\n",
       "    }\n",
       "    let btn = $('.input').append('<button>Toggle Code</button>')\n",
       "        .children('button');\n",
       "    btn.on('click', function(e){\n",
       "        let tgt = e.currentTarget;\n",
       "        $(tgt).parent().children('.inner_cell').toggle()\n",
       "    })\n",
       "    window.already_toggling = true;\n",
       "}\n",
       "// Since javascript cells are executed as soon as we load\n",
       "// the notebook (if it's trusted), and this cell might be at the\n",
       "// top of the notebook (so is executed first), we need to\n",
       "// allow time for all of the other code cells to load before\n",
       "// running. Let's give it 5 seconds.\n",
       "\n",
       "setTimeout(toggler, 5000);\n"
      ],
      "text/plain": [
       "<IPython.core.display.Javascript object>"
      ]
     },
     "metadata": {},
     "output_type": "display_data"
    }
   ],
   "source": [
    "%%javascript\n",
    "function toggler(){\n",
    "    if(window.already_toggling){\n",
    "        // Don't add multiple buttons.\n",
    "        return 0\n",
    "    }\n",
    "    let btn = $('.input').append('<button>Toggle Code</button>')\n",
    "        .children('button');\n",
    "    btn.on('click', function(e){\n",
    "        let tgt = e.currentTarget;\n",
    "        $(tgt).parent().children('.inner_cell').toggle()\n",
    "    })\n",
    "    window.already_toggling = true;\n",
    "}\n",
    "// Since javascript cells are executed as soon as we load\n",
    "// the notebook (if it's trusted), and this cell might be at the\n",
    "// top of the notebook (so is executed first), we need to\n",
    "// allow time for all of the other code cells to load before\n",
    "// running. Let's give it 5 seconds.\n",
    "\n",
    "setTimeout(toggler, 5000);"
   ]
  },
  {
   "cell_type": "code",
   "execution_count": 2,
   "id": "available-albany",
   "metadata": {},
   "outputs": [],
   "source": [
    "import ipywidgets as widgets\n",
    "import sys\n",
    "from pathlib import Path\n",
    "import os\n",
    "\n",
    "module_path='preprocessing/day_intervals_preproc'\n",
    "if module_path not in sys.path:\n",
    "    sys.path.append(module_path)\n",
    "module_path='model'\n",
    "if module_path not in sys.path:\n",
    "    sys.path.append(module_path)\n",
    "root_dir = os.path.dirname(os.path.abspath('UserInterface.ipynb'))\n",
    "from day_intervals_cohort import *\n",
    "from data_generation import *"
   ]
  },
  {
   "cell_type": "markdown",
   "id": "representative-reggae",
   "metadata": {},
   "source": [
    "# Welcome to your MIMIC-IV Project"
   ]
  },
  {
   "cell_type": "code",
   "execution_count": 3,
   "id": "structured-dimension",
   "metadata": {
    "tags": [
     "{",
     "\"tags\":",
     "[",
     "\"hide-input\"",
     "]",
     "}"
    ]
   },
   "outputs": [
    {
     "name": "stdout",
     "output_type": "stream",
     "text": [
      "Extract Data\n",
      "Please select below if you want to work with ICU or Non-ICU data ?\n"
     ]
    },
    {
     "data": {
      "application/vnd.jupyter.widget-view+json": {
       "model_id": "537b6fab77a841f684668a6cfbd67d37",
       "version_major": 2,
       "version_minor": 0
      },
      "text/plain": [
       "RadioButtons(options=('ICU', 'Non-ICU'), value='ICU')"
      ]
     },
     "metadata": {},
     "output_type": "display_data"
    },
    {
     "name": "stdout",
     "output_type": "stream",
     "text": [
      "Please select what prediction task you want to perform ?\n"
     ]
    },
    {
     "data": {
      "application/vnd.jupyter.widget-view+json": {
       "model_id": "e922dc1dff864403927b07c4ce159253",
       "version_major": 2,
       "version_minor": 0
      },
      "text/plain": [
       "RadioButtons(options=('30 Day Readmission', '60 Day Readmission', '90 Day Readmission', '120 Day Readmission',…"
      ]
     },
     "metadata": {},
     "output_type": "display_data"
    },
    {
     "name": "stdout",
     "output_type": "stream",
     "text": [
      "Please select if you want to perform choosen prediction task for a specific disease.\n"
     ]
    },
    {
     "data": {
      "application/vnd.jupyter.widget-view+json": {
       "model_id": "91379ac5d5504aadafe7bf48a2e2ed83",
       "version_major": 2,
       "version_minor": 0
      },
      "text/plain": [
       "RadioButtons(options=('No Disease Filter', 'Heart Failure', 'CKD', 'Respiratory Failure', 'COPD'), value='No D…"
      ]
     },
     "metadata": {},
     "output_type": "display_data"
    },
    {
     "data": {
      "application/vnd.jupyter.widget-view+json": {
       "model_id": "c7982a8deff44c31bdbda3f104b737c4",
       "version_major": 2,
       "version_minor": 0
      },
      "text/plain": [
       "Button(description='Extract Data', style=ButtonStyle())"
      ]
     },
     "metadata": {},
     "output_type": "display_data"
    }
   ],
   "source": [
    "print(\"Extract Data\")\n",
    "print(\"Please select below if you want to work with ICU or Non-ICU data ?\")\n",
    "radio_input1 = widgets.RadioButtons(options=['ICU', 'Non-ICU'],value='ICU')\n",
    "display(radio_input1)\n",
    "      \n",
    "print(\"Please select what prediction task you want to perform ?\")\n",
    "radio_input2 = widgets.RadioButtons(options=['30 Day Readmission','60 Day Readmission','90 Day Readmission','120 Day Readmission', 'Mortality'],value='30 Day Readmission')\n",
    "display(radio_input2)\n",
    "      \n",
    "print(\"Please select if you want to perform choosen prediction task for a specific disease.\")\n",
    "radio_input3 = widgets.RadioButtons(options=['No Disease Filter','Heart Failure','CKD','Respiratory Failure','COPD'],value='No Disease Filter')\n",
    "display(radio_input3)\n",
    "extract_button = widgets.Button(description='Extract Data')\n",
    "display(extract_button)"
   ]
  },
  {
   "cell_type": "code",
   "execution_count": 4,
   "id": "constant-blake",
   "metadata": {},
   "outputs": [
    {
     "name": "stdout",
     "output_type": "stream",
     "text": [
      "EXTRACTING FOR: | ICU | 30 DAY READMISSION |\n"
     ]
    },
    {
     "name": "stderr",
     "output_type": "stream",
     "text": [
      "100%|██████████| 49295/49295 [05:55<00:00, 138.72it/s]\n"
     ]
    },
    {
     "name": "stdout",
     "output_type": "stream",
     "text": [
      "[ READMISSION LABELS FINISHED ]\n",
      "                   intime  min_valid_year             outtime     stay_id  \\\n",
      "23016 2157-11-20 19:18:02          2163.0 2157-11-21 22:08:00  37067082.0   \n",
      "66886 2156-04-12 16:24:18          2161.0 2156-04-17 15:57:08  33987268.0   \n",
      "66889 2156-04-19 18:11:19          2161.0 2156-04-26 18:58:41  38875437.0   \n",
      "66887 2156-04-30 21:53:00          2161.0 2156-05-02 22:27:20  34807493.0   \n",
      "54877 2144-01-26 22:28:04          2150.0 2144-02-06 13:44:15  32773003.0   \n",
      "\n",
      "       subject_id  label  \n",
      "23016  10001217.0      1  \n",
      "66886  10002428.0      1  \n",
      "66889  10002428.0      1  \n",
      "66887  10002428.0      1  \n",
      "54877  10004401.0      1  \n",
      "[ COHORT SUCCESSFULLY SAVED ]\n",
      "[ SUMMARY SUCCESSFULLY SAVED ]\n",
      "30 Day Readmission FOR ICU DATA\n",
      "# Admission Records: 70653\n",
      "# Patients: 49295\n",
      "# Positive cases: 9803\n",
      "# Negative cases: 60850\n"
     ]
    }
   ],
   "source": [
    "cohort_output = extract_data(radio_input1.value,radio_input2.value, root_dir)"
   ]
  },
  {
   "cell_type": "code",
   "execution_count": 10,
   "id": "cross-matthew",
   "metadata": {},
   "outputs": [
    {
     "data": {
      "text/html": [
       "<div>\n",
       "<style scoped>\n",
       "    .dataframe tbody tr th:only-of-type {\n",
       "        vertical-align: middle;\n",
       "    }\n",
       "\n",
       "    .dataframe tbody tr th {\n",
       "        vertical-align: top;\n",
       "    }\n",
       "\n",
       "    .dataframe thead th {\n",
       "        text-align: right;\n",
       "    }\n",
       "</style>\n",
       "<table border=\"1\" class=\"dataframe\">\n",
       "  <thead>\n",
       "    <tr style=\"text-align: right;\">\n",
       "      <th></th>\n",
       "      <th>admittime</th>\n",
       "      <th>min_valid_year</th>\n",
       "      <th>dischtime</th>\n",
       "      <th>hadm_id</th>\n",
       "      <th>subject_id</th>\n",
       "      <th>label</th>\n",
       "    </tr>\n",
       "  </thead>\n",
       "  <tbody>\n",
       "    <tr>\n",
       "      <th>23016</th>\n",
       "      <td>2157-11-20 19:18:02</td>\n",
       "      <td>2163.0</td>\n",
       "      <td>2157-11-21 22:08:00</td>\n",
       "      <td>37067082.0</td>\n",
       "      <td>10001217.0</td>\n",
       "      <td>1</td>\n",
       "    </tr>\n",
       "    <tr>\n",
       "      <th>66886</th>\n",
       "      <td>2156-04-12 16:24:18</td>\n",
       "      <td>2161.0</td>\n",
       "      <td>2156-04-17 15:57:08</td>\n",
       "      <td>33987268.0</td>\n",
       "      <td>10002428.0</td>\n",
       "      <td>1</td>\n",
       "    </tr>\n",
       "    <tr>\n",
       "      <th>66889</th>\n",
       "      <td>2156-04-19 18:11:19</td>\n",
       "      <td>2161.0</td>\n",
       "      <td>2156-04-26 18:58:41</td>\n",
       "      <td>38875437.0</td>\n",
       "      <td>10002428.0</td>\n",
       "      <td>1</td>\n",
       "    </tr>\n",
       "    <tr>\n",
       "      <th>66887</th>\n",
       "      <td>2156-04-30 21:53:00</td>\n",
       "      <td>2161.0</td>\n",
       "      <td>2156-05-02 22:27:20</td>\n",
       "      <td>34807493.0</td>\n",
       "      <td>10002428.0</td>\n",
       "      <td>1</td>\n",
       "    </tr>\n",
       "    <tr>\n",
       "      <th>54877</th>\n",
       "      <td>2144-01-26 22:28:04</td>\n",
       "      <td>2150.0</td>\n",
       "      <td>2144-02-06 13:44:15</td>\n",
       "      <td>32773003.0</td>\n",
       "      <td>10004401.0</td>\n",
       "      <td>1</td>\n",
       "    </tr>\n",
       "  </tbody>\n",
       "</table>\n",
       "</div>"
      ],
      "text/plain": [
       "                admittime  min_valid_year           dischtime     hadm_id  \\\n",
       "23016 2157-11-20 19:18:02          2163.0 2157-11-21 22:08:00  37067082.0   \n",
       "66886 2156-04-12 16:24:18          2161.0 2156-04-17 15:57:08  33987268.0   \n",
       "66889 2156-04-19 18:11:19          2161.0 2156-04-26 18:58:41  38875437.0   \n",
       "66887 2156-04-30 21:53:00          2161.0 2156-05-02 22:27:20  34807493.0   \n",
       "54877 2144-01-26 22:28:04          2150.0 2144-02-06 13:44:15  32773003.0   \n",
       "\n",
       "       subject_id  label  \n",
       "23016  10001217.0      1  \n",
       "66886  10002428.0      1  \n",
       "66889  10002428.0      1  \n",
       "66887  10002428.0      1  \n",
       "54877  10004401.0      1  "
      ]
     },
     "execution_count": 10,
     "metadata": {},
     "output_type": "execute_result"
    }
   ],
   "source": [
    "summary.head()"
   ]
  },
  {
   "cell_type": "code",
   "execution_count": 9,
   "id": "hollow-mainland",
   "metadata": {},
   "outputs": [],
   "source": [
    "summary=summary.rename(columns={\"intime\":\"admittime\",\"outtime\":\"dischtime\",\"stay_id\":\"hadm_id\"})"
   ]
  },
  {
   "cell_type": "code",
   "execution_count": 8,
   "id": "established-divorce",
   "metadata": {},
   "outputs": [
    {
     "data": {
      "text/html": [
       "<div>\n",
       "<style scoped>\n",
       "    .dataframe tbody tr th:only-of-type {\n",
       "        vertical-align: middle;\n",
       "    }\n",
       "\n",
       "    .dataframe tbody tr th {\n",
       "        vertical-align: top;\n",
       "    }\n",
       "\n",
       "    .dataframe thead th {\n",
       "        text-align: right;\n",
       "    }\n",
       "</style>\n",
       "<table border=\"1\" class=\"dataframe\">\n",
       "  <thead>\n",
       "    <tr style=\"text-align: right;\">\n",
       "      <th></th>\n",
       "      <th>admittime</th>\n",
       "      <th>min_valid_year</th>\n",
       "      <th>dischtime</th>\n",
       "      <th>hadm_id</th>\n",
       "      <th>subject_id</th>\n",
       "      <th>label</th>\n",
       "    </tr>\n",
       "  </thead>\n",
       "  <tbody>\n",
       "    <tr>\n",
       "      <th>23016</th>\n",
       "      <td>2157-11-20 19:18:02</td>\n",
       "      <td>2163.0</td>\n",
       "      <td>2157-11-21 22:08:00</td>\n",
       "      <td>37067082.0</td>\n",
       "      <td>10001217.0</td>\n",
       "      <td>1</td>\n",
       "    </tr>\n",
       "    <tr>\n",
       "      <th>66886</th>\n",
       "      <td>2156-04-12 16:24:18</td>\n",
       "      <td>2161.0</td>\n",
       "      <td>2156-04-17 15:57:08</td>\n",
       "      <td>33987268.0</td>\n",
       "      <td>10002428.0</td>\n",
       "      <td>1</td>\n",
       "    </tr>\n",
       "    <tr>\n",
       "      <th>66889</th>\n",
       "      <td>2156-04-19 18:11:19</td>\n",
       "      <td>2161.0</td>\n",
       "      <td>2156-04-26 18:58:41</td>\n",
       "      <td>38875437.0</td>\n",
       "      <td>10002428.0</td>\n",
       "      <td>1</td>\n",
       "    </tr>\n",
       "    <tr>\n",
       "      <th>66887</th>\n",
       "      <td>2156-04-30 21:53:00</td>\n",
       "      <td>2161.0</td>\n",
       "      <td>2156-05-02 22:27:20</td>\n",
       "      <td>34807493.0</td>\n",
       "      <td>10002428.0</td>\n",
       "      <td>1</td>\n",
       "    </tr>\n",
       "    <tr>\n",
       "      <th>54877</th>\n",
       "      <td>2144-01-26 22:28:04</td>\n",
       "      <td>2150.0</td>\n",
       "      <td>2144-02-06 13:44:15</td>\n",
       "      <td>32773003.0</td>\n",
       "      <td>10004401.0</td>\n",
       "      <td>1</td>\n",
       "    </tr>\n",
       "  </tbody>\n",
       "</table>\n",
       "</div>"
      ],
      "text/plain": [
       "                admittime  min_valid_year           dischtime     hadm_id  \\\n",
       "23016 2157-11-20 19:18:02          2163.0 2157-11-21 22:08:00  37067082.0   \n",
       "66886 2156-04-12 16:24:18          2161.0 2156-04-17 15:57:08  33987268.0   \n",
       "66889 2156-04-19 18:11:19          2161.0 2156-04-26 18:58:41  38875437.0   \n",
       "66887 2156-04-30 21:53:00          2161.0 2156-05-02 22:27:20  34807493.0   \n",
       "54877 2144-01-26 22:28:04          2150.0 2144-02-06 13:44:15  32773003.0   \n",
       "\n",
       "       subject_id  label  \n",
       "23016  10001217.0      1  \n",
       "66886  10002428.0      1  \n",
       "66889  10002428.0      1  \n",
       "66887  10002428.0      1  \n",
       "54877  10004401.0      1  "
      ]
     },
     "execution_count": 8,
     "metadata": {},
     "output_type": "execute_result"
    }
   ],
   "source": [
    "cohort.head()"
   ]
  },
  {
   "cell_type": "code",
   "execution_count": null,
   "id": "raised-olympus",
   "metadata": {},
   "outputs": [],
   "source": [
    "print(\"Feature Selection\")\n",
    "\n",
    "print(\"Which Features you want to include for cohort?\")\n",
    "check_input1 = widgets.Checkbox(description='Diagnosis')\n",
    "display(check_input1)\n",
    "check_input2 = widgets.Checkbox(description='Labs')\n",
    "display(check_input2)\n",
    "check_input3 = widgets.Checkbox(description='Procedures')\n",
    "display(check_input3)\n",
    "check_input4 = widgets.Checkbox(description='Medications')\n",
    "display(check_input4)"
   ]
  },
  {
   "cell_type": "markdown",
   "id": "productive-savannah",
   "metadata": {},
   "source": [
    "Below is summary of cohort selected according to your choices -"
   ]
  },
  {
   "cell_type": "markdown",
   "id": "pediatric-making",
   "metadata": {},
   "source": [
    "B. Lets Clean data and get it ready for model learning!"
   ]
  },
  {
   "cell_type": "code",
   "execution_count": 26,
   "id": "mechanical-three",
   "metadata": {},
   "outputs": [
    {
     "name": "stdout",
     "output_type": "stream",
     "text": [
      "Do you want to group ICD 10 DIAG codes ?\n"
     ]
    },
    {
     "data": {
      "application/vnd.jupyter.widget-view+json": {
       "model_id": "2b242102725a46d19f49b9748dbe7cc5",
       "version_major": 2,
       "version_minor": 0
      },
      "text/plain": [
       "RadioButtons(options=('Yes', 'No'), value='Yes')"
      ]
     },
     "metadata": {},
     "output_type": "display_data"
    },
    {
     "name": "stdout",
     "output_type": "stream",
     "text": [
      "Do you want to group Medication codes to use Non propietary?\n"
     ]
    },
    {
     "data": {
      "application/vnd.jupyter.widget-view+json": {
       "model_id": "4866c634bed54984b68e5e824858d64a",
       "version_major": 2,
       "version_minor": 0
      },
      "text/plain": [
       "RadioButtons(options=('Yes', 'No'), value='Yes')"
      ]
     },
     "metadata": {},
     "output_type": "display_data"
    },
    {
     "name": "stdout",
     "output_type": "stream",
     "text": [
      "What time bucket size you want to choose ?\n"
     ]
    },
    {
     "data": {
      "application/vnd.jupyter.widget-view+json": {
       "model_id": "b3ecc73307ea4a08bbd3027bfc58c12a",
       "version_major": 2,
       "version_minor": 0
      },
      "text/plain": [
       "RadioButtons(options=('1 hour', '2 hour', '3 hour', '4 hour', '5 hour'), value='1 hour')"
      ]
     },
     "metadata": {},
     "output_type": "display_data"
    },
    {
     "data": {
      "application/vnd.jupyter.widget-view+json": {
       "model_id": "d6a80468f1af4451838f29f0b6d08bf3",
       "version_major": 2,
       "version_minor": 0
      },
      "text/plain": [
       "IntText(value=1, description='Bucket Size (in hours):')"
      ]
     },
     "metadata": {},
     "output_type": "display_data"
    },
    {
     "name": "stdout",
     "output_type": "stream",
     "text": [
      "Do you want data for whole admission or ?\n"
     ]
    },
    {
     "data": {
      "application/vnd.jupyter.widget-view+json": {
       "model_id": "7c9520e4ff63445ab72e1858f98a23c3",
       "version_major": 2,
       "version_minor": 0
      },
      "text/plain": [
       "RadioButtons(options=('Last 72 hours', 'Last 48 hours', 'Last 24 hours'), value='Last 72 hours')"
      ]
     },
     "metadata": {},
     "output_type": "display_data"
    },
    {
     "data": {
      "application/vnd.jupyter.widget-view+json": {
       "model_id": "57b81e3306be40918565c37afcadddaa",
       "version_major": 2,
       "version_minor": 0
      },
      "text/plain": [
       "IntText(value=72, description='Last')"
      ]
     },
     "metadata": {},
     "output_type": "display_data"
    },
    {
     "data": {
      "application/vnd.jupyter.widget-view+json": {
       "model_id": "7ec98de839464ea9bdc36bb5339485e5",
       "version_major": 2,
       "version_minor": 0
      },
      "text/plain": [
       "Button(description='Preprocess Data', style=ButtonStyle())"
      ]
     },
     "metadata": {},
     "output_type": "display_data"
    }
   ],
   "source": [
    "print(\"Do you want to group ICD 10 DIAG codes ?\")\n",
    "radio_input4 = widgets.RadioButtons(options=['Yes','No'],value='Yes')\n",
    "display(radio_input4)\n",
    "\n",
    "print(\"Do you want to group Medication codes to use Non propietary?\")\n",
    "radio_input5 = widgets.RadioButtons(options=['Yes','No'],value='Yes')\n",
    "display(radio_input5)\n",
    "\n",
    "print(\"What time bucket size you want to choose ?\")\n",
    "radio_input7 = widgets.RadioButtons(options=['1 hour','2 hour','3 hour','4 hour','5 hour'],value='1 hour')\n",
    "display(radio_input7)\n",
    "text1=widgets.IntText(\n",
    "    value=1,\n",
    "    description='Bucket Size (in hours):',\n",
    "    disabled=False\n",
    ")\n",
    "display(text1)\n",
    "\n",
    "print(\"Do you want data for whole admission or ?\")\n",
    "radio_input8 = widgets.RadioButtons(options=['Last 72 hours','Last 48 hours','Last 24 hours'],value='Last 72 hours')\n",
    "display(radio_input8)\n",
    "text2=widgets.IntText(\n",
    "    value=72,\n",
    "    description='Last',\n",
    "    disabled=False\n",
    ")\n",
    "display(text2)\n",
    "\n",
    "radio_input6 = widgets.RadioButtons(options=['0 hours','2 hours','4 hours','6 hours'],value='0 hours')\n",
    "if(radio_input2.value=='Mortality'):\n",
    "    print(\"If you have choosen mortality prediction task, then what prediction window length you want to keep?\")\n",
    "    radio_input6 = widgets.RadioButtons(options=['2 hours','4 hours','6 hours','8 hours'],value='2 hours')\n",
    "    display(radio_input6)\n",
    "    text3=widgets.IntText(\n",
    "    value=2,\n",
    "    description='Prediction window (in hours)',\n",
    "    disabled=False\n",
    "    )\n",
    "    display(text3)\n",
    "\n",
    "clean_button = widgets.Button(description='Preprocess Data')\n",
    "display(clean_button)"
   ]
  },
  {
   "cell_type": "code",
   "execution_count": null,
   "id": "interim-treat",
   "metadata": {},
   "outputs": [],
   "source": [
    "gen=generator(cohort_output,check_input1.value,check_input1.value,check_input1.value,check_input1.value,radio_input8.value,radio_input7.value,radio_input6.value)"
   ]
  },
  {
   "cell_type": "markdown",
   "id": "juvenile-auditor",
   "metadata": {},
   "source": [
    "D. Evaluation"
   ]
  },
  {
   "cell_type": "code",
   "execution_count": 21,
   "id": "standard-controversy",
   "metadata": {},
   "outputs": [
    {
     "data": {
      "application/vnd.jupyter.widget-view+json": {
       "model_id": "a793a5a4ea4442b7968b1e8232108ffa",
       "version_major": 2,
       "version_minor": 0
      },
      "text/plain": [
       "Checkbox(value=False, description='Accuracy')"
      ]
     },
     "metadata": {},
     "output_type": "display_data"
    },
    {
     "data": {
      "application/vnd.jupyter.widget-view+json": {
       "model_id": "bd9c36d62e5d4078a062f0a1a21be118",
       "version_major": 2,
       "version_minor": 0
      },
      "text/plain": [
       "Checkbox(value=False, description='Precision/PPV')"
      ]
     },
     "metadata": {},
     "output_type": "display_data"
    },
    {
     "data": {
      "application/vnd.jupyter.widget-view+json": {
       "model_id": "4c86d5a52d5948a18dc4e6abcdb83ad2",
       "version_major": 2,
       "version_minor": 0
      },
      "text/plain": [
       "Checkbox(value=False, description='Recall/TPR/Sensitivity')"
      ]
     },
     "metadata": {},
     "output_type": "display_data"
    },
    {
     "data": {
      "application/vnd.jupyter.widget-view+json": {
       "model_id": "a56e89e3fbd44ce39224298fa087783b",
       "version_major": 2,
       "version_minor": 0
      },
      "text/plain": [
       "Checkbox(value=False, description='AUROC')"
      ]
     },
     "metadata": {},
     "output_type": "display_data"
    },
    {
     "data": {
      "application/vnd.jupyter.widget-view+json": {
       "model_id": "f1da18f079bb426bb04d3201831b57e8",
       "version_major": 2,
       "version_minor": 0
      },
      "text/plain": [
       "Checkbox(value=False, description='AUROC-Plot')"
      ]
     },
     "metadata": {},
     "output_type": "display_data"
    },
    {
     "data": {
      "application/vnd.jupyter.widget-view+json": {
       "model_id": "a1962221fbd64b6494c5f1205c7344df",
       "version_major": 2,
       "version_minor": 0
      },
      "text/plain": [
       "Checkbox(value=False, description='AUPRC')"
      ]
     },
     "metadata": {},
     "output_type": "display_data"
    },
    {
     "data": {
      "application/vnd.jupyter.widget-view+json": {
       "model_id": "44c58090ddbc4683a5b7af5891ad1ad9",
       "version_major": 2,
       "version_minor": 0
      },
      "text/plain": [
       "Checkbox(value=False, description='AUPRC-Plot')"
      ]
     },
     "metadata": {},
     "output_type": "display_data"
    },
    {
     "data": {
      "application/vnd.jupyter.widget-view+json": {
       "model_id": "7584a70771cb488095badf34a5341fdf",
       "version_major": 2,
       "version_minor": 0
      },
      "text/plain": [
       "Checkbox(value=False, description='Specificity/TNR')"
      ]
     },
     "metadata": {},
     "output_type": "display_data"
    },
    {
     "data": {
      "application/vnd.jupyter.widget-view+json": {
       "model_id": "20f807d0780d4c73996f0665ef6eff75",
       "version_major": 2,
       "version_minor": 0
      },
      "text/plain": [
       "Checkbox(value=False, description='NPV')"
      ]
     },
     "metadata": {},
     "output_type": "display_data"
    },
    {
     "data": {
      "application/vnd.jupyter.widget-view+json": {
       "model_id": "778782a1ac904d1798d14be5612ab1f2",
       "version_major": 2,
       "version_minor": 0
      },
      "text/plain": [
       "Checkbox(value=False, description='Callibration')"
      ]
     },
     "metadata": {},
     "output_type": "display_data"
    },
    {
     "data": {
      "application/vnd.jupyter.widget-view+json": {
       "model_id": "6dac3f1be1f84d1e8b6ee26a22e81240",
       "version_major": 2,
       "version_minor": 0
      },
      "text/plain": [
       "Checkbox(value=False, description='Fairness')"
      ]
     },
     "metadata": {},
     "output_type": "display_data"
    }
   ],
   "source": [
    "#print(\"Which Features you want to include for cohort?\")\n",
    "check_input5 = widgets.Checkbox(description='Accuracy')\n",
    "display(check_input5)\n",
    "check_input6 = widgets.Checkbox(description='Precision/PPV')\n",
    "display(check_input6)\n",
    "check_input7 = widgets.Checkbox(description='Recall/TPR/Sensitivity')\n",
    "display(check_input7)\n",
    "check_input8 = widgets.Checkbox(description='AUROC')\n",
    "display(check_input8)\n",
    "check_input9 = widgets.Checkbox(description='AUROC-Plot')\n",
    "display(check_input9)\n",
    "check_input10 = widgets.Checkbox(description='AUPRC')\n",
    "display(check_input10)\n",
    "check_input11 = widgets.Checkbox(description='AUPRC-Plot')\n",
    "display(check_input11)\n",
    "check_input12 = widgets.Checkbox(description='Specificity/TNR')\n",
    "display(check_input12)\n",
    "check_input13 = widgets.Checkbox(description='NPV')\n",
    "display(check_input13)\n",
    "check_input14 = widgets.Checkbox(description='Callibration')\n",
    "display(check_input14)\n",
    "check_input15 = widgets.Checkbox(description='Fairness')\n",
    "display(check_input15)"
   ]
  },
  {
   "cell_type": "code",
   "execution_count": null,
   "id": "fourth-lecture",
   "metadata": {},
   "outputs": [],
   "source": [
    "loss=evaluation.Loss()\n",
    "loss(pred,labels)"
   ]
  }
 ],
 "metadata": {
  "hide_input": false,
  "kernelspec": {
   "display_name": "Python [conda env:DSRA] *",
   "language": "python",
   "name": "conda-env-DSRA-py"
  },
  "language_info": {
   "codemirror_mode": {
    "name": "ipython",
    "version": 3
   },
   "file_extension": ".py",
   "mimetype": "text/x-python",
   "name": "python",
   "nbconvert_exporter": "python",
   "pygments_lexer": "ipython3",
   "version": "3.7.1"
  }
 },
 "nbformat": 4,
 "nbformat_minor": 5
}
