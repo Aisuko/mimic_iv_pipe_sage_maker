{
 "cells": [
  {
   "cell_type": "code",
   "execution_count": 9,
   "id": "every-northern",
   "metadata": {},
   "outputs": [],
   "source": [
    "import ipywidgets as widgets"
   ]
  },
  {
   "cell_type": "markdown",
   "id": "mental-weight",
   "metadata": {},
   "source": [
    "Welcome to your MIMIC-IV Project"
   ]
  },
  {
   "cell_type": "markdown",
   "id": "caring-diesel",
   "metadata": {},
   "source": [
    "Please select below if you want to work with ICU or Non-ICU data ?"
   ]
  },
  {
   "cell_type": "code",
   "execution_count": 21,
   "id": "homeless-unemployment",
   "metadata": {
    "tags": [
     "hide-input"
    ]
   },
   "outputs": [
    {
     "data": {
      "application/vnd.jupyter.widget-view+json": {
       "model_id": "0306fd5eeac046b0afab16a09b10676c",
       "version_major": 2,
       "version_minor": 0
      },
      "text/plain": [
       "RadioButtons(options=('ICU', 'Non-ICU'), value='ICU')"
      ]
     },
     "metadata": {},
     "output_type": "display_data"
    }
   ],
   "source": [
    "radio_input1 = widgets.RadioButtons(options=['ICU', 'Non-ICU'],value='ICU')\n",
    "radio_input1"
   ]
  },
  {
   "cell_type": "markdown",
   "id": "invalid-occasions",
   "metadata": {},
   "source": [
    "Please select what prediction task you want to perform ?"
   ]
  },
  {
   "cell_type": "code",
   "execution_count": 26,
   "id": "seasonal-missouri",
   "metadata": {},
   "outputs": [
    {
     "data": {
      "application/vnd.jupyter.widget-view+json": {
       "model_id": "b7ac8ed3ab7a41009faf008d63a57971",
       "version_major": 2,
       "version_minor": 0
      },
      "text/plain": [
       "RadioButtons(options=('30 day Readmission', '60 day Readmission', '90 day Readmission', '120 day Readmission',…"
      ]
     },
     "metadata": {},
     "output_type": "display_data"
    }
   ],
   "source": [
    "radio_input2 = widgets.RadioButtons(options=['30 day Readmission','60 day Readmission','90 day Readmission','120 day Readmission', 'Mortality'],value='30 day Readmission')\n",
    "radio_input2"
   ]
  },
  {
   "cell_type": "markdown",
   "id": "isolated-teens",
   "metadata": {},
   "source": [
    "Please select if you want to perform choosen prediction task for a specific disease."
   ]
  },
  {
   "cell_type": "code",
   "execution_count": 27,
   "id": "color-albuquerque",
   "metadata": {},
   "outputs": [
    {
     "data": {
      "application/vnd.jupyter.widget-view+json": {
       "model_id": "39c0cb5e6b4348c0bce5150592dca3f9",
       "version_major": 2,
       "version_minor": 0
      },
      "text/plain": [
       "RadioButtons(options=('Heart Failure', 'CKD', 'Respiratory Failure', 'COPD'), value='Heart Failure')"
      ]
     },
     "metadata": {},
     "output_type": "display_data"
    }
   ],
   "source": [
    "radio_input3 = widgets.RadioButtons(options=['Heart Failure','CKD','Respiratory Failure','COPD'],value='Heart Failure')\n",
    "radio_input3"
   ]
  },
  {
   "cell_type": "markdown",
   "id": "serious-battery",
   "metadata": {},
   "source": [
    "Below is summary of cohort selected according to your choices -"
   ]
  },
  {
   "cell_type": "code",
   "execution_count": null,
   "id": "attached-validation",
   "metadata": {},
   "outputs": [],
   "source": [
    "summary(cohort)"
   ]
  },
  {
   "cell_type": "code",
   "execution_count": null,
   "id": "independent-triple",
   "metadata": {},
   "outputs": [],
   "source": []
  },
  {
   "cell_type": "code",
   "execution_count": null,
   "id": "modified-hughes",
   "metadata": {},
   "outputs": [],
   "source": []
  },
  {
   "cell_type": "code",
   "execution_count": null,
   "id": "necessary-westminster",
   "metadata": {},
   "outputs": [],
   "source": []
  },
  {
   "cell_type": "code",
   "execution_count": 24,
   "id": "fantastic-constitution",
   "metadata": {},
   "outputs": [
    {
     "data": {
      "application/vnd.jupyter.widget-view+json": {
       "model_id": "5c12010935ae41839dc03f8bcdd7bcd6",
       "version_major": 2,
       "version_minor": 0
      },
      "text/plain": [
       "Button(description='Extract Data', style=ButtonStyle())"
      ]
     },
     "metadata": {},
     "output_type": "display_data"
    }
   ],
   "source": [
    "extract_button = widgets.Button(description='Extract Data')\n",
    "extract_button"
   ]
  },
  {
   "cell_type": "code",
   "execution_count": null,
   "id": "billion-hands",
   "metadata": {},
   "outputs": [],
   "source": []
  },
  {
   "cell_type": "code",
   "execution_count": 22,
   "id": "pretty-cache",
   "metadata": {},
   "outputs": [
    {
     "name": "stdout",
     "output_type": "stream",
     "text": [
      "ICU\n"
     ]
    }
   ],
   "source": [
    "extract_data(radio_input1.value)"
   ]
  },
  {
   "cell_type": "code",
   "execution_count": null,
   "id": "turned-scout",
   "metadata": {},
   "outputs": [],
   "source": []
  }
 ],
 "metadata": {
  "kernelspec": {
   "display_name": "Python [conda env:DSRA] *",
   "language": "python",
   "name": "conda-env-DSRA-py"
  },
  "language_info": {
   "codemirror_mode": {
    "name": "ipython",
    "version": 3
   },
   "file_extension": ".py",
   "mimetype": "text/x-python",
   "name": "python",
   "nbconvert_exporter": "python",
   "pygments_lexer": "ipython3",
   "version": "3.7.1"
  }
 },
 "nbformat": 4,
 "nbformat_minor": 5
}
