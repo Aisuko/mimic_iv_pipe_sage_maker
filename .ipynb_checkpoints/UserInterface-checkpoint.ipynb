{
 "cells": [
  {
   "cell_type": "code",
   "execution_count": 1,
   "id": "bacterial-expression",
   "metadata": {},
   "outputs": [
    {
     "data": {
      "application/javascript": [
       "function toggler(){\n",
       "    if(window.already_toggling){\n",
       "        // Don't add multiple buttons.\n",
       "        return 0\n",
       "    }\n",
       "    let btn = $('.input').append('<button>Toggle Code</button>')\n",
       "        .children('button');\n",
       "    btn.on('click', function(e){\n",
       "        let tgt = e.currentTarget;\n",
       "        $(tgt).parent().children('.inner_cell').toggle()\n",
       "    })\n",
       "    window.already_toggling = true;\n",
       "}\n",
       "// Since javascript cells are executed as soon as we load\n",
       "// the notebook (if it's trusted), and this cell might be at the\n",
       "// top of the notebook (so is executed first), we need to\n",
       "// allow time for all of the other code cells to load before\n",
       "// running. Let's give it 5 seconds.\n",
       "\n",
       "setTimeout(toggler, 5000);\n"
      ],
      "text/plain": [
       "<IPython.core.display.Javascript object>"
      ]
     },
     "metadata": {},
     "output_type": "display_data"
    }
   ],
   "source": [
    "%%javascript\n",
    "function toggler(){\n",
    "    if(window.already_toggling){\n",
    "        // Don't add multiple buttons.\n",
    "        return 0\n",
    "    }\n",
    "    let btn = $('.input').append('<button>Toggle Code</button>')\n",
    "        .children('button');\n",
    "    btn.on('click', function(e){\n",
    "        let tgt = e.currentTarget;\n",
    "        $(tgt).parent().children('.inner_cell').toggle()\n",
    "    })\n",
    "    window.already_toggling = true;\n",
    "}\n",
    "// Since javascript cells are executed as soon as we load\n",
    "// the notebook (if it's trusted), and this cell might be at the\n",
    "// top of the notebook (so is executed first), we need to\n",
    "// allow time for all of the other code cells to load before\n",
    "// running. Let's give it 5 seconds.\n",
    "\n",
    "setTimeout(toggler, 5000);"
   ]
  },
  {
   "cell_type": "code",
   "execution_count": 2,
   "id": "available-albany",
   "metadata": {},
   "outputs": [],
   "source": [
    "import ipywidgets as widgets"
   ]
  },
  {
   "cell_type": "markdown",
   "id": "representative-reggae",
   "metadata": {},
   "source": [
    "# Welcome to your MIMIC-IV Project"
   ]
  },
  {
   "cell_type": "markdown",
   "id": "olive-dialogue",
   "metadata": {},
   "source": [
    "A. Extract Data"
   ]
  },
  {
   "cell_type": "markdown",
   "id": "distant-zoning",
   "metadata": {},
   "source": [
    "1. Please select below if you want to work with ICU or Non-ICU data ?"
   ]
  },
  {
   "cell_type": "code",
   "execution_count": 3,
   "id": "derived-taste",
   "metadata": {
    "tags": [
     "{",
     "\"tags\":",
     "[",
     "\"hide-input\"",
     "]",
     "}"
    ]
   },
   "outputs": [
    {
     "data": {
      "application/vnd.jupyter.widget-view+json": {
       "model_id": "e5d27668ae95484889e886029e244de0",
       "version_major": 2,
       "version_minor": 0
      },
      "text/plain": [
       "RadioButtons(options=('ICU', 'Non-ICU'), value='ICU')"
      ]
     },
     "metadata": {},
     "output_type": "display_data"
    }
   ],
   "source": [
    "radio_input1 = widgets.RadioButtons(options=['ICU', 'Non-ICU'],value='ICU')\n",
    "radio_input1"
   ]
  },
  {
   "cell_type": "markdown",
   "id": "informal-munich",
   "metadata": {},
   "source": [
    "2. Please select what prediction task you want to perform ?"
   ]
  },
  {
   "cell_type": "code",
   "execution_count": 4,
   "id": "ranking-aerospace",
   "metadata": {},
   "outputs": [
    {
     "data": {
      "application/vnd.jupyter.widget-view+json": {
       "model_id": "7c600768e1f94984b15d8351caad88bf",
       "version_major": 2,
       "version_minor": 0
      },
      "text/plain": [
       "RadioButtons(options=('30 day Readmission', '60 day Readmission', '90 day Readmission', '120 day Readmission',…"
      ]
     },
     "metadata": {},
     "output_type": "display_data"
    }
   ],
   "source": [
    "radio_input2 = widgets.RadioButtons(options=['30 day Readmission','60 day Readmission','90 day Readmission','120 day Readmission', 'Mortality'],value='30 day Readmission')\n",
    "radio_input2"
   ]
  },
  {
   "cell_type": "markdown",
   "id": "freelance-bowling",
   "metadata": {},
   "source": [
    "3. Please select if you want to perform choosen prediction task for a specific disease."
   ]
  },
  {
   "cell_type": "code",
   "execution_count": 5,
   "id": "eastern-deposit",
   "metadata": {},
   "outputs": [
    {
     "data": {
      "application/vnd.jupyter.widget-view+json": {
       "model_id": "88f86cbb06414d73ac3294f572001c48",
       "version_major": 2,
       "version_minor": 0
      },
      "text/plain": [
       "RadioButtons(options=('No Disease Filter', 'Heart Failure', 'CKD', 'Respiratory Failure', 'COPD'), value='No D…"
      ]
     },
     "metadata": {},
     "output_type": "display_data"
    }
   ],
   "source": [
    "radio_input3 = widgets.RadioButtons(options=['No Disease Filter','Heart Failure','CKD','Respiratory Failure','COPD'],value='No Disease Filter')\n",
    "radio_input3"
   ]
  },
  {
   "cell_type": "code",
   "execution_count": 6,
   "id": "horizontal-journal",
   "metadata": {},
   "outputs": [
    {
     "data": {
      "application/vnd.jupyter.widget-view+json": {
       "model_id": "0b37404664d249afb2f7732c404afc0b",
       "version_major": 2,
       "version_minor": 0
      },
      "text/plain": [
       "Button(description='Extract Data', style=ButtonStyle())"
      ]
     },
     "metadata": {},
     "output_type": "display_data"
    }
   ],
   "source": [
    "extract_button = widgets.Button(description='Extract Data')\n",
    "extract_button"
   ]
  },
  {
   "cell_type": "code",
   "execution_count": 7,
   "id": "constant-blake",
   "metadata": {},
   "outputs": [],
   "source": [
    "#summary = extract_data(radio_input1.value,radio_input2.value)"
   ]
  },
  {
   "cell_type": "markdown",
   "id": "productive-savannah",
   "metadata": {},
   "source": [
    "Below is summary of cohort selected according to your choices -"
   ]
  },
  {
   "cell_type": "markdown",
   "id": "pediatric-making",
   "metadata": {},
   "source": [
    "B. Lets Clean data and get it ready for model learning!"
   ]
  },
  {
   "cell_type": "markdown",
   "id": "printable-saying",
   "metadata": {},
   "source": [
    "1. Do you want to group ICD 10 DIAG codes ?"
   ]
  },
  {
   "cell_type": "code",
   "execution_count": 8,
   "id": "mechanical-three",
   "metadata": {},
   "outputs": [
    {
     "data": {
      "application/vnd.jupyter.widget-view+json": {
       "model_id": "f17b4390e0344066af43bdbb185ab429",
       "version_major": 2,
       "version_minor": 0
      },
      "text/plain": [
       "RadioButtons(options=('Yes', 'No'), value='Yes')"
      ]
     },
     "metadata": {},
     "output_type": "display_data"
    }
   ],
   "source": [
    "radio_input4 = widgets.RadioButtons(options=['Yes','No'],value='Yes')\n",
    "radio_input4"
   ]
  },
  {
   "cell_type": "markdown",
   "id": "sharp-vessel",
   "metadata": {},
   "source": [
    "2. Do you want to group Medication codes to use Non propietary?"
   ]
  },
  {
   "cell_type": "code",
   "execution_count": 9,
   "id": "cooperative-radical",
   "metadata": {},
   "outputs": [
    {
     "data": {
      "application/vnd.jupyter.widget-view+json": {
       "model_id": "b4b4dae8f20540f4b0c76d7aa73cec82",
       "version_major": 2,
       "version_minor": 0
      },
      "text/plain": [
       "RadioButtons(options=('Yes', 'No'), value='Yes')"
      ]
     },
     "metadata": {},
     "output_type": "display_data"
    }
   ],
   "source": [
    "radio_input5 = widgets.RadioButtons(options=['Yes','No'],value='Yes')\n",
    "radio_input5"
   ]
  },
  {
   "cell_type": "markdown",
   "id": "entitled-preservation",
   "metadata": {},
   "source": [
    "3. Do you want to remove outliers for all features?"
   ]
  },
  {
   "cell_type": "code",
   "execution_count": 10,
   "id": "lucky-utilization",
   "metadata": {},
   "outputs": [
    {
     "data": {
      "application/vnd.jupyter.widget-view+json": {
       "model_id": "15096227682647edae396ae49eaa74e8",
       "version_major": 2,
       "version_minor": 0
      },
      "text/plain": [
       "RadioButtons(options=('Yes', 'No'), value='Yes')"
      ]
     },
     "metadata": {},
     "output_type": "display_data"
    }
   ],
   "source": [
    "radio_input6 = widgets.RadioButtons(options=['Yes','No'],value='Yes')\n",
    "radio_input6"
   ]
  },
  {
   "cell_type": "markdown",
   "id": "accompanied-visitor",
   "metadata": {},
   "source": [
    "4. What time bucket size you want to choose ?"
   ]
  },
  {
   "cell_type": "code",
   "execution_count": 11,
   "id": "comparable-voluntary",
   "metadata": {},
   "outputs": [
    {
     "data": {
      "application/vnd.jupyter.widget-view+json": {
       "model_id": "771c78238a3648a8936917fb9d0958f9",
       "version_major": 2,
       "version_minor": 0
      },
      "text/plain": [
       "RadioButtons(options=('1 hour', '2 hour', '3 hour', '4 hour', '5 hour'), value='1 hour')"
      ]
     },
     "metadata": {},
     "output_type": "display_data"
    }
   ],
   "source": [
    "radio_input7 = widgets.RadioButtons(options=['1 hour','2 hour','3 hour','4 hour','5 hour'],value='1 hour')\n",
    "radio_input7"
   ]
  },
  {
   "cell_type": "markdown",
   "id": "reported-affair",
   "metadata": {},
   "source": [
    "5. Do you want data for whole admission or ?"
   ]
  },
  {
   "cell_type": "code",
   "execution_count": 12,
   "id": "physical-street",
   "metadata": {},
   "outputs": [
    {
     "data": {
      "application/vnd.jupyter.widget-view+json": {
       "model_id": "bd97ec21797b48d68cbaad2a0f305205",
       "version_major": 2,
       "version_minor": 0
      },
      "text/plain": [
       "RadioButtons(options=('All', 'Last 24 hours', 'Last 48 hours', 'Last 72 hours'), value='All')"
      ]
     },
     "metadata": {},
     "output_type": "display_data"
    }
   ],
   "source": [
    "radio_input8 = widgets.RadioButtons(options=['All','Last 24 hours','Last 48 hours','Last 72 hours'],value='All')\n",
    "radio_input8"
   ]
  },
  {
   "cell_type": "code",
   "execution_count": 13,
   "id": "compliant-speaker",
   "metadata": {},
   "outputs": [
    {
     "data": {
      "application/vnd.jupyter.widget-view+json": {
       "model_id": "3229e08fd772482db42dec0617bfd2f2",
       "version_major": 2,
       "version_minor": 0
      },
      "text/plain": [
       "Button(description='Preprocess Data', style=ButtonStyle())"
      ]
     },
     "metadata": {},
     "output_type": "display_data"
    }
   ],
   "source": [
    "clean_button = widgets.Button(description='Preprocess Data')\n",
    "clean_button"
   ]
  },
  {
   "cell_type": "markdown",
   "id": "juvenile-auditor",
   "metadata": {},
   "source": [
    "D. Evaluation"
   ]
  },
  {
   "cell_type": "code",
   "execution_count": null,
   "id": "fourth-lecture",
   "metadata": {},
   "outputs": [],
   "source": []
  }
 ],
 "metadata": {
  "hide_input": false,
  "kernelspec": {
   "display_name": "Python [conda env:DSRA] *",
   "language": "python",
   "name": "conda-env-DSRA-py"
  },
  "language_info": {
   "codemirror_mode": {
    "name": "ipython",
    "version": 3
   },
   "file_extension": ".py",
   "mimetype": "text/x-python",
   "name": "python",
   "nbconvert_exporter": "python",
   "pygments_lexer": "ipython3",
   "version": "3.7.1"
  }
 },
 "nbformat": 4,
 "nbformat_minor": 5
}
