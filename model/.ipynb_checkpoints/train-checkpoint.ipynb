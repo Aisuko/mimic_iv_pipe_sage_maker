{
 "cells": [
  {
   "cell_type": "code",
   "execution_count": 267,
   "id": "daily-personal",
   "metadata": {},
   "outputs": [],
   "source": [
    "import pickle\n",
    "import matplotlib.pyplot as plt"
   ]
  },
  {
   "cell_type": "code",
   "execution_count": 268,
   "id": "excess-marker",
   "metadata": {},
   "outputs": [],
   "source": [
    "import os\n",
    "os.environ[\"CUDA_VISIBLE_DEVICES\"] = \"0,1\"\n",
    "import pandas as pd\n",
    "import numpy as np\n",
    "import torch as T\n",
    "import torch\n",
    "import math\n",
    "from sklearn import metrics\n",
    "import torch.nn as nn\n",
    "from torch import optim\n",
    "import importlib\n",
    "import torch.nn.functional as F\n",
    "import import_ipynb\n",
    "import utils as utils\n",
    "#import model as model\n",
    "import mimic_model as model\n",
    "import random\n",
    "from torch.nn.utils.rnn import pack_padded_sequence, pad_packed_sequence\n",
    "from sklearn.preprocessing import StandardScaler, OneHotEncoder, MinMaxScaler\n",
    "from pickle import dump,load\n",
    "from sklearn.model_selection import train_test_split\n",
    "\n",
    "#import torchvision.utils as utils\n",
    "import argparse\n",
    "from torch.autograd import Variable\n",
    "from argparse import ArgumentParser\n",
    "import matplotlib.pyplot as plt\n",
    "%matplotlib inline\n",
    "\n",
    "import warnings\n",
    "warnings.filterwarnings('ignore')\n",
    "warnings.simplefilter('ignore')\n",
    "\n",
    "save_path = \"saved_models/model4Static.tar\"#vaegan_model - Copy.tar\"\n",
    "#model - cond+med dropout 0.2 after rnn 256\n",
    "#model 2 - cond+med dropout before\n",
    "#model 3 - cond dropout before \n",
    "#model 4 - cond+med 256\n",
    "if not os.path.exists(\"saved_models\"):\n",
    "    os.makedirs(\"saved_models\")"
   ]
  },
  {
   "cell_type": "code",
   "execution_count": 269,
   "id": "latter-washer",
   "metadata": {},
   "outputs": [
    {
     "name": "stdout",
     "output_type": "stream",
     "text": [
      "importing Jupyter notebook from utils.ipynb\n",
      "importing Jupyter notebook from mimic_model.ipynb\n"
     ]
    }
   ],
   "source": [
    "importlib.reload(utils)\n",
    "importlib.reload(model)\n",
    "import utils as utils\n",
    "import mimic_model as model"
   ]
  },
  {
   "cell_type": "code",
   "execution_count": 270,
   "id": "actual-draft",
   "metadata": {},
   "outputs": [
    {
     "data": {
      "text/plain": [
       "_StoreAction(option_strings=['--eval'], dest='eval', nargs=None, const=None, default=False, type=None, choices=None, help=None, metavar=None)"
      ]
     },
     "execution_count": 270,
     "metadata": {},
     "output_type": "execute_result"
    }
   ],
   "source": [
    "ARG_PARSER = ArgumentParser()\n",
    "\n",
    "ARG_PARSER.add_argument('--nfeatures', default=947, type=int)\n",
    "ARG_PARSER.add_argument('--dfeatures', default=43, type=int)\n",
    "ARG_PARSER.add_argument('--ehidden', default=74, type=int)\n",
    "\n",
    "\n",
    "ARG_PARSER.add_argument('--num_epochs', default=100, type=int)\n",
    "ARG_PARSER.add_argument('--filter_size', default=10, type=int)\n",
    "ARG_PARSER.add_argument('--cond_seq_len', default=56, type=int)#473\n",
    "ARG_PARSER.add_argument('--proc_seq_len', default=40, type=int)#490\n",
    "ARG_PARSER.add_argument('--med_seq_len', default=819, type=int)#565\n",
    "ARG_PARSER.add_argument('--lab_seq_len', default=899, type=int)\n",
    "ARG_PARSER.add_argument('--bmi_seq_len', default=118, type=int)#54\n",
    "ARG_PARSER.add_argument('--time_vocab_size', default=26, type=int)\n",
    "ARG_PARSER.add_argument('--cond_vocab_size', default=1517, type=int)#607#625\n",
    "ARG_PARSER.add_argument('--proc_vocab_size', default=4840, type=int)#355#347\n",
    "ARG_PARSER.add_argument('--med_vocab_size', default=817, type=int)#340#378\n",
    "ARG_PARSER.add_argument('--lab_vocab_size', default=2310, type=int)\n",
    "ARG_PARSER.add_argument('--census_vocab_size', default=75, type=int)#74,75\n",
    "ARG_PARSER.add_argument('--bmi_vocab_size', default=102, type=int)#74,75\n",
    "ARG_PARSER.add_argument('--batch_size', default=5, type=int)\n",
    "ARG_PARSER.add_argument('--patience', default=100, type=int)\n",
    "ARG_PARSER.add_argument('--embedding_size', default=5, type=float)\n",
    "ARG_PARSER.add_argument('--rnn_size', default=24, type=float)\n",
    "ARG_PARSER.add_argument('--lrn_rate', default=0.0001, type=float)\n",
    "ARG_PARSER.add_argument('--resume_training', default=False)\n",
    "ARG_PARSER.add_argument('--train', default=True)\n",
    "ARG_PARSER.add_argument('--eval', default=False)"
   ]
  },
  {
   "cell_type": "code",
   "execution_count": 271,
   "id": "exempt-vatican",
   "metadata": {},
   "outputs": [],
   "source": [
    "args = ARG_PARSER.parse_args(args=[])"
   ]
  },
  {
   "cell_type": "code",
   "execution_count": 272,
   "id": "pursuant-football",
   "metadata": {},
   "outputs": [],
   "source": [
    "if torch.cuda.is_available():\n",
    "    device='cuda:0'\n",
    "#device='cpu'"
   ]
  },
  {
   "cell_type": "code",
   "execution_count": 273,
   "id": "suspected-enclosure",
   "metadata": {},
   "outputs": [],
   "source": [
    "net = model.LSTMAttn(device,\n",
    "                       cond_vocab_size=args.cond_vocab_size,cond_seq_len=args.cond_seq_len, \n",
    "                       proc_vocab_size=args.proc_vocab_size,proc_seq_len=args.proc_seq_len,\n",
    "                       med_vocab_size=args.med_vocab_size,med_seq_len=args.med_seq_len,\n",
    "                       lab_vocab_size=args.lab_vocab_size,lab_seq_len=args.lab_seq_len, \n",
    "                       bmi_vocab_size=args.bmi_vocab_size,bmi_seq_len=args.bmi_seq_len,\n",
    "                       time_vocab_size=args.time_vocab_size, \n",
    "                       census_vocab_size=args.census_vocab_size, \n",
    "                       embed_size=args.embedding_size,rnn_size=args.rnn_size, \n",
    "                       batch_size=args.batch_size) \n",
    "#proc_vocab_size=args.proc_vocab_size,med_vocab_size=args.med_vocab_size,lab_vocab_size=args.lab_vocab_size,\n",
    "#print(net)\n",
    "loss=model.Loss(device)\n",
    "# define the loss and the optimizer\n",
    "optimizer = optim.Adam(net.parameters(), lr=0.001)\n",
    "#criterion = nn.CrossEntropyLoss()"
   ]
  },
  {
   "cell_type": "code",
   "execution_count": 274,
   "id": "overhead-auction",
   "metadata": {},
   "outputs": [
    {
     "data": {
      "text/plain": [
       "LSTMMax(\n",
       "  (med): CodeLSTMAll(\n",
       "    (codeEmbed): Embedding(817, 5, padding_idx=0)\n",
       "    (codeRnn): LSTM(5, 24, batch_first=True)\n",
       "  )\n",
       "  (condEmbed): Embedding(1517, 5, padding_idx=0)\n",
       "  (cond_fc): Linear(in_features=24, out_features=1, bias=False)\n",
       "  (fc): Linear(in_features=304, out_features=1, bias=False)\n",
       "  (sig): Sigmoid()\n",
       ")"
      ]
     },
     "execution_count": 274,
     "metadata": {},
     "output_type": "execute_result"
    }
   ],
   "source": [
    "net.to(device)"
   ]
  },
  {
   "cell_type": "code",
   "execution_count": 265,
   "id": "described-coordinator",
   "metadata": {},
   "outputs": [
    {
     "ename": "TypeError",
     "evalue": "init() missing 1 required positional argument: 'batch_size'",
     "output_type": "error",
     "traceback": [
      "\u001b[1;31m---------------------------------------------------------------------------\u001b[0m",
      "\u001b[1;31mTypeError\u001b[0m                                 Traceback (most recent call last)",
      "\u001b[1;32m<ipython-input-265-b9c1ae6f9cfc>\u001b[0m in \u001b[0;36m<module>\u001b[1;34m\u001b[0m\n\u001b[1;32m----> 1\u001b[1;33m \u001b[0mnBatches\u001b[0m\u001b[1;33m=\u001b[0m\u001b[0mutils\u001b[0m\u001b[1;33m.\u001b[0m\u001b[0minit\u001b[0m\u001b[1;33m(\u001b[0m\u001b[0margs\u001b[0m\u001b[1;33m.\u001b[0m\u001b[0mbatch_size\u001b[0m\u001b[1;33m,\u001b[0m\u001b[0mdic\u001b[0m\u001b[1;33m=\u001b[0m\u001b[1;32mFalse\u001b[0m\u001b[1;33m)\u001b[0m\u001b[1;33m\u001b[0m\u001b[1;33m\u001b[0m\u001b[0m\n\u001b[0m",
      "\u001b[1;31mTypeError\u001b[0m: init() missing 1 required positional argument: 'batch_size'"
     ]
    }
   ],
   "source": [
    "nBatches=utils.init(args.batch_size,dic=False)"
   ]
  },
  {
   "cell_type": "code",
   "execution_count": 88,
   "id": "small-cigarette",
   "metadata": {},
   "outputs": [
    {
     "data": {
      "text/plain": [
       "2244"
      ]
     },
     "execution_count": 88,
     "metadata": {},
     "output_type": "execute_result"
    }
   ],
   "source": [
    "nBatches#2244"
   ]
  },
  {
   "cell_type": "code",
   "execution_count": 89,
   "id": "cross-level",
   "metadata": {},
   "outputs": [],
   "source": [
    "train_batch,test_batch=train_test_split(list(range(0,2244)),test_size=0.2, random_state=43)\n",
    "train_batch,val_batch=train_test_split(train_batch,test_size=0.1, random_state=53)"
   ]
  },
  {
   "cell_type": "code",
   "execution_count": 90,
   "id": "french-benefit",
   "metadata": {},
   "outputs": [
    {
     "data": {
      "text/plain": [
       "449"
      ]
     },
     "execution_count": 90,
     "metadata": {},
     "output_type": "execute_result"
    }
   ],
   "source": [
    "len(test_batch)"
   ]
  },
  {
   "cell_type": "code",
   "execution_count": 43,
   "id": "described-estonia",
   "metadata": {},
   "outputs": [],
   "source": [
    "PATH='C:/Users/mehak/OneDrive - University of Delaware - o365/Beheshti, Rahmat - Mehak - Brennan/model/data/'"
   ]
  },
  {
   "cell_type": "code",
   "execution_count": 44,
   "id": "hispanic-conflict",
   "metadata": {},
   "outputs": [],
   "source": [
    "import pickle"
   ]
  },
  {
   "cell_type": "code",
   "execution_count": 45,
   "id": "entire-sacramento",
   "metadata": {},
   "outputs": [],
   "source": [
    "with open (PATH+'dataDic', 'rb') as fp:\n",
    "        data = pickle.load(fp)"
   ]
  },
  {
   "cell_type": "code",
   "execution_count": 46,
   "id": "postal-packet",
   "metadata": {},
   "outputs": [],
   "source": [
    "from itertools import islice\n",
    " \n",
    "def take(n, iterable):\n",
    "    \"Return first n items of the iterable as a list\"\n",
    "    return dict(islice(iterable, n))\n",
    "\n",
    "data = take(5, data.items())"
   ]
  },
  {
   "cell_type": "code",
   "execution_count": null,
   "id": "stuck-walter",
   "metadata": {},
   "outputs": [],
   "source": []
  },
  {
   "cell_type": "code",
   "execution_count": null,
   "id": "virtual-proportion",
   "metadata": {},
   "outputs": [],
   "source": []
  },
  {
   "cell_type": "code",
   "execution_count": null,
   "id": "paperback-account",
   "metadata": {},
   "outputs": [],
   "source": []
  },
  {
   "cell_type": "code",
   "execution_count": 275,
   "id": "balanced-saudi",
   "metadata": {},
   "outputs": [
    {
     "name": "stdout",
     "output_type": "stream",
     "text": [
      "torch.Size([5, 15, 12])\n",
      "torch.Size([5, 12, 5])\n",
      "output torch.Size([5, 24])\n",
      "med_h_n torch.Size([5, 24])\n",
      "torch.Size([5, 56, 5])\n",
      "torch.Size([5, 280])\n",
      "out1 torch.Size([5, 304])\n"
     ]
    }
   ],
   "source": [
    "\n",
    "meds,conds,labels=utils.get_batch_data(data,PATH)\n",
    "\n",
    "meds=torch.tensor(meds)\n",
    "#print(meds.shape)\n",
    "meds=meds.type(torch.LongTensor)\n",
    "\n",
    "conds=torch.tensor(conds)\n",
    "#print(meds.shape)\n",
    "conds=conds.type(torch.LongTensor)\n",
    "\n",
    "labels=torch.tensor(labels)\n",
    "labels=labels.type(torch.FloatTensor)\n",
    "    \n",
    "optimizer.zero_grad()\n",
    "\n",
    "# get the output sequence from the input and the initial hidden and cell states\n",
    "output = net(meds,conds,contrib=False)\n"
   ]
  },
  {
   "cell_type": "code",
   "execution_count": 277,
   "id": "attractive-mercy",
   "metadata": {},
   "outputs": [
    {
     "data": {
      "text/plain": [
       "tensor([[0.5686],\n",
       "        [0.4424],\n",
       "        [0.5892],\n",
       "        [0.4974],\n",
       "        [0.5305]], device='cuda:0', grad_fn=<SigmoidBackward>)"
      ]
     },
     "execution_count": 277,
     "metadata": {},
     "output_type": "execute_result"
    }
   ],
   "source": [
    "output"
   ]
  },
  {
   "cell_type": "code",
   "execution_count": 48,
   "id": "increased-alabama",
   "metadata": {},
   "outputs": [
    {
     "data": {
      "text/plain": [
       "torch.Size([5, 15, 12])"
      ]
     },
     "execution_count": 48,
     "metadata": {},
     "output_type": "execute_result"
    }
   ],
   "source": [
    "meds.shape"
   ]
  },
  {
   "cell_type": "code",
   "execution_count": 31,
   "id": "combined-symphony",
   "metadata": {},
   "outputs": [
    {
     "data": {
      "text/plain": [
       "torch.Size([5])"
      ]
     },
     "execution_count": 31,
     "metadata": {},
     "output_type": "execute_result"
    }
   ],
   "source": [
    "labels.shape"
   ]
  },
  {
   "cell_type": "code",
   "execution_count": 247,
   "id": "interior-license",
   "metadata": {},
   "outputs": [
    {
     "data": {
      "text/plain": [
       "torch.Size([5, 56])"
      ]
     },
     "execution_count": 247,
     "metadata": {},
     "output_type": "execute_result"
    }
   ],
   "source": [
    "conds.shape"
   ]
  },
  {
   "cell_type": "code",
   "execution_count": null,
   "id": "nonprofit-airport",
   "metadata": {},
   "outputs": [],
   "source": []
  },
  {
   "cell_type": "code",
   "execution_count": 103,
   "id": "advisory-judges",
   "metadata": {
    "scrolled": true
   },
   "outputs": [
    {
     "name": "stdout",
     "output_type": "stream",
     "text": [
      "Epoch: 0, Train Loss: 1.348747, TPR: 0.546677, NR: 0.588874, AUC: 0.606161, APR: 0.284233, APR_BASE: 0.197467 \n",
      "Epoch: 0, Val Loss: 1.333426, GTP: 7133.000000, GTN: 28867.000000, TP: 4699.000000, TN: 14403.000000, FN: 2434.000000, FP: 14464.000000, AUC: 0.622042, APR: 0.302633, APR_BASE: 0.198139 \n",
      "==========================================\n",
      "Updating Model\n",
      "Epoch: 1, Train Loss: 1.282266, TPR: 0.612998, NR: 0.604276, AUC: 0.669789, APR: 0.356815, APR_BASE: 0.197467 \n",
      "Epoch: 1, Val Loss: 1.338276, GTP: 7133.000000, GTN: 28867.000000, TP: 4405.000000, TN: 15673.000000, FN: 2728.000000, FP: 13194.000000, AUC: 0.626088, APR: 0.309231, APR_BASE: 0.198139 \n",
      "==========================================\n",
      "Epoch: 2, Train Loss: 1.204067, TPR: 0.655002, NR: 0.635078, AUC: 0.723533, APR: 0.433370, APR_BASE: 0.197467 \n",
      "Epoch: 2, Val Loss: 1.382864, GTP: 7133.000000, GTN: 28867.000000, TP: 4271.000000, TN: 15705.000000, FN: 2862.000000, FP: 13162.000000, AUC: 0.615322, APR: 0.301518, APR_BASE: 0.198139 \n",
      "==========================================\n",
      "Epoch: 3, Train Loss: 1.110749, TPR: 0.689048, NR: 0.670962, AUC: 0.774428, APR: 0.516822, APR_BASE: 0.197467 \n",
      "Epoch: 3, Val Loss: 1.447518, GTP: 7133.000000, GTN: 28867.000000, TP: 4012.000000, TN: 16372.000000, FN: 3121.000000, FP: 12495.000000, AUC: 0.609214, APR: 0.298993, APR_BASE: 0.198139 \n",
      "==========================================\n",
      "Epoch: 4, Train Loss: 1.015201, TPR: 0.727189, NR: 0.695909, AUC: 0.815707, APR: 0.596047, APR_BASE: 0.197467 \n",
      "Epoch: 4, Val Loss: 1.534681, GTP: 7133.000000, GTN: 28867.000000, TP: 3916.000000, TN: 16665.000000, FN: 3217.000000, FP: 12202.000000, AUC: 0.604342, APR: 0.293202, APR_BASE: 0.198139 \n",
      "==========================================\n",
      "Epoch: 5, Train Loss: 0.925681, TPR: 0.755953, NR: 0.719986, AUC: 0.848275, APR: 0.664805, APR_BASE: 0.197467 \n",
      "Epoch: 5, Val Loss: 1.635798, GTP: 7133.000000, GTN: 28867.000000, TP: 3716.000000, TN: 17477.000000, FN: 3417.000000, FP: 11390.000000, AUC: 0.603081, APR: 0.293674, APR_BASE: 0.198139 \n",
      "==========================================\n",
      "Epoch: 6, Train Loss: 0.844797, TPR: 0.776237, NR: 0.741319, AUC: 0.873079, APR: 0.721283, APR_BASE: 0.197467 \n",
      "Epoch: 6, Val Loss: 1.771392, GTP: 7133.000000, GTN: 28867.000000, TP: 3541.000000, TN: 17871.000000, FN: 3592.000000, FP: 10996.000000, AUC: 0.595397, APR: 0.290121, APR_BASE: 0.198139 \n",
      "==========================================\n",
      "Epoch: 7, Train Loss: 0.776412, TPR: 0.786936, NR: 0.763552, AUC: 0.891090, APR: 0.764888, APR_BASE: 0.197467 \n",
      "Epoch: 7, Val Loss: 1.918154, GTP: 7133.000000, GTN: 28867.000000, TP: 3400.000000, TN: 18400.000000, FN: 3733.000000, FP: 10467.000000, AUC: 0.594486, APR: 0.289260, APR_BASE: 0.198139 \n",
      "==========================================\n",
      "Epoch: 8, Train Loss: 0.725442, TPR: 0.801572, NR: 0.771984, AUC: 0.902258, APR: 0.793596, APR_BASE: 0.197467 \n",
      "Epoch: 8, Val Loss: 2.048979, GTP: 7133.000000, GTN: 28867.000000, TP: 3301.000000, TN: 18731.000000, FN: 3832.000000, FP: 10136.000000, AUC: 0.591340, APR: 0.288514, APR_BASE: 0.198139 \n",
      "==========================================\n",
      "Epoch: 9, Train Loss: 0.686149, TPR: 0.807693, NR: 0.781425, AUC: 0.910658, APR: 0.814833, APR_BASE: 0.197467 \n",
      "Epoch: 9, Val Loss: 2.184633, GTP: 7133.000000, GTN: 28867.000000, TP: 3196.000000, TN: 19100.000000, FN: 3937.000000, FP: 9767.000000, AUC: 0.591768, APR: 0.289936, APR_BASE: 0.198139 \n",
      "==========================================\n",
      "Epoch: 10, Train Loss: 0.661184, TPR: 0.815912, NR: 0.782400, AUC: 0.914812, APR: 0.825816, APR_BASE: 0.197467 \n",
      "Epoch: 10, Val Loss: 2.290392, GTP: 7133.000000, GTN: 28867.000000, TP: 3354.000000, TN: 18462.000000, FN: 3779.000000, FP: 10405.000000, AUC: 0.589357, APR: 0.285383, APR_BASE: 0.198139 \n",
      "==========================================\n",
      "Epoch: 11, Train Loss: 0.642613, TPR: 0.815319, NR: 0.790150, AUC: 0.917832, APR: 0.833916, APR_BASE: 0.197467 \n",
      "Epoch: 11, Val Loss: 2.398419, GTP: 7133.000000, GTN: 28867.000000, TP: 3358.000000, TN: 18626.000000, FN: 3775.000000, FP: 10241.000000, AUC: 0.593751, APR: 0.287748, APR_BASE: 0.198139 \n",
      "==========================================\n",
      "Epoch: 12, Train Loss: 0.630996, TPR: 0.813786, NR: 0.795171, AUC: 0.919666, APR: 0.838327, APR_BASE: 0.197467 \n",
      "Epoch: 12, Val Loss: 2.558396, GTP: 7133.000000, GTN: 28867.000000, TP: 3249.000000, TN: 18927.000000, FN: 3884.000000, FP: 9940.000000, AUC: 0.588746, APR: 0.286315, APR_BASE: 0.198139 \n",
      "==========================================\n",
      "Epoch: 13, Train Loss: 0.621349, TPR: 0.817382, NR: 0.795041, AUC: 0.920964, APR: 0.841682, APR_BASE: 0.197467 \n",
      "Epoch: 13, Val Loss: 2.656616, GTP: 7133.000000, GTN: 28867.000000, TP: 3285.000000, TN: 18712.000000, FN: 3848.000000, FP: 10155.000000, AUC: 0.588089, APR: 0.286555, APR_BASE: 0.198139 \n",
      "==========================================\n",
      "Epoch: 14, Train Loss: 0.611934, TPR: 0.819416, NR: 0.796991, AUC: 0.922621, APR: 0.845781, APR_BASE: 0.197467 \n",
      "Epoch: 14, Val Loss: 2.713797, GTP: 7133.000000, GTN: 28867.000000, TP: 3382.000000, TN: 18226.000000, FN: 3751.000000, FP: 10641.000000, AUC: 0.588695, APR: 0.284636, APR_BASE: 0.198139 \n",
      "==========================================\n",
      "Epoch: 15, Train Loss: 0.599826, TPR: 0.819884, NR: 0.802389, AUC: 0.924581, APR: 0.850669, APR_BASE: 0.197467 \n",
      "Epoch: 15, Val Loss: 2.846321, GTP: 7133.000000, GTN: 28867.000000, TP: 3235.000000, TN: 18768.000000, FN: 3898.000000, FP: 10099.000000, AUC: 0.586849, APR: 0.282735, APR_BASE: 0.198139 \n",
      "==========================================\n",
      "Epoch: 16, Train Loss: 0.599402, TPR: 0.822512, NR: 0.797977, AUC: 0.924250, APR: 0.850366, APR_BASE: 0.197467 \n",
      "Epoch: 16, Val Loss: 2.983591, GTP: 7133.000000, GTN: 28867.000000, TP: 3203.000000, TN: 18857.000000, FN: 3930.000000, FP: 10010.000000, AUC: 0.583144, APR: 0.279116, APR_BASE: 0.198139 \n",
      "==========================================\n",
      "Epoch: 17, Train Loss: 0.600835, TPR: 0.820366, NR: 0.799368, AUC: 0.923826, APR: 0.848804, APR_BASE: 0.197467 \n",
      "Epoch: 17, Val Loss: 2.921476, GTP: 7133.000000, GTN: 28867.000000, TP: 3350.000000, TN: 18396.000000, FN: 3783.000000, FP: 10471.000000, AUC: 0.588910, APR: 0.285004, APR_BASE: 0.198139 \n",
      "==========================================\n",
      "Epoch: 18, Train Loss: 0.595922, TPR: 0.817400, NR: 0.804006, AUC: 0.924559, APR: 0.850846, APR_BASE: 0.197467 \n",
      "Epoch: 18, Val Loss: 3.001545, GTP: 7133.000000, GTN: 28867.000000, TP: 3330.000000, TN: 18552.000000, FN: 3803.000000, FP: 10315.000000, AUC: 0.588081, APR: 0.283434, APR_BASE: 0.198139 \n",
      "==========================================\n"
     ]
    },
    {
     "ename": "KeyboardInterrupt",
     "evalue": "",
     "output_type": "error",
     "traceback": [
      "\u001b[1;31m---------------------------------------------------------------------------\u001b[0m",
      "\u001b[1;31mKeyboardInterrupt\u001b[0m                         Traceback (most recent call last)",
      "\u001b[1;32m<ipython-input-103-658a08801cb2>\u001b[0m in \u001b[0;36m<module>\u001b[1;34m\u001b[0m\n\u001b[0;32m     15\u001b[0m             \u001b[1;31m#print(key)\u001b[0m\u001b[1;33m\u001b[0m\u001b[1;33m\u001b[0m\u001b[1;33m\u001b[0m\u001b[0m\n\u001b[0;32m     16\u001b[0m             \u001b[1;31m#print(value)\u001b[0m\u001b[1;33m\u001b[0m\u001b[1;33m\u001b[0m\u001b[1;33m\u001b[0m\u001b[0m\n\u001b[1;32m---> 17\u001b[1;33m             \u001b[0mconds\u001b[0m\u001b[1;33m,\u001b[0m\u001b[0mcond_lengths\u001b[0m\u001b[1;33m,\u001b[0m\u001b[0mprocs\u001b[0m\u001b[1;33m,\u001b[0m\u001b[0mproc_lengths\u001b[0m\u001b[1;33m,\u001b[0m\u001b[0mmeds\u001b[0m\u001b[1;33m,\u001b[0m\u001b[0mmed_lengths\u001b[0m\u001b[1;33m,\u001b[0m\u001b[0mlabels\u001b[0m\u001b[1;33m=\u001b[0m\u001b[0mutils\u001b[0m\u001b[1;33m.\u001b[0m\u001b[0mget_batch_data\u001b[0m\u001b[1;33m(\u001b[0m\u001b[0mvalue\u001b[0m\u001b[1;33m)\u001b[0m\u001b[1;33m\u001b[0m\u001b[1;33m\u001b[0m\u001b[0m\n\u001b[0m\u001b[0;32m     18\u001b[0m             \u001b[1;31m#print(labels)\u001b[0m\u001b[1;33m\u001b[0m\u001b[1;33m\u001b[0m\u001b[1;33m\u001b[0m\u001b[0m\n\u001b[0;32m     19\u001b[0m             \u001b[0mconds\u001b[0m\u001b[1;33m=\u001b[0m\u001b[0mtorch\u001b[0m\u001b[1;33m.\u001b[0m\u001b[0mtensor\u001b[0m\u001b[1;33m(\u001b[0m\u001b[0mconds\u001b[0m\u001b[1;33m)\u001b[0m\u001b[1;33m\u001b[0m\u001b[1;33m\u001b[0m\u001b[0m\n",
      "\u001b[1;32m~\\Desktop\\MIMIC-IV\\model\\utils.ipynb\u001b[0m in \u001b[0;36mget_batch_data\u001b[1;34m(data)\u001b[0m\n",
      "\u001b[1;32m~\\Anaconda3\\envs\\DSRA\\lib\\site-packages\\pandas\\core\\series.py\u001b[0m in \u001b[0;36mmap\u001b[1;34m(self, arg, na_action)\u001b[0m\n\u001b[0;32m   3629\u001b[0m         \u001b[0mdtype\u001b[0m\u001b[1;33m:\u001b[0m \u001b[0mobject\u001b[0m\u001b[1;33m\u001b[0m\u001b[1;33m\u001b[0m\u001b[0m\n\u001b[0;32m   3630\u001b[0m         \"\"\"\n\u001b[1;32m-> 3631\u001b[1;33m         \u001b[0mnew_values\u001b[0m \u001b[1;33m=\u001b[0m \u001b[0msuper\u001b[0m\u001b[1;33m(\u001b[0m\u001b[1;33m)\u001b[0m\u001b[1;33m.\u001b[0m\u001b[0m_map_values\u001b[0m\u001b[1;33m(\u001b[0m\u001b[0marg\u001b[0m\u001b[1;33m,\u001b[0m \u001b[0mna_action\u001b[0m\u001b[1;33m=\u001b[0m\u001b[0mna_action\u001b[0m\u001b[1;33m)\u001b[0m\u001b[1;33m\u001b[0m\u001b[1;33m\u001b[0m\u001b[0m\n\u001b[0m\u001b[0;32m   3632\u001b[0m         \u001b[1;32mreturn\u001b[0m \u001b[0mself\u001b[0m\u001b[1;33m.\u001b[0m\u001b[0m_constructor\u001b[0m\u001b[1;33m(\u001b[0m\u001b[0mnew_values\u001b[0m\u001b[1;33m,\u001b[0m \u001b[0mindex\u001b[0m\u001b[1;33m=\u001b[0m\u001b[0mself\u001b[0m\u001b[1;33m.\u001b[0m\u001b[0mindex\u001b[0m\u001b[1;33m)\u001b[0m\u001b[1;33m.\u001b[0m\u001b[0m__finalize__\u001b[0m\u001b[1;33m(\u001b[0m\u001b[0mself\u001b[0m\u001b[1;33m)\u001b[0m\u001b[1;33m\u001b[0m\u001b[1;33m\u001b[0m\u001b[0m\n\u001b[0;32m   3633\u001b[0m \u001b[1;33m\u001b[0m\u001b[0m\n",
      "\u001b[1;32m~\\Anaconda3\\envs\\DSRA\\lib\\site-packages\\pandas\\core\\base.py\u001b[0m in \u001b[0;36m_map_values\u001b[1;34m(self, mapper, na_action)\u001b[0m\n\u001b[0;32m   1113\u001b[0m                 \u001b[1;31m# be float64 as well\u001b[0m\u001b[1;33m\u001b[0m\u001b[1;33m\u001b[0m\u001b[1;33m\u001b[0m\u001b[0m\n\u001b[0;32m   1114\u001b[0m                 mapper = create_series_with_explicit_dtype(\n\u001b[1;32m-> 1115\u001b[1;33m                     \u001b[0mmapper\u001b[0m\u001b[1;33m,\u001b[0m \u001b[0mdtype_if_empty\u001b[0m\u001b[1;33m=\u001b[0m\u001b[0mnp\u001b[0m\u001b[1;33m.\u001b[0m\u001b[0mfloat64\u001b[0m\u001b[1;33m\u001b[0m\u001b[1;33m\u001b[0m\u001b[0m\n\u001b[0m\u001b[0;32m   1116\u001b[0m                 )\n\u001b[0;32m   1117\u001b[0m \u001b[1;33m\u001b[0m\u001b[0m\n",
      "\u001b[1;32m~\\Anaconda3\\envs\\DSRA\\lib\\site-packages\\pandas\\core\\construction.py\u001b[0m in \u001b[0;36mcreate_series_with_explicit_dtype\u001b[1;34m(data, index, dtype, name, copy, fastpath, dtype_if_empty)\u001b[0m\n\u001b[0;32m    623\u001b[0m         \u001b[0mdtype\u001b[0m \u001b[1;33m=\u001b[0m \u001b[0mdtype_if_empty\u001b[0m\u001b[1;33m\u001b[0m\u001b[1;33m\u001b[0m\u001b[0m\n\u001b[0;32m    624\u001b[0m     return Series(\n\u001b[1;32m--> 625\u001b[1;33m         \u001b[0mdata\u001b[0m\u001b[1;33m=\u001b[0m\u001b[0mdata\u001b[0m\u001b[1;33m,\u001b[0m \u001b[0mindex\u001b[0m\u001b[1;33m=\u001b[0m\u001b[0mindex\u001b[0m\u001b[1;33m,\u001b[0m \u001b[0mdtype\u001b[0m\u001b[1;33m=\u001b[0m\u001b[0mdtype\u001b[0m\u001b[1;33m,\u001b[0m \u001b[0mname\u001b[0m\u001b[1;33m=\u001b[0m\u001b[0mname\u001b[0m\u001b[1;33m,\u001b[0m \u001b[0mcopy\u001b[0m\u001b[1;33m=\u001b[0m\u001b[0mcopy\u001b[0m\u001b[1;33m,\u001b[0m \u001b[0mfastpath\u001b[0m\u001b[1;33m=\u001b[0m\u001b[0mfastpath\u001b[0m\u001b[1;33m\u001b[0m\u001b[1;33m\u001b[0m\u001b[0m\n\u001b[0m\u001b[0;32m    626\u001b[0m     )\n",
      "\u001b[1;32m~\\Anaconda3\\envs\\DSRA\\lib\\site-packages\\pandas\\core\\series.py\u001b[0m in \u001b[0;36m__init__\u001b[1;34m(self, data, index, dtype, name, copy, fastpath)\u001b[0m\n\u001b[0;32m    254\u001b[0m                 \u001b[0mdata\u001b[0m \u001b[1;33m=\u001b[0m \u001b[0mdata\u001b[0m\u001b[1;33m.\u001b[0m\u001b[0m_data\u001b[0m\u001b[1;33m\u001b[0m\u001b[1;33m\u001b[0m\u001b[0m\n\u001b[0;32m    255\u001b[0m             \u001b[1;32melif\u001b[0m \u001b[0mis_dict_like\u001b[0m\u001b[1;33m(\u001b[0m\u001b[0mdata\u001b[0m\u001b[1;33m)\u001b[0m\u001b[1;33m:\u001b[0m\u001b[1;33m\u001b[0m\u001b[1;33m\u001b[0m\u001b[0m\n\u001b[1;32m--> 256\u001b[1;33m                 \u001b[0mdata\u001b[0m\u001b[1;33m,\u001b[0m \u001b[0mindex\u001b[0m \u001b[1;33m=\u001b[0m \u001b[0mself\u001b[0m\u001b[1;33m.\u001b[0m\u001b[0m_init_dict\u001b[0m\u001b[1;33m(\u001b[0m\u001b[0mdata\u001b[0m\u001b[1;33m,\u001b[0m \u001b[0mindex\u001b[0m\u001b[1;33m,\u001b[0m \u001b[0mdtype\u001b[0m\u001b[1;33m)\u001b[0m\u001b[1;33m\u001b[0m\u001b[1;33m\u001b[0m\u001b[0m\n\u001b[0m\u001b[0;32m    257\u001b[0m                 \u001b[0mdtype\u001b[0m \u001b[1;33m=\u001b[0m \u001b[1;32mNone\u001b[0m\u001b[1;33m\u001b[0m\u001b[1;33m\u001b[0m\u001b[0m\n\u001b[0;32m    258\u001b[0m                 \u001b[0mcopy\u001b[0m \u001b[1;33m=\u001b[0m \u001b[1;32mFalse\u001b[0m\u001b[1;33m\u001b[0m\u001b[1;33m\u001b[0m\u001b[0m\n",
      "\u001b[1;32m~\\Anaconda3\\envs\\DSRA\\lib\\site-packages\\pandas\\core\\series.py\u001b[0m in \u001b[0;36m_init_dict\u001b[1;34m(self, data, index, dtype)\u001b[0m\n\u001b[0;32m    347\u001b[0m         \u001b[1;31m# TODO: passing np.float64 to not break anything yet. See GH-17261\u001b[0m\u001b[1;33m\u001b[0m\u001b[1;33m\u001b[0m\u001b[1;33m\u001b[0m\u001b[0m\n\u001b[0;32m    348\u001b[0m         s = create_series_with_explicit_dtype(\n\u001b[1;32m--> 349\u001b[1;33m             \u001b[0mvalues\u001b[0m\u001b[1;33m,\u001b[0m \u001b[0mindex\u001b[0m\u001b[1;33m=\u001b[0m\u001b[0mkeys\u001b[0m\u001b[1;33m,\u001b[0m \u001b[0mdtype\u001b[0m\u001b[1;33m=\u001b[0m\u001b[0mdtype\u001b[0m\u001b[1;33m,\u001b[0m \u001b[0mdtype_if_empty\u001b[0m\u001b[1;33m=\u001b[0m\u001b[0mnp\u001b[0m\u001b[1;33m.\u001b[0m\u001b[0mfloat64\u001b[0m\u001b[1;33m\u001b[0m\u001b[1;33m\u001b[0m\u001b[0m\n\u001b[0m\u001b[0;32m    350\u001b[0m         )\n\u001b[0;32m    351\u001b[0m \u001b[1;33m\u001b[0m\u001b[0m\n",
      "\u001b[1;32m~\\Anaconda3\\envs\\DSRA\\lib\\site-packages\\pandas\\core\\construction.py\u001b[0m in \u001b[0;36mcreate_series_with_explicit_dtype\u001b[1;34m(data, index, dtype, name, copy, fastpath, dtype_if_empty)\u001b[0m\n\u001b[0;32m    623\u001b[0m         \u001b[0mdtype\u001b[0m \u001b[1;33m=\u001b[0m \u001b[0mdtype_if_empty\u001b[0m\u001b[1;33m\u001b[0m\u001b[1;33m\u001b[0m\u001b[0m\n\u001b[0;32m    624\u001b[0m     return Series(\n\u001b[1;32m--> 625\u001b[1;33m         \u001b[0mdata\u001b[0m\u001b[1;33m=\u001b[0m\u001b[0mdata\u001b[0m\u001b[1;33m,\u001b[0m \u001b[0mindex\u001b[0m\u001b[1;33m=\u001b[0m\u001b[0mindex\u001b[0m\u001b[1;33m,\u001b[0m \u001b[0mdtype\u001b[0m\u001b[1;33m=\u001b[0m\u001b[0mdtype\u001b[0m\u001b[1;33m,\u001b[0m \u001b[0mname\u001b[0m\u001b[1;33m=\u001b[0m\u001b[0mname\u001b[0m\u001b[1;33m,\u001b[0m \u001b[0mcopy\u001b[0m\u001b[1;33m=\u001b[0m\u001b[0mcopy\u001b[0m\u001b[1;33m,\u001b[0m \u001b[0mfastpath\u001b[0m\u001b[1;33m=\u001b[0m\u001b[0mfastpath\u001b[0m\u001b[1;33m\u001b[0m\u001b[1;33m\u001b[0m\u001b[0m\n\u001b[0m\u001b[0;32m    626\u001b[0m     )\n",
      "\u001b[1;32m~\\Anaconda3\\envs\\DSRA\\lib\\site-packages\\pandas\\core\\series.py\u001b[0m in \u001b[0;36m__init__\u001b[1;34m(self, data, index, dtype, name, copy, fastpath)\u001b[0m\n\u001b[0;32m    303\u001b[0m                     \u001b[0mdata\u001b[0m \u001b[1;33m=\u001b[0m \u001b[0mdata\u001b[0m\u001b[1;33m.\u001b[0m\u001b[0mcopy\u001b[0m\u001b[1;33m(\u001b[0m\u001b[1;33m)\u001b[0m\u001b[1;33m\u001b[0m\u001b[1;33m\u001b[0m\u001b[0m\n\u001b[0;32m    304\u001b[0m             \u001b[1;32melse\u001b[0m\u001b[1;33m:\u001b[0m\u001b[1;33m\u001b[0m\u001b[1;33m\u001b[0m\u001b[0m\n\u001b[1;32m--> 305\u001b[1;33m                 \u001b[0mdata\u001b[0m \u001b[1;33m=\u001b[0m \u001b[0msanitize_array\u001b[0m\u001b[1;33m(\u001b[0m\u001b[0mdata\u001b[0m\u001b[1;33m,\u001b[0m \u001b[0mindex\u001b[0m\u001b[1;33m,\u001b[0m \u001b[0mdtype\u001b[0m\u001b[1;33m,\u001b[0m \u001b[0mcopy\u001b[0m\u001b[1;33m,\u001b[0m \u001b[0mraise_cast_failure\u001b[0m\u001b[1;33m=\u001b[0m\u001b[1;32mTrue\u001b[0m\u001b[1;33m)\u001b[0m\u001b[1;33m\u001b[0m\u001b[1;33m\u001b[0m\u001b[0m\n\u001b[0m\u001b[0;32m    306\u001b[0m \u001b[1;33m\u001b[0m\u001b[0m\n\u001b[0;32m    307\u001b[0m                 \u001b[0mdata\u001b[0m \u001b[1;33m=\u001b[0m \u001b[0mSingleBlockManager\u001b[0m\u001b[1;33m(\u001b[0m\u001b[0mdata\u001b[0m\u001b[1;33m,\u001b[0m \u001b[0mindex\u001b[0m\u001b[1;33m,\u001b[0m \u001b[0mfastpath\u001b[0m\u001b[1;33m=\u001b[0m\u001b[1;32mTrue\u001b[0m\u001b[1;33m)\u001b[0m\u001b[1;33m\u001b[0m\u001b[1;33m\u001b[0m\u001b[0m\n",
      "\u001b[1;32m~\\Anaconda3\\envs\\DSRA\\lib\\site-packages\\pandas\\core\\construction.py\u001b[0m in \u001b[0;36msanitize_array\u001b[1;34m(data, index, dtype, copy, raise_cast_failure)\u001b[0m\n\u001b[0;32m    438\u001b[0m             \u001b[0msubarr\u001b[0m \u001b[1;33m=\u001b[0m \u001b[0m_try_cast\u001b[0m\u001b[1;33m(\u001b[0m\u001b[0mdata\u001b[0m\u001b[1;33m,\u001b[0m \u001b[0mdtype\u001b[0m\u001b[1;33m,\u001b[0m \u001b[0mcopy\u001b[0m\u001b[1;33m,\u001b[0m \u001b[0mraise_cast_failure\u001b[0m\u001b[1;33m)\u001b[0m\u001b[1;33m\u001b[0m\u001b[1;33m\u001b[0m\u001b[0m\n\u001b[0;32m    439\u001b[0m         \u001b[1;32melse\u001b[0m\u001b[1;33m:\u001b[0m\u001b[1;33m\u001b[0m\u001b[1;33m\u001b[0m\u001b[0m\n\u001b[1;32m--> 440\u001b[1;33m             \u001b[0msubarr\u001b[0m \u001b[1;33m=\u001b[0m \u001b[0mmaybe_convert_platform\u001b[0m\u001b[1;33m(\u001b[0m\u001b[0mdata\u001b[0m\u001b[1;33m)\u001b[0m\u001b[1;33m\u001b[0m\u001b[1;33m\u001b[0m\u001b[0m\n\u001b[0m\u001b[0;32m    441\u001b[0m \u001b[1;33m\u001b[0m\u001b[0m\n\u001b[0;32m    442\u001b[0m         \u001b[0msubarr\u001b[0m \u001b[1;33m=\u001b[0m \u001b[0mmaybe_cast_to_datetime\u001b[0m\u001b[1;33m(\u001b[0m\u001b[0msubarr\u001b[0m\u001b[1;33m,\u001b[0m \u001b[0mdtype\u001b[0m\u001b[1;33m)\u001b[0m\u001b[1;33m\u001b[0m\u001b[1;33m\u001b[0m\u001b[0m\n",
      "\u001b[1;32m~\\Anaconda3\\envs\\DSRA\\lib\\site-packages\\pandas\\core\\dtypes\\cast.py\u001b[0m in \u001b[0;36mmaybe_convert_platform\u001b[1;34m(values)\u001b[0m\n\u001b[0;32m     76\u001b[0m         \u001b[1;32mif\u001b[0m \u001b[0mhasattr\u001b[0m\u001b[1;33m(\u001b[0m\u001b[0mvalues\u001b[0m\u001b[1;33m,\u001b[0m \u001b[1;34m\"_values\"\u001b[0m\u001b[1;33m)\u001b[0m\u001b[1;33m:\u001b[0m\u001b[1;33m\u001b[0m\u001b[1;33m\u001b[0m\u001b[0m\n\u001b[0;32m     77\u001b[0m             \u001b[0mvalues\u001b[0m \u001b[1;33m=\u001b[0m \u001b[0mvalues\u001b[0m\u001b[1;33m.\u001b[0m\u001b[0m_values\u001b[0m\u001b[1;33m\u001b[0m\u001b[1;33m\u001b[0m\u001b[0m\n\u001b[1;32m---> 78\u001b[1;33m         \u001b[0mvalues\u001b[0m \u001b[1;33m=\u001b[0m \u001b[0mlib\u001b[0m\u001b[1;33m.\u001b[0m\u001b[0mmaybe_convert_objects\u001b[0m\u001b[1;33m(\u001b[0m\u001b[0mvalues\u001b[0m\u001b[1;33m)\u001b[0m\u001b[1;33m\u001b[0m\u001b[1;33m\u001b[0m\u001b[0m\n\u001b[0m\u001b[0;32m     79\u001b[0m \u001b[1;33m\u001b[0m\u001b[0m\n\u001b[0;32m     80\u001b[0m     \u001b[1;32mreturn\u001b[0m \u001b[0mvalues\u001b[0m\u001b[1;33m\u001b[0m\u001b[1;33m\u001b[0m\u001b[0m\n",
      "\u001b[1;32mpandas\\_libs\\lib.pyx\u001b[0m in \u001b[0;36mpandas._libs.lib.maybe_convert_objects\u001b[1;34m()\u001b[0m\n",
      "\u001b[1;32m~\\Anaconda3\\envs\\DSRA\\lib\\site-packages\\numpy\\core\\numeric.py\u001b[0m in \u001b[0;36mfull\u001b[1;34m(shape, fill_value, dtype, order)\u001b[0m\n\u001b[0;32m    324\u001b[0m         \u001b[0mdtype\u001b[0m \u001b[1;33m=\u001b[0m \u001b[0marray\u001b[0m\u001b[1;33m(\u001b[0m\u001b[0mfill_value\u001b[0m\u001b[1;33m)\u001b[0m\u001b[1;33m.\u001b[0m\u001b[0mdtype\u001b[0m\u001b[1;33m\u001b[0m\u001b[1;33m\u001b[0m\u001b[0m\n\u001b[0;32m    325\u001b[0m     \u001b[0ma\u001b[0m \u001b[1;33m=\u001b[0m \u001b[0mempty\u001b[0m\u001b[1;33m(\u001b[0m\u001b[0mshape\u001b[0m\u001b[1;33m,\u001b[0m \u001b[0mdtype\u001b[0m\u001b[1;33m,\u001b[0m \u001b[0morder\u001b[0m\u001b[1;33m)\u001b[0m\u001b[1;33m\u001b[0m\u001b[1;33m\u001b[0m\u001b[0m\n\u001b[1;32m--> 326\u001b[1;33m     \u001b[0mmultiarray\u001b[0m\u001b[1;33m.\u001b[0m\u001b[0mcopyto\u001b[0m\u001b[1;33m(\u001b[0m\u001b[0ma\u001b[0m\u001b[1;33m,\u001b[0m \u001b[0mfill_value\u001b[0m\u001b[1;33m,\u001b[0m \u001b[0mcasting\u001b[0m\u001b[1;33m=\u001b[0m\u001b[1;34m'unsafe'\u001b[0m\u001b[1;33m)\u001b[0m\u001b[1;33m\u001b[0m\u001b[1;33m\u001b[0m\u001b[0m\n\u001b[0m\u001b[0;32m    327\u001b[0m     \u001b[1;32mreturn\u001b[0m \u001b[0ma\u001b[0m\u001b[1;33m\u001b[0m\u001b[1;33m\u001b[0m\u001b[0m\n\u001b[0;32m    328\u001b[0m \u001b[1;33m\u001b[0m\u001b[0m\n",
      "\u001b[1;32m<__array_function__ internals>\u001b[0m in \u001b[0;36mcopyto\u001b[1;34m(*args, **kwargs)\u001b[0m\n",
      "\u001b[1;31mKeyboardInterrupt\u001b[0m: "
     ]
    }
   ],
   "source": [
    "min_loss=100\n",
    "for epoch in range(1000):\n",
    "    \n",
    "    # reinit the hidden and cell steates\n",
    "    #net.init_hidden()\n",
    "    train_loss=[]\n",
    "    train_tpr=[]\n",
    "    train_npr=[]\n",
    "    train_auc=[]\n",
    "    train_apr=[]\n",
    "    train_base=[]\n",
    "    net.train()\n",
    "    for key, value in utils.get_batches().items():\n",
    "        if key in train_batch:\n",
    "            #print(key)\n",
    "            #print(value)\n",
    "            conds,cond_lengths,procs,proc_lengths,meds,med_lengths,labels=utils.get_batch_data(value)\n",
    "            #print(labels)\n",
    "            conds=torch.tensor(conds)\n",
    "            conds=conds.type(torch.LongTensor)\n",
    "            #print(conds.shape)\n",
    "\n",
    "            procs=torch.tensor(procs)\n",
    "            #print(procs.shape)\n",
    "            procs=procs.type(torch.LongTensor)\n",
    "            meds=torch.tensor(meds)\n",
    "            #print(meds.shape)\n",
    "            meds=meds.type(torch.LongTensor)\n",
    "\n",
    "            labels=torch.tensor(labels)\n",
    "            labels=labels.type(torch.FloatTensor)\n",
    "            optimizer.zero_grad()\n",
    "\n",
    "            # get the output sequence from the input and the initial hidden and cell states\n",
    "            \n",
    "            output = net(conds,cond_lengths,procs,proc_lengths,meds,med_lengths,contrib=False)\n",
    "            output=output.squeeze()\n",
    "            #print(\"output\",output.shape)\n",
    "            #print(\"labels\",len(labels))\n",
    "            out_loss=loss(output,labels)\n",
    "            # calculate the loss\n",
    "            # we need to calculate the loss across all batches, so we have to flat the targets tensor\n",
    "            #loss = criterion(output, targets.contiguous().view(128*128))\n",
    "            \n",
    "            train_loss.append(out_loss[0].item())\n",
    "            train_tpr.append(out_loss[1]/out_loss[2])\n",
    "            train_npr.append(out_loss[3]/out_loss[4])\n",
    "            train_auc.append(out_loss[5])\n",
    "            train_apr.append(out_loss[6])\n",
    "            train_base.append(out_loss[7])\n",
    "            #print(out_loss[5])\n",
    "            #print(out_loss[2])\n",
    "            #print(out_loss[4])\n",
    "            # calculate the gradients\n",
    "            out_loss[0].to(device)\n",
    "            out_loss[0].backward()\n",
    "\n",
    "            # update the parameters of the model\n",
    "            optimizer.step()\n",
    "            #print(out_loss[0])\n",
    "             #print(train_loss)\n",
    "           \n",
    "    train_loss=np.asarray(train_loss)    \n",
    "    train_tpr=np.asarray(train_tpr) \n",
    "    train_npr=np.asarray(train_npr) \n",
    "    train_auc=np.asarray(train_auc)    \n",
    "    train_apr=np.asarray(train_apr) \n",
    "    train_base=np.asarray(train_base) \n",
    "    print(\"Epoch: {}, Train Loss: {:.6f}, TPR: {:.6f}, NR: {:.6f}, AUC: {:.6f}, APR: {:.6f}, APR_BASE: {:.6f} \".format(epoch, train_loss.sum()/train_loss.shape[0], np.nanmean(train_tpr), np.nanmean(train_npr), np.nanmean(train_auc), np.nanmean(train_apr), train_base.sum()/train_base.shape[0]))\n",
    "\n",
    "\n",
    "#     # feedback every 10 batches\n",
    "    if epoch % 1 == 0: \n",
    "        val_loss=[]\n",
    "        val_tpr=[]\n",
    "        val_npr=[]\n",
    "        val_pos=[]\n",
    "        val_neg=[]\n",
    "        val_auc=[]\n",
    "        val_apr=[]\n",
    "        val_base=[]\n",
    "        val_fn=[]\n",
    "        val_fp=[]\n",
    "        net.eval()\n",
    "        for key, value in utils.get_batches().items():\n",
    "            if key in val_batch:\n",
    "                #print(key)\n",
    "                #print(value)\n",
    "                conds,cond_lengths,procs,proc_lengths,meds,med_lengths,labels=utils.get_batch_data(value)\n",
    "                #print(labels)\n",
    "                conds=torch.tensor(conds)\n",
    "                conds=conds.type(torch.LongTensor)\n",
    "                #print(conds.shape)\n",
    "\n",
    "                procs=torch.tensor(procs)\n",
    "                #print(procs.shape)\n",
    "                procs=procs.type(torch.LongTensor)\n",
    "                meds=torch.tensor(meds)\n",
    "                #print(meds.shape)\n",
    "                meds=meds.type(torch.LongTensor)\n",
    "\n",
    "                labels=torch.tensor(labels)\n",
    "                labels=labels.type(torch.FloatTensor)\n",
    "                #conds=conds.unsqueeze(2)\n",
    "                #print(\"input\",conds.shape)\n",
    "                #print(bmi.shape)\n",
    "                # get the output sequence from the input and the initial hidden and cell states\n",
    "                if(conds.shape[0]==args.batch_size):\n",
    "                    output = net(conds,cond_lengths,procs,proc_lengths,meds,med_lengths,contrib=False)\n",
    "                    output=output.squeeze()\n",
    "                    #print(\"output\",output.shape)\n",
    "                    #print(\"labels\",len(labels))\n",
    "                    out_loss=loss(output,labels)\n",
    "                    val_loss.append(out_loss[0].item())\n",
    "                    val_tpr.append(out_loss[1])\n",
    "                    val_npr.append(out_loss[3])\n",
    "                    val_pos.append(out_loss[2])\n",
    "                    val_neg.append(out_loss[4])\n",
    "                    val_auc.append(out_loss[5])\n",
    "                    val_apr.append(out_loss[6])\n",
    "                    val_base.append(out_loss[7])\n",
    "                    val_fn.append(out_loss[10])\n",
    "                    val_fp.append(out_loss[11])\n",
    "                    #print(out_loss[5])\n",
    "        val_loss=np.asarray(val_loss)    \n",
    "        val_tpr=np.asarray(val_tpr) \n",
    "        val_npr=np.asarray(val_npr) \n",
    "        val_pos=np.asarray(val_pos) \n",
    "        val_fn=np.asarray(val_fn) \n",
    "        val_fp=np.asarray(val_fp) \n",
    "        val_neg=np.asarray(val_neg) \n",
    "        val_auc=np.asarray(val_auc)    \n",
    "        val_apr=np.asarray(val_apr) \n",
    "        val_base=np.asarray(val_base)\n",
    "        print(\"Epoch: {}, Val Loss: {:.6f}, GTP: {:.6f}, GTN: {:.6f}, TP: {:.6f}, TN: {:.6f}, FN: {:.6f}, FP: {:.6f}, AUC: {:.6f}, APR: {:.6f}, APR_BASE: {:.6f} \".format(epoch, val_loss.sum()/val_loss.shape[0], np.nansum(val_pos), np.nansum(val_neg), np.nansum(val_tpr), np.nansum(val_npr), np.nansum(val_fn), np.nansum(val_fp), np.nanmean(val_auc), np.nanmean(val_apr), val_base.sum()/val_base.shape[0]))\n",
    "        print(\"==========================================\")\n",
    "        if((val_loss.sum()/val_loss.shape[0])<=min_loss):\n",
    "            print(\"Updating Model\")\n",
    "            min_loss=val_loss.sum()/val_loss.shape[0]\n",
    "            T.save(net,save_path)\n"
   ]
  },
  {
   "cell_type": "code",
   "execution_count": 23,
   "id": "consecutive-membrane",
   "metadata": {},
   "outputs": [
    {
     "data": {
      "text/plain": [
       "21"
      ]
     },
     "execution_count": 23,
     "metadata": {},
     "output_type": "execute_result"
    }
   ],
   "source": [
    "len(val_batch)"
   ]
  },
  {
   "cell_type": "code",
   "execution_count": 455,
   "id": "everyday-learning",
   "metadata": {},
   "outputs": [],
   "source": [
    "x=torch.tensor([[[1,1,1],[2,2,2]],[[1,1,1],[2,2,2]]])"
   ]
  },
  {
   "cell_type": "code",
   "execution_count": 456,
   "id": "technological-kelly",
   "metadata": {},
   "outputs": [
    {
     "data": {
      "text/plain": [
       "tensor([[[1, 1, 1],\n",
       "         [2, 2, 2]],\n",
       "\n",
       "        [[1, 1, 1],\n",
       "         [2, 2, 2]]])"
      ]
     },
     "execution_count": 456,
     "metadata": {},
     "output_type": "execute_result"
    }
   ],
   "source": [
    "x"
   ]
  },
  {
   "cell_type": "code",
   "execution_count": 457,
   "id": "advised-stable",
   "metadata": {},
   "outputs": [
    {
     "data": {
      "text/plain": [
       "torch.Size([2, 2, 3])"
      ]
     },
     "execution_count": 457,
     "metadata": {},
     "output_type": "execute_result"
    }
   ],
   "source": [
    "x.shape"
   ]
  },
  {
   "cell_type": "code",
   "execution_count": null,
   "id": "following-leadership",
   "metadata": {},
   "outputs": [],
   "source": []
  },
  {
   "cell_type": "code",
   "execution_count": 120,
   "id": "tired-abraham",
   "metadata": {},
   "outputs": [
    {
     "data": {
      "text/plain": [
       "torch.Size([3, 100, 20])"
      ]
     },
     "execution_count": 120,
     "metadata": {},
     "output_type": "execute_result"
    }
   ],
   "source": [
    "conds[:,:,0:20].shape"
   ]
  },
  {
   "cell_type": "code",
   "execution_count": 104,
   "id": "temporal-manchester",
   "metadata": {},
   "outputs": [],
   "source": [
    "T.save(net,save_path)"
   ]
  },
  {
   "cell_type": "code",
   "execution_count": 123,
   "id": "figured-heather",
   "metadata": {},
   "outputs": [
    {
     "name": "stdout",
     "output_type": "stream",
     "text": [
      "Val Loss: 3.105190, GTP: 7133.000000, GTN: 28867.000000, TP: 3064.000000, TN: 19311.000000, FN: 4069.000000, FP: 9556.000000, AUC: 0.585351, APR: 0.282545, APR_BASE: 0.198139 \n",
      "==========================================\n"
     ]
    }
   ],
   "source": [
    "val_loss=[]\n",
    "val_tpr=[]\n",
    "val_npr=[]\n",
    "val_pos=[]\n",
    "val_neg=[]\n",
    "val_auc=[]\n",
    "val_apr=[]\n",
    "val_base=[]\n",
    "val_fn=[]\n",
    "val_fp=[]\n",
    "val_prob=[]\n",
    "val_labels=[]\n",
    "net.eval()\n",
    "for key, value in utils.get_batches().items():\n",
    "    if key in val_batch:\n",
    "        conds,cond_lengths,procs,proc_lengths,meds,med_lengths,labels=utils.get_batch_data(value)\n",
    "        #print(labels)\n",
    "        conds=torch.tensor(conds)\n",
    "        conds=conds.type(torch.LongTensor)\n",
    "        #print(conds.shape)\n",
    "\n",
    "        procs=torch.tensor(procs)\n",
    "        #print(procs.shape)\n",
    "        procs=procs.type(torch.LongTensor)\n",
    "        meds=torch.tensor(meds)\n",
    "        #print(meds.shape)\n",
    "        meds=meds.type(torch.LongTensor)\n",
    "\n",
    "        labels=torch.tensor(labels)\n",
    "        labels=labels.type(torch.FloatTensor)\n",
    "        #conds=conds.unsqueeze(2)\n",
    "        #print(\"input\",conds.shape)\n",
    "        #print(bmi.shape)\n",
    "        # get the output sequence from the input and the initial hidden and cell states\n",
    "        # get the output sequence from the input and the initial hidden and cell states\n",
    "        if(conds.shape[0]==args.batch_size):\n",
    "            output = net(conds,cond_lengths,procs,proc_lengths,meds,med_lengths,contrib=False)\n",
    "            output=output.squeeze()\n",
    "            #print(\"output\",output.shape)\n",
    "            #print(\"labels\",len(labels))\n",
    "            out_loss=loss(output,labels)\n",
    "            val_loss.append(out_loss[0].item())\n",
    "            val_tpr.append(out_loss[1])\n",
    "            val_npr.append(out_loss[3])\n",
    "            val_pos.append(out_loss[2])\n",
    "            val_neg.append(out_loss[4])\n",
    "            val_auc.append(out_loss[5])\n",
    "            val_apr.append(out_loss[6])\n",
    "            val_base.append(out_loss[7])\n",
    "            val_fn.append(out_loss[10])\n",
    "            val_fp.append(out_loss[11])\n",
    "            val_prob.extend(out_loss[12])\n",
    "            val_labels.extend(out_loss[13])\n",
    "val_loss=np.asarray(val_loss)    \n",
    "val_tpr=np.asarray(val_tpr) \n",
    "val_npr=np.asarray(val_npr) \n",
    "val_pos=np.asarray(val_pos) \n",
    "val_fn=np.asarray(val_fn) \n",
    "val_fp=np.asarray(val_fp) \n",
    "val_neg=np.asarray(val_neg) \n",
    "val_auc=np.asarray(val_auc)    \n",
    "val_apr=np.asarray(val_apr) \n",
    "val_base=np.asarray(val_base)\n",
    "val_prob=np.asarray(val_prob) \n",
    "val_labels=np.asarray(val_labels)\n",
    "print(\"Val Loss: {:.6f}, GTP: {:.6f}, GTN: {:.6f}, TP: {:.6f}, TN: {:.6f}, FN: {:.6f}, FP: {:.6f}, AUC: {:.6f}, APR: {:.6f}, APR_BASE: {:.6f} \".format(val_loss.sum()/val_loss.shape[0], np.nansum(val_pos), np.nansum(val_neg), np.nansum(val_tpr), np.nansum(val_npr), np.nansum(val_fn), np.nansum(val_fp), np.nanmean(val_auc), np.nanmean(val_apr), val_base.sum()/val_base.shape[0]))\n",
    "print(\"==========================================\")"
   ]
  },
  {
   "cell_type": "code",
   "execution_count": 124,
   "id": "metric-reputation",
   "metadata": {},
   "outputs": [
    {
     "data": {
      "text/plain": [
       "(36000,)"
      ]
     },
     "execution_count": 124,
     "metadata": {},
     "output_type": "execute_result"
    }
   ],
   "source": [
    "val_prob.shape"
   ]
  },
  {
   "cell_type": "code",
   "execution_count": 125,
   "id": "transsexual-exclusion",
   "metadata": {},
   "outputs": [
    {
     "data": {
      "text/plain": [
       "36000"
      ]
     },
     "execution_count": 125,
     "metadata": {},
     "output_type": "execute_result"
    }
   ],
   "source": [
    "len(val_labels)"
   ]
  },
  {
   "cell_type": "code",
   "execution_count": 126,
   "id": "sharp-hobby",
   "metadata": {},
   "outputs": [
    {
     "data": {
      "image/png": "[encoded data removed]",
      "text/plain": [
       "<Figure size 576x432 with 1 Axes>"
      ]
     },
     "metadata": {
      "needs_background": "light"
     },
     "output_type": "display_data"
    }
   ],
   "source": [
    "from sklearn import metrics\n",
    "\n",
    "\n",
    "plt.figure(figsize=(8,6))\n",
    "plt.plot([0, 1], [0, 1],'r--')\n",
    "\n",
    "pred = val_prob\n",
    "label = val_labels\n",
    "fpr, tpr, thresh = metrics.roc_curve(label, pred)\n",
    "auc = metrics.roc_auc_score(label, pred)\n",
    "plt.plot(fpr, tpr, label=f'Logistic regression, auc = {str(round(auc,3))}')\n",
    "\n",
    "\n",
    "plt.ylabel(\"True Positive Rate\")\n",
    "plt.xlabel(\"False Positive Rate\")\n",
    "plt.title(\"AUC-ROC for two models\")\n",
    "plt.legend()\n",
    "plt.show()"
   ]
  },
  {
   "cell_type": "code",
   "execution_count": 129,
   "id": "exact-kingdom",
   "metadata": {},
   "outputs": [],
   "source": [
    "from sklearn.calibration import calibration_curve\n",
    "\n",
    "\n",
    "def plot_calibration_curve(name, fig_index, probs,y_test):\n",
    "    \"\"\"Plot calibration curve for est w/o and with calibration. \"\"\"\n",
    "\n",
    "    fig = plt.figure(fig_index, figsize=(10, 10))\n",
    "    ax1 = plt.subplot2grid((3, 1), (0, 0), rowspan=2)\n",
    "    ax2 = plt.subplot2grid((3, 1), (2, 0))\n",
    "    \n",
    "    ax1.plot([0, 1], [0, 1], \"k:\", label=\"Perfectly calibrated\")\n",
    "    \n",
    "    frac_of_pos, mean_pred_value = calibration_curve(y_test, probs, n_bins=10)\n",
    "\n",
    "    ax1.plot(mean_pred_value, frac_of_pos, \"s-\", label=f'{name}')\n",
    "    ax1.set_ylabel(\"Fraction of positives\")\n",
    "    ax1.set_ylim([-0.05, 1.05])\n",
    "    ax1.legend(loc=\"lower right\")\n",
    "    ax1.set_title(f'Calibration plot ({name})')\n",
    "    \n",
    "    ax2.hist(probs, range=(0, 1), bins=10, label=name, histtype=\"step\", lw=2)\n",
    "    ax2.set_xlabel(\"Mean predicted value\")\n",
    "    ax2.set_ylabel(\"Count\")"
   ]
  },
  {
   "cell_type": "code",
   "execution_count": 321,
   "id": "downtown-teacher",
   "metadata": {},
   "outputs": [
    {
     "data": {
      "image/png": "[encoded data removed]",
      "text/plain": [
       "<Figure size 720x720 with 2 Axes>"
      ]
     },
     "metadata": {
      "needs_background": "light"
     },
     "output_type": "display_data"
    }
   ],
   "source": [
    "plot_calibration_curve(\"Logistic regression\", 1, prob,val_labels.to('cpu'))"
   ]
  },
  {
   "cell_type": "code",
   "execution_count": 320,
   "id": "proved-marble",
   "metadata": {},
   "outputs": [
    {
     "data": {
      "text/plain": [
       "tensor([1., 1., 0.,  ..., 0., 0., 0.], device='cuda:0')"
      ]
     },
     "execution_count": 320,
     "metadata": {},
     "output_type": "execute_result"
    }
   ],
   "source": [
    "val_labels"
   ]
  },
  {
   "cell_type": "code",
   "execution_count": 135,
   "id": "discrete-surfing",
   "metadata": {},
   "outputs": [],
   "source": [
    "def calc_bins(preds,labels):\n",
    "      # Assign each prediction to a bin\n",
    "      num_bins = 10\n",
    "      bins = np.linspace(0.1, 1, num_bins)\n",
    "      binned = np.digitize(preds, bins)\n",
    "\n",
    "      # Save the accuracy, confidence and size of each bin\n",
    "      bin_accs = np.zeros(num_bins)\n",
    "      bin_confs = np.zeros(num_bins)\n",
    "      bin_sizes = np.zeros(num_bins)\n",
    "\n",
    "      for bin in range(num_bins):\n",
    "        bin_sizes[bin] = len(preds[binned == bin])\n",
    "        if bin_sizes[bin] > 0:\n",
    "          bin_accs[bin] = (labels[binned==bin]).sum() / bin_sizes[bin]\n",
    "          bin_confs[bin] = (preds[binned==bin]).sum() / bin_sizes[bin]\n",
    "\n",
    "      return bins, binned, bin_accs, bin_confs, bin_sizes"
   ]
  },
  {
   "cell_type": "code",
   "execution_count": 136,
   "id": "cross-discussion",
   "metadata": {},
   "outputs": [],
   "source": [
    "def get_metrics(preds,labels):\n",
    "  ECE = 0\n",
    "  MCE = 0\n",
    "  bins, _, bin_accs, bin_confs, bin_sizes = calc_bins(preds,labels)\n",
    "\n",
    "  for i in range(len(bins)):\n",
    "    abs_conf_dif = abs(bin_accs[i] - bin_confs[i])\n",
    "    ECE += (bin_sizes[i] / sum(bin_sizes)) * abs_conf_dif\n",
    "    MCE = max(MCE, abs_conf_dif)\n",
    "\n",
    "  return ECE, MCE"
   ]
  },
  {
   "cell_type": "code",
   "execution_count": 314,
   "id": "threatened-omaha",
   "metadata": {},
   "outputs": [],
   "source": [
    "ECE, MCE = get_metrics(prob,val_labels)"
   ]
  },
  {
   "cell_type": "code",
   "execution_count": 315,
   "id": "developed-better",
   "metadata": {},
   "outputs": [
    {
     "data": {
      "text/plain": [
       "0.21321612615076208"
      ]
     },
     "execution_count": 315,
     "metadata": {},
     "output_type": "execute_result"
    }
   ],
   "source": [
    "ECE"
   ]
  },
  {
   "cell_type": "code",
   "execution_count": 316,
   "id": "worst-restriction",
   "metadata": {},
   "outputs": [
    {
     "data": {
      "text/plain": [
       "0.4395855271126613"
      ]
     },
     "execution_count": 316,
     "metadata": {},
     "output_type": "execute_result"
    }
   ],
   "source": [
    "MCE"
   ]
  },
  {
   "cell_type": "code",
   "execution_count": 317,
   "id": "sought-wiring",
   "metadata": {},
   "outputs": [],
   "source": [
    "bins, _, bin_accs, _, _ = calc_bins(prob,val_labels)"
   ]
  },
  {
   "cell_type": "code",
   "execution_count": 306,
   "id": "adopted-innocent",
   "metadata": {},
   "outputs": [
    {
     "ename": "RuntimeError",
     "evalue": "Can't call numpy() on Variable that requires grad. Use var.detach().numpy() instead.",
     "output_type": "error",
     "traceback": [
      "\u001b[1;31m---------------------------------------------------------------------------\u001b[0m",
      "\u001b[1;31mRuntimeError\u001b[0m                              Traceback (most recent call last)",
      "\u001b[1;32m<ipython-input-306-c05a9f5d33ce>\u001b[0m in \u001b[0;36m<module>\u001b[1;34m\u001b[0m\n\u001b[1;32m----> 1\u001b[1;33m \u001b[0mprob\u001b[0m\u001b[1;33m=\u001b[0m\u001b[0mnp\u001b[0m\u001b[1;33m.\u001b[0m\u001b[0masarray\u001b[0m\u001b[1;33m(\u001b[0m\u001b[0mprob\u001b[0m\u001b[1;33m.\u001b[0m\u001b[0mto\u001b[0m\u001b[1;33m(\u001b[0m\u001b[1;34m'cpu'\u001b[0m\u001b[1;33m)\u001b[0m\u001b[1;33m)\u001b[0m\u001b[1;33m\u001b[0m\u001b[1;33m\u001b[0m\u001b[0m\n\u001b[0m",
      "\u001b[1;32m~\\Anaconda3\\envs\\DSRA\\lib\\site-packages\\numpy\\core\\_asarray.py\u001b[0m in \u001b[0;36masarray\u001b[1;34m(a, dtype, order)\u001b[0m\n\u001b[0;32m     83\u001b[0m \u001b[1;33m\u001b[0m\u001b[0m\n\u001b[0;32m     84\u001b[0m     \"\"\"\n\u001b[1;32m---> 85\u001b[1;33m     \u001b[1;32mreturn\u001b[0m \u001b[0marray\u001b[0m\u001b[1;33m(\u001b[0m\u001b[0ma\u001b[0m\u001b[1;33m,\u001b[0m \u001b[0mdtype\u001b[0m\u001b[1;33m,\u001b[0m \u001b[0mcopy\u001b[0m\u001b[1;33m=\u001b[0m\u001b[1;32mFalse\u001b[0m\u001b[1;33m,\u001b[0m \u001b[0morder\u001b[0m\u001b[1;33m=\u001b[0m\u001b[0morder\u001b[0m\u001b[1;33m)\u001b[0m\u001b[1;33m\u001b[0m\u001b[1;33m\u001b[0m\u001b[0m\n\u001b[0m\u001b[0;32m     86\u001b[0m \u001b[1;33m\u001b[0m\u001b[0m\n\u001b[0;32m     87\u001b[0m \u001b[1;33m\u001b[0m\u001b[0m\n",
      "\u001b[1;32m~\\Anaconda3\\envs\\DSRA\\lib\\site-packages\\torch\\tensor.py\u001b[0m in \u001b[0;36m__array__\u001b[1;34m(self, dtype)\u001b[0m\n\u001b[0;32m    410\u001b[0m     \u001b[1;32mdef\u001b[0m \u001b[0m__array__\u001b[0m\u001b[1;33m(\u001b[0m\u001b[0mself\u001b[0m\u001b[1;33m,\u001b[0m \u001b[0mdtype\u001b[0m\u001b[1;33m=\u001b[0m\u001b[1;32mNone\u001b[0m\u001b[1;33m)\u001b[0m\u001b[1;33m:\u001b[0m\u001b[1;33m\u001b[0m\u001b[1;33m\u001b[0m\u001b[0m\n\u001b[0;32m    411\u001b[0m         \u001b[1;32mif\u001b[0m \u001b[0mdtype\u001b[0m \u001b[1;32mis\u001b[0m \u001b[1;32mNone\u001b[0m\u001b[1;33m:\u001b[0m\u001b[1;33m\u001b[0m\u001b[1;33m\u001b[0m\u001b[0m\n\u001b[1;32m--> 412\u001b[1;33m             \u001b[1;32mreturn\u001b[0m \u001b[0mself\u001b[0m\u001b[1;33m.\u001b[0m\u001b[0mnumpy\u001b[0m\u001b[1;33m(\u001b[0m\u001b[1;33m)\u001b[0m\u001b[1;33m\u001b[0m\u001b[1;33m\u001b[0m\u001b[0m\n\u001b[0m\u001b[0;32m    413\u001b[0m         \u001b[1;32melse\u001b[0m\u001b[1;33m:\u001b[0m\u001b[1;33m\u001b[0m\u001b[1;33m\u001b[0m\u001b[0m\n\u001b[0;32m    414\u001b[0m             \u001b[1;32mreturn\u001b[0m \u001b[0mself\u001b[0m\u001b[1;33m.\u001b[0m\u001b[0mnumpy\u001b[0m\u001b[1;33m(\u001b[0m\u001b[1;33m)\u001b[0m\u001b[1;33m.\u001b[0m\u001b[0mastype\u001b[0m\u001b[1;33m(\u001b[0m\u001b[0mdtype\u001b[0m\u001b[1;33m,\u001b[0m \u001b[0mcopy\u001b[0m\u001b[1;33m=\u001b[0m\u001b[1;32mFalse\u001b[0m\u001b[1;33m)\u001b[0m\u001b[1;33m\u001b[0m\u001b[1;33m\u001b[0m\u001b[0m\n",
      "\u001b[1;31mRuntimeError\u001b[0m: Can't call numpy() on Variable that requires grad. Use var.detach().numpy() instead."
     ]
    }
   ],
   "source": [
    "prob=np.asarray(prob.to('cpu')) "
   ]
  },
  {
   "cell_type": "code",
   "execution_count": 313,
   "id": "included-seeking",
   "metadata": {},
   "outputs": [],
   "source": [
    "prob=prob.detach().to('cpu').numpy()"
   ]
  },
  {
   "cell_type": "code",
   "execution_count": 318,
   "id": "automatic-relative",
   "metadata": {
    "scrolled": true
   },
   "outputs": [
    {
     "data": {
      "image/png": "[encoded data removed]",
      "text/plain": [
       "<Figure size 576x576 with 1 Axes>"
      ]
     },
     "metadata": {
      "needs_background": "light"
     },
     "output_type": "display_data"
    }
   ],
   "source": [
    "import matplotlib.patches as mpatches\n",
    "\n",
    "fig = plt.figure(figsize=(8, 8))\n",
    "ax = fig.gca()\n",
    "\n",
    "# x/y limits\n",
    "ax.set_xlim(0, 1.05)\n",
    "ax.set_ylim(0, 1)\n",
    "\n",
    "# x/y labels\n",
    "plt.xlabel('Confidence')\n",
    "plt.ylabel('Accuracy')\n",
    "\n",
    "# Create grid\n",
    "ax.set_axisbelow(True) \n",
    "ax.grid(color='gray', linestyle='dashed')\n",
    "\n",
    "# Error bars\n",
    "plt.bar(bins, bins,  width=0.1, alpha=0.3, edgecolor='black', color='r', hatch='\\\\')\n",
    "\n",
    "# Draw bars and identity line\n",
    "plt.bar(bins, bin_accs, width=0.1, alpha=1, edgecolor='black', color='b')\n",
    "plt.plot([0,1],[0,1], '--', color='gray', linewidth=2)\n",
    "\n",
    "# Equally spaced axes\n",
    "plt.gca().set_aspect('equal', adjustable='box')\n",
    "\n",
    "# ECE and MCE legend\n",
    "ECE_patch = mpatches.Patch(color='green', label='ECE = {:.2f}%'.format(ECE*100))\n",
    "MCE_patch = mpatches.Patch(color='red', label='MCE = {:.2f}%'.format(MCE*100))\n",
    "plt.legend(handles=[ECE_patch, MCE_patch])\n",
    "\n",
    "plt.show()"
   ]
  },
  {
   "cell_type": "code",
   "execution_count": null,
   "id": "accessible-president",
   "metadata": {},
   "outputs": [],
   "source": []
  },
  {
   "cell_type": "code",
   "execution_count": 174,
   "id": "caroline-occasions",
   "metadata": {},
   "outputs": [
    {
     "name": "stdout",
     "output_type": "stream",
     "text": [
      "Val Loss: 3.105190, GTP: 7133.000000, GTN: 28867.000000, TP: 3064.000000, TN: 19311.000000, FN: 4069.000000, FP: 9556.000000, AUC: 0.585351, APR: 0.282545, APR_BASE: 0.198139 \n",
      "==========================================\n"
     ]
    }
   ],
   "source": [
    "val_loss=[]\n",
    "val_tpr=[]\n",
    "val_npr=[]\n",
    "val_pos=[]\n",
    "val_neg=[]\n",
    "val_auc=[]\n",
    "val_apr=[]\n",
    "val_base=[]\n",
    "val_fn=[]\n",
    "val_fp=[]\n",
    "val_prob=[]\n",
    "val_labels=[]\n",
    "val_logits=[]\n",
    "net.eval()\n",
    "for key, value in utils.get_batches().items():\n",
    "    if key in val_batch:\n",
    "        conds,cond_lengths,procs,proc_lengths,meds,med_lengths,labels=utils.get_batch_data(value)\n",
    "        #print(labels)\n",
    "        conds=torch.tensor(conds)\n",
    "        conds=conds.type(torch.LongTensor)\n",
    "        #print(conds.shape)\n",
    "\n",
    "        procs=torch.tensor(procs)\n",
    "        #print(procs.shape)\n",
    "        procs=procs.type(torch.LongTensor)\n",
    "        meds=torch.tensor(meds)\n",
    "        #print(meds.shape)\n",
    "        meds=meds.type(torch.LongTensor)\n",
    "\n",
    "        labels=torch.tensor(labels)\n",
    "        labels=labels.type(torch.FloatTensor)\n",
    "        #conds=conds.unsqueeze(2)\n",
    "        #print(\"input\",conds.shape)\n",
    "        #print(bmi.shape)\n",
    "        # get the output sequence from the input and the initial hidden and cell states\n",
    "        # get the output sequence from the input and the initial hidden and cell states\n",
    "        if(conds.shape[0]==args.batch_size):\n",
    "            output,logits_out = net(conds,cond_lengths,procs,proc_lengths,meds,med_lengths,contrib=False)\n",
    "            output=output.squeeze()\n",
    "            logits_out=logits_out.squeeze()\n",
    "            #print(\"output\",output.shape)\n",
    "            #print(\"logits_out\",logits_out.shape)\n",
    "            out_loss=loss(output,labels)\n",
    "            val_loss.append(out_loss[0].item())\n",
    "            val_tpr.append(out_loss[1])\n",
    "            val_npr.append(out_loss[3])\n",
    "            val_pos.append(out_loss[2])\n",
    "            val_neg.append(out_loss[4])\n",
    "            val_auc.append(out_loss[5])\n",
    "            val_apr.append(out_loss[6])\n",
    "            val_base.append(out_loss[7])\n",
    "            val_fn.append(out_loss[10])\n",
    "            val_fp.append(out_loss[11])\n",
    "            val_prob.extend(out_loss[12])\n",
    "            val_labels.extend(out_loss[13])\n",
    "            for l in range(len(logits_out)):\n",
    "                #print(logits_out[l].item())\n",
    "                val_logits.append(logits_out[l].item())\n",
    "            #print(val_logits)\n",
    "val_loss=np.asarray(val_loss)    \n",
    "val_tpr=np.asarray(val_tpr) \n",
    "val_npr=np.asarray(val_npr) \n",
    "val_pos=np.asarray(val_pos) \n",
    "val_fn=np.asarray(val_fn) \n",
    "val_fp=np.asarray(val_fp) \n",
    "val_neg=np.asarray(val_neg) \n",
    "val_auc=np.asarray(val_auc)    \n",
    "val_apr=np.asarray(val_apr) \n",
    "val_base=np.asarray(val_base)\n",
    "val_prob=np.asarray(val_prob) \n",
    "val_labels=np.asarray(val_labels)\n",
    "#val_logits=np.asarray(val_logits)\n",
    "print(\"Val Loss: {:.6f}, GTP: {:.6f}, GTN: {:.6f}, TP: {:.6f}, TN: {:.6f}, FN: {:.6f}, FP: {:.6f}, AUC: {:.6f}, APR: {:.6f}, APR_BASE: {:.6f} \".format(val_loss.sum()/val_loss.shape[0], np.nansum(val_pos), np.nansum(val_neg), np.nansum(val_tpr), np.nansum(val_npr), np.nansum(val_fn), np.nansum(val_fp), np.nanmean(val_auc), np.nanmean(val_apr), val_base.sum()/val_base.shape[0]))\n",
    "print(\"==========================================\")"
   ]
  },
  {
   "cell_type": "code",
   "execution_count": 187,
   "id": "corrected-joshua",
   "metadata": {},
   "outputs": [],
   "source": [
    "val_logits=np.asarray(val_logits)"
   ]
  },
  {
   "cell_type": "code",
   "execution_count": 178,
   "id": "defined-carol",
   "metadata": {},
   "outputs": [
    {
     "data": {
      "text/plain": [
       "array([  0.06273859,  -4.69394302,   2.57116461, ...,  -6.84614801,\n",
       "       -10.5738306 ,   0.01676848])"
      ]
     },
     "execution_count": 178,
     "metadata": {},
     "output_type": "execute_result"
    }
   ],
   "source": [
    "val_logits"
   ]
  },
  {
   "cell_type": "code",
   "execution_count": 190,
   "id": "beneficial-stamp",
   "metadata": {},
   "outputs": [
    {
     "ename": "TypeError",
     "evalue": "expected np.ndarray (got Tensor)",
     "output_type": "error",
     "traceback": [
      "\u001b[1;31m---------------------------------------------------------------------------\u001b[0m",
      "\u001b[1;31mTypeError\u001b[0m                                 Traceback (most recent call last)",
      "\u001b[1;32m<ipython-input-190-2cf5ce5f9a22>\u001b[0m in \u001b[0;36m<module>\u001b[1;34m\u001b[0m\n\u001b[0;32m      1\u001b[0m \u001b[0mval_logits\u001b[0m\u001b[1;33m=\u001b[0m\u001b[0mtorch\u001b[0m\u001b[1;33m.\u001b[0m\u001b[0mfrom_numpy\u001b[0m\u001b[1;33m(\u001b[0m\u001b[0mval_logits\u001b[0m\u001b[1;33m)\u001b[0m\u001b[1;33m\u001b[0m\u001b[1;33m\u001b[0m\u001b[0m\n\u001b[1;32m----> 2\u001b[1;33m \u001b[0mval_labels\u001b[0m\u001b[1;33m=\u001b[0m\u001b[0mtorch\u001b[0m\u001b[1;33m.\u001b[0m\u001b[0mfrom_numpy\u001b[0m\u001b[1;33m(\u001b[0m\u001b[0mval_labels\u001b[0m\u001b[1;33m)\u001b[0m\u001b[1;33m\u001b[0m\u001b[1;33m\u001b[0m\u001b[0m\n\u001b[0m",
      "\u001b[1;31mTypeError\u001b[0m: expected np.ndarray (got Tensor)"
     ]
    }
   ],
   "source": [
    "val_logits=torch.from_numpy(val_logits)\n",
    "val_labels=torch.from_numpy(val_labels)"
   ]
  },
  {
   "cell_type": "code",
   "execution_count": 193,
   "id": "advisory-picnic",
   "metadata": {},
   "outputs": [],
   "source": [
    "val_logits=val_logits.type(torch.FloatTensor)\n",
    "val_labels=val_labels.type(torch.FloatTensor)"
   ]
  },
  {
   "cell_type": "code",
   "execution_count": 230,
   "id": "constitutional-handbook",
   "metadata": {},
   "outputs": [],
   "source": [
    "val_logits=val_logits.to('cuda:0')\n",
    "val_labels=val_labels.to('cuda:0')"
   ]
  },
  {
   "cell_type": "code",
   "execution_count": 231,
   "id": "million-reputation",
   "metadata": {},
   "outputs": [
    {
     "data": {
      "text/plain": [
       "torch.Size([36000])"
      ]
     },
     "execution_count": 231,
     "metadata": {},
     "output_type": "execute_result"
    }
   ],
   "source": [
    "val_logits.shape"
   ]
  },
  {
   "cell_type": "code",
   "execution_count": 232,
   "id": "sunrise-hebrew",
   "metadata": {},
   "outputs": [
    {
     "data": {
      "text/plain": [
       "torch.Size([36000])"
      ]
     },
     "execution_count": 232,
     "metadata": {},
     "output_type": "execute_result"
    }
   ],
   "source": [
    "val_labels.shape"
   ]
  },
  {
   "cell_type": "code",
   "execution_count": 243,
   "id": "restricted-denmark",
   "metadata": {},
   "outputs": [],
   "source": [
    "temperature = nn.Parameter(torch.ones(1).cuda())\n",
    "#temperature=temperature.to('cuda:0')\n",
    "args = {'temperature': temperature}\n",
    "optimizer = optim.LBFGS([temperature], lr=0.001, max_iter=10000, line_search_fn='strong_wolfe')"
   ]
  },
  {
   "cell_type": "code",
   "execution_count": 262,
   "id": "accessible-findings",
   "metadata": {},
   "outputs": [],
   "source": [
    "def T_scaling(logits, args):\n",
    "    temperature = args#.get('temperature', None)\n",
    "    return torch.div(logits, temperature)"
   ]
  },
  {
   "cell_type": "code",
   "execution_count": 255,
   "id": "downtown-plane",
   "metadata": {},
   "outputs": [],
   "source": [
    "temps = []\n",
    "losses = []\n",
    "def _eval():\n",
    "    loss = criterion(T_scaling(val_logits, args), val_labels)\n",
    "    #print(loss)\n",
    "    loss.backward()\n",
    "    temps.append(temperature.item())\n",
    "    losses.append(loss.item())\n",
    "    return loss"
   ]
  },
  {
   "cell_type": "code",
   "execution_count": 256,
   "id": "individual-pittsburgh",
   "metadata": {},
   "outputs": [],
   "source": [
    "criterion = nn.BCEWithLogitsLoss()"
   ]
  },
  {
   "cell_type": "code",
   "execution_count": 257,
   "id": "innocent-summary",
   "metadata": {},
   "outputs": [
    {
     "data": {
      "text/plain": [
       "tensor(0.6144, device='cuda:0', grad_fn=<BinaryCrossEntropyWithLogitsBackward>)"
      ]
     },
     "execution_count": 257,
     "metadata": {},
     "output_type": "execute_result"
    }
   ],
   "source": [
    "optimizer.step(_eval)"
   ]
  },
  {
   "cell_type": "code",
   "execution_count": 260,
   "id": "cordless-hughes",
   "metadata": {},
   "outputs": [
    {
     "name": "stdout",
     "output_type": "stream",
     "text": [
      "Parameter containing:\n",
      "tensor([5.0046], device='cuda:0', requires_grad=True)\n"
     ]
    }
   ],
   "source": [
    "print(temperature)"
   ]
  },
  {
   "cell_type": "code",
   "execution_count": 305,
   "id": "sonic-creativity",
   "metadata": {},
   "outputs": [
    {
     "name": "stdout",
     "output_type": "stream",
     "text": [
      "tensor([0.5000, 0.3102, 0.5986,  ..., 0.2317, 0.1194, 0.5000], device='cuda:0',\n",
      "       grad_fn=<SigmoidBackward>)\n"
     ]
    }
   ],
   "source": [
    "pred=T_scaling(val_logits, temperature)\n",
    "sm = nn.Sigmoid()\n",
    "prob=sm(pred)\n",
    "print(prob)\n",
    "out_loss=loss(prob,val_labels)"
   ]
  },
  {
   "cell_type": "code",
   "execution_count": 295,
   "id": "blind-threat",
   "metadata": {},
   "outputs": [
    {
     "name": "stdout",
     "output_type": "stream",
     "text": [
      "Val Loss: 1.446206, GTP: 7133.000000, GTN: 28867.000000, TP: 4434.000000, TN: 14121.000000, FN: 2699.000000, FP: 14746.000000, AUC: 0.583462, APR: 0.275757, APR_BASE: 0.198139 \n",
      "==========================================\n"
     ]
    }
   ],
   "source": [
    "print(\"Val Loss: {:.6f}, GTP: {:.6f}, GTN: {:.6f}, TP: {:.6f}, TN: {:.6f}, FN: {:.6f}, FP: {:.6f}, AUC: {:.6f}, APR: {:.6f}, APR_BASE: {:.6f} \".format(out_loss[0].item(), out_loss[2], out_loss[4], out_loss[1], out_loss[3], out_loss[10], out_loss[11], out_loss[5], out_loss[6], out_loss[7]))\n",
    "print(\"==========================================\")"
   ]
  },
  {
   "cell_type": "code",
   "execution_count": 297,
   "id": "closed-technique",
   "metadata": {},
   "outputs": [],
   "source": [
    "out_loss=loss(prob,val_labels)"
   ]
  },
  {
   "cell_type": "code",
   "execution_count": 298,
   "id": "exciting-listing",
   "metadata": {},
   "outputs": [
    {
     "name": "stdout",
     "output_type": "stream",
     "text": [
      "Val Loss: 2.904069, GTP: 7133.000000, GTN: 28867.000000, TP: 4434.000000, TN: 14121.000000, FN: 2699.000000, FP: 14746.000000, AUC: 0.583462, APR: 0.275757, APR_BASE: 0.198139 \n",
      "==========================================\n"
     ]
    }
   ],
   "source": [
    "print(\"Val Loss: {:.6f}, GTP: {:.6f}, GTN: {:.6f}, TP: {:.6f}, TN: {:.6f}, FN: {:.6f}, FP: {:.6f}, AUC: {:.6f}, APR: {:.6f}, APR_BASE: {:.6f} \".format(out_loss[0].item(), out_loss[2], out_loss[4], out_loss[1], out_loss[3], out_loss[10], out_loss[11], out_loss[5], out_loss[6], out_loss[7]))\n",
    "print(\"==========================================\")"
   ]
  },
  {
   "cell_type": "code",
   "execution_count": null,
   "id": "engaged-understanding",
   "metadata": {},
   "outputs": [],
   "source": []
  },
  {
   "cell_type": "code",
   "execution_count": null,
   "id": "several-michigan",
   "metadata": {},
   "outputs": [],
   "source": []
  },
  {
   "cell_type": "code",
   "execution_count": null,
   "id": "painful-disabled",
   "metadata": {},
   "outputs": [],
   "source": []
  },
  {
   "cell_type": "code",
   "execution_count": null,
   "id": "understood-trouble",
   "metadata": {},
   "outputs": [],
   "source": [
    "Epoch: 11, Val Loss: 1.398668, GTP: 658.000000, GTN: 3342.000000, TP: 336.000000, TN: 1792.000000, FN: 322.000000, FP: 1550.000000, AUC: 0.533521, APR: 0.192312, APR_BASE: 0.164500 "
   ]
  },
  {
   "cell_type": "code",
   "execution_count": null,
   "id": "loose-giant",
   "metadata": {},
   "outputs": [],
   "source": [
    "#T.save(net.state_dict(),save_path)"
   ]
  },
  {
   "cell_type": "code",
   "execution_count": 25,
   "id": "treated-distributor",
   "metadata": {},
   "outputs": [
    {
     "data": {
      "text/plain": [
       "<All keys matched successfully>"
      ]
     },
     "execution_count": 25,
     "metadata": {},
     "output_type": "execute_result"
    }
   ],
   "source": [
    "net.load_state_dict(torch.load(save_path))"
   ]
  },
  {
   "cell_type": "code",
   "execution_count": 152,
   "id": "answering-metallic",
   "metadata": {},
   "outputs": [],
   "source": [
    "net=torch.load(save_path)"
   ]
  },
  {
   "cell_type": "code",
   "execution_count": 189,
   "id": "framed-cotton",
   "metadata": {},
   "outputs": [
    {
     "data": {
      "text/plain": [
       "LSTMMax(\n",
       "  (cond): CodeLSTM(\n",
       "    (codeEmbed): Embedding(607, 256, padding_idx=0)\n",
       "    (codeRnn): LSTM(512, 256, batch_first=True)\n",
       "    (code_max): AdaptiveMaxPool1d(output_size=1)\n",
       "    (code_fc): Linear(in_features=256, out_features=1, bias=False)\n",
       "    (code_drop): Dropout(p=0.2, inplace=False)\n",
       "    (timeEmbed): Embedding(26, 256)\n",
       "  )\n",
       "  (med): CodeLSTM(\n",
       "    (codeEmbed): Embedding(340, 256, padding_idx=0)\n",
       "    (codeRnn): LSTM(512, 256, batch_first=True)\n",
       "    (code_max): AdaptiveMaxPool1d(output_size=1)\n",
       "    (code_fc): Linear(in_features=256, out_features=1, bias=False)\n",
       "    (code_drop): Dropout(p=0.2, inplace=False)\n",
       "    (timeEmbed): Embedding(26, 256)\n",
       "  )\n",
       "  (bmi): CodeLSTM(\n",
       "    (codeRnn): LSTM(257, 256, batch_first=True)\n",
       "    (code_max): AdaptiveMaxPool1d(output_size=1)\n",
       "    (code_fc): Linear(in_features=256, out_features=1, bias=False)\n",
       "    (code_drop): Dropout(p=0.2, inplace=False)\n",
       "    (timeEmbed): Embedding(26, 256)\n",
       "  )\n",
       "  (censusEmbed): Embedding(74, 256, padding_idx=0)\n",
       "  (census_max): AdaptiveMaxPool1d(output_size=1)\n",
       "  (cond_fc): Linear(in_features=256, out_features=1, bias=False)\n",
       "  (med_fc): Linear(in_features=256, out_features=1, bias=False)\n",
       "  (bmi_fc): Linear(in_features=256, out_features=1, bias=False)\n",
       "  (census_fc): Linear(in_features=256, out_features=1, bias=False)\n",
       "  (sig): Sigmoid()\n",
       ")"
      ]
     },
     "execution_count": 189,
     "metadata": {},
     "output_type": "execute_result"
    }
   ],
   "source": [
    "torch.load(\"saved_models/model4.tar\")"
   ]
  },
  {
   "cell_type": "code",
   "execution_count": 65,
   "id": "moral-wells",
   "metadata": {},
   "outputs": [
    {
     "name": "stdout",
     "output_type": "stream",
     "text": [
      "(52, 74)\n",
      "(52, 74)\n",
      "(52, 74)\n",
      "(52, 74)\n",
      "(52, 74)\n",
      "(52, 74)\n",
      "(52, 74)\n",
      "(52, 74)\n",
      "(52, 74)\n",
      "(52, 74)\n",
      "(52, 74)\n",
      "(52, 74)\n",
      "(52, 74)\n",
      "(52, 74)\n",
      "(52, 74)\n",
      "(52, 74)\n",
      "(52, 74)\n",
      "(52, 74)\n",
      "(52, 74)\n",
      "(52, 74)\n",
      "(52, 74)\n",
      "(52, 74)\n",
      "(52, 74)\n",
      "(52, 74)\n",
      "(52, 74)\n",
      "(52, 74)\n",
      "(52, 74)\n",
      "(52, 74)\n",
      "(52, 74)\n",
      "(52, 74)\n",
      "(52, 74)\n",
      "(52, 74)\n",
      "(52, 74)\n",
      "(52, 74)\n",
      "(52, 74)\n",
      "(52, 74)\n",
      "(52, 74)\n",
      "(52, 74)\n",
      "(52, 74)\n",
      "(52, 74)\n",
      "(52, 74)\n",
      "(52, 74)\n",
      "(52, 74)\n",
      "(52, 74)\n",
      "(52, 74)\n",
      "(52, 74)\n",
      "(52, 74)\n",
      "(52, 74)\n",
      "(52, 74)\n",
      "(52, 74)\n",
      "(52, 74)\n",
      "(52, 74)\n",
      "(52, 74)\n",
      "(52, 74)\n",
      "(52, 74)\n",
      "(52, 74)\n",
      "(52, 74)\n",
      "(52, 74)\n",
      "(52, 74)\n",
      "(52, 74)\n",
      "(52, 74)\n",
      "(52, 74)\n",
      "(52, 74)\n",
      "(52, 74)\n",
      "(52, 74)\n",
      "(52, 74)\n",
      "(52, 74)\n",
      "(52, 74)\n",
      "(52, 74)\n",
      "(52, 74)\n",
      "(52, 74)\n",
      "(52, 74)\n",
      "(52, 74)\n",
      "(52, 74)\n",
      "(52, 74)\n",
      "(52, 74)\n",
      "(52, 74)\n",
      "(52, 74)\n",
      "(52, 74)\n",
      "(52, 74)\n",
      "(52, 74)\n",
      "(52, 74)\n",
      "(52, 74)\n",
      "(52, 74)\n",
      "(52, 74)\n",
      "(52, 74)\n",
      "(52, 74)\n",
      "(52, 74)\n",
      "(52, 74)\n",
      "(52, 74)\n",
      "(52, 74)\n",
      "(52, 74)\n",
      "(52, 74)\n",
      "(52, 74)\n",
      "(52, 74)\n",
      "(52, 74)\n",
      "(52, 74)\n",
      "(52, 74)\n",
      "(52, 74)\n",
      "Val Loss: 0.573258, TPR: 0.757211, NR: 0.640017, AUC: 0.775871, APR: 0.486177, APR_BASE: 0.176185, ACCURACY: 0.551671, PRECISION: 0.261093 \n"
     ]
    }
   ],
   "source": [
    "val_loss=[]\n",
    "val_tpr=[]\n",
    "val_npr=[]\n",
    "val_pos=[]\n",
    "val_neg=[]\n",
    "val_auc=[]\n",
    "val_apr=[]\n",
    "val_base=[]\n",
    "val_fn=[]\n",
    "val_fp=[]\n",
    "val_prob=[]\n",
    "val_labels=[]\n",
    "val_logits=[]\n",
    "net.eval()\n",
    "for key, value in utils.get_batches().items():\n",
    "    if key in val_batch:\n",
    "        conds,cond_lengths,procs,proc_lengths,meds,med_lengths,labels=utils.get_batch_data(value)\n",
    "        #print(labels)\n",
    "        conds=torch.tensor(conds)\n",
    "        conds=conds.type(torch.LongTensor)\n",
    "        #print(conds.shape)\n",
    "\n",
    "        procs=torch.tensor(procs)\n",
    "        #print(procs.shape)\n",
    "        procs=procs.type(torch.LongTensor)\n",
    "        meds=torch.tensor(meds)\n",
    "        #print(meds.shape)\n",
    "        meds=meds.type(torch.LongTensor)\n",
    "\n",
    "        labels=torch.tensor(labels)\n",
    "        labels=labels.type(torch.FloatTensor)\n",
    "        #conds=conds.unsqueeze(2)\n",
    "        #print(\"input\",conds.shape)\n",
    "        #print(bmi.shape)\n",
    "        # get the output sequence from the input and the initial hidden and cell states\n",
    "        # get the output sequence from the input and the initial hidden and cell states\n",
    "        if(conds.shape[0]==args.batch_size):\n",
    "            output,logits_out = net(conds,cond_lengths,procs,proc_lengths,meds,med_lengths,contrib=False)\n",
    "            output=output.squeeze()\n",
    "            logits_out=logits_out.squeeze()\n",
    "            #print(\"output\",output.shape)\n",
    "            #print(\"logits_out\",logits_out.shape)\n",
    "            out_loss=loss(output,labels)\n",
    "            val_loss.append(out_loss[0].item())\n",
    "            val_tpr.append(out_loss[1])\n",
    "            val_npr.append(out_loss[3])\n",
    "            val_pos.append(out_loss[2])\n",
    "            val_neg.append(out_loss[4])\n",
    "            val_auc.append(out_loss[5])\n",
    "            val_apr.append(out_loss[6])\n",
    "            val_base.append(out_loss[7])\n",
    "            val_fn.append(out_loss[10])\n",
    "            val_fp.append(out_loss[11])\n",
    "            val_prob.extend(out_loss[12])\n",
    "            val_labels.extend(out_loss[13])\n",
    "            val_logits.extend(logits_out)\n",
    "val_loss=np.asarray(val_loss)    \n",
    "val_tpr=np.asarray(val_tpr) \n",
    "val_npr=np.asarray(val_npr) \n",
    "val_pos=np.asarray(val_pos) \n",
    "val_fn=np.asarray(val_fn) \n",
    "val_fp=np.asarray(val_fp) \n",
    "val_neg=np.asarray(val_neg) \n",
    "val_auc=np.asarray(val_auc)    \n",
    "val_apr=np.asarray(val_apr) \n",
    "val_base=np.asarray(val_base)\n",
    "val_prob=np.asarray(val_prob) \n",
    "val_labels=np.asarray(val_labels)\n",
    "val_logits=np.asarray(val_logits)\n",
    "print(\"Val Loss: {:.6f}, GTP: {:.6f}, GTN: {:.6f}, TP: {:.6f}, TN: {:.6f}, FN: {:.6f}, FP: {:.6f}, AUC: {:.6f}, APR: {:.6f}, APR_BASE: {:.6f} \".format(val_loss.sum()/val_loss.shape[0], np.nansum(val_pos), np.nansum(val_neg), np.nansum(val_tpr), np.nansum(val_npr), np.nansum(val_fn), np.nansum(val_fp), np.nanmean(val_auc), np.nanmean(val_apr), val_base.sum()/val_base.shape[0]))\n",
    "print(\"==========================================\")"
   ]
  },
  {
   "cell_type": "code",
   "execution_count": 279,
   "id": "demonstrated-mills",
   "metadata": {},
   "outputs": [],
   "source": [
    "#Model 0-5\n",
    "#Val Loss: 0.625404, TPR: 0.708419, NR: 0.610360, AUC: 0.721384, APR: 0.426388, APR_BASE: 0.174242, ACCURACY: 0.511655, PRECISION: 0.239111 "
   ]
  },
  {
   "cell_type": "code",
   "execution_count": null,
   "id": "genuine-liabilities",
   "metadata": {},
   "outputs": [],
   "source": [
    "#ModelStatic 0-5\n",
    "#Val Loss: 0.680359, TPR: 0.199239, NR: 0.945320, AUC: 0.676382, APR: 0.370181, APR_BASE: 0.176185 "
   ]
  },
  {
   "cell_type": "code",
   "execution_count": null,
   "id": "tamil-arcade",
   "metadata": {},
   "outputs": [],
   "source": [
    "#Model Attn LSTM 0-5\n",
    "#Epoch: 23, Val Loss: 1.025352, TPR: 0.676482, NR: 0.557068, AUC: 0.653362, APR: 0.344653, APR_BASE: 0.176185 "
   ]
  },
  {
   "cell_type": "code",
   "execution_count": 280,
   "id": "headed-permit",
   "metadata": {},
   "outputs": [],
   "source": [
    "#model 0-5 LSTM Base\n",
    "#Epoch: 11, Val Loss: 1.088431, TPR: 0.113747, NR: 0.976356, AUC: 0.677085, APR: 0.359862, APR_BASE: 0.176185 \n",
    "#Val Loss: 1.321892, TPR: 0.072732, NR: 0.978887, AUC: 0.645814, APR: 0.328324, APR_BASE: 0.176185 "
   ]
  },
  {
   "cell_type": "code",
   "execution_count": null,
   "id": "intended-motivation",
   "metadata": {},
   "outputs": [],
   "source": [
    "#model 0-5 CNN\n",
    "#Val Loss: 0.736683, TPR: 0.753532, NR: 0.505277, AUC: 0.687239, APR: 0.346133, APR_BASE: 0.176185 \n",
    "# Val Loss: 0.908303, TPR: 0.424657, NR: 0.795900, AUC: 0.670800, APR: 0.341542, APR_BASE: 0.176185 "
   ]
  },
  {
   "cell_type": "code",
   "execution_count": null,
   "id": "registered-suicide",
   "metadata": {},
   "outputs": [],
   "source": [
    "#LSTM non-hybrid\n",
    "#Val Loss: 0.637773, TPR: 0.441613, NR: 0.882963, AUC: 0.744396, APR: 0.439009, APR_BASE: 0.176185 \n",
    "# Val Loss: 0.672565, TPR: 0.360501, NR: 0.852178, AUC: 0.689505, APR: 0.366427, APR_BASE: 0.176185 "
   ]
  },
  {
   "cell_type": "code",
   "execution_count": null,
   "id": "least-piano",
   "metadata": {},
   "outputs": [],
   "source": [
    "#CNNStatic\n",
    "#Val Loss: 0.737557, TPR: 0.544003, NR: 0.700441, AUC: 0.663337, APR: 0.335845, APR_BASE: 0.176185\n",
    "#Val Loss: 0.851751, TPR: 0.468757, NR: 0.762567, AUC: 0.668567, APR: 0.342730, APR_BASE: 0.176185 "
   ]
  },
  {
   "cell_type": "code",
   "execution_count": 281,
   "id": "informative-mercury",
   "metadata": {},
   "outputs": [],
   "source": [
    "#model LSTMBase 5-10\n",
    "#Val Loss: 1.016932, TPR: 0.072547, NR: 0.976895, AUC: 0.817234, APR: 0.483723, APR_BASE: 0.205944 "
   ]
  },
  {
   "cell_type": "code",
   "execution_count": null,
   "id": "available-consultancy",
   "metadata": {},
   "outputs": [],
   "source": [
    "#model 5-10\n",
    "#Val Loss: 0.458308, TPR: 0.736635, NR: 0.862037, AUC: 0.879907, APR: 0.661040, APR_BASE: 0.205944, ACCURACY: 0.804545, PRECISION: 0.517152 "
   ]
  },
  {
   "cell_type": "code",
   "execution_count": null,
   "id": "pending-recording",
   "metadata": {},
   "outputs": [],
   "source": []
  },
  {
   "cell_type": "code",
   "execution_count": null,
   "id": "overall-mission",
   "metadata": {},
   "outputs": [],
   "source": []
  },
  {
   "cell_type": "code",
   "execution_count": 16,
   "id": "wooden-ocean",
   "metadata": {},
   "outputs": [
    {
     "data": {
      "text/plain": [
       "torch.Size([2, 52, 475])"
      ]
     },
     "execution_count": 16,
     "metadata": {},
     "output_type": "execute_result"
    }
   ],
   "source": [
    "conds.shape"
   ]
  },
  {
   "cell_type": "code",
   "execution_count": 17,
   "id": "australian-corrections",
   "metadata": {},
   "outputs": [
    {
     "data": {
      "text/plain": [
       "(5148,)"
      ]
     },
     "execution_count": 17,
     "metadata": {},
     "output_type": "execute_result"
    }
   ],
   "source": [
    "test_output.shape"
   ]
  },
  {
   "cell_type": "code",
   "execution_count": 179,
   "id": "warming-playlist",
   "metadata": {},
   "outputs": [
    {
     "data": {
      "text/plain": [
       "(5148,)"
      ]
     },
     "execution_count": 179,
     "metadata": {},
     "output_type": "execute_result"
    }
   ],
   "source": [
    "test_labels.shape"
   ]
  },
  {
   "cell_type": "code",
   "execution_count": 180,
   "id": "opened-things",
   "metadata": {},
   "outputs": [
    {
     "data": {
      "text/plain": [
       "10296"
      ]
     },
     "execution_count": 180,
     "metadata": {},
     "output_type": "execute_result"
    }
   ],
   "source": [
    "5148*2"
   ]
  },
  {
   "cell_type": "code",
   "execution_count": 66,
   "id": "included-clinton",
   "metadata": {},
   "outputs": [
    {
     "data": {
      "text/plain": [
       "(5148, 475)"
      ]
     },
     "execution_count": 66,
     "metadata": {},
     "output_type": "execute_result"
    }
   ],
   "source": [
    "test_cond.shape"
   ]
  },
  {
   "cell_type": "code",
   "execution_count": 70,
   "id": "wanted-albuquerque",
   "metadata": {},
   "outputs": [
    {
     "data": {
      "text/plain": [
       "(5148, 74)"
      ]
     },
     "execution_count": 70,
     "metadata": {},
     "output_type": "execute_result"
    }
   ],
   "source": [
    "test_census.shape"
   ]
  },
  {
   "cell_type": "code",
   "execution_count": 67,
   "id": "informed-pavilion",
   "metadata": {},
   "outputs": [
    {
     "data": {
      "text/plain": [
       "(5148, 475)"
      ]
     },
     "execution_count": 67,
     "metadata": {},
     "output_type": "execute_result"
    }
   ],
   "source": [
    "test_condContri.shape"
   ]
  },
  {
   "cell_type": "code",
   "execution_count": 68,
   "id": "closed-oracle",
   "metadata": {},
   "outputs": [
    {
     "data": {
      "text/plain": [
       "(5148, 699)"
      ]
     },
     "execution_count": 68,
     "metadata": {},
     "output_type": "execute_result"
    }
   ],
   "source": [
    "test_medContri.shape"
   ]
  },
  {
   "cell_type": "code",
   "execution_count": 69,
   "id": "alpha-spiritual",
   "metadata": {},
   "outputs": [
    {
     "data": {
      "text/plain": [
       "(5148, 74)"
      ]
     },
     "execution_count": 69,
     "metadata": {},
     "output_type": "execute_result"
    }
   ],
   "source": [
    "test_censusContri.shape"
   ]
  },
  {
   "cell_type": "code",
   "execution_count": 183,
   "id": "superb-formation",
   "metadata": {},
   "outputs": [
    {
     "data": {
      "text/plain": [
       "(5148, 126)"
      ]
     },
     "execution_count": 183,
     "metadata": {},
     "output_type": "execute_result"
    }
   ],
   "source": [
    "test_bmi.shape"
   ]
  },
  {
   "cell_type": "code",
   "execution_count": 71,
   "id": "welcome-nashville",
   "metadata": {},
   "outputs": [],
   "source": [
    "def getFnTp():\n",
    "    tp=np.intersect1d(np.where(test_output>0.5),np.where(test_labels==1))\n",
    "    fn=np.intersect1d(np.where(test_output<=0.5),np.where(test_labels==1))\n",
    "    tn=np.intersect1d(np.where(test_output<=0.5),np.where(test_labels==0))\n",
    "    return tp,fn,tn"
   ]
  },
  {
   "cell_type": "code",
   "execution_count": 72,
   "id": "pleasant-boundary",
   "metadata": {},
   "outputs": [],
   "source": [
    "def getCondList(pid):\n",
    "    with open ('condVocabDict', 'rb') as fp:\n",
    "        condVocabDict = pickle.load(fp)\n",
    "    reversed_cond = {condVocabDict[key]: key for key in condVocabDict}\n",
    "    #conds = conds.data.cpu().numpy()\n",
    "    cids=list(pd.Series(test_cond[pid]).map(reversed_cond))\n",
    "    fids=pd.read_csv('fid.csv',header=0)\n",
    "    fids=fids[fids['fid'].str.contains(\"COND_\")]\n",
    "    fids['fid'] = [int(str(i).replace( 'COND_', '')) for i in fids['fid']]\n",
    "    dic = dict(zip(fids['fid'], fids['fact']))\n",
    "    cids=list(pd.Series(cids).map(dic))\n",
    "    contri=100*(test_condContri[pid]/test_condContri[pid].sum())\n",
    "    contriTab=pd.concat([pd.Series(cids,name='COND'),pd.Series(contri,name='contri')],axis=1)\n",
    "    contriTab=pd.concat([contriTab,pd.Series(test_condTime[pid],name='age')],axis=1)\n",
    "    #contriTab=contriTab[contriTab!=0]\n",
    "    contriTab=contriTab.dropna()\n",
    "    #contriTab=contriTab[contriTab['contri']!=0]\n",
    "    print(test_output[pid])\n",
    "    print(contriTab)\n",
    "    return contriTab\n",
    "    #print(out1[pid])"
   ]
  },
  {
   "cell_type": "code",
   "execution_count": 73,
   "id": "textile-instrumentation",
   "metadata": {},
   "outputs": [],
   "source": [
    "def getProcList(pid):\n",
    "    with open ('procVocabDict', 'rb') as fp:\n",
    "        procVocabDict = pickle.load(fp)\n",
    "    reversed_proc = {procVocabDict[key]: key for key in procVocabDict}\n",
    "    #conds = conds.data.cpu().numpy()\n",
    "    cids=list(pd.Series(procs[0][pid]).map(reversed_proc))\n",
    "    fids=pd.read_csv('fid.csv',header=0)\n",
    "    fids=fids[fids['fid'].str.contains(\"PROC_\")]\n",
    "    fids['fid'] = [int(str(i).replace( 'PROC_', '')) for i in fids['fid']]\n",
    "    dic = dict(zip(fids['fid'], fids['fact']))\n",
    "    cids=list(pd.Series(cids).map(dic))\n",
    "    contri=100*(proc_contri[pid]/proc_contri[pid].sum())\n",
    "    contriTab=pd.concat([pd.Series(cids,name='PROC'),pd.Series(contri,name='contri')],axis=1)\n",
    "    contriTab=pd.concat([contriTab,pd.Series(procs[1][pid],name='age')],axis=1)\n",
    "    #contriTab=contriTab[contriTab!=0]\n",
    "    contriTab=contriTab.dropna()\n",
    "    contriTab=contriTab[contriTab['contri']!=0]\n",
    "    print(output[pid])\n",
    "    print(contriTab)\n",
    "    print(out1[pid])"
   ]
  },
  {
   "cell_type": "code",
   "execution_count": 78,
   "id": "weighted-instruction",
   "metadata": {},
   "outputs": [],
   "source": [
    "def getMedList(pid):\n",
    "    with open ('medVocabDict', 'rb') as fp:\n",
    "        medVocabDict = pickle.load(fp)\n",
    "    reversed_med = {medVocabDict[key]: key for key in medVocabDict}\n",
    "    #conds = conds.data.cpu().numpy()\n",
    "    cids=list(pd.Series(test_meds[pid]).map(reversed_med))\n",
    "    fids=pd.read_csv('fid.csv',header=0)\n",
    "    fids=fids[fids['fid'].str.contains(\"DRUG_\")]\n",
    "    fids['fid'] = [int(str(i).replace( 'DRUG_', '')) for i in fids['fid']]\n",
    "    dic = dict(zip(fids['fid'], fids['fact']))\n",
    "    cids=list(pd.Series(cids).map(dic))\n",
    "    contri=100*(test_medContri[pid]/test_medContri[pid].sum())\n",
    "    contriTab=pd.concat([pd.Series(cids,name='MED'),pd.Series(contri,name='contri')],axis=1)\n",
    "    contriTab=pd.concat([contriTab,pd.Series(test_medTime[pid],name='age')],axis=1)\n",
    "    #contriTab=contriTab[contriTab!=0]\n",
    "    contriTab=contriTab.dropna()\n",
    "    #contriTab=contriTab[contriTab['contri']!=0]\n",
    "    print(test_output[pid])\n",
    "    print(contriTab)\n",
    "    return contriTab"
   ]
  },
  {
   "cell_type": "code",
   "execution_count": 90,
   "id": "contrary-gardening",
   "metadata": {},
   "outputs": [],
   "source": [
    "def getCensusList(pid):\n",
    "    with open ('censusVocabDict', 'rb') as fp:\n",
    "        censusVocabDict = pickle.load(fp)\n",
    "    reversed_census = {censusVocabDict[key]: key for key in censusVocabDict}\n",
    "    #conds = conds.data.cpu().numpy()\n",
    "    cids=list(pd.Series(test_census[pid]).map(reversed_census))\n",
    "    contri=100*(test_censusContri[pid]/test_censusContri[pid].sum())\n",
    "    contriTab=pd.concat([pd.Series(cids,name='Census'),pd.Series(contri,name='contri')],axis=1)\n",
    "    #contriTab=contriTab[contriTab!=0]\n",
    "    contriTab=contriTab.dropna()\n",
    "    #contriTab=contriTab[contriTab['contri']!=0]\n",
    "    print(test_output[pid])\n",
    "    print(contriTab)\n",
    "    return contriTab"
   ]
  },
  {
   "cell_type": "code",
   "execution_count": 92,
   "id": "killing-mustang",
   "metadata": {},
   "outputs": [
    {
     "data": {
      "text/plain": [
       "array([0., 0., 0., 0., 0., 0., 0., 0., 0., 0., 0., 0., 0., 0., 0., 0., 0.,\n",
       "       0., 0., 0., 0., 0., 0., 0., 0., 0., 0., 0., 0., 0., 0., 0., 0., 0.,\n",
       "       0., 0., 0., 0., 0., 0., 0., 0., 0., 0., 0., 0., 0., 0., 0., 0., 0.,\n",
       "       0., 0., 0., 0., 0., 0., 0., 0., 0., 0., 0., 0., 0., 0., 0., 0., 0.,\n",
       "       0., 0., 0., 0., 0., 0.])"
      ]
     },
     "execution_count": 92,
     "metadata": {},
     "output_type": "execute_result"
    }
   ],
   "source": [
    "test_censusContri[112]"
   ]
  },
  {
   "cell_type": "code",
   "execution_count": 94,
   "id": "hispanic-coupon",
   "metadata": {},
   "outputs": [
    {
     "data": {
      "text/plain": [
       "array([ 1.,  4.,  8., 11., 15., 18., 22., 24., 27., 29., 32., 36., 40.,\n",
       "       43., 46., 49., 52., 55., 57., 60., 65., 66., 70., 72.,  0.,  0.,\n",
       "        0.,  0.,  0.,  0.,  0.,  0.,  0.,  0.,  0.,  0.,  0.,  0.,  0.,\n",
       "        0.,  0.,  0.,  0.,  0.,  0.,  0.,  0.,  0.,  0.,  0.,  0.,  0.,\n",
       "        0.,  0.,  0.,  0.,  0.,  0.,  0.,  0.,  0.,  0.,  0.,  0.,  0.,\n",
       "        0.,  0.,  0.,  0.,  0.,  0.,  0.,  0.,  0.])"
      ]
     },
     "execution_count": 94,
     "metadata": {},
     "output_type": "execute_result"
    }
   ],
   "source": [
    "test_census[31]"
   ]
  },
  {
   "cell_type": "code",
   "execution_count": null,
   "id": "regulated-local",
   "metadata": {},
   "outputs": [],
   "source": []
  },
  {
   "cell_type": "code",
   "execution_count": 80,
   "id": "recent-above",
   "metadata": {},
   "outputs": [],
   "source": [
    "def getLabList(pid):\n",
    "    with open ('labVocabDict', 'rb') as fp:\n",
    "        labVocabDict = pickle.load(fp)\n",
    "    reversed_lab = {labVocabDict[key]: key for key in labVocabDict}\n",
    "    #conds = conds.data.cpu().numpy()\n",
    "    cids=list(pd.Series(labs[0][pid]).map(reversed_lab))\n",
    "    cids_val = [i.partition(\"_\")[2] for i in cids]\n",
    "    cids = [int(i.partition(\"_\")[0]) if i!='<PAD>' else i.partition(\"_\")[0] for i in cids]\n",
    "    fids=pd.read_csv('fid.csv',header=0)\n",
    "    fids=fids[fids['fid'].str.contains(\"MEAS_\")]\n",
    "    fids['fid'] = [int(str(i).replace( 'MEAS_', '')) for i in fids['fid']]\n",
    "    dic = dict(zip(fids['fid'], fids['fact']))\n",
    "    cids=list(pd.Series(cids).map(dic))\n",
    "    contri=100*(lab_contri[pid]/lab_contri[pid].sum())\n",
    "    contriTab=pd.concat([pd.Series(cids,name='MED'),pd.Series(contri,name='contri')],axis=1)\n",
    "    contriTab=pd.concat([contriTab,pd.Series(cids_val,name='val')],axis=1)\n",
    "    contriTab=pd.concat([contriTab,pd.Series(labs[1][pid],name='age')],axis=1)\n",
    "    #contriTab=contriTab[contriTab!=0]\n",
    "    contriTab=contriTab.dropna()\n",
    "    #contriTab=contriTab[contriTab['contri']!=0]\n",
    "    print(output[pid])\n",
    "    print(contriTab)\n",
    "    print(out1[pid])"
   ]
  },
  {
   "cell_type": "code",
   "execution_count": 81,
   "id": "described-colon",
   "metadata": {},
   "outputs": [],
   "source": [
    "def getBmiList(pid):\n",
    "    contri=100*(test_bmiContri[pid]/test_condContri[pid].sum())\n",
    "    contriTab=pd.concat([pd.Series(test_bmi[pid],name='BMI'),pd.Series(contri,name='contri')],axis=1)\n",
    "    contriTab=pd.concat([contriTab,pd.Series(test_bmiTime[pid],name='age')],axis=1)\n",
    "    contriTab=contriTab.dropna()\n",
    "    #contriTab=contriTab[contriTab['contri']!=0]\n",
    "    contriTab=contriTab[contriTab['age']!=0]\n",
    "    print(test_output[pid])\n",
    "    print(contriTab)\n",
    "    return contriTab\n",
    "    #print(out1[pid])"
   ]
  },
  {
   "cell_type": "code",
   "execution_count": null,
   "id": "thirty-avenue",
   "metadata": {},
   "outputs": [],
   "source": []
  },
  {
   "cell_type": "code",
   "execution_count": 80,
   "id": "hollow-excellence",
   "metadata": {},
   "outputs": [],
   "source": [
    "pd.set_option('display.max_colwidth', None)"
   ]
  },
  {
   "cell_type": "code",
   "execution_count": 82,
   "id": "sexual-oxygen",
   "metadata": {},
   "outputs": [],
   "source": [
    "tp,fn,tn=getFnTp()"
   ]
  },
  {
   "cell_type": "code",
   "execution_count": 83,
   "id": "exposed-absolute",
   "metadata": {},
   "outputs": [
    {
     "data": {
      "text/plain": [
       "array([   3,   19,   31,   39,   47,   63,   64,   71,   78,   85,   86,\n",
       "         92,   95,  112,  125,  132,  133,  134,  143,  146,  155,  170,\n",
       "        177,  180,  185,  188,  193,  198,  200,  202,  206,  210,  213,\n",
       "        216,  229,  232,  234,  238,  239,  241,  244,  247,  254,  255,\n",
       "        275,  283,  291,  298,  304,  310,  311,  314,  324,  325,  328,\n",
       "        334,  342,  349,  351,  361,  363,  378,  381,  388,  392,  393,\n",
       "        406,  407,  421,  422,  430,  445,  447,  448,  453,  473,  487,\n",
       "        488,  522,  523,  530,  532,  534,  540,  543,  563,  581,  586,\n",
       "        589,  590,  617,  622,  638,  650,  651,  666,  667,  687,  688,\n",
       "        695,  699,  700,  730,  740,  758,  770,  783,  784,  793,  802,\n",
       "        805,  807,  815,  841,  852,  853,  865,  868,  870,  875,  880,\n",
       "        896,  909,  915,  930,  931,  952,  960,  961,  978,  984,  987,\n",
       "        989, 1007, 1011, 1014, 1031, 1032, 1037, 1040, 1045, 1052, 1057,\n",
       "       1059, 1074, 1075, 1077, 1079, 1082, 1085, 1093, 1101, 1105, 1119,\n",
       "       1145, 1158, 1161, 1162, 1164, 1172, 1178, 1193, 1201, 1208, 1209,\n",
       "       1223, 1234, 1241, 1244, 1248, 1253, 1268, 1274, 1278, 1289, 1294,\n",
       "       1295, 1304, 1314, 1317, 1318, 1321, 1325, 1331, 1333, 1343, 1348,\n",
       "       1354, 1364, 1365, 1381, 1385, 1386, 1399, 1404, 1416, 1421, 1427,\n",
       "       1437, 1453, 1460, 1463, 1470, 1473, 1494, 1496, 1497, 1501, 1504,\n",
       "       1508, 1510, 1518, 1528, 1538, 1544, 1570, 1575, 1577, 1580, 1589,\n",
       "       1594, 1601, 1605, 1614, 1632, 1642, 1644, 1685, 1694, 1696, 1711,\n",
       "       1713, 1715, 1719, 1725, 1734, 1735, 1740, 1743, 1752, 1754, 1774,\n",
       "       1785, 1787, 1792, 1795, 1797, 1800, 1807, 1810, 1814, 1819, 1821,\n",
       "       1826, 1836, 1839, 1861, 1865, 1870, 1872, 1875, 1887, 1891, 1916,\n",
       "       1922, 1934, 1943, 1945, 1954, 1958, 1962, 1976, 1977, 1991, 1995,\n",
       "       2001, 2004, 2015, 2024, 2032, 2049, 2053, 2057, 2061, 2073, 2098,\n",
       "       2116, 2117, 2121, 2133, 2142, 2152, 2155, 2169, 2190, 2193, 2210,\n",
       "       2213, 2214, 2230, 2239, 2244, 2265, 2273, 2279, 2281, 2282, 2292,\n",
       "       2295, 2301, 2303, 2304, 2312, 2330, 2338, 2344, 2353, 2354, 2359,\n",
       "       2362, 2363, 2370, 2395, 2404, 2415, 2420, 2425, 2426, 2427, 2446,\n",
       "       2452, 2467, 2476, 2484, 2486, 2489, 2494, 2500, 2510, 2512, 2521,\n",
       "       2527, 2529, 2552, 2559, 2570, 2579, 2583, 2585, 2594, 2619, 2628,\n",
       "       2640, 2650, 2655, 2656, 2669, 2679, 2683, 2703, 2718, 2724, 2732,\n",
       "       2754, 2757, 2761, 2770, 2799, 2802, 2805, 2811, 2814, 2825, 2826,\n",
       "       2844, 2853, 2856, 2859, 2860, 2862, 2875, 2902, 2918, 2934, 2935,\n",
       "       2939, 2941, 2953, 2956, 2965, 2967, 2984, 2987, 2992, 3009, 3015,\n",
       "       3018, 3019, 3024, 3027, 3039, 3040, 3042, 3044, 3047, 3050, 3067,\n",
       "       3085, 3106, 3121, 3143, 3150, 3152, 3165, 3174, 3176, 3177, 3184,\n",
       "       3185, 3189, 3194, 3201, 3230, 3235, 3244, 3245, 3250, 3251, 3258,\n",
       "       3266, 3269, 3273, 3277, 3281, 3288, 3289, 3291, 3299, 3317, 3320,\n",
       "       3324, 3325, 3331, 3350, 3356, 3365, 3367, 3377, 3381, 3385, 3387,\n",
       "       3391, 3398, 3401, 3405, 3419, 3426, 3427, 3432, 3433, 3444, 3469,\n",
       "       3474, 3477, 3480, 3489, 3496, 3498, 3500, 3510, 3511, 3514, 3515,\n",
       "       3518, 3521, 3536, 3537, 3539, 3543, 3555, 3576, 3580, 3583, 3586,\n",
       "       3589, 3596, 3598, 3605, 3616, 3623, 3630, 3635, 3641, 3649, 3669,\n",
       "       3676, 3687, 3702, 3706, 3715, 3718, 3722, 3736, 3738, 3740, 3750,\n",
       "       3764, 3765, 3770, 3771, 3772, 3773, 3779, 3781, 3788, 3804, 3807,\n",
       "       3852, 3872, 3888, 3891, 3892, 3907, 3910, 3915, 3918, 3940, 3942,\n",
       "       3949, 3969, 3973, 3980, 3992, 4001, 4024, 4025, 4043, 4054, 4055,\n",
       "       4060, 4062, 4066, 4082, 4100, 4108, 4111, 4115, 4123, 4124, 4138,\n",
       "       4141, 4153, 4158, 4161, 4178, 4182, 4194, 4200, 4214, 4217, 4230,\n",
       "       4233, 4239, 4257, 4261, 4265, 4268, 4274, 4276, 4278, 4285, 4290,\n",
       "       4292, 4293, 4306, 4311, 4313, 4340, 4345, 4346, 4347, 4357, 4365,\n",
       "       4371, 4377, 4380, 4385, 4387, 4389, 4392, 4410, 4414, 4415, 4424,\n",
       "       4425, 4436, 4438, 4439, 4456, 4460, 4466, 4500, 4502, 4505, 4509,\n",
       "       4513, 4521, 4529, 4535, 4536, 4543, 4564, 4580, 4603, 4604, 4606,\n",
       "       4626, 4640, 4676, 4700, 4708, 4722, 4724, 4728, 4739, 4740, 4741,\n",
       "       4755, 4768, 4769, 4780, 4794, 4801, 4808, 4817, 4822, 4833, 4866,\n",
       "       4875, 4880, 4888, 4893, 4897, 4930, 4931, 4938, 4947, 4974, 4982,\n",
       "       4984, 4988, 4999, 5015, 5022, 5023, 5024, 5025, 5045, 5050, 5054,\n",
       "       5079, 5080, 5086, 5092, 5100, 5101, 5102, 5103, 5108, 5109, 5114,\n",
       "       5117, 5119, 5126, 5131, 5133, 5144], dtype=int64)"
      ]
     },
     "execution_count": 83,
     "metadata": {},
     "output_type": "execute_result"
    }
   ],
   "source": [
    "tp"
   ]
  },
  {
   "cell_type": "code",
   "execution_count": 84,
   "id": "buried-circus",
   "metadata": {},
   "outputs": [
    {
     "data": {
      "text/plain": [
       "array([   8,   10,   13,   35,   38,   46,   54,  103,  104,  113,  131,\n",
       "        157,  233,  284,  289,  297,  301,  319,  356,  365,  376,  394,\n",
       "        451,  452,  550,  567,  569,  573,  625,  633,  714,  728,  800,\n",
       "        814,  836,  843,  951,  982, 1023, 1027, 1066, 1083, 1091, 1100,\n",
       "       1125, 1211, 1228, 1240, 1252, 1301, 1303, 1316, 1322, 1329, 1352,\n",
       "       1355, 1367, 1407, 1412, 1420, 1429, 1431, 1440, 1458, 1489, 1507,\n",
       "       1537, 1552, 1573, 1610, 1665, 1677, 1684, 1689, 1695, 1703, 1729,\n",
       "       1757, 1762, 1808, 1845, 1852, 1857, 1886, 1896, 1898, 1928, 1940,\n",
       "       1971, 1978, 2009, 2029, 2037, 2043, 2054, 2108, 2120, 2132, 2198,\n",
       "       2201, 2218, 2231, 2233, 2325, 2360, 2364, 2366, 2384, 2435, 2457,\n",
       "       2479, 2525, 2531, 2537, 2540, 2565, 2574, 2588, 2605, 2606, 2623,\n",
       "       2727, 2781, 2787, 2788, 2812, 2815, 2855, 2872, 2873, 2881, 2917,\n",
       "       2940, 2957, 2969, 2978, 3010, 3014, 3041, 3075, 3092, 3094, 3188,\n",
       "       3197, 3216, 3232, 3276, 3285, 3286, 3300, 3330, 3346, 3351, 3368,\n",
       "       3394, 3425, 3501, 3502, 3503, 3516, 3525, 3591, 3599, 3601, 3606,\n",
       "       3613, 3618, 3673, 3700, 3713, 3723, 3727, 3775, 3787, 3812, 3816,\n",
       "       3840, 3848, 3855, 3877, 3890, 3897, 3925, 3936, 4019, 4031, 4048,\n",
       "       4050, 4087, 4122, 4132, 4133, 4144, 4189, 4229, 4245, 4254, 4264,\n",
       "       4266, 4319, 4468, 4480, 4507, 4528, 4581, 4582, 4590, 4591, 4607,\n",
       "       4617, 4641, 4644, 4670, 4686, 4691, 4704, 4726, 4733, 4738, 4779,\n",
       "       4832, 4847, 4890, 4892, 4902, 4920, 4926, 5078, 5118, 5134],\n",
       "      dtype=int64)"
      ]
     },
     "execution_count": 84,
     "metadata": {},
     "output_type": "execute_result"
    }
   ],
   "source": [
    "fn"
   ]
  },
  {
   "cell_type": "code",
   "execution_count": 85,
   "id": "supreme-newark",
   "metadata": {},
   "outputs": [
    {
     "data": {
      "text/plain": [
       "array([   1,    2,    5, ..., 5143, 5146, 5147], dtype=int64)"
      ]
     },
     "execution_count": 85,
     "metadata": {},
     "output_type": "execute_result"
    }
   ],
   "source": [
    "tn"
   ]
  },
  {
   "cell_type": "code",
   "execution_count": 105,
   "id": "equipped-ceramic",
   "metadata": {},
   "outputs": [
    {
     "name": "stdout",
     "output_type": "stream",
     "text": [
      "tensor(0.7345, device='cuda:0', grad_fn=<SelectBackward>)\n",
      "                               COND     contri   age\n",
      "0                 Neonatal jaundice   1.591117   1.0\n",
      "1          Patient encounter status  -9.649563   1.0\n",
      "2          Patient encounter status  -0.000000   1.0\n",
      "3          Patient encounter status  -0.000000   3.0\n",
      "4                  Nasal congestion  -0.000000   3.0\n",
      "5          Patient encounter status  -0.000000   5.0\n",
      "6                    Laryngomalacia  -0.000000   5.0\n",
      "7                  Umbilical hernia  -0.000000   5.0\n",
      "8                    Laryngomalacia  -0.000000   7.0\n",
      "9          Patient encounter status  -0.000000   7.0\n",
      "10         Patient encounter status  -0.000000  10.0\n",
      "11        Esophageal reflux finding  -0.000000  10.0\n",
      "12                   Laryngomalacia  -0.000000  10.0\n",
      "13  Gastroesophageal reflux disease  -0.000000  10.0\n",
      "14         Patient encounter status  -0.000000  13.0\n",
      "15                 Umbilical hernia  12.602152  13.0\n",
      "16                 Umbilical hernia  -0.000000  16.0\n",
      "17         Patient encounter status  -0.000000  16.0\n",
      "18                   Laryngomalacia  -0.000000  16.0\n",
      "19         Patient encounter status  -0.000000  19.0\n"
     ]
    }
   ],
   "source": [
    "condContri=getCondList(740)"
   ]
  },
  {
   "cell_type": "code",
   "execution_count": 106,
   "id": "threatened-kazakhstan",
   "metadata": {},
   "outputs": [
    {
     "name": "stdout",
     "output_type": "stream",
     "text": [
      "tensor(0.7345, device='cuda:0', grad_fn=<SelectBackward>)\n",
      "     BMI     contri   age\n",
      "0   2.20  -0.000000   1.0\n",
      "1   2.59  -0.000498   1.0\n",
      "2   2.60  -5.104731   3.0\n",
      "3  10.20  -0.004641   5.0\n",
      "4  50.20 -15.597050   7.0\n",
      "5  47.05  -0.137942  10.0\n",
      "6  84.81  -9.706620  10.0\n",
      "7  83.17  -0.109269  13.0\n",
      "8  37.84  -0.027707  16.0\n",
      "9   7.07  -3.377751  19.0\n"
     ]
    }
   ],
   "source": [
    "bmiContri=getBmiList(740)"
   ]
  },
  {
   "cell_type": "code",
   "execution_count": 107,
   "id": "first-mirror",
   "metadata": {},
   "outputs": [
    {
     "name": "stdout",
     "output_type": "stream",
     "text": [
      "tensor(0.7345, device='cuda:0', grad_fn=<SelectBackward>)\n",
      "                                                  MED     contri   age\n",
      "0   Ascorbic Acid 35 MG/ML / Vitamin A 1500 UNT/ML...   0.000000   1.0\n",
      "1   Polymyxin B 10000 UNT/ML / Trimethoprim 1 MG/M...   0.000000   1.0\n",
      "2              Acetaminophen 32 MG/ML Oral Suspension   0.000000   3.0\n",
      "3                   Ranitidine 15 MG/ML Oral Solution   0.000000   5.0\n",
      "4              Acetaminophen 32 MG/ML Oral Suspension   0.000000   7.0\n",
      "5                   Ranitidine 15 MG/ML Oral Solution  -0.039504   7.0\n",
      "6                Amoxicillin 50 MG/ML Oral Suspension   0.000000   8.0\n",
      "7                   Ranitidine 15 MG/ML Oral Solution  22.603862  10.0\n",
      "8              Acetaminophen 32 MG/ML Oral Suspension   0.000000  13.0\n",
      "9   Diphenhydramine Hydrochloride 2.5 MG/ML Oral S...  -1.593739  13.0\n",
      "10  Ascorbic Acid 35 MG/ML / ferrous sulfate 50 MG...  -1.571933  16.0\n",
      "11              Mupirocin 0.02 MG/MG Topical Ointment   0.000000  19.0\n"
     ]
    }
   ],
   "source": [
    "medContri=getMedList(740)"
   ]
  },
  {
   "cell_type": "code",
   "execution_count": 108,
   "id": "imported-apartment",
   "metadata": {},
   "outputs": [
    {
     "name": "stdout",
     "output_type": "stream",
     "text": [
      "tensor(0.7345, device='cuda:0', grad_fn=<SelectBackward>)\n",
      "                 Census     contri\n",
      "0    enroll_preschool_2  18.562559\n",
      "1   educ_minba_25to34_0  12.247352\n",
      "2         inc_medhh_0.0   0.000000\n",
      "3       crowd_gt1_ppr_1  -7.461621\n",
      "4             occup_i_0  -5.888285\n",
      "..                  ...        ...\n",
      "69                <PAD>  -0.135149\n",
      "70                <PAD>  -0.413562\n",
      "71                <PAD> -32.142281\n",
      "72                <PAD> -21.692235\n",
      "73                <PAD>  10.590910\n",
      "\n",
      "[74 rows x 2 columns]\n"
     ]
    }
   ],
   "source": [
    "censusContri=getCensusList(740)"
   ]
  },
  {
   "cell_type": "code",
   "execution_count": 109,
   "id": "circular-central",
   "metadata": {},
   "outputs": [],
   "source": [
    "condContri.to_csv('pt2Cond.csv',index=False)\n",
    "bmiContri.to_csv('pt2Bmi.csv',index=False)\n",
    "medContri.to_csv('pt2med.csv',index=False)\n",
    "censusContri.to_csv('pt2Census.csv',index=False)"
   ]
  },
  {
   "cell_type": "code",
   "execution_count": null,
   "id": "amazing-trance",
   "metadata": {},
   "outputs": [],
   "source": []
  },
  {
   "cell_type": "code",
   "execution_count": 174,
   "id": "encouraging-apparel",
   "metadata": {},
   "outputs": [
    {
     "data": {
      "text/plain": [
       "<matplotlib.collections.PathCollection at 0x1ed3d323080>"
      ]
     },
     "execution_count": 174,
     "metadata": {},
     "output_type": "execute_result"
    },
    {
     "data": {
      "image/png": "[encoded data removed]",
      "text/plain": [
       "<Figure size 432x288 with 1 Axes>"
      ]
     },
     "metadata": {
      "needs_background": "light"
     },
     "output_type": "display_data"
    }
   ],
   "source": [
    "plt.scatter(condContri['age'],condContri['contri'])"
   ]
  },
  {
   "cell_type": "code",
   "execution_count": 194,
   "id": "bridal-assembly",
   "metadata": {},
   "outputs": [
    {
     "data": {
      "text/plain": [
       "<matplotlib.collections.PathCollection at 0x1ed418be080>"
      ]
     },
     "execution_count": 194,
     "metadata": {},
     "output_type": "execute_result"
    },
    {
     "data": {
      "image/png": "[encoded data removed]",
      "text/plain": [
       "<Figure size 432x288 with 1 Axes>"
      ]
     },
     "metadata": {
      "needs_background": "light"
     },
     "output_type": "display_data"
    }
   ],
   "source": [
    "plt.scatter(bmiContri['age'],bmiContri['contri'])"
   ]
  },
  {
   "cell_type": "code",
   "execution_count": null,
   "id": "manual-prospect",
   "metadata": {},
   "outputs": [],
   "source": [
    "cond_contri.shape"
   ]
  },
  {
   "cell_type": "code",
   "execution_count": null,
   "id": "placed-rebate",
   "metadata": {},
   "outputs": [],
   "source": [
    "conds.shape"
   ]
  },
  {
   "cell_type": "code",
   "execution_count": null,
   "id": "rising-dutch",
   "metadata": {},
   "outputs": [],
   "source": [
    "cond_fc_weight"
   ]
  },
  {
   "cell_type": "code",
   "execution_count": null,
   "id": "answering-stretch",
   "metadata": {},
   "outputs": [],
   "source": [
    "cond_pool.shape"
   ]
  },
  {
   "cell_type": "code",
   "execution_count": null,
   "id": "existing-bloom",
   "metadata": {},
   "outputs": [],
   "source": [
    "cond_pool[13]"
   ]
  },
  {
   "cell_type": "code",
   "execution_count": null,
   "id": "amber-charlotte",
   "metadata": {},
   "outputs": [],
   "source": [
    "#cond_fc_weight"
   ]
  },
  {
   "cell_type": "code",
   "execution_count": null,
   "id": "competitive-angle",
   "metadata": {},
   "outputs": [],
   "source": [
    "conds[0][5]"
   ]
  },
  {
   "cell_type": "code",
   "execution_count": null,
   "id": "marked-evidence",
   "metadata": {},
   "outputs": [],
   "source": [
    "cond_embed.shape"
   ]
  },
  {
   "cell_type": "code",
   "execution_count": null,
   "id": "dental-purchase",
   "metadata": {},
   "outputs": [],
   "source": [
    "#cond_embed[5]"
   ]
  },
  {
   "cell_type": "code",
   "execution_count": null,
   "id": "atmospheric-prior",
   "metadata": {},
   "outputs": [],
   "source": [
    "census_contri.shape"
   ]
  },
  {
   "cell_type": "code",
   "execution_count": 42,
   "id": "criminal-timer",
   "metadata": {},
   "outputs": [],
   "source": [
    "output = output.data.cpu().numpy()"
   ]
  },
  {
   "cell_type": "code",
   "execution_count": null,
   "id": "electrical-schema",
   "metadata": {},
   "outputs": [],
   "source": [
    "np.where(output>0.5)"
   ]
  },
  {
   "cell_type": "code",
   "execution_count": null,
   "id": "organic-workstation",
   "metadata": {},
   "outputs": [],
   "source": [
    "np.where(labels==1)"
   ]
  },
  {
   "cell_type": "code",
   "execution_count": null,
   "id": "former-invalid",
   "metadata": {},
   "outputs": [],
   "source": [
    "np.intersect1d(np.where(output>0.5),np.where(labels==1))"
   ]
  },
  {
   "cell_type": "code",
   "execution_count": null,
   "id": "meaning-webster",
   "metadata": {},
   "outputs": [],
   "source": [
    "cond_contri[5]"
   ]
  },
  {
   "cell_type": "code",
   "execution_count": 48,
   "id": "minute-computer",
   "metadata": {},
   "outputs": [],
   "source": [
    "import pickle"
   ]
  },
  {
   "cell_type": "code",
   "execution_count": null,
   "id": "mature-texture",
   "metadata": {},
   "outputs": [],
   "source": [
    "with open ('condVocabDict', 'rb') as fp:\n",
    "        condVocabDict = pickle.load(fp)"
   ]
  },
  {
   "cell_type": "code",
   "execution_count": null,
   "id": "little-chemical",
   "metadata": {},
   "outputs": [],
   "source": [
    "condVocabDict"
   ]
  },
  {
   "cell_type": "code",
   "execution_count": null,
   "id": "unlikely-stanley",
   "metadata": {},
   "outputs": [],
   "source": [
    "reversed_cond = {condVocabDict[key]: key for key in condVocabDict}"
   ]
  },
  {
   "cell_type": "code",
   "execution_count": null,
   "id": "latin-banner",
   "metadata": {},
   "outputs": [],
   "source": [
    "conds = conds.data.cpu().numpy()"
   ]
  },
  {
   "cell_type": "code",
   "execution_count": null,
   "id": "textile-spirituality",
   "metadata": {},
   "outputs": [],
   "source": [
    "cids=list(pd.Series(conds[0][5]).map(reversed_cond))"
   ]
  },
  {
   "cell_type": "code",
   "execution_count": null,
   "id": "requested-greenhouse",
   "metadata": {},
   "outputs": [],
   "source": [
    "conds[1][5]"
   ]
  },
  {
   "cell_type": "code",
   "execution_count": null,
   "id": "qualified-sheep",
   "metadata": {},
   "outputs": [],
   "source": [
    "cids"
   ]
  },
  {
   "cell_type": "code",
   "execution_count": null,
   "id": "powered-trader",
   "metadata": {},
   "outputs": [],
   "source": [
    "fids=pd.read_csv('fid.csv',header=0)"
   ]
  },
  {
   "cell_type": "code",
   "execution_count": null,
   "id": "generous-identifier",
   "metadata": {},
   "outputs": [],
   "source": [
    "fids.iloc[0:10]"
   ]
  },
  {
   "cell_type": "code",
   "execution_count": null,
   "id": "fitting-ozone",
   "metadata": {},
   "outputs": [],
   "source": [
    "fids=fids[fids['fid'].str.contains(\"COND_\")]\n",
    "fids['fid'] = [int(str(i).replace( 'COND_', '')) for i in fids['fid']]\n",
    "dic = dict(zip(fids['fid'], fids['fact']))\n",
    "cids=list(pd.Series(cids).map(dic))\n",
    "contri=100*(cond_contri[5]/cond_contri[5].sum())\n",
    "contriTab=pd.concat([pd.Series(cids),pd.Series(contri)],axis=1)\n",
    "contriTab=contriTab[contriTab!=0]"
   ]
  },
  {
   "cell_type": "code",
   "execution_count": null,
   "id": "united-oregon",
   "metadata": {},
   "outputs": [],
   "source": []
  },
  {
   "cell_type": "code",
   "execution_count": null,
   "id": "charitable-father",
   "metadata": {},
   "outputs": [],
   "source": []
  },
  {
   "cell_type": "code",
   "execution_count": null,
   "id": "cultural-silly",
   "metadata": {},
   "outputs": [],
   "source": []
  },
  {
   "cell_type": "code",
   "execution_count": null,
   "id": "palestinian-seating",
   "metadata": {},
   "outputs": [],
   "source": [
    "len(cids)"
   ]
  },
  {
   "cell_type": "code",
   "execution_count": null,
   "id": "advance-directive",
   "metadata": {},
   "outputs": [],
   "source": [
    "cids"
   ]
  },
  {
   "cell_type": "code",
   "execution_count": null,
   "id": "functional-lawrence",
   "metadata": {},
   "outputs": [],
   "source": [
    "cond_contri[5].shape"
   ]
  },
  {
   "cell_type": "code",
   "execution_count": null,
   "id": "selective-practice",
   "metadata": {},
   "outputs": [],
   "source": [
    "contri=100*(cond_contri[5]/cond_contri[5].sum())"
   ]
  },
  {
   "cell_type": "code",
   "execution_count": null,
   "id": "essential-hormone",
   "metadata": {},
   "outputs": [],
   "source": [
    "contri"
   ]
  },
  {
   "cell_type": "code",
   "execution_count": null,
   "id": "bizarre-single",
   "metadata": {},
   "outputs": [],
   "source": [
    "contriTab=pd.concat([pd.Series(cids),pd.Series(contri)],axis=1)"
   ]
  },
  {
   "cell_type": "code",
   "execution_count": null,
   "id": "crucial-chase",
   "metadata": {},
   "outputs": [],
   "source": [
    "contriTab=contriTab.dropna()"
   ]
  },
  {
   "cell_type": "code",
   "execution_count": null,
   "id": "delayed-sapphire",
   "metadata": {},
   "outputs": [],
   "source": [
    "contriTab=contriTab[contriTab!=0]"
   ]
  },
  {
   "cell_type": "code",
   "execution_count": null,
   "id": "ordered-stopping",
   "metadata": {},
   "outputs": [],
   "source": [
    "contriTab"
   ]
  },
  {
   "cell_type": "code",
   "execution_count": null,
   "id": "compliant-member",
   "metadata": {},
   "outputs": [],
   "source": []
  },
  {
   "cell_type": "code",
   "execution_count": null,
   "id": "breeding-exhibition",
   "metadata": {},
   "outputs": [],
   "source": []
  },
  {
   "cell_type": "code",
   "execution_count": null,
   "id": "answering-corner",
   "metadata": {},
   "outputs": [],
   "source": [
    "np.asarray(cond_lengths).max()"
   ]
  },
  {
   "cell_type": "code",
   "execution_count": null,
   "id": "russian-cheat",
   "metadata": {},
   "outputs": [],
   "source": [
    "saver = tf.train.Saver()"
   ]
  },
  {
   "cell_type": "code",
   "execution_count": null,
   "id": "satellite-validation",
   "metadata": {},
   "outputs": [],
   "source": [
    "saver.save(sess, file_path + '/model')"
   ]
  },
  {
   "cell_type": "code",
   "execution_count": null,
   "id": "temporal-literacy",
   "metadata": {},
   "outputs": [],
   "source": [
    "saver.restore(sess, file_path + '/model')"
   ]
  },
  {
   "cell_type": "code",
   "execution_count": null,
   "id": "alpha-pension",
   "metadata": {},
   "outputs": [],
   "source": [
    "T.save({\n",
    "            \"model\": model.state_dict(),\n",
    "            'trainer': optimizer.state_dict()\n",
    "        }, save_path)"
   ]
  },
  {
   "cell_type": "code",
   "execution_count": null,
   "id": "mineral-nation",
   "metadata": {},
   "outputs": [],
   "source": [
    "len(train_batch)"
   ]
  },
  {
   "cell_type": "code",
   "execution_count": null,
   "id": "roman-fetish",
   "metadata": {},
   "outputs": [],
   "source": [
    "torch.empty(3).random_(2)"
   ]
  },
  {
   "cell_type": "code",
   "execution_count": null,
   "id": "labeled-wilderness",
   "metadata": {},
   "outputs": [],
   "source": [
    "val_loss=[]\n",
    "val_tpr=[]\n",
    "val_npr=[]\n",
    "val_auc=[]\n",
    "val_apr=[]\n",
    "val_base=[]\n",
    "val_accur=[]\n",
    "val_prec=[]\n",
    "test_output=[]\n",
    "test_cond=[]\n",
    "test_bmi=[]\n",
    "test_med=[]\n",
    "test_census=[]\n",
    "net.eval()\n",
    "for key, value in utils.get_batches().items():\n",
    "    if key in val_batch:\n",
    "        conds,cond_lengths,procs,proc_lengths,meds,med_lengths,labs,lab_lengths,bmi,bmi_lengths,census,labels=utils.get_batch_data(value)\n",
    "        #print(labels)\n",
    "        conds=torch.tensor(conds)\n",
    "        conds=conds.type(torch.LongTensor)\n",
    "        procs=torch.tensor(procs)\n",
    "        procs=procs.type(torch.LongTensor)\n",
    "        meds=torch.tensor(meds)\n",
    "        meds=meds.type(torch.LongTensor)\n",
    "        labs=torch.tensor(labs)\n",
    "        labs=labs.type(torch.LongTensor)\n",
    "        bmi=torch.tensor(labs)\n",
    "        bmi=bmi.type(torch.LongTensor)\n",
    "        labels=torch.tensor(labels)\n",
    "        labels=labels.type(torch.FloatTensor)\n",
    "        census=torch.tensor(census)\n",
    "        census=census.type(torch.LongTensor)\n",
    "        #conds=conds.unsqueeze(2)\n",
    "        print(\"input\",conds.shape)\n",
    "\n",
    "        # get the output sequence from the input and the initial hidden and cell states\n",
    "        sigout1,out1, cond_contri,bmi_contri,census_contri,cond_pool,cond_fc_weight,cond_indices = net(conds,cond_lengths,procs,proc_lengths,meds,med_lengths,labs,lab_lengths,bmi,bmi_lengths,census,contrib=True)\n",
    "        output=sigout1.squeeze()\n",
    "        test_output.append(output)\n",
    "        test_cond.append(cond_contri)\n",
    "        test_bmi.append(bmi_contri)\n",
    "        #test_med.append(med_contri)\n",
    "        test_census.append(census_contri)\n",
    "        #print(\"output\",output.shape)\n",
    "        #print(\"labels\",len(labels))\n",
    "        out_loss=loss(output,labels)\n",
    "        val_loss.append(out_loss[0].item())\n",
    "        val_tpr.append(out_loss[1]/out_loss[2])\n",
    "        val_npr.append(out_loss[3]/out_loss[4])\n",
    "        val_auc.append(out_loss[5])\n",
    "        val_apr.append(out_loss[6])\n",
    "        val_base.append(out_loss[7])\n",
    "        val_accur.append(out_loss[8])\n",
    "        val_prec.append(out_loss[9])\n",
    "val_loss=np.asarray(val_loss)    \n",
    "val_tpr=np.asarray(val_tpr) \n",
    "val_npr=np.asarray(val_npr) \n",
    "val_auc=np.asarray(val_auc)    \n",
    "val_apr=np.asarray(val_apr) \n",
    "val_base=np.asarray(val_base)\n",
    "val_accur=np.asarray(val_accur)\n",
    "val_prec=np.asarray(val_prec)\n",
    "print(\"Val Loss: {:.6f}, TPR: {:.6f}, NR: {:.6f}, AUC: {:.6f}, APR: {:.6f}, APR_BASE: {:.6f}, ACCURACY: {:.6f}, PRECISION: {:.6f} \".format(val_loss.sum()/val_loss.shape[0], np.nanmean(val_tpr), np.nanmean(val_npr), np.nanmean(val_auc), np.nanmean(val_apr), val_base.sum()/val_base.shape[0], val_accur.sum()/val_accur.shape[0], val_prec.sum()/val_prec.shape[0]))\n"
   ]
  },
  {
   "cell_type": "code",
   "execution_count": null,
   "id": "female-compression",
   "metadata": {},
   "outputs": [],
   "source": [
    "            if feature=='Lab':\n",
    "                fids=list(pd.Series(feat_data['fids']).map(labVocabDict))\n",
    "                fids_pad=list(np.zeros(MAX_LAB_SEQ))\n",
    "                fids_pad[0:len(fids)]=fids\n",
    "                labs.append(fids_pad) \n",
    "                lab_lengths.append(len(fids))#(sum(x > 0 for x in fids_pad))\n",
    "                #Age\n",
    "                age=list(pd.Series(feat_data['age']).map(ageVocabDict))\n",
    "                age_pad=list(np.zeros(MAX_LAB_SEQ))               \n",
    "                age_pad[0:len(age)]=age\n",
    "                lab_ages.append(age_pad)  "
   ]
  },
  {
   "cell_type": "code",
   "execution_count": 45,
   "id": "applicable-platinum",
   "metadata": {},
   "outputs": [],
   "source": [
    "addr=[]"
   ]
  },
  {
   "cell_type": "code",
   "execution_count": 46,
   "id": "gentle-appeal",
   "metadata": {},
   "outputs": [],
   "source": [
    "addr.append('glen eagle')\n",
    "addr.append('tree of')\n",
    "addr.append('mel ln')\n",
    "addr.append('glen eagle')\n",
    "addr.append('mel ln')"
   ]
  },
  {
   "cell_type": "code",
   "execution_count": 48,
   "id": "alone-politics",
   "metadata": {},
   "outputs": [
    {
     "data": {
      "text/plain": [
       "['mel ln', 'glen eagle', 'tree of']"
      ]
     },
     "execution_count": 48,
     "metadata": {},
     "output_type": "execute_result"
    }
   ],
   "source": [
    "list(set(addr))"
   ]
  },
  {
   "cell_type": "code",
   "execution_count": null,
   "id": "graphic-justice",
   "metadata": {},
   "outputs": [],
   "source": []
  }
 ],
 "metadata": {
  "hide_input": false,
  "kernelspec": {
   "display_name": "Python [conda env:DSRA] *",
   "language": "python",
   "name": "conda-env-DSRA-py"
  },
  "language_info": {
   "codemirror_mode": {
    "name": "ipython",
    "version": 3
   },
   "file_extension": ".py",
   "mimetype": "text/x-python",
   "name": "python",
   "nbconvert_exporter": "python",
   "pygments_lexer": "ipython3",
   "version": "3.7.1"
  }
 },
 "nbformat": 4,
 "nbformat_minor": 5
}
