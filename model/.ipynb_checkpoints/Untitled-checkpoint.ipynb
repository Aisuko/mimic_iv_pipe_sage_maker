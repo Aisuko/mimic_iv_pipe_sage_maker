{
 "cells": [
  {
   "cell_type": "code",
   "execution_count": 3,
   "id": "psychological-reynolds",
   "metadata": {},
   "outputs": [],
   "source": [
    "import numpy as np\n",
    "import pandas as pd\n",
    "from tqdm import tqdm\n",
    "from datetime import datetime\n",
    "import pickle\n",
    "import import_ipynb\n",
    "import data_generation\n",
    "#import utils as utils"
   ]
  },
  {
   "cell_type": "code",
   "execution_count": null,
   "id": "correct-current",
   "metadata": {},
   "outputs": [],
   "source": [
    "PATH='C:/Users/mehak/OneDrive - University of Delaware - o365/Beheshti, Rahmat - Mehak - Brennan/model/data/'"
   ]
  },
  {
   "cell_type": "code",
   "execution_count": null,
   "id": "basic-scout",
   "metadata": {},
   "outputs": [],
   "source": [
    "gen=Generator(include_time,bucket)"
   ]
  },
  {
   "cell_type": "code",
   "execution_count": null,
   "id": "controlling-venezuela",
   "metadata": {},
   "outputs": [],
   "source": [
    "nBatches=utils.init(PATH,batch_size=100,dic=False)"
   ]
  },
  {
   "cell_type": "code",
   "execution_count": null,
   "id": "speaking-netscape",
   "metadata": {},
   "outputs": [],
   "source": [
    "get_batch_data(data, gen.med_per_adm, gen.cond_per_adm, gen.los)"
   ]
  }
 ],
 "metadata": {
  "hide_input": false,
  "kernelspec": {
   "display_name": "Python [conda env:DSRA] *",
   "language": "python",
   "name": "conda-env-DSRA-py"
  },
  "language_info": {
   "codemirror_mode": {
    "name": "ipython",
    "version": 3
   },
   "file_extension": ".py",
   "mimetype": "text/x-python",
   "name": "python",
   "nbconvert_exporter": "python",
   "pygments_lexer": "ipython3",
   "version": "3.7.1"
  }
 },
 "nbformat": 4,
 "nbformat_minor": 5
}
