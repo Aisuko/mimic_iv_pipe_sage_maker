{
 "cells": [
  {
   "cell_type": "code",
   "execution_count": 4,
   "id": "drawn-relative",
   "metadata": {},
   "outputs": [],
   "source": [
    "import pandas as pd\n",
    "import numpy as np\n",
    "import pickle\n",
    "import torch\n",
    "import random"
   ]
  },
  {
   "cell_type": "code",
   "execution_count": 2,
   "id": "nonprofit-welding",
   "metadata": {},
   "outputs": [],
   "source": [
    "MAX_COND_SEQ=56#[118,201,248,248]\n",
    "MAX_PROC_SEQ=40\n",
    "MAX_MED_SEQ=819\n",
    "MAX_LAB_SEQ=899\n",
    "MAX_BMI_SEQ=118\n",
    "PATH='C:/Users/mehak/OneDrive - University of Delaware - o365/Beheshti, Rahmat - Mehak - Brennan/model/data/'"
   ]
  },
  {
   "cell_type": "code",
   "execution_count": null,
   "id": "killing-pregnancy",
   "metadata": {},
   "outputs": [],
   "source": []
  },
  {
   "cell_type": "code",
   "execution_count": 2,
   "id": "promising-network",
   "metadata": {},
   "outputs": [],
   "source": [
    "def create_vocab(file):\n",
    "    with open (PATH+file, 'rb') as fp:\n",
    "        condVocab = pickle.load(fp)\n",
    "    condVocabDict={}\n",
    "    condVocabDict['<PAD>']=0\n",
    "    for val in range(len(condVocab)):\n",
    "        condVocabDict[condVocab[val]]= val+1    \n",
    "\n",
    "    return condVocabDict"
   ]
  },
  {
   "cell_type": "code",
   "execution_count": null,
   "id": "plastic-knight",
   "metadata": {},
   "outputs": [],
   "source": [
    "def create_age_vocab():\n",
    "    ageVocabDict={}\n",
    "    ageVocabDict['<PAD>']=0\n",
    "    i=1\n",
    "    for val in range(min_age,max_age+1):\n",
    "        ageVocabDict[val]= i\n",
    "        i=i+1\n",
    "    with open('ageVocabDict', 'wb') as fp:\n",
    "        pickle.dump(ageVocabDict, fp)"
   ]
  },
  {
   "cell_type": "code",
   "execution_count": 29,
   "id": "liberal-buying",
   "metadata": {},
   "outputs": [],
   "source": [
    "def create_batches(batch_size):\n",
    "    with open (PATH+'hadmDic', 'rb') as fp:\n",
    "        hids = pickle.load(fp)\n",
    "    \n",
    "    batchDict={}\n",
    "    with open (PATH+'dataDic', 'rb') as fp:\n",
    "        dataDic = pickle.load(fp)\n",
    "\n",
    "    batch_idx=0\n",
    "    for i in range(0,len(hids),batch_size):\n",
    "        rids=random.sample(range(0,len(hids)), batch_size)\n",
    "        batch_hids=hids[rids]\n",
    "        batchDict[batch_idx]=dict((k, dataDic[k]) for k in batch_hids)\n",
    "        batch_idx=batch_idx+1\n",
    "        \n",
    "    return batchDict"
   ]
  },
  {
   "cell_type": "code",
   "execution_count": null,
   "id": "alike-criticism",
   "metadata": {},
   "outputs": [],
   "source": [
    "def init(batch_size,dic=False):\n",
    "    if dic:\n",
    "        condVocabDict=create_vocab('condVocab')\n",
    "        procVocabDict=create_vocab('procVocab')\n",
    "        medVocabDict=create_vocab('medVocab')\n",
    "        \n",
    "#         create_age_vocab()\n",
    "        with open(PATH+'condVocabDict', 'wb') as fp:\n",
    "            pickle.dump(condVocabDict, fp)\n",
    "        with open(PATH+'procVocabDict', 'wb') as fp:\n",
    "            pickle.dump(procVocabDict, fp)\n",
    "        with open(PATH+'medVocabDict', 'wb') as fp:\n",
    "            pickle.dump(medVocabDict, fp)\n",
    "\n",
    "        \n",
    "    batchDict= create_batches(batch_size)\n",
    "    \n",
    "    with open(PATH+'batchDict', 'wb') as fp:\n",
    "        pickle.dump(batchDict, fp)\n",
    "    #print(batchDict[1])\n",
    "    return len(batchDict)"
   ]
  },
  {
   "cell_type": "code",
   "execution_count": null,
   "id": "orange-meeting",
   "metadata": {},
   "outputs": [],
   "source": [
    "def get_batches():\n",
    "    with open (PATH+'batchDict', 'rb') as fp:\n",
    "        batchDict = pickle.load(fp)\n",
    "    return batchDict"
   ]
  },
  {
   "cell_type": "code",
   "execution_count": 5,
   "id": "weekly-matthew",
   "metadata": {},
   "outputs": [],
   "source": [
    "#with open (PATH+'batchDict', 'rb') as fp:\n",
    "#        batchDict = pickle.load(fp)"
   ]
  },
  {
   "cell_type": "code",
   "execution_count": 9,
   "id": "iraqi-agriculture",
   "metadata": {},
   "outputs": [
    {
     "name": "stdout",
     "output_type": "stream",
     "text": [
      "Cond\n",
      "[664, 71, 66, 97, 57, 120, 663, 35, 676]\n",
      "Proc\n"
     ]
    },
    {
     "ename": "TypeError",
     "evalue": "list indices must be integers or slices, not str",
     "output_type": "error",
     "traceback": [
      "\u001b[1;31m---------------------------------------------------------------------------\u001b[0m",
      "\u001b[1;31mTypeError\u001b[0m                                 Traceback (most recent call last)",
      "\u001b[1;32m<ipython-input-9-8e31d27623f8>\u001b[0m in \u001b[0;36m<module>\u001b[1;34m\u001b[0m\n\u001b[1;32m----> 1\u001b[1;33m \u001b[0mget_batch_data\u001b[0m\u001b[1;33m(\u001b[0m\u001b[0mbatchDict\u001b[0m\u001b[1;33m[\u001b[0m\u001b[1;36m1\u001b[0m\u001b[1;33m]\u001b[0m\u001b[1;33m)\u001b[0m\u001b[1;33m\u001b[0m\u001b[1;33m\u001b[0m\u001b[0m\n\u001b[0m",
      "\u001b[1;32m<ipython-input-8-a32b4b2bf45a>\u001b[0m in \u001b[0;36mget_batch_data\u001b[1;34m(data)\u001b[0m\n\u001b[0;32m     38\u001b[0m \u001b[1;33m\u001b[0m\u001b[0m\n\u001b[0;32m     39\u001b[0m             \u001b[1;32mif\u001b[0m \u001b[0mfeature\u001b[0m\u001b[1;33m==\u001b[0m\u001b[1;34m'Proc'\u001b[0m\u001b[1;33m:\u001b[0m\u001b[1;33m\u001b[0m\u001b[1;33m\u001b[0m\u001b[0m\n\u001b[1;32m---> 40\u001b[1;33m                 \u001b[0mfids\u001b[0m\u001b[1;33m=\u001b[0m\u001b[0mlist\u001b[0m\u001b[1;33m(\u001b[0m\u001b[0mpd\u001b[0m\u001b[1;33m.\u001b[0m\u001b[0mSeries\u001b[0m\u001b[1;33m(\u001b[0m\u001b[0mfeat_data\u001b[0m\u001b[1;33m[\u001b[0m\u001b[1;34m'fids'\u001b[0m\u001b[1;33m]\u001b[0m\u001b[1;33m)\u001b[0m\u001b[1;33m.\u001b[0m\u001b[0mmap\u001b[0m\u001b[1;33m(\u001b[0m\u001b[0mprocVocabDict\u001b[0m\u001b[1;33m)\u001b[0m\u001b[1;33m)\u001b[0m\u001b[1;33m\u001b[0m\u001b[1;33m\u001b[0m\u001b[0m\n\u001b[0m\u001b[0;32m     41\u001b[0m                 \u001b[0mfids_pad\u001b[0m\u001b[1;33m=\u001b[0m\u001b[0mlist\u001b[0m\u001b[1;33m(\u001b[0m\u001b[0mnp\u001b[0m\u001b[1;33m.\u001b[0m\u001b[0mzeros\u001b[0m\u001b[1;33m(\u001b[0m\u001b[0mMAX_PROC_SEQ\u001b[0m\u001b[1;33m)\u001b[0m\u001b[1;33m)\u001b[0m\u001b[1;33m\u001b[0m\u001b[1;33m\u001b[0m\u001b[0m\n\u001b[0;32m     42\u001b[0m                 \u001b[0mfids_pad\u001b[0m\u001b[1;33m[\u001b[0m\u001b[1;36m0\u001b[0m\u001b[1;33m:\u001b[0m\u001b[0mlen\u001b[0m\u001b[1;33m(\u001b[0m\u001b[0mfids\u001b[0m\u001b[1;33m)\u001b[0m\u001b[1;33m]\u001b[0m\u001b[1;33m=\u001b[0m\u001b[0mfids\u001b[0m\u001b[1;33m\u001b[0m\u001b[1;33m\u001b[0m\u001b[0m\n",
      "\u001b[1;31mTypeError\u001b[0m: list indices must be integers or slices, not str"
     ]
    }
   ],
   "source": [
    "#get_batch_data(batchDict[1])"
   ]
  },
  {
   "cell_type": "code",
   "execution_count": 8,
   "id": "analyzed-earthquake",
   "metadata": {},
   "outputs": [],
   "source": [
    "def get_batch_data(data): \n",
    "    conds=[]\n",
    "    cond_lengths=[]    \n",
    "    cond_ages=[]\n",
    "    cond_flag=[]\n",
    "    procs=[]\n",
    "    proc_lengths=[]    \n",
    "    proc_ages=[]\n",
    "    meds=[]\n",
    "    med_lengths=[]    \n",
    "    med_ages=[]\n",
    "    labs=[]\n",
    "    lab_lengths=[]    \n",
    "    lab_ages=[]\n",
    "    bmi=[]\n",
    "    bmi_lengths=[]    \n",
    "    bmi_ages=[]\n",
    "    labels=[]\n",
    "    census=[]\n",
    "    with open (PATH+'condVocabDict', 'rb') as fp:\n",
    "        condVocabDict = pickle.load(fp)\n",
    "    with open (PATH+'procVocabDict', 'rb') as fp:\n",
    "        procVocabDict = pickle.load(fp)\n",
    "    with open (PATH+'medVocabDict', 'rb') as fp:\n",
    "        medVocabDict = pickle.load(fp)\n",
    "\n",
    "\n",
    "    for hid, hid_data in data.items():\n",
    "        for feature, feat_data in hid_data.items():\n",
    "            #print(feature)\n",
    "            if feature=='Cond':\n",
    "                fids=list(pd.Series(feat_data['fids']).map(condVocabDict))\n",
    "                fids_pad=list(np.zeros(MAX_COND_SEQ))\n",
    "                fids_pad[0:len(fids)]=fids\n",
    "                conds.append(fids_pad) \n",
    "                cond_lengths.append(len(fids))#(sum(x > 0 for x in fids_pad))\n",
    "                #print(fids)\n",
    "\n",
    "            if feature=='Proc':\n",
    "                fids=list(pd.Series(feat_data['fids']).map(procVocabDict))\n",
    "                fids_pad=list(np.zeros(MAX_PROC_SEQ))\n",
    "                fids_pad[0:len(fids)]=fids\n",
    "                procs.append(fids_pad) \n",
    "                proc_lengths.append(len(fids))#(sum(x > 0 for x in fids_pad))\n",
    " \n",
    "            if feature=='Med':\n",
    "                fids=list(pd.Series(feat_data['fids']).map(medVocabDict))\n",
    "                fids_pad=list(np.zeros(MAX_MED_SEQ))\n",
    "                fids_pad[0:len(fids)]=fids\n",
    "                meds.append(fids_pad) \n",
    "                med_lengths.append(len(fids))#(sum(x > 0 for x in fids_pad))\n",
    "                \n",
    "        labels.append(hid_data['label'])\n",
    "    return conds,cond_lengths,procs,proc_lengths,meds,med_lengths,labels"
   ]
  },
  {
   "cell_type": "code",
   "execution_count": null,
   "id": "hungarian-russia",
   "metadata": {},
   "outputs": [],
   "source": []
  }
 ],
 "metadata": {
  "kernelspec": {
   "display_name": "Python [conda env:DSRA] *",
   "language": "python",
   "name": "conda-env-DSRA-py"
  },
  "language_info": {
   "codemirror_mode": {
    "name": "ipython",
    "version": 3
   },
   "file_extension": ".py",
   "mimetype": "text/x-python",
   "name": "python",
   "nbconvert_exporter": "python",
   "pygments_lexer": "ipython3",
   "version": "3.7.1"
  }
 },
 "nbformat": 4,
 "nbformat_minor": 5
}
