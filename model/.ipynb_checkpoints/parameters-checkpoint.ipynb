{
 "cells": [
  {
   "cell_type": "code",
   "execution_count": null,
   "id": "ethical-bandwidth",
   "metadata": {},
   "outputs": [],
   "source": [
    "import numpy as np\n",
    "import pandas as pd\n",
    "from tqdm import tqdm\n",
    "from datetime import datetime\n",
    "import pickle\n",
    "import datetime\n",
    "import os\n",
    "import sys\n",
    "from pathlib import Path\n",
    "sys.path.append(os.path.dirname(os.path.abspath(__file__)) + './../..')\n",
    "import argparse"
   ]
  },
  {
   "cell_type": "code",
   "execution_count": null,
   "id": "liable-messaging",
   "metadata": {},
   "outputs": [],
   "source": [
    "ARG_PARSER = ArgumentParser()\n",
    "\n",
    "ARG_PARSER.add_argument('--nfeatures', default=947, type=int)\n",
    "ARG_PARSER.add_argument('--dfeatures', default=43, type=int)\n",
    "ARG_PARSER.add_argument('--ehidden', default=74, type=int)\n",
    "\n",
    "\n",
    "ARG_PARSER.add_argument('--num_epochs', default=100, type=int)\n",
    "ARG_PARSER.add_argument('--filter_size', default=10, type=int)\n",
    "ARG_PARSER.add_argument('--cond_seq_len', default=56, type=int)#473\n",
    "ARG_PARSER.add_argument('--proc_seq_len', default=40, type=int)#490\n",
    "ARG_PARSER.add_argument('--med_seq_len', default=819, type=int)#565\n",
    "ARG_PARSER.add_argument('--lab_seq_len', default=899, type=int)\n",
    "ARG_PARSER.add_argument('--bmi_seq_len', default=118, type=int)#54\n",
    "ARG_PARSER.add_argument('--time_vocab_size', default=26, type=int)\n",
    "ARG_PARSER.add_argument('--cond_vocab_size', default=1517, type=int)#607#625\n",
    "ARG_PARSER.add_argument('--proc_vocab_size', default=4840, type=int)#355#347\n",
    "ARG_PARSER.add_argument('--med_vocab_size', default=817, type=int)#340#378\n",
    "ARG_PARSER.add_argument('--lab_vocab_size', default=2310, type=int)\n",
    "ARG_PARSER.add_argument('--census_vocab_size', default=75, type=int)#74,75\n",
    "ARG_PARSER.add_argument('--bmi_vocab_size', default=102, type=int)#74,75\n",
    "ARG_PARSER.add_argument('--batch_size', default=5, type=int)\n",
    "ARG_PARSER.add_argument('--patience', default=100, type=int)\n",
    "ARG_PARSER.add_argument('--embedding_size', default=5, type=float)\n",
    "ARG_PARSER.add_argument('--rnn_size', default=24, type=float)\n",
    "ARG_PARSER.add_argument('--lrn_rate', default=0.0001, type=float)\n",
    "ARG_PARSER.add_argument('--resume_training', default=False)\n",
    "ARG_PARSER.add_argument('--train', default=True)\n",
    "ARG_PARSER.add_argument('--eval', default=False)"
   ]
  }
 ],
 "metadata": {
  "hide_input": false,
  "kernelspec": {
   "display_name": "Python [conda env:DSRA] *",
   "language": "python",
   "name": "conda-env-DSRA-py"
  },
  "language_info": {
   "codemirror_mode": {
    "name": "ipython",
    "version": 3
   },
   "file_extension": ".py",
   "mimetype": "text/x-python",
   "name": "python",
   "nbconvert_exporter": "python",
   "pygments_lexer": "ipython3",
   "version": "3.7.1"
  }
 },
 "nbformat": 4,
 "nbformat_minor": 5
}
