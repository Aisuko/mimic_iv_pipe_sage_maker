{
 "cells": [
  {
   "cell_type": "code",
   "execution_count": 1,
   "id": "sticky-charlotte",
   "metadata": {},
   "outputs": [],
   "source": [
    "import pandas as pd\n",
    "from tqdm import tqdm\n",
    "import pickle\n",
    "path='C:/Users/mehak/OneDrive - University of Delaware - o365/Beheshti, Rahmat - Mehak - Brennan/data/'"
   ]
  },
  {
   "cell_type": "code",
   "execution_count": 2,
   "id": "finite-capture",
   "metadata": {},
   "outputs": [],
   "source": [
    "data=pd.read_csv(path+'day_intervals/cohort/cohort30day.csv.gz', compression='gzip', header=0, index_col=None)"
   ]
  },
  {
   "cell_type": "code",
   "execution_count": 3,
   "id": "affiliated-fetish",
   "metadata": {},
   "outputs": [],
   "source": [
    "from datetime import datetime\n",
    "\n",
    "data['admittime'] = pd.to_datetime(data['admittime'])\n",
    "data['dischtime'] = pd.to_datetime(data['dischtime'])"
   ]
  },
  {
   "cell_type": "code",
   "execution_count": 4,
   "id": "authentic-enclosure",
   "metadata": {
    "scrolled": true
   },
   "outputs": [
    {
     "data": {
      "text/html": [
       "<div>\n",
       "<style scoped>\n",
       "    .dataframe tbody tr th:only-of-type {\n",
       "        vertical-align: middle;\n",
       "    }\n",
       "\n",
       "    .dataframe tbody tr th {\n",
       "        vertical-align: top;\n",
       "    }\n",
       "\n",
       "    .dataframe thead th {\n",
       "        text-align: right;\n",
       "    }\n",
       "</style>\n",
       "<table border=\"1\" class=\"dataframe\">\n",
       "  <thead>\n",
       "    <tr style=\"text-align: right;\">\n",
       "      <th></th>\n",
       "      <th>admittime</th>\n",
       "      <th>dischtime</th>\n",
       "      <th>hadm_id</th>\n",
       "      <th>min_valid_year</th>\n",
       "      <th>subject_id</th>\n",
       "      <th>label</th>\n",
       "    </tr>\n",
       "  </thead>\n",
       "  <tbody>\n",
       "    <tr>\n",
       "      <th>0</th>\n",
       "      <td>2180-06-26 18:27:00</td>\n",
       "      <td>2180-06-27 18:49:00</td>\n",
       "      <td>22841357.0</td>\n",
       "      <td>2183.0</td>\n",
       "      <td>10000032.0</td>\n",
       "      <td>1</td>\n",
       "    </tr>\n",
       "    <tr>\n",
       "      <th>1</th>\n",
       "      <td>2180-07-23 12:35:00</td>\n",
       "      <td>2180-07-25 17:55:00</td>\n",
       "      <td>29079034.0</td>\n",
       "      <td>2183.0</td>\n",
       "      <td>10000032.0</td>\n",
       "      <td>1</td>\n",
       "    </tr>\n",
       "    <tr>\n",
       "      <th>2</th>\n",
       "      <td>2146-12-05 19:07:00</td>\n",
       "      <td>2146-12-12 16:30:00</td>\n",
       "      <td>20032235.0</td>\n",
       "      <td>2155.0</td>\n",
       "      <td>10000826.0</td>\n",
       "      <td>1</td>\n",
       "    </tr>\n",
       "    <tr>\n",
       "      <th>3</th>\n",
       "      <td>2146-12-18 17:39:00</td>\n",
       "      <td>2146-12-24 19:55:00</td>\n",
       "      <td>21086876.0</td>\n",
       "      <td>2155.0</td>\n",
       "      <td>10000826.0</td>\n",
       "      <td>1</td>\n",
       "    </tr>\n",
       "    <tr>\n",
       "      <th>4</th>\n",
       "      <td>2124-05-14 17:25:00</td>\n",
       "      <td>2124-05-14 21:10:00</td>\n",
       "      <td>29957930.0</td>\n",
       "      <td>2133.0</td>\n",
       "      <td>10000883.0</td>\n",
       "      <td>1</td>\n",
       "    </tr>\n",
       "  </tbody>\n",
       "</table>\n",
       "</div>"
      ],
      "text/plain": [
       "            admittime           dischtime     hadm_id  min_valid_year  \\\n",
       "0 2180-06-26 18:27:00 2180-06-27 18:49:00  22841357.0          2183.0   \n",
       "1 2180-07-23 12:35:00 2180-07-25 17:55:00  29079034.0          2183.0   \n",
       "2 2146-12-05 19:07:00 2146-12-12 16:30:00  20032235.0          2155.0   \n",
       "3 2146-12-18 17:39:00 2146-12-24 19:55:00  21086876.0          2155.0   \n",
       "4 2124-05-14 17:25:00 2124-05-14 21:10:00  29957930.0          2133.0   \n",
       "\n",
       "   subject_id  label  \n",
       "0  10000032.0      1  \n",
       "1  10000032.0      1  \n",
       "2  10000826.0      1  \n",
       "3  10000826.0      1  \n",
       "4  10000883.0      1  "
      ]
     },
     "execution_count": 4,
     "metadata": {},
     "output_type": "execute_result"
    }
   ],
   "source": [
    "data.head()"
   ]
  },
  {
   "cell_type": "code",
   "execution_count": 5,
   "id": "checked-photography",
   "metadata": {},
   "outputs": [],
   "source": [
    "data['los']=pd.to_timedelta(data['dischtime']-data['admittime'],unit='h')\n",
    "data['los']=data['los'].astype(str)"
   ]
  },
  {
   "cell_type": "code",
   "execution_count": 6,
   "id": "collect-plasma",
   "metadata": {},
   "outputs": [],
   "source": [
    "data[['days', 'dummy','hours']] = data['los'].str.split(' ', -1, expand=True)\n",
    "data[['hours','min','sec']] = data['hours'].str.split(':', -1, expand=True)\n",
    "data['los']=pd.to_numeric(data['days'])*24+pd.to_numeric(data['hours'])"
   ]
  },
  {
   "cell_type": "code",
   "execution_count": 7,
   "id": "contrary-blues",
   "metadata": {},
   "outputs": [],
   "source": [
    "data=data.drop(columns=['days', 'dummy','hours','min','sec'])"
   ]
  },
  {
   "cell_type": "code",
   "execution_count": 8,
   "id": "twelve-exception",
   "metadata": {},
   "outputs": [
    {
     "data": {
      "text/html": [
       "<div>\n",
       "<style scoped>\n",
       "    .dataframe tbody tr th:only-of-type {\n",
       "        vertical-align: middle;\n",
       "    }\n",
       "\n",
       "    .dataframe tbody tr th {\n",
       "        vertical-align: top;\n",
       "    }\n",
       "\n",
       "    .dataframe thead th {\n",
       "        text-align: right;\n",
       "    }\n",
       "</style>\n",
       "<table border=\"1\" class=\"dataframe\">\n",
       "  <thead>\n",
       "    <tr style=\"text-align: right;\">\n",
       "      <th></th>\n",
       "      <th>admittime</th>\n",
       "      <th>dischtime</th>\n",
       "      <th>hadm_id</th>\n",
       "      <th>min_valid_year</th>\n",
       "      <th>subject_id</th>\n",
       "      <th>label</th>\n",
       "      <th>los</th>\n",
       "    </tr>\n",
       "  </thead>\n",
       "  <tbody>\n",
       "    <tr>\n",
       "      <th>0</th>\n",
       "      <td>2180-06-26 18:27:00</td>\n",
       "      <td>2180-06-27 18:49:00</td>\n",
       "      <td>22841357.0</td>\n",
       "      <td>2183.0</td>\n",
       "      <td>10000032.0</td>\n",
       "      <td>1</td>\n",
       "      <td>24</td>\n",
       "    </tr>\n",
       "    <tr>\n",
       "      <th>1</th>\n",
       "      <td>2180-07-23 12:35:00</td>\n",
       "      <td>2180-07-25 17:55:00</td>\n",
       "      <td>29079034.0</td>\n",
       "      <td>2183.0</td>\n",
       "      <td>10000032.0</td>\n",
       "      <td>1</td>\n",
       "      <td>53</td>\n",
       "    </tr>\n",
       "    <tr>\n",
       "      <th>2</th>\n",
       "      <td>2146-12-05 19:07:00</td>\n",
       "      <td>2146-12-12 16:30:00</td>\n",
       "      <td>20032235.0</td>\n",
       "      <td>2155.0</td>\n",
       "      <td>10000826.0</td>\n",
       "      <td>1</td>\n",
       "      <td>165</td>\n",
       "    </tr>\n",
       "    <tr>\n",
       "      <th>3</th>\n",
       "      <td>2146-12-18 17:39:00</td>\n",
       "      <td>2146-12-24 19:55:00</td>\n",
       "      <td>21086876.0</td>\n",
       "      <td>2155.0</td>\n",
       "      <td>10000826.0</td>\n",
       "      <td>1</td>\n",
       "      <td>146</td>\n",
       "    </tr>\n",
       "    <tr>\n",
       "      <th>4</th>\n",
       "      <td>2124-05-14 17:25:00</td>\n",
       "      <td>2124-05-14 21:10:00</td>\n",
       "      <td>29957930.0</td>\n",
       "      <td>2133.0</td>\n",
       "      <td>10000883.0</td>\n",
       "      <td>1</td>\n",
       "      <td>3</td>\n",
       "    </tr>\n",
       "  </tbody>\n",
       "</table>\n",
       "</div>"
      ],
      "text/plain": [
       "            admittime           dischtime     hadm_id  min_valid_year  \\\n",
       "0 2180-06-26 18:27:00 2180-06-27 18:49:00  22841357.0          2183.0   \n",
       "1 2180-07-23 12:35:00 2180-07-25 17:55:00  29079034.0          2183.0   \n",
       "2 2146-12-05 19:07:00 2146-12-12 16:30:00  20032235.0          2155.0   \n",
       "3 2146-12-18 17:39:00 2146-12-24 19:55:00  21086876.0          2155.0   \n",
       "4 2124-05-14 17:25:00 2124-05-14 21:10:00  29957930.0          2133.0   \n",
       "\n",
       "   subject_id  label  los  \n",
       "0  10000032.0      1   24  \n",
       "1  10000032.0      1   53  \n",
       "2  10000826.0      1  165  \n",
       "3  10000826.0      1  146  \n",
       "4  10000883.0      1    3  "
      ]
     },
     "execution_count": 8,
     "metadata": {},
     "output_type": "execute_result"
    }
   ],
   "source": [
    "data.head()"
   ]
  },
  {
   "cell_type": "code",
   "execution_count": 9,
   "id": "altered-apple",
   "metadata": {},
   "outputs": [],
   "source": [
    "data=data[data['los']>0]"
   ]
  },
  {
   "cell_type": "code",
   "execution_count": 10,
   "id": "sticky-confidentiality",
   "metadata": {},
   "outputs": [
    {
     "data": {
      "text/plain": [
       "1"
      ]
     },
     "execution_count": 10,
     "metadata": {},
     "output_type": "execute_result"
    }
   ],
   "source": [
    "data['los'].min()"
   ]
  },
  {
   "cell_type": "code",
   "execution_count": 11,
   "id": "legislative-chrome",
   "metadata": {},
   "outputs": [
    {
     "data": {
      "text/plain": [
       "11210"
      ]
     },
     "execution_count": 11,
     "metadata": {},
     "output_type": "execute_result"
    }
   ],
   "source": [
    "data['los'].max()"
   ]
  },
  {
   "cell_type": "code",
   "execution_count": 12,
   "id": "changing-indication",
   "metadata": {},
   "outputs": [
    {
     "data": {
      "text/plain": [
       "189382"
      ]
     },
     "execution_count": 12,
     "metadata": {},
     "output_type": "execute_result"
    }
   ],
   "source": [
    "data['subject_id'].nunique()"
   ]
  },
  {
   "cell_type": "code",
   "execution_count": 13,
   "id": "adjusted-witness",
   "metadata": {},
   "outputs": [
    {
     "data": {
      "text/plain": [
       "88015"
      ]
     },
     "execution_count": 13,
     "metadata": {},
     "output_type": "execute_result"
    }
   ],
   "source": [
    "data[data['label']==1]['hadm_id'].nunique()"
   ]
  },
  {
   "cell_type": "code",
   "execution_count": 14,
   "id": "related-glasgow",
   "metadata": {},
   "outputs": [
    {
     "data": {
      "text/plain": [
       "359625"
      ]
     },
     "execution_count": 14,
     "metadata": {},
     "output_type": "execute_result"
    }
   ],
   "source": [
    "data[data['label']==0]['hadm_id'].nunique()"
   ]
  },
  {
   "cell_type": "code",
   "execution_count": 15,
   "id": "czech-fountain",
   "metadata": {},
   "outputs": [
    {
     "data": {
      "text/plain": [
       "447640"
      ]
     },
     "execution_count": 15,
     "metadata": {},
     "output_type": "execute_result"
    }
   ],
   "source": [
    "data['hadm_id'].nunique()"
   ]
  },
  {
   "cell_type": "code",
   "execution_count": 12,
   "id": "proprietary-michael",
   "metadata": {},
   "outputs": [],
   "source": [
    "cond=pd.read_csv(path+'long_format/diag/long_diag_icd10_roots_norm.csv.gz', compression='gzip', header=0, index_col=None)"
   ]
  },
  {
   "cell_type": "code",
   "execution_count": 13,
   "id": "outdoor-gauge",
   "metadata": {},
   "outputs": [
    {
     "data": {
      "text/html": [
       "<div>\n",
       "<style scoped>\n",
       "    .dataframe tbody tr th:only-of-type {\n",
       "        vertical-align: middle;\n",
       "    }\n",
       "\n",
       "    .dataframe tbody tr th {\n",
       "        vertical-align: top;\n",
       "    }\n",
       "\n",
       "    .dataframe thead th {\n",
       "        text-align: right;\n",
       "    }\n",
       "</style>\n",
       "<table border=\"1\" class=\"dataframe\">\n",
       "  <thead>\n",
       "    <tr style=\"text-align: right;\">\n",
       "      <th></th>\n",
       "      <th>subject_id</th>\n",
       "      <th>hadm_id</th>\n",
       "      <th>root</th>\n",
       "      <th>timedelta</th>\n",
       "    </tr>\n",
       "  </thead>\n",
       "  <tbody>\n",
       "    <tr>\n",
       "      <th>0</th>\n",
       "      <td>15734973</td>\n",
       "      <td>20475282</td>\n",
       "      <td>D58</td>\n",
       "      <td>0</td>\n",
       "    </tr>\n",
       "    <tr>\n",
       "      <th>1</th>\n",
       "      <td>15734973</td>\n",
       "      <td>20012083</td>\n",
       "      <td>O44</td>\n",
       "      <td>1798</td>\n",
       "    </tr>\n",
       "    <tr>\n",
       "      <th>2</th>\n",
       "      <td>15734973</td>\n",
       "      <td>20012083</td>\n",
       "      <td>D58</td>\n",
       "      <td>1798</td>\n",
       "    </tr>\n",
       "    <tr>\n",
       "      <th>3</th>\n",
       "      <td>11442057</td>\n",
       "      <td>21518990</td>\n",
       "      <td>O61</td>\n",
       "      <td>0</td>\n",
       "    </tr>\n",
       "    <tr>\n",
       "      <th>4</th>\n",
       "      <td>11442057</td>\n",
       "      <td>21518990</td>\n",
       "      <td>O10</td>\n",
       "      <td>0</td>\n",
       "    </tr>\n",
       "  </tbody>\n",
       "</table>\n",
       "</div>"
      ],
      "text/plain": [
       "   subject_id   hadm_id root  timedelta\n",
       "0    15734973  20475282  D58          0\n",
       "1    15734973  20012083  O44       1798\n",
       "2    15734973  20012083  D58       1798\n",
       "3    11442057  21518990  O61          0\n",
       "4    11442057  21518990  O10          0"
      ]
     },
     "execution_count": 13,
     "metadata": {},
     "output_type": "execute_result"
    }
   ],
   "source": [
    "cond.head()"
   ]
  },
  {
   "cell_type": "code",
   "execution_count": 14,
   "id": "printable-patrick",
   "metadata": {},
   "outputs": [],
   "source": [
    "cond=cond[cond['hadm_id'].isin(data['hadm_id'])]"
   ]
  },
  {
   "cell_type": "code",
   "execution_count": 15,
   "id": "activated-substitute",
   "metadata": {},
   "outputs": [
    {
     "data": {
      "text/plain": [
       "139350"
      ]
     },
     "execution_count": 15,
     "metadata": {},
     "output_type": "execute_result"
    }
   ],
   "source": [
    "cond['subject_id'].nunique()"
   ]
  },
  {
   "cell_type": "code",
   "execution_count": 16,
   "id": "lucky-needle",
   "metadata": {},
   "outputs": [
    {
     "data": {
      "text/plain": [
       "296593"
      ]
     },
     "execution_count": 16,
     "metadata": {},
     "output_type": "execute_result"
    }
   ],
   "source": [
    "cond['hadm_id'].nunique()"
   ]
  },
  {
   "cell_type": "code",
   "execution_count": 17,
   "id": "therapeutic-separation",
   "metadata": {},
   "outputs": [],
   "source": [
    "meds=pd.read_csv(path+'long_format/meds/preproc_med_nonproprietary.csv.gz', compression='gzip', header=0, index_col=None)"
   ]
  },
  {
   "cell_type": "code",
   "execution_count": 18,
   "id": "still-champion",
   "metadata": {},
   "outputs": [
    {
     "data": {
      "text/html": [
       "<div>\n",
       "<style scoped>\n",
       "    .dataframe tbody tr th:only-of-type {\n",
       "        vertical-align: middle;\n",
       "    }\n",
       "\n",
       "    .dataframe tbody tr th {\n",
       "        vertical-align: top;\n",
       "    }\n",
       "\n",
       "    .dataframe thead th {\n",
       "        text-align: right;\n",
       "    }\n",
       "</style>\n",
       "<table border=\"1\" class=\"dataframe\">\n",
       "  <thead>\n",
       "    <tr style=\"text-align: right;\">\n",
       "      <th></th>\n",
       "      <th>subject_id</th>\n",
       "      <th>hadm_id</th>\n",
       "      <th>starttime</th>\n",
       "      <th>nonproprietaryname</th>\n",
       "      <th>start_hours_from_admit</th>\n",
       "      <th>stop_hours_from_admit</th>\n",
       "    </tr>\n",
       "  </thead>\n",
       "  <tbody>\n",
       "    <tr>\n",
       "      <th>0</th>\n",
       "      <td>10000032</td>\n",
       "      <td>22595853</td>\n",
       "      <td>2180-05-07 01:00:00</td>\n",
       "      <td>emtricitabine and tenofovir disoproxil fumarate</td>\n",
       "      <td>0 days 02:37:00</td>\n",
       "      <td>0 days 23:37:00</td>\n",
       "    </tr>\n",
       "    <tr>\n",
       "      <th>1</th>\n",
       "      <td>10000032</td>\n",
       "      <td>22595853</td>\n",
       "      <td>2180-05-07 01:00:00</td>\n",
       "      <td>furosemide</td>\n",
       "      <td>0 days 02:37:00</td>\n",
       "      <td>0 days 10:37:00</td>\n",
       "    </tr>\n",
       "    <tr>\n",
       "      <th>2</th>\n",
       "      <td>10000032</td>\n",
       "      <td>22841357</td>\n",
       "      <td>2180-06-26 23:00:00</td>\n",
       "      <td>furosemide</td>\n",
       "      <td>0 days 04:33:00</td>\n",
       "      <td>0 days 03:33:00</td>\n",
       "    </tr>\n",
       "    <tr>\n",
       "      <th>3</th>\n",
       "      <td>10000032</td>\n",
       "      <td>25742920</td>\n",
       "      <td>2180-08-07 08:00:00</td>\n",
       "      <td>furosemide</td>\n",
       "      <td>1 days 08:16:00</td>\n",
       "      <td>1 days 22:16:00</td>\n",
       "    </tr>\n",
       "    <tr>\n",
       "      <th>4</th>\n",
       "      <td>10000032</td>\n",
       "      <td>29079034</td>\n",
       "      <td>2180-07-23 17:00:00</td>\n",
       "      <td>fluticasone propionate</td>\n",
       "      <td>0 days 04:25:00</td>\n",
       "      <td>2 days 09:25:00</td>\n",
       "    </tr>\n",
       "  </tbody>\n",
       "</table>\n",
       "</div>"
      ],
      "text/plain": [
       "   subject_id   hadm_id            starttime  \\\n",
       "0    10000032  22595853  2180-05-07 01:00:00   \n",
       "1    10000032  22595853  2180-05-07 01:00:00   \n",
       "2    10000032  22841357  2180-06-26 23:00:00   \n",
       "3    10000032  25742920  2180-08-07 08:00:00   \n",
       "4    10000032  29079034  2180-07-23 17:00:00   \n",
       "\n",
       "                                nonproprietaryname start_hours_from_admit  \\\n",
       "0  emtricitabine and tenofovir disoproxil fumarate        0 days 02:37:00   \n",
       "1                                       furosemide        0 days 02:37:00   \n",
       "2                                       furosemide        0 days 04:33:00   \n",
       "3                                       furosemide        1 days 08:16:00   \n",
       "4                           fluticasone propionate        0 days 04:25:00   \n",
       "\n",
       "  stop_hours_from_admit  \n",
       "0       0 days 23:37:00  \n",
       "1       0 days 10:37:00  \n",
       "2       0 days 03:33:00  \n",
       "3       1 days 22:16:00  \n",
       "4       2 days 09:25:00  "
      ]
     },
     "execution_count": 18,
     "metadata": {},
     "output_type": "execute_result"
    }
   ],
   "source": [
    "meds.head()"
   ]
  },
  {
   "cell_type": "code",
   "execution_count": 19,
   "id": "banned-habitat",
   "metadata": {},
   "outputs": [],
   "source": [
    "meds[['start_days', 'dummy','start_hours']] = meds['start_hours_from_admit'].str.split(' ', -1, expand=True)\n",
    "meds[['start_hours','min','sec']] = meds['start_hours'].str.split(':', -1, expand=True)\n",
    "meds['start_time']=pd.to_numeric(meds['start_days'])*24+pd.to_numeric(meds['start_hours'])"
   ]
  },
  {
   "cell_type": "code",
   "execution_count": 20,
   "id": "paperback-brazil",
   "metadata": {},
   "outputs": [],
   "source": [
    "meds[['start_days', 'dummy','start_hours']] = meds['stop_hours_from_admit'].str.split(' ', -1, expand=True)\n",
    "meds[['start_hours','min','sec']] = meds['start_hours'].str.split(':', -1, expand=True)\n",
    "meds['stop_time']=pd.to_numeric(meds['start_days'])*24+pd.to_numeric(meds['start_hours'])"
   ]
  },
  {
   "cell_type": "code",
   "execution_count": 21,
   "id": "major-palace",
   "metadata": {},
   "outputs": [],
   "source": [
    "meds=meds.drop(columns=['start_days', 'dummy','start_hours','min','sec'])"
   ]
  },
  {
   "cell_type": "code",
   "execution_count": 22,
   "id": "blond-avatar",
   "metadata": {},
   "outputs": [],
   "source": [
    "meds['sanity']=meds['stop_time']-meds['start_time']\n",
    "meds=meds[meds['sanity']>0]\n",
    "del meds['sanity']"
   ]
  },
  {
   "cell_type": "code",
   "execution_count": 23,
   "id": "resident-serbia",
   "metadata": {},
   "outputs": [
    {
     "data": {
      "text/html": [
       "<div>\n",
       "<style scoped>\n",
       "    .dataframe tbody tr th:only-of-type {\n",
       "        vertical-align: middle;\n",
       "    }\n",
       "\n",
       "    .dataframe tbody tr th {\n",
       "        vertical-align: top;\n",
       "    }\n",
       "\n",
       "    .dataframe thead th {\n",
       "        text-align: right;\n",
       "    }\n",
       "</style>\n",
       "<table border=\"1\" class=\"dataframe\">\n",
       "  <thead>\n",
       "    <tr style=\"text-align: right;\">\n",
       "      <th></th>\n",
       "      <th>subject_id</th>\n",
       "      <th>hadm_id</th>\n",
       "      <th>starttime</th>\n",
       "      <th>nonproprietaryname</th>\n",
       "      <th>start_hours_from_admit</th>\n",
       "      <th>stop_hours_from_admit</th>\n",
       "      <th>start_time</th>\n",
       "      <th>stop_time</th>\n",
       "    </tr>\n",
       "  </thead>\n",
       "  <tbody>\n",
       "    <tr>\n",
       "      <th>0</th>\n",
       "      <td>10000032</td>\n",
       "      <td>22595853</td>\n",
       "      <td>2180-05-07 01:00:00</td>\n",
       "      <td>emtricitabine and tenofovir disoproxil fumarate</td>\n",
       "      <td>0 days 02:37:00</td>\n",
       "      <td>0 days 23:37:00</td>\n",
       "      <td>2</td>\n",
       "      <td>23</td>\n",
       "    </tr>\n",
       "    <tr>\n",
       "      <th>1</th>\n",
       "      <td>10000032</td>\n",
       "      <td>22595853</td>\n",
       "      <td>2180-05-07 01:00:00</td>\n",
       "      <td>furosemide</td>\n",
       "      <td>0 days 02:37:00</td>\n",
       "      <td>0 days 10:37:00</td>\n",
       "      <td>2</td>\n",
       "      <td>10</td>\n",
       "    </tr>\n",
       "    <tr>\n",
       "      <th>3</th>\n",
       "      <td>10000032</td>\n",
       "      <td>25742920</td>\n",
       "      <td>2180-08-07 08:00:00</td>\n",
       "      <td>furosemide</td>\n",
       "      <td>1 days 08:16:00</td>\n",
       "      <td>1 days 22:16:00</td>\n",
       "      <td>32</td>\n",
       "      <td>46</td>\n",
       "    </tr>\n",
       "    <tr>\n",
       "      <th>4</th>\n",
       "      <td>10000032</td>\n",
       "      <td>29079034</td>\n",
       "      <td>2180-07-23 17:00:00</td>\n",
       "      <td>fluticasone propionate</td>\n",
       "      <td>0 days 04:25:00</td>\n",
       "      <td>2 days 09:25:00</td>\n",
       "      <td>4</td>\n",
       "      <td>57</td>\n",
       "    </tr>\n",
       "    <tr>\n",
       "      <th>5</th>\n",
       "      <td>10000032</td>\n",
       "      <td>25742920</td>\n",
       "      <td>2180-08-06 03:00:00</td>\n",
       "      <td>fluticasone propionate</td>\n",
       "      <td>0 days 03:16:00</td>\n",
       "      <td>1 days 22:16:00</td>\n",
       "      <td>3</td>\n",
       "      <td>46</td>\n",
       "    </tr>\n",
       "  </tbody>\n",
       "</table>\n",
       "</div>"
      ],
      "text/plain": [
       "   subject_id   hadm_id            starttime  \\\n",
       "0    10000032  22595853  2180-05-07 01:00:00   \n",
       "1    10000032  22595853  2180-05-07 01:00:00   \n",
       "3    10000032  25742920  2180-08-07 08:00:00   \n",
       "4    10000032  29079034  2180-07-23 17:00:00   \n",
       "5    10000032  25742920  2180-08-06 03:00:00   \n",
       "\n",
       "                                nonproprietaryname start_hours_from_admit  \\\n",
       "0  emtricitabine and tenofovir disoproxil fumarate        0 days 02:37:00   \n",
       "1                                       furosemide        0 days 02:37:00   \n",
       "3                                       furosemide        1 days 08:16:00   \n",
       "4                           fluticasone propionate        0 days 04:25:00   \n",
       "5                           fluticasone propionate        0 days 03:16:00   \n",
       "\n",
       "  stop_hours_from_admit  start_time  stop_time  \n",
       "0       0 days 23:37:00           2         23  \n",
       "1       0 days 10:37:00           2         10  \n",
       "3       1 days 22:16:00          32         46  \n",
       "4       2 days 09:25:00           4         57  \n",
       "5       1 days 22:16:00           3         46  "
      ]
     },
     "execution_count": 23,
     "metadata": {},
     "output_type": "execute_result"
    }
   ],
   "source": [
    "meds.head()"
   ]
  },
  {
   "cell_type": "code",
   "execution_count": 24,
   "id": "outer-hypothetical",
   "metadata": {},
   "outputs": [],
   "source": [
    "meds=meds[meds['hadm_id'].isin(data['hadm_id'])]"
   ]
  },
  {
   "cell_type": "code",
   "execution_count": 25,
   "id": "worse-emphasis",
   "metadata": {},
   "outputs": [],
   "source": [
    "meds=pd.merge(meds,data[['hadm_id','los']],on='hadm_id',how='left')"
   ]
  },
  {
   "cell_type": "code",
   "execution_count": 26,
   "id": "prostate-bobby",
   "metadata": {},
   "outputs": [],
   "source": [
    "meds['sanity']=meds['los']-meds['start_time']\n",
    "meds=meds[meds['sanity']>0]\n",
    "del meds['sanity']\n",
    "meds.loc[meds['stop_time'] > meds['los'],'stop_time']=meds.loc[meds['stop_time'] > meds['los'],'los']\n",
    "del meds['los']"
   ]
  },
  {
   "cell_type": "code",
   "execution_count": 27,
   "id": "informed-broadway",
   "metadata": {},
   "outputs": [
    {
     "data": {
      "text/plain": [
       "123977"
      ]
     },
     "execution_count": 27,
     "metadata": {},
     "output_type": "execute_result"
    }
   ],
   "source": [
    "meds['subject_id'].nunique()"
   ]
  },
  {
   "cell_type": "code",
   "execution_count": 28,
   "id": "stupid-prospect",
   "metadata": {},
   "outputs": [
    {
     "data": {
      "text/plain": [
       "255932"
      ]
     },
     "execution_count": 28,
     "metadata": {},
     "output_type": "execute_result"
    }
   ],
   "source": [
    "meds['hadm_id'].nunique()"
   ]
  },
  {
   "cell_type": "code",
   "execution_count": 21,
   "id": "parental-quality",
   "metadata": {},
   "outputs": [],
   "source": [
    "proc=pd.read_csv(path+'long_format/proc/long_proc_icd10_norm.csv.gz', compression='gzip', header=0, index_col=None)"
   ]
  },
  {
   "cell_type": "code",
   "execution_count": 22,
   "id": "scheduled-provision",
   "metadata": {},
   "outputs": [
    {
     "data": {
      "text/html": [
       "<div>\n",
       "<style scoped>\n",
       "    .dataframe tbody tr th:only-of-type {\n",
       "        vertical-align: middle;\n",
       "    }\n",
       "\n",
       "    .dataframe tbody tr th {\n",
       "        vertical-align: top;\n",
       "    }\n",
       "\n",
       "    .dataframe thead th {\n",
       "        text-align: right;\n",
       "    }\n",
       "</style>\n",
       "<table border=\"1\" class=\"dataframe\">\n",
       "  <thead>\n",
       "    <tr style=\"text-align: right;\">\n",
       "      <th></th>\n",
       "      <th>subject_id</th>\n",
       "      <th>hadm_id</th>\n",
       "      <th>icd_code</th>\n",
       "      <th>timedelta</th>\n",
       "    </tr>\n",
       "  </thead>\n",
       "  <tbody>\n",
       "    <tr>\n",
       "      <th>0</th>\n",
       "      <td>10001401</td>\n",
       "      <td>21544441</td>\n",
       "      <td>0UT9FZZ</td>\n",
       "      <td>0</td>\n",
       "    </tr>\n",
       "    <tr>\n",
       "      <th>1</th>\n",
       "      <td>10001401</td>\n",
       "      <td>21544441</td>\n",
       "      <td>07BC4ZX</td>\n",
       "      <td>0</td>\n",
       "    </tr>\n",
       "    <tr>\n",
       "      <th>2</th>\n",
       "      <td>10001401</td>\n",
       "      <td>21544441</td>\n",
       "      <td>0TTB4ZZ</td>\n",
       "      <td>0</td>\n",
       "    </tr>\n",
       "    <tr>\n",
       "      <th>3</th>\n",
       "      <td>10001401</td>\n",
       "      <td>21544441</td>\n",
       "      <td>8E0W4CZ</td>\n",
       "      <td>0</td>\n",
       "    </tr>\n",
       "    <tr>\n",
       "      <th>4</th>\n",
       "      <td>10001401</td>\n",
       "      <td>21544441</td>\n",
       "      <td>0T1807C</td>\n",
       "      <td>0</td>\n",
       "    </tr>\n",
       "  </tbody>\n",
       "</table>\n",
       "</div>"
      ],
      "text/plain": [
       "   subject_id   hadm_id icd_code  timedelta\n",
       "0    10001401  21544441  0UT9FZZ          0\n",
       "1    10001401  21544441  07BC4ZX          0\n",
       "2    10001401  21544441  0TTB4ZZ          0\n",
       "3    10001401  21544441  8E0W4CZ          0\n",
       "4    10001401  21544441  0T1807C          0"
      ]
     },
     "execution_count": 22,
     "metadata": {},
     "output_type": "execute_result"
    }
   ],
   "source": [
    "proc.head()"
   ]
  },
  {
   "cell_type": "code",
   "execution_count": 23,
   "id": "written-enlargement",
   "metadata": {},
   "outputs": [],
   "source": [
    "proc=proc[proc['hadm_id'].isin(data['hadm_id'])]"
   ]
  },
  {
   "cell_type": "code",
   "execution_count": 24,
   "id": "ranging-observation",
   "metadata": {},
   "outputs": [
    {
     "data": {
      "text/plain": [
       "10810"
      ]
     },
     "execution_count": 24,
     "metadata": {},
     "output_type": "execute_result"
    }
   ],
   "source": [
    "proc['subject_id'].nunique()"
   ]
  },
  {
   "cell_type": "code",
   "execution_count": 25,
   "id": "enabling-twenty",
   "metadata": {},
   "outputs": [
    {
     "data": {
      "text/plain": [
       "13555"
      ]
     },
     "execution_count": 25,
     "metadata": {},
     "output_type": "execute_result"
    }
   ],
   "source": [
    "proc['hadm_id'].nunique()"
   ]
  },
  {
   "cell_type": "code",
   "execution_count": 26,
   "id": "amber-default",
   "metadata": {},
   "outputs": [],
   "source": [
    "labs=pd.read_csv(path+'long_format/labs/long_labs_units_cleaned_norm.csv.gz', compression='gzip', header=0, index_col=None)"
   ]
  },
  {
   "cell_type": "code",
   "execution_count": 27,
   "id": "regional-receptor",
   "metadata": {},
   "outputs": [
    {
     "data": {
      "text/html": [
       "<div>\n",
       "<style scoped>\n",
       "    .dataframe tbody tr th:only-of-type {\n",
       "        vertical-align: middle;\n",
       "    }\n",
       "\n",
       "    .dataframe tbody tr th {\n",
       "        vertical-align: top;\n",
       "    }\n",
       "\n",
       "    .dataframe thead th {\n",
       "        text-align: right;\n",
       "    }\n",
       "</style>\n",
       "<table border=\"1\" class=\"dataframe\">\n",
       "  <thead>\n",
       "    <tr style=\"text-align: right;\">\n",
       "      <th></th>\n",
       "      <th>subject_id</th>\n",
       "      <th>hadm_id</th>\n",
       "      <th>valuenum</th>\n",
       "      <th>timedelta</th>\n",
       "      <th>itemid</th>\n",
       "    </tr>\n",
       "  </thead>\n",
       "  <tbody>\n",
       "    <tr>\n",
       "      <th>0</th>\n",
       "      <td>10000032</td>\n",
       "      <td>22841357.0</td>\n",
       "      <td>15.7</td>\n",
       "      <td>95</td>\n",
       "      <td>51277</td>\n",
       "    </tr>\n",
       "    <tr>\n",
       "      <th>1</th>\n",
       "      <td>10000032</td>\n",
       "      <td>NaN</td>\n",
       "      <td>16.2</td>\n",
       "      <td>121</td>\n",
       "      <td>51274</td>\n",
       "    </tr>\n",
       "    <tr>\n",
       "      <th>2</th>\n",
       "      <td>10000032</td>\n",
       "      <td>NaN</td>\n",
       "      <td>32.4</td>\n",
       "      <td>121</td>\n",
       "      <td>51275</td>\n",
       "    </tr>\n",
       "    <tr>\n",
       "      <th>3</th>\n",
       "      <td>10000032</td>\n",
       "      <td>NaN</td>\n",
       "      <td>153.0</td>\n",
       "      <td>121</td>\n",
       "      <td>50861</td>\n",
       "    </tr>\n",
       "    <tr>\n",
       "      <th>4</th>\n",
       "      <td>10000032</td>\n",
       "      <td>NaN</td>\n",
       "      <td>3.6</td>\n",
       "      <td>121</td>\n",
       "      <td>50862</td>\n",
       "    </tr>\n",
       "  </tbody>\n",
       "</table>\n",
       "</div>"
      ],
      "text/plain": [
       "   subject_id     hadm_id  valuenum  timedelta  itemid\n",
       "0    10000032  22841357.0      15.7         95   51277\n",
       "1    10000032         NaN      16.2        121   51274\n",
       "2    10000032         NaN      32.4        121   51275\n",
       "3    10000032         NaN     153.0        121   50861\n",
       "4    10000032         NaN       3.6        121   50862"
      ]
     },
     "execution_count": 27,
     "metadata": {},
     "output_type": "execute_result"
    }
   ],
   "source": [
    "labs.head()"
   ]
  },
  {
   "cell_type": "code",
   "execution_count": 28,
   "id": "extra-kidney",
   "metadata": {},
   "outputs": [
    {
     "data": {
      "text/plain": [
       "(53180040, 5)"
      ]
     },
     "execution_count": 28,
     "metadata": {},
     "output_type": "execute_result"
    }
   ],
   "source": [
    "labs.shape"
   ]
  },
  {
   "cell_type": "code",
   "execution_count": 29,
   "id": "sharing-prayer",
   "metadata": {},
   "outputs": [],
   "source": [
    "labs=labs.dropna()"
   ]
  },
  {
   "cell_type": "code",
   "execution_count": 66,
   "id": "vital-murder",
   "metadata": {},
   "outputs": [
    {
     "data": {
      "text/plain": [
       "subject_id    0\n",
       "hadm_id       0\n",
       "valuenum      0\n",
       "timedelta     0\n",
       "valuenum.1    0\n",
       "dtype: int64"
      ]
     },
     "execution_count": 66,
     "metadata": {},
     "output_type": "execute_result"
    }
   ],
   "source": [
    "labs.isna().sum()"
   ]
  },
  {
   "cell_type": "code",
   "execution_count": 67,
   "id": "diverse-leone",
   "metadata": {},
   "outputs": [
    {
     "data": {
      "text/plain": [
       "0.4068493743141224"
      ]
     },
     "execution_count": 67,
     "metadata": {},
     "output_type": "execute_result"
    }
   ],
   "source": [
    "21636266/53180040"
   ]
  },
  {
   "cell_type": "code",
   "execution_count": 30,
   "id": "united-study",
   "metadata": {},
   "outputs": [],
   "source": [
    "labs=labs[labs['hadm_id'].isin(data['hadm_id'])]"
   ]
  },
  {
   "cell_type": "code",
   "execution_count": 31,
   "id": "immediate-patent",
   "metadata": {},
   "outputs": [
    {
     "data": {
      "text/plain": [
       "114824"
      ]
     },
     "execution_count": 31,
     "metadata": {},
     "output_type": "execute_result"
    }
   ],
   "source": [
    "labs['subject_id'].nunique()"
   ]
  },
  {
   "cell_type": "code",
   "execution_count": 32,
   "id": "cleared-accent",
   "metadata": {},
   "outputs": [
    {
     "data": {
      "text/plain": [
       "239156"
      ]
     },
     "execution_count": 32,
     "metadata": {},
     "output_type": "execute_result"
    }
   ],
   "source": [
    "labs['hadm_id'].nunique()"
   ]
  },
  {
   "cell_type": "code",
   "execution_count": null,
   "id": "local-knitting",
   "metadata": {},
   "outputs": [],
   "source": [
    "########MAx Min Length"
   ]
  },
  {
   "cell_type": "code",
   "execution_count": 153,
   "id": "concrete-external",
   "metadata": {},
   "outputs": [],
   "source": [
    "min_length=2\n",
    "max_length=72"
   ]
  },
  {
   "cell_type": "code",
   "execution_count": 154,
   "id": "powerful-cambodia",
   "metadata": {},
   "outputs": [],
   "source": [
    "data=data[(data['los']>=min_length) & (data['los']<=max_length)]"
   ]
  },
  {
   "cell_type": "code",
   "execution_count": 155,
   "id": "toxic-april",
   "metadata": {},
   "outputs": [],
   "source": [
    "########Select time duration needed"
   ]
  },
  {
   "cell_type": "code",
   "execution_count": 29,
   "id": "expired-hostel",
   "metadata": {},
   "outputs": [],
   "source": [
    "include_time=24"
   ]
  },
  {
   "cell_type": "code",
   "execution_count": 30,
   "id": "hydraulic-timing",
   "metadata": {},
   "outputs": [],
   "source": [
    "data=data[(data['los']>=include_time)]\n",
    "meds=meds[meds['hadm_id'].isin(data['hadm_id'])]"
   ]
  },
  {
   "cell_type": "code",
   "execution_count": 32,
   "id": "boring-watershed",
   "metadata": {},
   "outputs": [],
   "source": [
    "cond=cond[cond['hadm_id'].isin(data['hadm_id'])]"
   ]
  },
  {
   "cell_type": "code",
   "execution_count": 31,
   "id": "killing-sound",
   "metadata": {},
   "outputs": [],
   "source": [
    "data['select_time']=data['los']-include_time\n",
    "data['los']=include_time"
   ]
  },
  {
   "cell_type": "code",
   "execution_count": null,
   "id": "trained-router",
   "metadata": {},
   "outputs": [],
   "source": [
    "proc=pd.merge(proc,data[['hadm_id','select_time']],on='hadm_id',how='left')\n",
    "proc['start_time']=proc['start_time']-proc['select_time']\n",
    "proc=proc[proc['start_time']>=0]"
   ]
  },
  {
   "cell_type": "code",
   "execution_count": 34,
   "id": "classical-correlation",
   "metadata": {},
   "outputs": [],
   "source": [
    "meds=pd.merge(meds,data[['hadm_id','select_time']],on='hadm_id',how='left')\n",
    "meds['stop_time']=meds['stop_time']-meds['select_time']\n",
    "meds['start_time']=meds['start_time']-meds['select_time']\n",
    "meds=meds[meds['stop_time']>=0]\n",
    "meds.loc[meds.start_time <0, 'start_time']=0"
   ]
  },
  {
   "cell_type": "code",
   "execution_count": 35,
   "id": "oriented-valuable",
   "metadata": {},
   "outputs": [
    {
     "data": {
      "text/plain": [
       "23"
      ]
     },
     "execution_count": 35,
     "metadata": {},
     "output_type": "execute_result"
    }
   ],
   "source": [
    "meds['start_time'].max()"
   ]
  },
  {
   "cell_type": "code",
   "execution_count": null,
   "id": "accessible-worship",
   "metadata": {},
   "outputs": [],
   "source": [
    "labs=pd.merge(labs,data[['hadm_id','select_time']],on='hadm_id',how='left')\n",
    "labs['start_time']=labs['start_time']-labs['select_time']\n",
    "labs=labs[labs['start_time']>=0]"
   ]
  },
  {
   "cell_type": "code",
   "execution_count": null,
   "id": "going-craft",
   "metadata": {},
   "outputs": [],
   "source": [
    "if stay_duration>0:\n",
    "    cond['select_time']=stay_duration-exclude_time\n",
    "    proc['select_time']=stay_duration-exclude_time\n",
    "    meds['select_time']=stay_duration-exclude_time\n",
    "    labs['select_time']=stay_duration-exclude_time\n",
    "    cond=cond.loc[:,cond.loc['time'] < cond.loc['select_time']]\n",
    "    proc=proc.loc[:,proc.loc['time'] < proc.loc['select_time']]\n",
    "    meds=meds.loc[:,meds.loc['time'] < meds.loc['select_time']]\n",
    "    labs=labs.loc[:,labs.loc['time'] < labs.loc['select_time']]\n",
    "else:\n",
    "    data['select_time']=data['los']-exclude_time\n",
    "    data['los']=data['los']-exclude_time\n",
    "    \n",
    "    cond=pd.merge(cond,adm[['hadm_id','select_time']],on='hadm_id',how='left')\n",
    "    cond=cond.loc[:,cond.loc['time'] < cond.loc['select_time']]\n",
    "\n",
    "    proc=pd.merge(proc,adm[['hadm_id','select_time']],on='hadm_id',how='left')\n",
    "    proc=proc.loc[:,proc.loc['time'] < proc.loc['select_time']]\n",
    "\n",
    "    meds=pd.merge(meds,adm[['hadm_id','select_time']],on='hadm_id',how='left')\n",
    "    meds=meds.loc[:,meds.loc['start_time'] < meds.loc['select_time']]\n",
    "\n",
    "    labs=pd.merge(labs,adm[['hadm_id','select_time']],on='hadm_id',how='left')\n",
    "    labs=labs.loc[:,labs.loc['time'] < labs.loc['select_time']]\n",
    "    "
   ]
  },
  {
   "cell_type": "code",
   "execution_count": null,
   "id": "thick-glossary",
   "metadata": {},
   "outputs": [],
   "source": [
    "#bucketing"
   ]
  },
  {
   "cell_type": "code",
   "execution_count": 66,
   "id": "flying-elements",
   "metadata": {},
   "outputs": [],
   "source": [
    "bucket=2"
   ]
  },
  {
   "cell_type": "code",
   "execution_count": null,
   "id": "pediatric-shopping",
   "metadata": {},
   "outputs": [],
   "source": []
  },
  {
   "cell_type": "code",
   "execution_count": 37,
   "id": "extreme-messaging",
   "metadata": {},
   "outputs": [],
   "source": [
    "####Create dictionary"
   ]
  },
  {
   "cell_type": "code",
   "execution_count": 38,
   "id": "central-accommodation",
   "metadata": {},
   "outputs": [],
   "source": [
    "hids=meds['hadm_id'].unique()"
   ]
  },
  {
   "cell_type": "code",
   "execution_count": 39,
   "id": "industrial-madness",
   "metadata": {},
   "outputs": [
    {
     "data": {
      "text/plain": [
       "224745"
      ]
     },
     "execution_count": 39,
     "metadata": {},
     "output_type": "execute_result"
    }
   ],
   "source": [
    "len(hids)"
   ]
  },
  {
   "cell_type": "code",
   "execution_count": 40,
   "id": "fuzzy-devil",
   "metadata": {},
   "outputs": [],
   "source": [
    "dataDic={}\n",
    "for hid in hids:\n",
    "    subDic={}\n",
    "    grp=data[data['hadm_id']==hid]\n",
    "    #print(grp)\n",
    "    dataDic[hid]={'Cond':{},'Proc':{},'Med':{},'label':int(grp['label'])}\n",
    "    #print(condDic)"
   ]
  },
  {
   "cell_type": "code",
   "execution_count": 41,
   "id": "unusual-guess",
   "metadata": {},
   "outputs": [
    {
     "data": {
      "text/plain": [
       "{25742920: {'Cond': {}, 'Proc': {}, 'Med': {}, 'label': 0},\n",
       " 29079034: {'Cond': {}, 'Proc': {}, 'Med': {}, 'label': 1},\n",
       " 22841357: {'Cond': {}, 'Proc': {}, 'Med': {}, 'label': 1},\n",
       " 28979390: {'Cond': {}, 'Proc': {}, 'Med': {}, 'label': 0},\n",
       " 24558333: {'Cond': {}, 'Proc': {}, 'Med': {}, 'label': 0},\n",
       " 20823482: {'Cond': {}, 'Proc': {}, 'Med': {}, 'label': 0},\n",
       " 27897940: {'Cond': {}, 'Proc': {}, 'Med': {}, 'label': 0},\n",
       " 21086876: {'Cond': {}, 'Proc': {}, 'Med': {}, 'label': 1},\n",
       " 28289260: {'Cond': {}, 'Proc': {}, 'Med': {}, 'label': 0},\n",
       " 20032235: {'Cond': {}, 'Proc': {}, 'Med': {}, 'label': 1},\n",
       " 25221576: {'Cond': {}, 'Proc': {}, 'Med': {}, 'label': 0},\n",
       " 25849114: {'Cond': {}, 'Proc': {}, 'Med': {}, 'label': 0},\n",
       " 26381316: {'Cond': {}, 'Proc': {}, 'Med': {}, 'label': 0},\n",
       " 29541074: {'Cond': {}, 'Proc': {}, 'Med': {}, 'label': 1},\n",
       " 25242409: {'Cond': {}, 'Proc': {}, 'Med': {}, 'label': 0},\n",
       " 24947999: {'Cond': {}, 'Proc': {}, 'Med': {}, 'label': 0},\n",
       " 25911675: {'Cond': {}, 'Proc': {}, 'Med': {}, 'label': 0},\n",
       " 29659838: {'Cond': {}, 'Proc': {}, 'Med': {}, 'label': 0},\n",
       " 26913865: {'Cond': {}, 'Proc': {}, 'Med': {}, 'label': 0},\n",
       " 20897796: {'Cond': {}, 'Proc': {}, 'Med': {}, 'label': 0},\n",
       " 29654838: {'Cond': {}, 'Proc': {}, 'Med': {}, 'label': 0},\n",
       " 23334588: {'Cond': {}, 'Proc': {}, 'Med': {}, 'label': 0},\n",
       " 21334040: {'Cond': {}, 'Proc': {}, 'Med': {}, 'label': 0},\n",
       " 24016413: {'Cond': {}, 'Proc': {}, 'Med': {}, 'label': 0},\n",
       " 24906418: {'Cond': {}, 'Proc': {}, 'Med': {}, 'label': 1},\n",
       " 27703517: {'Cond': {}, 'Proc': {}, 'Med': {}, 'label': 0},\n",
       " 24597018: {'Cond': {}, 'Proc': {}, 'Med': {}, 'label': 1},\n",
       " 24591241: {'Cond': {}, 'Proc': {}, 'Med': {}, 'label': 0},\n",
       " 29230609: {'Cond': {}, 'Proc': {}, 'Med': {}, 'label': 0},\n",
       " 23005466: {'Cond': {}, 'Proc': {}, 'Med': {}, 'label': 0},\n",
       " 22119639: {'Cond': {}, 'Proc': {}, 'Med': {}, 'label': 1},\n",
       " 28835314: {'Cond': {}, 'Proc': {}, 'Med': {}, 'label': 0},\n",
       " 27987619: {'Cond': {}, 'Proc': {}, 'Med': {}, 'label': 0},\n",
       " 21544441: {'Cond': {}, 'Proc': {}, 'Med': {}, 'label': 1},\n",
       " 28058085: {'Cond': {}, 'Proc': {}, 'Med': {}, 'label': 0},\n",
       " 27060146: {'Cond': {}, 'Proc': {}, 'Med': {}, 'label': 0},\n",
       " 26840593: {'Cond': {}, 'Proc': {}, 'Med': {}, 'label': 1},\n",
       " 24818636: {'Cond': {}, 'Proc': {}, 'Med': {}, 'label': 0},\n",
       " 23506139: {'Cond': {}, 'Proc': {}, 'Med': {}, 'label': 0},\n",
       " 27463908: {'Cond': {}, 'Proc': {}, 'Med': {}, 'label': 0},\n",
       " 25563031: {'Cond': {}, 'Proc': {}, 'Med': {}, 'label': 0},\n",
       " 21441082: {'Cond': {}, 'Proc': {}, 'Med': {}, 'label': 0},\n",
       " 21320596: {'Cond': {}, 'Proc': {}, 'Med': {}, 'label': 0},\n",
       " 25679292: {'Cond': {}, 'Proc': {}, 'Med': {}, 'label': 0},\n",
       " 23594368: {'Cond': {}, 'Proc': {}, 'Med': {}, 'label': 1},\n",
       " 21268656: {'Cond': {}, 'Proc': {}, 'Med': {}, 'label': 1},\n",
       " 25758848: {'Cond': {}, 'Proc': {}, 'Med': {}, 'label': 0},\n",
       " 23581541: {'Cond': {}, 'Proc': {}, 'Med': {}, 'label': 0},\n",
       " 25715803: {'Cond': {}, 'Proc': {}, 'Med': {}, 'label': 0},\n",
       " 28603984: {'Cond': {}, 'Proc': {}, 'Med': {}, 'label': 0},\n",
       " 24760295: {'Cond': {}, 'Proc': {}, 'Med': {}, 'label': 0},\n",
       " 28420602: {'Cond': {}, 'Proc': {}, 'Med': {}, 'label': 0},\n",
       " 23745275: {'Cond': {}, 'Proc': {}, 'Med': {}, 'label': 0},\n",
       " 21975601: {'Cond': {}, 'Proc': {}, 'Med': {}, 'label': 0},\n",
       " 24848509: {'Cond': {}, 'Proc': {}, 'Med': {}, 'label': 0},\n",
       " 27411540: {'Cond': {}, 'Proc': {}, 'Med': {}, 'label': 0},\n",
       " 28976727: {'Cond': {}, 'Proc': {}, 'Med': {}, 'label': 0},\n",
       " 23822395: {'Cond': {}, 'Proc': {}, 'Med': {}, 'label': 0},\n",
       " 28439444: {'Cond': {}, 'Proc': {}, 'Med': {}, 'label': 0},\n",
       " 28994087: {'Cond': {}, 'Proc': {}, 'Med': {}, 'label': 0},\n",
       " 29383904: {'Cond': {}, 'Proc': {}, 'Med': {}, 'label': 0},\n",
       " 21008195: {'Cond': {}, 'Proc': {}, 'Med': {}, 'label': 0},\n",
       " 22494570: {'Cond': {}, 'Proc': {}, 'Med': {}, 'label': 0},\n",
       " 23473524: {'Cond': {}, 'Proc': {}, 'Med': {}, 'label': 0},\n",
       " 20321825: {'Cond': {}, 'Proc': {}, 'Med': {}, 'label': 1},\n",
       " 28676446: {'Cond': {}, 'Proc': {}, 'Med': {}, 'label': 0},\n",
       " 28662225: {'Cond': {}, 'Proc': {}, 'Med': {}, 'label': 1},\n",
       " 24513842: {'Cond': {}, 'Proc': {}, 'Med': {}, 'label': 0},\n",
       " 27218502: {'Cond': {}, 'Proc': {}, 'Med': {}, 'label': 0},\n",
       " 24982426: {'Cond': {}, 'Proc': {}, 'Med': {}, 'label': 0},\n",
       " 29112696: {'Cond': {}, 'Proc': {}, 'Med': {}, 'label': 0},\n",
       " 21824331: {'Cond': {}, 'Proc': {}, 'Med': {}, 'label': 0},\n",
       " 20885841: {'Cond': {}, 'Proc': {}, 'Med': {}, 'label': 0},\n",
       " 22002850: {'Cond': {}, 'Proc': {}, 'Med': {}, 'label': 0},\n",
       " 28094813: {'Cond': {}, 'Proc': {}, 'Med': {}, 'label': 0},\n",
       " 28314592: {'Cond': {}, 'Proc': {}, 'Med': {}, 'label': 0},\n",
       " 25681387: {'Cond': {}, 'Proc': {}, 'Med': {}, 'label': 0},\n",
       " 27026861: {'Cond': {}, 'Proc': {}, 'Med': {}, 'label': 0},\n",
       " 25351634: {'Cond': {}, 'Proc': {}, 'Med': {}, 'label': 0},\n",
       " 23688993: {'Cond': {}, 'Proc': {}, 'Med': {}, 'label': 0},\n",
       " 25696644: {'Cond': {}, 'Proc': {}, 'Med': {}, 'label': 0},\n",
       " 27179825: {'Cond': {}, 'Proc': {}, 'Med': {}, 'label': 1},\n",
       " 21640325: {'Cond': {}, 'Proc': {}, 'Med': {}, 'label': 0},\n",
       " 21223482: {'Cond': {}, 'Proc': {}, 'Med': {}, 'label': 1},\n",
       " 23693618: {'Cond': {}, 'Proc': {}, 'Med': {}, 'label': 0},\n",
       " 21616816: {'Cond': {}, 'Proc': {}, 'Med': {}, 'label': 1},\n",
       " 20962108: {'Cond': {}, 'Proc': {}, 'Med': {}, 'label': 0},\n",
       " 24646702: {'Cond': {}, 'Proc': {}, 'Med': {}, 'label': 0},\n",
       " 20030125: {'Cond': {}, 'Proc': {}, 'Med': {}, 'label': 0},\n",
       " 20277210: {'Cond': {}, 'Proc': {}, 'Med': {}, 'label': 1},\n",
       " 22774359: {'Cond': {}, 'Proc': {}, 'Med': {}, 'label': 1},\n",
       " 25573783: {'Cond': {}, 'Proc': {}, 'Med': {}, 'label': 0},\n",
       " 27683372: {'Cond': {}, 'Proc': {}, 'Med': {}, 'label': 0},\n",
       " 25179393: {'Cond': {}, 'Proc': {}, 'Med': {}, 'label': 1},\n",
       " 26048429: {'Cond': {}, 'Proc': {}, 'Med': {}, 'label': 0},\n",
       " 21858062: {'Cond': {}, 'Proc': {}, 'Med': {}, 'label': 0},\n",
       " 25146997: {'Cond': {}, 'Proc': {}, 'Med': {}, 'label': 0},\n",
       " 21743184: {'Cond': {}, 'Proc': {}, 'Med': {}, 'label': 0},\n",
       " 21404960: {'Cond': {}, 'Proc': {}, 'Med': {}, 'label': 0},\n",
       " 22390287: {'Cond': {}, 'Proc': {}, 'Med': {}, 'label': 1},\n",
       " 20214994: {'Cond': {}, 'Proc': {}, 'Med': {}, 'label': 0},\n",
       " 29483621: {'Cond': {}, 'Proc': {}, 'Med': {}, 'label': 1},\n",
       " 26467376: {'Cond': {}, 'Proc': {}, 'Med': {}, 'label': 1},\n",
       " 27296885: {'Cond': {}, 'Proc': {}, 'Med': {}, 'label': 0},\n",
       " 28884815: {'Cond': {}, 'Proc': {}, 'Med': {}, 'label': 0},\n",
       " 21671572: {'Cond': {}, 'Proc': {}, 'Med': {}, 'label': 0},\n",
       " 23352834: {'Cond': {}, 'Proc': {}, 'Med': {}, 'label': 0},\n",
       " 22491625: {'Cond': {}, 'Proc': {}, 'Med': {}, 'label': 0},\n",
       " 29391916: {'Cond': {}, 'Proc': {}, 'Med': {}, 'label': 0},\n",
       " 20459702: {'Cond': {}, 'Proc': {}, 'Med': {}, 'label': 1},\n",
       " 26475031: {'Cond': {}, 'Proc': {}, 'Med': {}, 'label': 0},\n",
       " 26115941: {'Cond': {}, 'Proc': {}, 'Med': {}, 'label': 0},\n",
       " 22394931: {'Cond': {}, 'Proc': {}, 'Med': {}, 'label': 0},\n",
       " 29107104: {'Cond': {}, 'Proc': {}, 'Med': {}, 'label': 0},\n",
       " 28623837: {'Cond': {}, 'Proc': {}, 'Med': {}, 'label': 1},\n",
       " 23646008: {'Cond': {}, 'Proc': {}, 'Med': {}, 'label': 0},\n",
       " 22187210: {'Cond': {}, 'Proc': {}, 'Med': {}, 'label': 0},\n",
       " 25970245: {'Cond': {}, 'Proc': {}, 'Med': {}, 'label': 1},\n",
       " 24181354: {'Cond': {}, 'Proc': {}, 'Med': {}, 'label': 0},\n",
       " 22573270: {'Cond': {}, 'Proc': {}, 'Med': {}, 'label': 0},\n",
       " 23308846: {'Cond': {}, 'Proc': {}, 'Med': {}, 'label': 0},\n",
       " 21736479: {'Cond': {}, 'Proc': {}, 'Med': {}, 'label': 0},\n",
       " 28755331: {'Cond': {}, 'Proc': {}, 'Med': {}, 'label': 0},\n",
       " 22602599: {'Cond': {}, 'Proc': {}, 'Med': {}, 'label': 0},\n",
       " 26652461: {'Cond': {}, 'Proc': {}, 'Med': {}, 'label': 0},\n",
       " 29988601: {'Cond': {}, 'Proc': {}, 'Med': {}, 'label': 1},\n",
       " 28128182: {'Cond': {}, 'Proc': {}, 'Med': {}, 'label': 0},\n",
       " 23920883: {'Cond': {}, 'Proc': {}, 'Med': {}, 'label': 1},\n",
       " 22869003: {'Cond': {}, 'Proc': {}, 'Med': {}, 'label': 1},\n",
       " 26488315: {'Cond': {}, 'Proc': {}, 'Med': {}, 'label': 0},\n",
       " 28154772: {'Cond': {}, 'Proc': {}, 'Med': {}, 'label': 0},\n",
       " 26164209: {'Cond': {}, 'Proc': {}, 'Med': {}, 'label': 0},\n",
       " 27939719: {'Cond': {}, 'Proc': {}, 'Med': {}, 'label': 1},\n",
       " 21085166: {'Cond': {}, 'Proc': {}, 'Med': {}, 'label': 0},\n",
       " 28679787: {'Cond': {}, 'Proc': {}, 'Med': {}, 'label': 0},\n",
       " 25753439: {'Cond': {}, 'Proc': {}, 'Med': {}, 'label': 1},\n",
       " 21255400: {'Cond': {}, 'Proc': {}, 'Med': {}, 'label': 0},\n",
       " 23251352: {'Cond': {}, 'Proc': {}, 'Med': {}, 'label': 0},\n",
       " 21216581: {'Cond': {}, 'Proc': {}, 'Med': {}, 'label': 0},\n",
       " 28723315: {'Cond': {}, 'Proc': {}, 'Med': {}, 'label': 0},\n",
       " 21399087: {'Cond': {}, 'Proc': {}, 'Med': {}, 'label': 0},\n",
       " 25081565: {'Cond': {}, 'Proc': {}, 'Med': {}, 'label': 0},\n",
       " 21197153: {'Cond': {}, 'Proc': {}, 'Med': {}, 'label': 0},\n",
       " 27411876: {'Cond': {}, 'Proc': {}, 'Med': {}, 'label': 0},\n",
       " 27481198: {'Cond': {}, 'Proc': {}, 'Med': {}, 'label': 0},\n",
       " 28691602: {'Cond': {}, 'Proc': {}, 'Med': {}, 'label': 0},\n",
       " 27499576: {'Cond': {}, 'Proc': {}, 'Med': {}, 'label': 0},\n",
       " 20438270: {'Cond': {}, 'Proc': {}, 'Med': {}, 'label': 0},\n",
       " 28371912: {'Cond': {}, 'Proc': {}, 'Med': {}, 'label': 0},\n",
       " 25656545: {'Cond': {}, 'Proc': {}, 'Med': {}, 'label': 0},\n",
       " 23384508: {'Cond': {}, 'Proc': {}, 'Med': {}, 'label': 0},\n",
       " 29496232: {'Cond': {}, 'Proc': {}, 'Med': {}, 'label': 0},\n",
       " 25239799: {'Cond': {}, 'Proc': {}, 'Med': {}, 'label': 0},\n",
       " 24283979: {'Cond': {}, 'Proc': {}, 'Med': {}, 'label': 0},\n",
       " 21743817: {'Cond': {}, 'Proc': {}, 'Med': {}, 'label': 0},\n",
       " 20010003: {'Cond': {}, 'Proc': {}, 'Med': {}, 'label': 0},\n",
       " 26543907: {'Cond': {}, 'Proc': {}, 'Med': {}, 'label': 0},\n",
       " 28000824: {'Cond': {}, 'Proc': {}, 'Med': {}, 'label': 0},\n",
       " 20626031: {'Cond': {}, 'Proc': {}, 'Med': {}, 'label': 0},\n",
       " 28426363: {'Cond': {}, 'Proc': {}, 'Med': {}, 'label': 0},\n",
       " 29352282: {'Cond': {}, 'Proc': {}, 'Med': {}, 'label': 0},\n",
       " 22585238: {'Cond': {}, 'Proc': {}, 'Med': {}, 'label': 1},\n",
       " 28576445: {'Cond': {}, 'Proc': {}, 'Med': {}, 'label': 0},\n",
       " 26158160: {'Cond': {}, 'Proc': {}, 'Med': {}, 'label': 0},\n",
       " 20705492: {'Cond': {}, 'Proc': {}, 'Med': {}, 'label': 0},\n",
       " 20199380: {'Cond': {}, 'Proc': {}, 'Med': {}, 'label': 0},\n",
       " 20355325: {'Cond': {}, 'Proc': {}, 'Med': {}, 'label': 0},\n",
       " 27849136: {'Cond': {}, 'Proc': {}, 'Med': {}, 'label': 1},\n",
       " 21367824: {'Cond': {}, 'Proc': {}, 'Med': {}, 'label': 0},\n",
       " 28146936: {'Cond': {}, 'Proc': {}, 'Med': {}, 'label': 0},\n",
       " 25610553: {'Cond': {}, 'Proc': {}, 'Med': {}, 'label': 0},\n",
       " 28366563: {'Cond': {}, 'Proc': {}, 'Med': {}, 'label': 0},\n",
       " 27715811: {'Cond': {}, 'Proc': {}, 'Med': {}, 'label': 1},\n",
       " 25589898: {'Cond': {}, 'Proc': {}, 'Med': {}, 'label': 0},\n",
       " 28771670: {'Cond': {}, 'Proc': {}, 'Med': {}, 'label': 0},\n",
       " 27894366: {'Cond': {}, 'Proc': {}, 'Med': {}, 'label': 0},\n",
       " 24159665: {'Cond': {}, 'Proc': {}, 'Med': {}, 'label': 0},\n",
       " 25978757: {'Cond': {}, 'Proc': {}, 'Med': {}, 'label': 0},\n",
       " 22632546: {'Cond': {}, 'Proc': {}, 'Med': {}, 'label': 0},\n",
       " 21249009: {'Cond': {}, 'Proc': {}, 'Med': {}, 'label': 0},\n",
       " 24246605: {'Cond': {}, 'Proc': {}, 'Med': {}, 'label': 0},\n",
       " 23295760: {'Cond': {}, 'Proc': {}, 'Med': {}, 'label': 0},\n",
       " 24767236: {'Cond': {}, 'Proc': {}, 'Med': {}, 'label': 0},\n",
       " 29669544: {'Cond': {}, 'Proc': {}, 'Med': {}, 'label': 0},\n",
       " 22954658: {'Cond': {}, 'Proc': {}, 'Med': {}, 'label': 0},\n",
       " 29356606: {'Cond': {}, 'Proc': {}, 'Med': {}, 'label': 0},\n",
       " 20280072: {'Cond': {}, 'Proc': {}, 'Med': {}, 'label': 1},\n",
       " 22934294: {'Cond': {}, 'Proc': {}, 'Med': {}, 'label': 0},\n",
       " 29383640: {'Cond': {}, 'Proc': {}, 'Med': {}, 'label': 0},\n",
       " 22051341: {'Cond': {}, 'Proc': {}, 'Med': {}, 'label': 0},\n",
       " 25135483: {'Cond': {}, 'Proc': {}, 'Med': {}, 'label': 0},\n",
       " 28477357: {'Cond': {}, 'Proc': {}, 'Med': {}, 'label': 1},\n",
       " 20285402: {'Cond': {}, 'Proc': {}, 'Med': {}, 'label': 0},\n",
       " 27962747: {'Cond': {}, 'Proc': {}, 'Med': {}, 'label': 1},\n",
       " 22218665: {'Cond': {}, 'Proc': {}, 'Med': {}, 'label': 1},\n",
       " 23867410: {'Cond': {}, 'Proc': {}, 'Med': {}, 'label': 0},\n",
       " 26693451: {'Cond': {}, 'Proc': {}, 'Med': {}, 'label': 0},\n",
       " 24504634: {'Cond': {}, 'Proc': {}, 'Med': {}, 'label': 1},\n",
       " 20338077: {'Cond': {}, 'Proc': {}, 'Med': {}, 'label': 0},\n",
       " 29898811: {'Cond': {}, 'Proc': {}, 'Med': {}, 'label': 0},\n",
       " 22898614: {'Cond': {}, 'Proc': {}, 'Med': {}, 'label': 0},\n",
       " 29402054: {'Cond': {}, 'Proc': {}, 'Med': {}, 'label': 0},\n",
       " 24605618: {'Cond': {}, 'Proc': {}, 'Med': {}, 'label': 0},\n",
       " 22168393: {'Cond': {}, 'Proc': {}, 'Med': {}, 'label': 0},\n",
       " 28394430: {'Cond': {}, 'Proc': {}, 'Med': {}, 'label': 0},\n",
       " 28452117: {'Cond': {}, 'Proc': {}, 'Med': {}, 'label': 0},\n",
       " 20291550: {'Cond': {}, 'Proc': {}, 'Med': {}, 'label': 0},\n",
       " 25336621: {'Cond': {}, 'Proc': {}, 'Med': {}, 'label': 0},\n",
       " 27774082: {'Cond': {}, 'Proc': {}, 'Med': {}, 'label': 0},\n",
       " 29144873: {'Cond': {}, 'Proc': {}, 'Med': {}, 'label': 0},\n",
       " 20994993: {'Cond': {}, 'Proc': {}, 'Med': {}, 'label': 0},\n",
       " 22988516: {'Cond': {}, 'Proc': {}, 'Med': {}, 'label': 0},\n",
       " 23676183: {'Cond': {}, 'Proc': {}, 'Med': {}, 'label': 1},\n",
       " 27441295: {'Cond': {}, 'Proc': {}, 'Med': {}, 'label': 0},\n",
       " 27368161: {'Cond': {}, 'Proc': {}, 'Med': {}, 'label': 0},\n",
       " 28324362: {'Cond': {}, 'Proc': {}, 'Med': {}, 'label': 0},\n",
       " 22995465: {'Cond': {}, 'Proc': {}, 'Med': {}, 'label': 0},\n",
       " 21618536: {'Cond': {}, 'Proc': {}, 'Med': {}, 'label': 0},\n",
       " 26957110: {'Cond': {}, 'Proc': {}, 'Med': {}, 'label': 0},\n",
       " 23598550: {'Cond': {}, 'Proc': {}, 'Med': {}, 'label': 0},\n",
       " 23010368: {'Cond': {}, 'Proc': {}, 'Med': {}, 'label': 0},\n",
       " 24377082: {'Cond': {}, 'Proc': {}, 'Med': {}, 'label': 0},\n",
       " 20656424: {'Cond': {}, 'Proc': {}, 'Med': {}, 'label': 0},\n",
       " 27773809: {'Cond': {}, 'Proc': {}, 'Med': {}, 'label': 0},\n",
       " 27624592: {'Cond': {}, 'Proc': {}, 'Med': {}, 'label': 0},\n",
       " 25926192: {'Cond': {}, 'Proc': {}, 'Med': {}, 'label': 0},\n",
       " 20223941: {'Cond': {}, 'Proc': {}, 'Med': {}, 'label': 1},\n",
       " 23182574: {'Cond': {}, 'Proc': {}, 'Med': {}, 'label': 0},\n",
       " 26435790: {'Cond': {}, 'Proc': {}, 'Med': {}, 'label': 1},\n",
       " 29681222: {'Cond': {}, 'Proc': {}, 'Med': {}, 'label': 0},\n",
       " 25917765: {'Cond': {}, 'Proc': {}, 'Med': {}, 'label': 0},\n",
       " 22198822: {'Cond': {}, 'Proc': {}, 'Med': {}, 'label': 0},\n",
       " 25499227: {'Cond': {}, 'Proc': {}, 'Med': {}, 'label': 1},\n",
       " 21586397: {'Cond': {}, 'Proc': {}, 'Med': {}, 'label': 1},\n",
       " 26641707: {'Cond': {}, 'Proc': {}, 'Med': {}, 'label': 0},\n",
       " 29051488: {'Cond': {}, 'Proc': {}, 'Med': {}, 'label': 0},\n",
       " 20269180: {'Cond': {}, 'Proc': {}, 'Med': {}, 'label': 0},\n",
       " 28846987: {'Cond': {}, 'Proc': {}, 'Med': {}, 'label': 0},\n",
       " 23084254: {'Cond': {}, 'Proc': {}, 'Med': {}, 'label': 0},\n",
       " 25356745: {'Cond': {}, 'Proc': {}, 'Med': {}, 'label': 0},\n",
       " 28388172: {'Cond': {}, 'Proc': {}, 'Med': {}, 'label': 0},\n",
       " 20185130: {'Cond': {}, 'Proc': {}, 'Med': {}, 'label': 0},\n",
       " 26812050: {'Cond': {}, 'Proc': {}, 'Med': {}, 'label': 0},\n",
       " 24170638: {'Cond': {}, 'Proc': {}, 'Med': {}, 'label': 0},\n",
       " 23842175: {'Cond': {}, 'Proc': {}, 'Med': {}, 'label': 1},\n",
       " 29040430: {'Cond': {}, 'Proc': {}, 'Med': {}, 'label': 0},\n",
       " 21322534: {'Cond': {}, 'Proc': {}, 'Med': {}, 'label': 0},\n",
       " 22058681: {'Cond': {}, 'Proc': {}, 'Med': {}, 'label': 1},\n",
       " 20438218: {'Cond': {}, 'Proc': {}, 'Med': {}, 'label': 0},\n",
       " 28407875: {'Cond': {}, 'Proc': {}, 'Med': {}, 'label': 0},\n",
       " 25009261: {'Cond': {}, 'Proc': {}, 'Med': {}, 'label': 0},\n",
       " 22429197: {'Cond': {}, 'Proc': {}, 'Med': {}, 'label': 1},\n",
       " 24676144: {'Cond': {}, 'Proc': {}, 'Med': {}, 'label': 0},\n",
       " 24701479: {'Cond': {}, 'Proc': {}, 'Med': {}, 'label': 0},\n",
       " 26463677: {'Cond': {}, 'Proc': {}, 'Med': {}, 'label': 0},\n",
       " 29284526: {'Cond': {}, 'Proc': {}, 'Med': {}, 'label': 0},\n",
       " 24468341: {'Cond': {}, 'Proc': {}, 'Med': {}, 'label': 0},\n",
       " 26948481: {'Cond': {}, 'Proc': {}, 'Med': {}, 'label': 0},\n",
       " 27505812: {'Cond': {}, 'Proc': {}, 'Med': {}, 'label': 0},\n",
       " 27619916: {'Cond': {}, 'Proc': {}, 'Med': {}, 'label': 0},\n",
       " 29715332: {'Cond': {}, 'Proc': {}, 'Med': {}, 'label': 0},\n",
       " 23426764: {'Cond': {}, 'Proc': {}, 'Med': {}, 'label': 0},\n",
       " 28654569: {'Cond': {}, 'Proc': {}, 'Med': {}, 'label': 0},\n",
       " 29565095: {'Cond': {}, 'Proc': {}, 'Med': {}, 'label': 1},\n",
       " 22181970: {'Cond': {}, 'Proc': {}, 'Med': {}, 'label': 1},\n",
       " 23256585: {'Cond': {}, 'Proc': {}, 'Med': {}, 'label': 0},\n",
       " 25435238: {'Cond': {}, 'Proc': {}, 'Med': {}, 'label': 0},\n",
       " 25142813: {'Cond': {}, 'Proc': {}, 'Med': {}, 'label': 0},\n",
       " 29825872: {'Cond': {}, 'Proc': {}, 'Med': {}, 'label': 0},\n",
       " 23351194: {'Cond': {}, 'Proc': {}, 'Med': {}, 'label': 0},\n",
       " 23959856: {'Cond': {}, 'Proc': {}, 'Med': {}, 'label': 0},\n",
       " 28943379: {'Cond': {}, 'Proc': {}, 'Med': {}, 'label': 0},\n",
       " 29280423: {'Cond': {}, 'Proc': {}, 'Med': {}, 'label': 0},\n",
       " 29864422: {'Cond': {}, 'Proc': {}, 'Med': {}, 'label': 1},\n",
       " 27916124: {'Cond': {}, 'Proc': {}, 'Med': {}, 'label': 0},\n",
       " 29339128: {'Cond': {}, 'Proc': {}, 'Med': {}, 'label': 0},\n",
       " 24943792: {'Cond': {}, 'Proc': {}, 'Med': {}, 'label': 0},\n",
       " 26681083: {'Cond': {}, 'Proc': {}, 'Med': {}, 'label': 0},\n",
       " 26779316: {'Cond': {}, 'Proc': {}, 'Med': {}, 'label': 0},\n",
       " 27493974: {'Cond': {}, 'Proc': {}, 'Med': {}, 'label': 0},\n",
       " 28568938: {'Cond': {}, 'Proc': {}, 'Med': {}, 'label': 0},\n",
       " 28949311: {'Cond': {}, 'Proc': {}, 'Med': {}, 'label': 0},\n",
       " 20553693: {'Cond': {}, 'Proc': {}, 'Med': {}, 'label': 0},\n",
       " 28578709: {'Cond': {}, 'Proc': {}, 'Med': {}, 'label': 0},\n",
       " 24296687: {'Cond': {}, 'Proc': {}, 'Med': {}, 'label': 0},\n",
       " 27658045: {'Cond': {}, 'Proc': {}, 'Med': {}, 'label': 0},\n",
       " 22014575: {'Cond': {}, 'Proc': {}, 'Med': {}, 'label': 0},\n",
       " 27089790: {'Cond': {}, 'Proc': {}, 'Med': {}, 'label': 0},\n",
       " 20255893: {'Cond': {}, 'Proc': {}, 'Med': {}, 'label': 0},\n",
       " 27462906: {'Cond': {}, 'Proc': {}, 'Med': {}, 'label': 0},\n",
       " 28270492: {'Cond': {}, 'Proc': {}, 'Med': {}, 'label': 0},\n",
       " 26369609: {'Cond': {}, 'Proc': {}, 'Med': {}, 'label': 0},\n",
       " 25674883: {'Cond': {}, 'Proc': {}, 'Med': {}, 'label': 0},\n",
       " 25710228: {'Cond': {}, 'Proc': {}, 'Med': {}, 'label': 0},\n",
       " 22675517: {'Cond': {}, 'Proc': {}, 'Med': {}, 'label': 0},\n",
       " 23130806: {'Cond': {}, 'Proc': {}, 'Med': {}, 'label': 1},\n",
       " 22548652: {'Cond': {}, 'Proc': {}, 'Med': {}, 'label': 0},\n",
       " 23086611: {'Cond': {}, 'Proc': {}, 'Med': {}, 'label': 0},\n",
       " 28841172: {'Cond': {}, 'Proc': {}, 'Med': {}, 'label': 0},\n",
       " 27356807: {'Cond': {}, 'Proc': {}, 'Med': {}, 'label': 0},\n",
       " 29669860: {'Cond': {}, 'Proc': {}, 'Med': {}, 'label': 1},\n",
       " 20228631: {'Cond': {}, 'Proc': {}, 'Med': {}, 'label': 0},\n",
       " 23404838: {'Cond': {}, 'Proc': {}, 'Med': {}, 'label': 1},\n",
       " 25788312: {'Cond': {}, 'Proc': {}, 'Med': {}, 'label': 0},\n",
       " 20363238: {'Cond': {}, 'Proc': {}, 'Med': {}, 'label': 0},\n",
       " 27993048: {'Cond': {}, 'Proc': {}, 'Med': {}, 'label': 0},\n",
       " 29149051: {'Cond': {}, 'Proc': {}, 'Med': {}, 'label': 0},\n",
       " 22891949: {'Cond': {}, 'Proc': {}, 'Med': {}, 'label': 1},\n",
       " 21741511: {'Cond': {}, 'Proc': {}, 'Med': {}, 'label': 0},\n",
       " 27433745: {'Cond': {}, 'Proc': {}, 'Med': {}, 'label': 0},\n",
       " 23906588: {'Cond': {}, 'Proc': {}, 'Med': {}, 'label': 0},\n",
       " 22009484: {'Cond': {}, 'Proc': {}, 'Med': {}, 'label': 1},\n",
       " 22109939: {'Cond': {}, 'Proc': {}, 'Med': {}, 'label': 0},\n",
       " 20023045: {'Cond': {}, 'Proc': {}, 'Med': {}, 'label': 1},\n",
       " 23575797: {'Cond': {}, 'Proc': {}, 'Med': {}, 'label': 0},\n",
       " 21396051: {'Cond': {}, 'Proc': {}, 'Med': {}, 'label': 0},\n",
       " 29604366: {'Cond': {}, 'Proc': {}, 'Med': {}, 'label': 0},\n",
       " 26666796: {'Cond': {}, 'Proc': {}, 'Med': {}, 'label': 0},\n",
       " 21018096: {'Cond': {}, 'Proc': {}, 'Med': {}, 'label': 0},\n",
       " 21136573: {'Cond': {}, 'Proc': {}, 'Med': {}, 'label': 0},\n",
       " 29544247: {'Cond': {}, 'Proc': {}, 'Med': {}, 'label': 0},\n",
       " 28766875: {'Cond': {}, 'Proc': {}, 'Med': {}, 'label': 0},\n",
       " 27131607: {'Cond': {}, 'Proc': {}, 'Med': {}, 'label': 0},\n",
       " 26701822: {'Cond': {}, 'Proc': {}, 'Med': {}, 'label': 0},\n",
       " 20271993: {'Cond': {}, 'Proc': {}, 'Med': {}, 'label': 0},\n",
       " 25809882: {'Cond': {}, 'Proc': {}, 'Med': {}, 'label': 0},\n",
       " 26193908: {'Cond': {}, 'Proc': {}, 'Med': {}, 'label': 0},\n",
       " 21131307: {'Cond': {}, 'Proc': {}, 'Med': {}, 'label': 0},\n",
       " 21252195: {'Cond': {}, 'Proc': {}, 'Med': {}, 'label': 1},\n",
       " 24097334: {'Cond': {}, 'Proc': {}, 'Med': {}, 'label': 0},\n",
       " 21448325: {'Cond': {}, 'Proc': {}, 'Med': {}, 'label': 0},\n",
       " 29919218: {'Cond': {}, 'Proc': {}, 'Med': {}, 'label': 0},\n",
       " 21090004: {'Cond': {}, 'Proc': {}, 'Med': {}, 'label': 0},\n",
       " 29175068: {'Cond': {}, 'Proc': {}, 'Med': {}, 'label': 0},\n",
       " 21494930: {'Cond': {}, 'Proc': {}, 'Med': {}, 'label': 0},\n",
       " 22741225: {'Cond': {}, 'Proc': {}, 'Med': {}, 'label': 1},\n",
       " 27118792: {'Cond': {}, 'Proc': {}, 'Med': {}, 'label': 0},\n",
       " 27271773: {'Cond': {}, 'Proc': {}, 'Med': {}, 'label': 0},\n",
       " 29017836: {'Cond': {}, 'Proc': {}, 'Med': {}, 'label': 0},\n",
       " 25100528: {'Cond': {}, 'Proc': {}, 'Med': {}, 'label': 0},\n",
       " 23164170: {'Cond': {}, 'Proc': {}, 'Med': {}, 'label': 0},\n",
       " 22518293: {'Cond': {}, 'Proc': {}, 'Med': {}, 'label': 0},\n",
       " 23151516: {'Cond': {}, 'Proc': {}, 'Med': {}, 'label': 0},\n",
       " 21720538: {'Cond': {}, 'Proc': {}, 'Med': {}, 'label': 0},\n",
       " 28702460: {'Cond': {}, 'Proc': {}, 'Med': {}, 'label': 0},\n",
       " 27408652: {'Cond': {}, 'Proc': {}, 'Med': {}, 'label': 0},\n",
       " 23954774: {'Cond': {}, 'Proc': {}, 'Med': {}, 'label': 0},\n",
       " 23424056: {'Cond': {}, 'Proc': {}, 'Med': {}, 'label': 1},\n",
       " 27041220: {'Cond': {}, 'Proc': {}, 'Med': {}, 'label': 1},\n",
       " 28254713: {'Cond': {}, 'Proc': {}, 'Med': {}, 'label': 1},\n",
       " 22077651: {'Cond': {}, 'Proc': {}, 'Med': {}, 'label': 0},\n",
       " 27250013: {'Cond': {}, 'Proc': {}, 'Med': {}, 'label': 0},\n",
       " 20603155: {'Cond': {}, 'Proc': {}, 'Med': {}, 'label': 0},\n",
       " 22467877: {'Cond': {}, 'Proc': {}, 'Med': {}, 'label': 1},\n",
       " 20760732: {'Cond': {}, 'Proc': {}, 'Med': {}, 'label': 0},\n",
       " 24563254: {'Cond': {}, 'Proc': {}, 'Med': {}, 'label': 0},\n",
       " 22756814: {'Cond': {}, 'Proc': {}, 'Med': {}, 'label': 0},\n",
       " 26592714: {'Cond': {}, 'Proc': {}, 'Med': {}, 'label': 0},\n",
       " 24216569: {'Cond': {}, 'Proc': {}, 'Med': {}, 'label': 0},\n",
       " 21854603: {'Cond': {}, 'Proc': {}, 'Med': {}, 'label': 0},\n",
       " 20129906: {'Cond': {}, 'Proc': {}, 'Med': {}, 'label': 0},\n",
       " 27993466: {'Cond': {}, 'Proc': {}, 'Med': {}, 'label': 0},\n",
       " 28921361: {'Cond': {}, 'Proc': {}, 'Med': {}, 'label': 0},\n",
       " 24446768: {'Cond': {}, 'Proc': {}, 'Med': {}, 'label': 0},\n",
       " 23914645: {'Cond': {}, 'Proc': {}, 'Med': {}, 'label': 0},\n",
       " 28610978: {'Cond': {}, 'Proc': {}, 'Med': {}, 'label': 0},\n",
       " 20588720: {'Cond': {}, 'Proc': {}, 'Med': {}, 'label': 0},\n",
       " 26581506: {'Cond': {}, 'Proc': {}, 'Med': {}, 'label': 0},\n",
       " 25619291: {'Cond': {}, 'Proc': {}, 'Med': {}, 'label': 0},\n",
       " 23058424: {'Cond': {}, 'Proc': {}, 'Med': {}, 'label': 0},\n",
       " 23958054: {'Cond': {}, 'Proc': {}, 'Med': {}, 'label': 0},\n",
       " 26069740: {'Cond': {}, 'Proc': {}, 'Med': {}, 'label': 0},\n",
       " 25085565: {'Cond': {}, 'Proc': {}, 'Med': {}, 'label': 0},\n",
       " 28236161: {'Cond': {}, 'Proc': {}, 'Med': {}, 'label': 0},\n",
       " 28613200: {'Cond': {}, 'Proc': {}, 'Med': {}, 'label': 0},\n",
       " 20854119: {'Cond': {}, 'Proc': {}, 'Med': {}, 'label': 0},\n",
       " 20790339: {'Cond': {}, 'Proc': {}, 'Med': {}, 'label': 0},\n",
       " 27670224: {'Cond': {}, 'Proc': {}, 'Med': {}, 'label': 0},\n",
       " 28157142: {'Cond': {}, 'Proc': {}, 'Med': {}, 'label': 1},\n",
       " 24420677: {'Cond': {}, 'Proc': {}, 'Med': {}, 'label': 0},\n",
       " 24894743: {'Cond': {}, 'Proc': {}, 'Med': {}, 'label': 0},\n",
       " 23267624: {'Cond': {}, 'Proc': {}, 'Med': {}, 'label': 0},\n",
       " 20182354: {'Cond': {}, 'Proc': {}, 'Med': {}, 'label': 0},\n",
       " 26575820: {'Cond': {}, 'Proc': {}, 'Med': {}, 'label': 0},\n",
       " 29374560: {'Cond': {}, 'Proc': {}, 'Med': {}, 'label': 0},\n",
       " 28558967: {'Cond': {}, 'Proc': {}, 'Med': {}, 'label': 0},\n",
       " 29694562: {'Cond': {}, 'Proc': {}, 'Med': {}, 'label': 0},\n",
       " 27955224: {'Cond': {}, 'Proc': {}, 'Med': {}, 'label': 0},\n",
       " 20343876: {'Cond': {}, 'Proc': {}, 'Med': {}, 'label': 0},\n",
       " 29103261: {'Cond': {}, 'Proc': {}, 'Med': {}, 'label': 0},\n",
       " 28506150: {'Cond': {}, 'Proc': {}, 'Med': {}, 'label': 1},\n",
       " 27568122: {'Cond': {}, 'Proc': {}, 'Med': {}, 'label': 0},\n",
       " 29281842: {'Cond': {}, 'Proc': {}, 'Med': {}, 'label': 1},\n",
       " 20973395: {'Cond': {}, 'Proc': {}, 'Med': {}, 'label': 0},\n",
       " 22988643: {'Cond': {}, 'Proc': {}, 'Med': {}, 'label': 0},\n",
       " 21696782: {'Cond': {}, 'Proc': {}, 'Med': {}, 'label': 0},\n",
       " 24538391: {'Cond': {}, 'Proc': {}, 'Med': {}, 'label': 0},\n",
       " 24172189: {'Cond': {}, 'Proc': {}, 'Med': {}, 'label': 0},\n",
       " 27998522: {'Cond': {}, 'Proc': {}, 'Med': {}, 'label': 0},\n",
       " 28991923: {'Cond': {}, 'Proc': {}, 'Med': {}, 'label': 0},\n",
       " 20581687: {'Cond': {}, 'Proc': {}, 'Med': {}, 'label': 0},\n",
       " 23282506: {'Cond': {}, 'Proc': {}, 'Med': {}, 'label': 0},\n",
       " 22241744: {'Cond': {}, 'Proc': {}, 'Med': {}, 'label': 0},\n",
       " 27672872: {'Cond': {}, 'Proc': {}, 'Med': {}, 'label': 0},\n",
       " 21095812: {'Cond': {}, 'Proc': {}, 'Med': {}, 'label': 1},\n",
       " 20668418: {'Cond': {}, 'Proc': {}, 'Med': {}, 'label': 0},\n",
       " 22580355: {'Cond': {}, 'Proc': {}, 'Med': {}, 'label': 0},\n",
       " 27635105: {'Cond': {}, 'Proc': {}, 'Med': {}, 'label': 1},\n",
       " 23440765: {'Cond': {}, 'Proc': {}, 'Med': {}, 'label': 0},\n",
       " 29739025: {'Cond': {}, 'Proc': {}, 'Med': {}, 'label': 0},\n",
       " 21736423: {'Cond': {}, 'Proc': {}, 'Med': {}, 'label': 1},\n",
       " 28307589: {'Cond': {}, 'Proc': {}, 'Med': {}, 'label': 0},\n",
       " 20880358: {'Cond': {}, 'Proc': {}, 'Med': {}, 'label': 0},\n",
       " 28088785: {'Cond': {}, 'Proc': {}, 'Med': {}, 'label': 0},\n",
       " 23415994: {'Cond': {}, 'Proc': {}, 'Med': {}, 'label': 0},\n",
       " 20019162: {'Cond': {}, 'Proc': {}, 'Med': {}, 'label': 0},\n",
       " 20015927: {'Cond': {}, 'Proc': {}, 'Med': {}, 'label': 0},\n",
       " 26410956: {'Cond': {}, 'Proc': {}, 'Med': {}, 'label': 1},\n",
       " 27285907: {'Cond': {}, 'Proc': {}, 'Med': {}, 'label': 1},\n",
       " 25973915: {'Cond': {}, 'Proc': {}, 'Med': {}, 'label': 0},\n",
       " 23983182: {'Cond': {}, 'Proc': {}, 'Med': {}, 'label': 1},\n",
       " 28861356: {'Cond': {}, 'Proc': {}, 'Med': {}, 'label': 1},\n",
       " 21027282: {'Cond': {}, 'Proc': {}, 'Med': {}, 'label': 0},\n",
       " 20306868: {'Cond': {}, 'Proc': {}, 'Med': {}, 'label': 0},\n",
       " 23786647: {'Cond': {}, 'Proc': {}, 'Med': {}, 'label': 0},\n",
       " 26706939: {'Cond': {}, 'Proc': {}, 'Med': {}, 'label': 0},\n",
       " 28479513: {'Cond': {}, 'Proc': {}, 'Med': {}, 'label': 0},\n",
       " 28708546: {'Cond': {}, 'Proc': {}, 'Med': {}, 'label': 0},\n",
       " 27864873: {'Cond': {}, 'Proc': {}, 'Med': {}, 'label': 0},\n",
       " 21101111: {'Cond': {}, 'Proc': {}, 'Med': {}, 'label': 0},\n",
       " 27200977: {'Cond': {}, 'Proc': {}, 'Med': {}, 'label': 0},\n",
       " 22523751: {'Cond': {}, 'Proc': {}, 'Med': {}, 'label': 0},\n",
       " 24521344: {'Cond': {}, 'Proc': {}, 'Med': {}, 'label': 0},\n",
       " 23290559: {'Cond': {}, 'Proc': {}, 'Med': {}, 'label': 0},\n",
       " 26806148: {'Cond': {}, 'Proc': {}, 'Med': {}, 'label': 0},\n",
       " 23049016: {'Cond': {}, 'Proc': {}, 'Med': {}, 'label': 0},\n",
       " 20236233: {'Cond': {}, 'Proc': {}, 'Med': {}, 'label': 0},\n",
       " 28003918: {'Cond': {}, 'Proc': {}, 'Med': {}, 'label': 0},\n",
       " 20965201: {'Cond': {}, 'Proc': {}, 'Med': {}, 'label': 0},\n",
       " 25493065: {'Cond': {}, 'Proc': {}, 'Med': {}, 'label': 0},\n",
       " 22964876: {'Cond': {}, 'Proc': {}, 'Med': {}, 'label': 0},\n",
       " 24997044: {'Cond': {}, 'Proc': {}, 'Med': {}, 'label': 0},\n",
       " 21540783: {'Cond': {}, 'Proc': {}, 'Med': {}, 'label': 0},\n",
       " 24004904: {'Cond': {}, 'Proc': {}, 'Med': {}, 'label': 0},\n",
       " 20297618: {'Cond': {}, 'Proc': {}, 'Med': {}, 'label': 1},\n",
       " 20611796: {'Cond': {}, 'Proc': {}, 'Med': {}, 'label': 0},\n",
       " 22863073: {'Cond': {}, 'Proc': {}, 'Med': {}, 'label': 0},\n",
       " 27896418: {'Cond': {}, 'Proc': {}, 'Med': {}, 'label': 0},\n",
       " 28710730: {'Cond': {}, 'Proc': {}, 'Med': {}, 'label': 0},\n",
       " 22446003: {'Cond': {}, 'Proc': {}, 'Med': {}, 'label': 0},\n",
       " 23165215: {'Cond': {}, 'Proc': {}, 'Med': {}, 'label': 0},\n",
       " 20085340: {'Cond': {}, 'Proc': {}, 'Med': {}, 'label': 1},\n",
       " 24050513: {'Cond': {}, 'Proc': {}, 'Med': {}, 'label': 0},\n",
       " 27738145: {'Cond': {}, 'Proc': {}, 'Med': {}, 'label': 0},\n",
       " 22585261: {'Cond': {}, 'Proc': {}, 'Med': {}, 'label': 0},\n",
       " 28761725: {'Cond': {}, 'Proc': {}, 'Med': {}, 'label': 0},\n",
       " 26581361: {'Cond': {}, 'Proc': {}, 'Med': {}, 'label': 0},\n",
       " 20872108: {'Cond': {}, 'Proc': {}, 'Med': {}, 'label': 0},\n",
       " 23156821: {'Cond': {}, 'Proc': {}, 'Med': {}, 'label': 0},\n",
       " 24104168: {'Cond': {}, 'Proc': {}, 'Med': {}, 'label': 0},\n",
       " 28778757: {'Cond': {}, 'Proc': {}, 'Med': {}, 'label': 0},\n",
       " 27984218: {'Cond': {}, 'Proc': {}, 'Med': {}, 'label': 0},\n",
       " 29820177: {'Cond': {}, 'Proc': {}, 'Med': {}, 'label': 0},\n",
       " 25826145: {'Cond': {}, 'Proc': {}, 'Med': {}, 'label': 0},\n",
       " 23831430: {'Cond': {}, 'Proc': {}, 'Med': {}, 'label': 0},\n",
       " 23488445: {'Cond': {}, 'Proc': {}, 'Med': {}, 'label': 0},\n",
       " 25376986: {'Cond': {}, 'Proc': {}, 'Med': {}, 'label': 0},\n",
       " 29974575: {'Cond': {}, 'Proc': {}, 'Med': {}, 'label': 0},\n",
       " 24490144: {'Cond': {}, 'Proc': {}, 'Med': {}, 'label': 0},\n",
       " 28829452: {'Cond': {}, 'Proc': {}, 'Med': {}, 'label': 0},\n",
       " 25020332: {'Cond': {}, 'Proc': {}, 'Med': {}, 'label': 1},\n",
       " 26833991: {'Cond': {}, 'Proc': {}, 'Med': {}, 'label': 0},\n",
       " 29787322: {'Cond': {}, 'Proc': {}, 'Med': {}, 'label': 1},\n",
       " 23490874: {'Cond': {}, 'Proc': {}, 'Med': {}, 'label': 1},\n",
       " 25423665: {'Cond': {}, 'Proc': {}, 'Med': {}, 'label': 0},\n",
       " 27709790: {'Cond': {}, 'Proc': {}, 'Med': {}, 'label': 0},\n",
       " 25937617: {'Cond': {}, 'Proc': {}, 'Med': {}, 'label': 0},\n",
       " 28922961: {'Cond': {}, 'Proc': {}, 'Med': {}, 'label': 0},\n",
       " 27360495: {'Cond': {}, 'Proc': {}, 'Med': {}, 'label': 0},\n",
       " 28998349: {'Cond': {}, 'Proc': {}, 'Med': {}, 'label': 0},\n",
       " 27112038: {'Cond': {}, 'Proc': {}, 'Med': {}, 'label': 0},\n",
       " 20429160: {'Cond': {}, 'Proc': {}, 'Med': {}, 'label': 0},\n",
       " 26321862: {'Cond': {}, 'Proc': {}, 'Med': {}, 'label': 1},\n",
       " 21928381: {'Cond': {}, 'Proc': {}, 'Med': {}, 'label': 0},\n",
       " 27660781: {'Cond': {}, 'Proc': {}, 'Med': {}, 'label': 0},\n",
       " 21433828: {'Cond': {}, 'Proc': {}, 'Med': {}, 'label': 0},\n",
       " 22756440: {'Cond': {}, 'Proc': {}, 'Med': {}, 'label': 0},\n",
       " 20978050: {'Cond': {}, 'Proc': {}, 'Med': {}, 'label': 0},\n",
       " 22865733: {'Cond': {}, 'Proc': {}, 'Med': {}, 'label': 0},\n",
       " 27288719: {'Cond': {}, 'Proc': {}, 'Med': {}, 'label': 1},\n",
       " 23373975: {'Cond': {}, 'Proc': {}, 'Med': {}, 'label': 0},\n",
       " 23785565: {'Cond': {}, 'Proc': {}, 'Med': {}, 'label': 1},\n",
       " 25202388: {'Cond': {}, 'Proc': {}, 'Med': {}, 'label': 1},\n",
       " 22659276: {'Cond': {}, 'Proc': {}, 'Med': {}, 'label': 0},\n",
       " 28997692: {'Cond': {}, 'Proc': {}, 'Med': {}, 'label': 0},\n",
       " 20252405: {'Cond': {}, 'Proc': {}, 'Med': {}, 'label': 0},\n",
       " 27142213: {'Cond': {}, 'Proc': {}, 'Med': {}, 'label': 0},\n",
       " 23735631: {'Cond': {}, 'Proc': {}, 'Med': {}, 'label': 0},\n",
       " 20882142: {'Cond': {}, 'Proc': {}, 'Med': {}, 'label': 0},\n",
       " 20480646: {'Cond': {}, 'Proc': {}, 'Med': {}, 'label': 0},\n",
       " 23112364: {'Cond': {}, 'Proc': {}, 'Med': {}, 'label': 1},\n",
       " 27154822: {'Cond': {}, 'Proc': {}, 'Med': {}, 'label': 0},\n",
       " 22342963: {'Cond': {}, 'Proc': {}, 'Med': {}, 'label': 0},\n",
       " 29052432: {'Cond': {}, 'Proc': {}, 'Med': {}, 'label': 0},\n",
       " 28909879: {'Cond': {}, 'Proc': {}, 'Med': {}, 'label': 0},\n",
       " 22591649: {'Cond': {}, 'Proc': {}, 'Med': {}, 'label': 0},\n",
       " 29642388: {'Cond': {}, 'Proc': {}, 'Med': {}, 'label': 0},\n",
       " 27450651: {'Cond': {}, 'Proc': {}, 'Med': {}, 'label': 1},\n",
       " 29953960: {'Cond': {}, 'Proc': {}, 'Med': {}, 'label': 1},\n",
       " 28740561: {'Cond': {}, 'Proc': {}, 'Med': {}, 'label': 0},\n",
       " 27136645: {'Cond': {}, 'Proc': {}, 'Med': {}, 'label': 0},\n",
       " 26610967: {'Cond': {}, 'Proc': {}, 'Med': {}, 'label': 0},\n",
       " 28050523: {'Cond': {}, 'Proc': {}, 'Med': {}, 'label': 0},\n",
       " 26967986: {'Cond': {}, 'Proc': {}, 'Med': {}, 'label': 1},\n",
       " 24600926: {'Cond': {}, 'Proc': {}, 'Med': {}, 'label': 0},\n",
       " 23228674: {'Cond': {}, 'Proc': {}, 'Med': {}, 'label': 0},\n",
       " 23913764: {'Cond': {}, 'Proc': {}, 'Med': {}, 'label': 0},\n",
       " 27708593: {'Cond': {}, 'Proc': {}, 'Med': {}, 'label': 0},\n",
       " 26115590: {'Cond': {}, 'Proc': {}, 'Med': {}, 'label': 0},\n",
       " 23730629: {'Cond': {}, 'Proc': {}, 'Med': {}, 'label': 0},\n",
       " 29839885: {'Cond': {}, 'Proc': {}, 'Med': {}, 'label': 0},\n",
       " 29858644: {'Cond': {}, 'Proc': {}, 'Med': {}, 'label': 0},\n",
       " 28872262: {'Cond': {}, 'Proc': {}, 'Med': {}, 'label': 0},\n",
       " 22027499: {'Cond': {}, 'Proc': {}, 'Med': {}, 'label': 0},\n",
       " 29295881: {'Cond': {}, 'Proc': {}, 'Med': {}, 'label': 0},\n",
       " 29718695: {'Cond': {}, 'Proc': {}, 'Med': {}, 'label': 0},\n",
       " 29226882: {'Cond': {}, 'Proc': {}, 'Med': {}, 'label': 0},\n",
       " 28698725: {'Cond': {}, 'Proc': {}, 'Med': {}, 'label': 0},\n",
       " 21469450: {'Cond': {}, 'Proc': {}, 'Med': {}, 'label': 0},\n",
       " 20044587: {'Cond': {}, 'Proc': {}, 'Med': {}, 'label': 0},\n",
       " 28228559: {'Cond': {}, 'Proc': {}, 'Med': {}, 'label': 0},\n",
       " 24717014: {'Cond': {}, 'Proc': {}, 'Med': {}, 'label': 0},\n",
       " 29013686: {'Cond': {}, 'Proc': {}, 'Med': {}, 'label': 0},\n",
       " 20070925: {'Cond': {}, 'Proc': {}, 'Med': {}, 'label': 0},\n",
       " 28956643: {'Cond': {}, 'Proc': {}, 'Med': {}, 'label': 0},\n",
       " 26698935: {'Cond': {}, 'Proc': {}, 'Med': {}, 'label': 0},\n",
       " 21036317: {'Cond': {}, 'Proc': {}, 'Med': {}, 'label': 1},\n",
       " 26398714: {'Cond': {}, 'Proc': {}, 'Med': {}, 'label': 0},\n",
       " 27524226: {'Cond': {}, 'Proc': {}, 'Med': {}, 'label': 0},\n",
       " 26578377: {'Cond': {}, 'Proc': {}, 'Med': {}, 'label': 1},\n",
       " 25768667: {'Cond': {}, 'Proc': {}, 'Med': {}, 'label': 0},\n",
       " 20619959: {'Cond': {}, 'Proc': {}, 'Med': {}, 'label': 0},\n",
       " 20859291: {'Cond': {}, 'Proc': {}, 'Med': {}, 'label': 1},\n",
       " 22643604: {'Cond': {}, 'Proc': {}, 'Med': {}, 'label': 0},\n",
       " 25731821: {'Cond': {}, 'Proc': {}, 'Med': {}, 'label': 0},\n",
       " 26650534: {'Cond': {}, 'Proc': {}, 'Med': {}, 'label': 1},\n",
       " 26317622: {'Cond': {}, 'Proc': {}, 'Med': {}, 'label': 1},\n",
       " 27207228: {'Cond': {}, 'Proc': {}, 'Med': {}, 'label': 0},\n",
       " 24005818: {'Cond': {}, 'Proc': {}, 'Med': {}, 'label': 0},\n",
       " 25022048: {'Cond': {}, 'Proc': {}, 'Med': {}, 'label': 1},\n",
       " 23333013: {'Cond': {}, 'Proc': {}, 'Med': {}, 'label': 0},\n",
       " 29354604: {'Cond': {}, 'Proc': {}, 'Med': {}, 'label': 0},\n",
       " 25153817: {'Cond': {}, 'Proc': {}, 'Med': {}, 'label': 0},\n",
       " 28004982: {'Cond': {}, 'Proc': {}, 'Med': {}, 'label': 0},\n",
       " 20759687: {'Cond': {}, 'Proc': {}, 'Med': {}, 'label': 0},\n",
       " 26146150: {'Cond': {}, 'Proc': {}, 'Med': {}, 'label': 0},\n",
       " 23933594: {'Cond': {}, 'Proc': {}, 'Med': {}, 'label': 0},\n",
       " 24288003: {'Cond': {}, 'Proc': {}, 'Med': {}, 'label': 0},\n",
       " 20826249: {'Cond': {}, 'Proc': {}, 'Med': {}, 'label': 1},\n",
       " 28737508: {'Cond': {}, 'Proc': {}, 'Med': {}, 'label': 0},\n",
       " 20056478: {'Cond': {}, 'Proc': {}, 'Med': {}, 'label': 0},\n",
       " 24036416: {'Cond': {}, 'Proc': {}, 'Med': {}, 'label': 0},\n",
       " 28551978: {'Cond': {}, 'Proc': {}, 'Med': {}, 'label': 0},\n",
       " 25496647: {'Cond': {}, 'Proc': {}, 'Med': {}, 'label': 0},\n",
       " 24218444: {'Cond': {}, 'Proc': {}, 'Med': {}, 'label': 0},\n",
       " 27327816: {'Cond': {}, 'Proc': {}, 'Med': {}, 'label': 0},\n",
       " 23403708: {'Cond': {}, 'Proc': {}, 'Med': {}, 'label': 0},\n",
       " 20302361: {'Cond': {}, 'Proc': {}, 'Med': {}, 'label': 0},\n",
       " 23201842: {'Cond': {}, 'Proc': {}, 'Med': {}, 'label': 0},\n",
       " 20807698: {'Cond': {}, 'Proc': {}, 'Med': {}, 'label': 0},\n",
       " 28899194: {'Cond': {}, 'Proc': {}, 'Med': {}, 'label': 0},\n",
       " 28326162: {'Cond': {}, 'Proc': {}, 'Med': {}, 'label': 0},\n",
       " 23677630: {'Cond': {}, 'Proc': {}, 'Med': {}, 'label': 0},\n",
       " 25012487: {'Cond': {}, 'Proc': {}, 'Med': {}, 'label': 0},\n",
       " 22828313: {'Cond': {}, 'Proc': {}, 'Med': {}, 'label': 0},\n",
       " 26276305: {'Cond': {}, 'Proc': {}, 'Med': {}, 'label': 1},\n",
       " 21206487: {'Cond': {}, 'Proc': {}, 'Med': {}, 'label': 1},\n",
       " 20695044: {'Cond': {}, 'Proc': {}, 'Med': {}, 'label': 0},\n",
       " 24817425: {'Cond': {}, 'Proc': {}, 'Med': {}, 'label': 0},\n",
       " 25533589: {'Cond': {}, 'Proc': {}, 'Med': {}, 'label': 0},\n",
       " 24708168: {'Cond': {}, 'Proc': {}, 'Med': {}, 'label': 0},\n",
       " 20421787: {'Cond': {}, 'Proc': {}, 'Med': {}, 'label': 0},\n",
       " 20361624: {'Cond': {}, 'Proc': {}, 'Med': {}, 'label': 0},\n",
       " 21038524: {'Cond': {}, 'Proc': {}, 'Med': {}, 'label': 0},\n",
       " 24902998: {'Cond': {}, 'Proc': {}, 'Med': {}, 'label': 0},\n",
       " 20319648: {'Cond': {}, 'Proc': {}, 'Med': {}, 'label': 0},\n",
       " 20061526: {'Cond': {}, 'Proc': {}, 'Med': {}, 'label': 0},\n",
       " 20437651: {'Cond': {}, 'Proc': {}, 'Med': {}, 'label': 0},\n",
       " 28541518: {'Cond': {}, 'Proc': {}, 'Med': {}, 'label': 0},\n",
       " 27837210: {'Cond': {}, 'Proc': {}, 'Med': {}, 'label': 0},\n",
       " 26565360: {'Cond': {}, 'Proc': {}, 'Med': {}, 'label': 0},\n",
       " 26262287: {'Cond': {}, 'Proc': {}, 'Med': {}, 'label': 0},\n",
       " 24547356: {'Cond': {}, 'Proc': {}, 'Med': {}, 'label': 0},\n",
       " 21375571: {'Cond': {}, 'Proc': {}, 'Med': {}, 'label': 0},\n",
       " 25260176: {'Cond': {}, 'Proc': {}, 'Med': {}, 'label': 0},\n",
       " 21649207: {'Cond': {}, 'Proc': {}, 'Med': {}, 'label': 0},\n",
       " 27625088: {'Cond': {}, 'Proc': {}, 'Med': {}, 'label': 0},\n",
       " 27020746: {'Cond': {}, 'Proc': {}, 'Med': {}, 'label': 0},\n",
       " 24587784: {'Cond': {}, 'Proc': {}, 'Med': {}, 'label': 0},\n",
       " 28254249: {'Cond': {}, 'Proc': {}, 'Med': {}, 'label': 0},\n",
       " 28402790: {'Cond': {}, 'Proc': {}, 'Med': {}, 'label': 0},\n",
       " 29368678: {'Cond': {}, 'Proc': {}, 'Med': {}, 'label': 0},\n",
       " 24643774: {'Cond': {}, 'Proc': {}, 'Med': {}, 'label': 0},\n",
       " 28412436: {'Cond': {}, 'Proc': {}, 'Med': {}, 'label': 0},\n",
       " 29163082: {'Cond': {}, 'Proc': {}, 'Med': {}, 'label': 0},\n",
       " 26275841: {'Cond': {}, 'Proc': {}, 'Med': {}, 'label': 1},\n",
       " 27488741: {'Cond': {}, 'Proc': {}, 'Med': {}, 'label': 0},\n",
       " 26813083: {'Cond': {}, 'Proc': {}, 'Med': {}, 'label': 0},\n",
       " 22681811: {'Cond': {}, 'Proc': {}, 'Med': {}, 'label': 0},\n",
       " 24677550: {'Cond': {}, 'Proc': {}, 'Med': {}, 'label': 1},\n",
       " 28332555: {'Cond': {}, 'Proc': {}, 'Med': {}, 'label': 0},\n",
       " 28166872: {'Cond': {}, 'Proc': {}, 'Med': {}, 'label': 1},\n",
       " 21477991: {'Cond': {}, 'Proc': {}, 'Med': {}, 'label': 0},\n",
       " 28024454: {'Cond': {}, 'Proc': {}, 'Med': {}, 'label': 0},\n",
       " 22858992: {'Cond': {}, 'Proc': {}, 'Med': {}, 'label': 0},\n",
       " 24331106: {'Cond': {}, 'Proc': {}, 'Med': {}, 'label': 0},\n",
       " 28918641: {'Cond': {}, 'Proc': {}, 'Med': {}, 'label': 0},\n",
       " 23954590: {'Cond': {}, 'Proc': {}, 'Med': {}, 'label': 0},\n",
       " 27527656: {'Cond': {}, 'Proc': {}, 'Med': {}, 'label': 0},\n",
       " 23347512: {'Cond': {}, 'Proc': {}, 'Med': {}, 'label': 0},\n",
       " 29007875: {'Cond': {}, 'Proc': {}, 'Med': {}, 'label': 0},\n",
       " 23533828: {'Cond': {}, 'Proc': {}, 'Med': {}, 'label': 1},\n",
       " 24589774: {'Cond': {}, 'Proc': {}, 'Med': {}, 'label': 0},\n",
       " 28848838: {'Cond': {}, 'Proc': {}, 'Med': {}, 'label': 0},\n",
       " 23321873: {'Cond': {}, 'Proc': {}, 'Med': {}, 'label': 0},\n",
       " 25313091: {'Cond': {}, 'Proc': {}, 'Med': {}, 'label': 0},\n",
       " 20401884: {'Cond': {}, 'Proc': {}, 'Med': {}, 'label': 0},\n",
       " 29884325: {'Cond': {}, 'Proc': {}, 'Med': {}, 'label': 0},\n",
       " 21961374: {'Cond': {}, 'Proc': {}, 'Med': {}, 'label': 0},\n",
       " 26087775: {'Cond': {}, 'Proc': {}, 'Med': {}, 'label': 0},\n",
       " 27170495: {'Cond': {}, 'Proc': {}, 'Med': {}, 'label': 0},\n",
       " 22343816: {'Cond': {}, 'Proc': {}, 'Med': {}, 'label': 0},\n",
       " 27338609: {'Cond': {}, 'Proc': {}, 'Med': {}, 'label': 0},\n",
       " 22530994: {'Cond': {}, 'Proc': {}, 'Med': {}, 'label': 0},\n",
       " 27928685: {'Cond': {}, 'Proc': {}, 'Med': {}, 'label': 0},\n",
       " 25636542: {'Cond': {}, 'Proc': {}, 'Med': {}, 'label': 0},\n",
       " 22458450: {'Cond': {}, 'Proc': {}, 'Med': {}, 'label': 1},\n",
       " 29267351: {'Cond': {}, 'Proc': {}, 'Med': {}, 'label': 0},\n",
       " 28919637: {'Cond': {}, 'Proc': {}, 'Med': {}, 'label': 0},\n",
       " 29632942: {'Cond': {}, 'Proc': {}, 'Med': {}, 'label': 1},\n",
       " 28187971: {'Cond': {}, 'Proc': {}, 'Med': {}, 'label': 0},\n",
       " 20360088: {'Cond': {}, 'Proc': {}, 'Med': {}, 'label': 0},\n",
       " 20347783: {'Cond': {}, 'Proc': {}, 'Med': {}, 'label': 0},\n",
       " 25729446: {'Cond': {}, 'Proc': {}, 'Med': {}, 'label': 0},\n",
       " 22205327: {'Cond': {}, 'Proc': {}, 'Med': {}, 'label': 0},\n",
       " 23947518: {'Cond': {}, 'Proc': {}, 'Med': {}, 'label': 0},\n",
       " 27059161: {'Cond': {}, 'Proc': {}, 'Med': {}, 'label': 0},\n",
       " 22631878: {'Cond': {}, 'Proc': {}, 'Med': {}, 'label': 0},\n",
       " 20764029: {'Cond': {}, 'Proc': {}, 'Med': {}, 'label': 0},\n",
       " 22589198: {'Cond': {}, 'Proc': {}, 'Med': {}, 'label': 0},\n",
       " 29236319: {'Cond': {}, 'Proc': {}, 'Med': {}, 'label': 0},\n",
       " 21746861: {'Cond': {}, 'Proc': {}, 'Med': {}, 'label': 0},\n",
       " 22084015: {'Cond': {}, 'Proc': {}, 'Med': {}, 'label': 0},\n",
       " 23350960: {'Cond': {}, 'Proc': {}, 'Med': {}, 'label': 0},\n",
       " 26773316: {'Cond': {}, 'Proc': {}, 'Med': {}, 'label': 1},\n",
       " 26679300: {'Cond': {}, 'Proc': {}, 'Med': {}, 'label': 0},\n",
       " 28506045: {'Cond': {}, 'Proc': {}, 'Med': {}, 'label': 0},\n",
       " 25587586: {'Cond': {}, 'Proc': {}, 'Med': {}, 'label': 0},\n",
       " 28475857: {'Cond': {}, 'Proc': {}, 'Med': {}, 'label': 1},\n",
       " 23428739: {'Cond': {}, 'Proc': {}, 'Med': {}, 'label': 0},\n",
       " 21662110: {'Cond': {}, 'Proc': {}, 'Med': {}, 'label': 1},\n",
       " 24887509: {'Cond': {}, 'Proc': {}, 'Med': {}, 'label': 0},\n",
       " 23069127: {'Cond': {}, 'Proc': {}, 'Med': {}, 'label': 0},\n",
       " 23840514: {'Cond': {}, 'Proc': {}, 'Med': {}, 'label': 0},\n",
       " 21290807: {'Cond': {}, 'Proc': {}, 'Med': {}, 'label': 0},\n",
       " 24012309: {'Cond': {}, 'Proc': {}, 'Med': {}, 'label': 0},\n",
       " 24055101: {'Cond': {}, 'Proc': {}, 'Med': {}, 'label': 0},\n",
       " 27022899: {'Cond': {}, 'Proc': {}, 'Med': {}, 'label': 0},\n",
       " 23601790: {'Cond': {}, 'Proc': {}, 'Med': {}, 'label': 0},\n",
       " 22447638: {'Cond': {}, 'Proc': {}, 'Med': {}, 'label': 0},\n",
       " 23614168: {'Cond': {}, 'Proc': {}, 'Med': {}, 'label': 0},\n",
       " 27660982: {'Cond': {}, 'Proc': {}, 'Med': {}, 'label': 0},\n",
       " 28782487: {'Cond': {}, 'Proc': {}, 'Med': {}, 'label': 0},\n",
       " 26587101: {'Cond': {}, 'Proc': {}, 'Med': {}, 'label': 0},\n",
       " 27018952: {'Cond': {}, 'Proc': {}, 'Med': {}, 'label': 0},\n",
       " 20532441: {'Cond': {}, 'Proc': {}, 'Med': {}, 'label': 0},\n",
       " 28016135: {'Cond': {}, 'Proc': {}, 'Med': {}, 'label': 0},\n",
       " 26743162: {'Cond': {}, 'Proc': {}, 'Med': {}, 'label': 0},\n",
       " 29088017: {'Cond': {}, 'Proc': {}, 'Med': {}, 'label': 0},\n",
       " 26285510: {'Cond': {}, 'Proc': {}, 'Med': {}, 'label': 0},\n",
       " 22640072: {'Cond': {}, 'Proc': {}, 'Med': {}, 'label': 1},\n",
       " 26225877: {'Cond': {}, 'Proc': {}, 'Med': {}, 'label': 0},\n",
       " 29798131: {'Cond': {}, 'Proc': {}, 'Med': {}, 'label': 1},\n",
       " 22251570: {'Cond': {}, 'Proc': {}, 'Med': {}, 'label': 0},\n",
       " 28798773: {'Cond': {}, 'Proc': {}, 'Med': {}, 'label': 0},\n",
       " 23658878: {'Cond': {}, 'Proc': {}, 'Med': {}, 'label': 0},\n",
       " 27035421: {'Cond': {}, 'Proc': {}, 'Med': {}, 'label': 0},\n",
       " 23164186: {'Cond': {}, 'Proc': {}, 'Med': {}, 'label': 0},\n",
       " 25486901: {'Cond': {}, 'Proc': {}, 'Med': {}, 'label': 0},\n",
       " 26022665: {'Cond': {}, 'Proc': {}, 'Med': {}, 'label': 0},\n",
       " 27421511: {'Cond': {}, 'Proc': {}, 'Med': {}, 'label': 0},\n",
       " 28279098: {'Cond': {}, 'Proc': {}, 'Med': {}, 'label': 0},\n",
       " 24522342: {'Cond': {}, 'Proc': {}, 'Med': {}, 'label': 0},\n",
       " 29498981: {'Cond': {}, 'Proc': {}, 'Med': {}, 'label': 0},\n",
       " 21606243: {'Cond': {}, 'Proc': {}, 'Med': {}, 'label': 0},\n",
       " 28522103: {'Cond': {}, 'Proc': {}, 'Med': {}, 'label': 0},\n",
       " 21340639: {'Cond': {}, 'Proc': {}, 'Med': {}, 'label': 0},\n",
       " 21856538: {'Cond': {}, 'Proc': {}, 'Med': {}, 'label': 0},\n",
       " 25653917: {'Cond': {}, 'Proc': {}, 'Med': {}, 'label': 0},\n",
       " 21674234: {'Cond': {}, 'Proc': {}, 'Med': {}, 'label': 1},\n",
       " 23811052: {'Cond': {}, 'Proc': {}, 'Med': {}, 'label': 1},\n",
       " 25318200: {'Cond': {}, 'Proc': {}, 'Med': {}, 'label': 0},\n",
       " 26855246: {'Cond': {}, 'Proc': {}, 'Med': {}, 'label': 1},\n",
       " 26818205: {'Cond': {}, 'Proc': {}, 'Med': {}, 'label': 0},\n",
       " 21530929: {'Cond': {}, 'Proc': {}, 'Med': {}, 'label': 0},\n",
       " 23186738: {'Cond': {}, 'Proc': {}, 'Med': {}, 'label': 0},\n",
       " 28477280: {'Cond': {}, 'Proc': {}, 'Med': {}, 'label': 0},\n",
       " 24748957: {'Cond': {}, 'Proc': {}, 'Med': {}, 'label': 0},\n",
       " 20172468: {'Cond': {}, 'Proc': {}, 'Med': {}, 'label': 0},\n",
       " 22420348: {'Cond': {}, 'Proc': {}, 'Med': {}, 'label': 0},\n",
       " 23514622: {'Cond': {}, 'Proc': {}, 'Med': {}, 'label': 0},\n",
       " 28689430: {'Cond': {}, 'Proc': {}, 'Med': {}, 'label': 0},\n",
       " 28839328: {'Cond': {}, 'Proc': {}, 'Med': {}, 'label': 0},\n",
       " 29327897: {'Cond': {}, 'Proc': {}, 'Med': {}, 'label': 0},\n",
       " 21616326: {'Cond': {}, 'Proc': {}, 'Med': {}, 'label': 0},\n",
       " 29901765: {'Cond': {}, 'Proc': {}, 'Med': {}, 'label': 0},\n",
       " 25998318: {'Cond': {}, 'Proc': {}, 'Med': {}, 'label': 0},\n",
       " 29897948: {'Cond': {}, 'Proc': {}, 'Med': {}, 'label': 0},\n",
       " 25121098: {'Cond': {}, 'Proc': {}, 'Med': {}, 'label': 0},\n",
       " 28434491: {'Cond': {}, 'Proc': {}, 'Med': {}, 'label': 0},\n",
       " 20176432: {'Cond': {}, 'Proc': {}, 'Med': {}, 'label': 0},\n",
       " 20679361: {'Cond': {}, 'Proc': {}, 'Med': {}, 'label': 1},\n",
       " 24605867: {'Cond': {}, 'Proc': {}, 'Med': {}, 'label': 0},\n",
       " 25997537: {'Cond': {}, 'Proc': {}, 'Med': {}, 'label': 0},\n",
       " 22851103: {'Cond': {}, 'Proc': {}, 'Med': {}, 'label': 0},\n",
       " 25394829: {'Cond': {}, 'Proc': {}, 'Med': {}, 'label': 1},\n",
       " 26423972: {'Cond': {}, 'Proc': {}, 'Med': {}, 'label': 1},\n",
       " 26795619: {'Cond': {}, 'Proc': {}, 'Med': {}, 'label': 0},\n",
       " 22661627: {'Cond': {}, 'Proc': {}, 'Med': {}, 'label': 0},\n",
       " 21222839: {'Cond': {}, 'Proc': {}, 'Med': {}, 'label': 0},\n",
       " 20612017: {'Cond': {}, 'Proc': {}, 'Med': {}, 'label': 1},\n",
       " 24053571: {'Cond': {}, 'Proc': {}, 'Med': {}, 'label': 1},\n",
       " 22919234: {'Cond': {}, 'Proc': {}, 'Med': {}, 'label': 0},\n",
       " 28487385: {'Cond': {}, 'Proc': {}, 'Med': {}, 'label': 0},\n",
       " 20611640: {'Cond': {}, 'Proc': {}, 'Med': {}, 'label': 0},\n",
       " 25177949: {'Cond': {}, 'Proc': {}, 'Med': {}, 'label': 1},\n",
       " 29789097: {'Cond': {}, 'Proc': {}, 'Med': {}, 'label': 0},\n",
       " 20827120: {'Cond': {}, 'Proc': {}, 'Med': {}, 'label': 0},\n",
       " 28055712: {'Cond': {}, 'Proc': {}, 'Med': {}, 'label': 0},\n",
       " 23535903: {'Cond': {}, 'Proc': {}, 'Med': {}, 'label': 0},\n",
       " 28186775: {'Cond': {}, 'Proc': {}, 'Med': {}, 'label': 0},\n",
       " 20400106: {'Cond': {}, 'Proc': {}, 'Med': {}, 'label': 1},\n",
       " 23523392: {'Cond': {}, 'Proc': {}, 'Med': {}, 'label': 0},\n",
       " 25377376: {'Cond': {}, 'Proc': {}, 'Med': {}, 'label': 1},\n",
       " 21662687: {'Cond': {}, 'Proc': {}, 'Med': {}, 'label': 1},\n",
       " 24480259: {'Cond': {}, 'Proc': {}, 'Med': {}, 'label': 0},\n",
       " 20193539: {'Cond': {}, 'Proc': {}, 'Med': {}, 'label': 0},\n",
       " 29033190: {'Cond': {}, 'Proc': {}, 'Med': {}, 'label': 0},\n",
       " 22003995: {'Cond': {}, 'Proc': {}, 'Med': {}, 'label': 0},\n",
       " 27383470: {'Cond': {}, 'Proc': {}, 'Med': {}, 'label': 0},\n",
       " 21166109: {'Cond': {}, 'Proc': {}, 'Med': {}, 'label': 0},\n",
       " 21653416: {'Cond': {}, 'Proc': {}, 'Med': {}, 'label': 1},\n",
       " 21921736: {'Cond': {}, 'Proc': {}, 'Med': {}, 'label': 0},\n",
       " 24763903: {'Cond': {}, 'Proc': {}, 'Med': {}, 'label': 0},\n",
       " 26674403: {'Cond': {}, 'Proc': {}, 'Med': {}, 'label': 1},\n",
       " 27724752: {'Cond': {}, 'Proc': {}, 'Med': {}, 'label': 0},\n",
       " 27657995: {'Cond': {}, 'Proc': {}, 'Med': {}, 'label': 0},\n",
       " 28125967: {'Cond': {}, 'Proc': {}, 'Med': {}, 'label': 1},\n",
       " 22647093: {'Cond': {}, 'Proc': {}, 'Med': {}, 'label': 0},\n",
       " 26774222: {'Cond': {}, 'Proc': {}, 'Med': {}, 'label': 0},\n",
       " 27391040: {'Cond': {}, 'Proc': {}, 'Med': {}, 'label': 0},\n",
       " 20848462: {'Cond': {}, 'Proc': {}, 'Med': {}, 'label': 0},\n",
       " 26445017: {'Cond': {}, 'Proc': {}, 'Med': {}, 'label': 0},\n",
       " 23511892: {'Cond': {}, 'Proc': {}, 'Med': {}, 'label': 1},\n",
       " 25617235: {'Cond': {}, 'Proc': {}, 'Med': {}, 'label': 1},\n",
       " 29598065: {'Cond': {}, 'Proc': {}, 'Med': {}, 'label': 0},\n",
       " 24670296: {'Cond': {}, 'Proc': {}, 'Med': {}, 'label': 0},\n",
       " 25449821: {'Cond': {}, 'Proc': {}, 'Med': {}, 'label': 0},\n",
       " 21663846: {'Cond': {}, 'Proc': {}, 'Med': {}, 'label': 1},\n",
       " 20515949: {'Cond': {}, 'Proc': {}, 'Med': {}, 'label': 1},\n",
       " 28656143: {'Cond': {}, 'Proc': {}, 'Med': {}, 'label': 0},\n",
       " 24287964: {'Cond': {}, 'Proc': {}, 'Med': {}, 'label': 1},\n",
       " 29651609: {'Cond': {}, 'Proc': {}, 'Med': {}, 'label': 1},\n",
       " 21314054: {'Cond': {}, 'Proc': {}, 'Med': {}, 'label': 1},\n",
       " 23476073: {'Cond': {}, 'Proc': {}, 'Med': {}, 'label': 0},\n",
       " 28963202: {'Cond': {}, 'Proc': {}, 'Med': {}, 'label': 1},\n",
       " 22580999: {'Cond': {}, 'Proc': {}, 'Med': {}, 'label': 0},\n",
       " 29907935: {'Cond': {}, 'Proc': {}, 'Med': {}, 'label': 0},\n",
       " 23974616: {'Cond': {}, 'Proc': {}, 'Med': {}, 'label': 0},\n",
       " 21476294: {'Cond': {}, 'Proc': {}, 'Med': {}, 'label': 0},\n",
       " 20385771: {'Cond': {}, 'Proc': {}, 'Med': {}, 'label': 0},\n",
       " 22732862: {'Cond': {}, 'Proc': {}, 'Med': {}, 'label': 1},\n",
       " 29462354: {'Cond': {}, 'Proc': {}, 'Med': {}, 'label': 1},\n",
       " 24912093: {'Cond': {}, 'Proc': {}, 'Med': {}, 'label': 1},\n",
       " 27496788: {'Cond': {}, 'Proc': {}, 'Med': {}, 'label': 0},\n",
       " 27083519: {'Cond': {}, 'Proc': {}, 'Med': {}, 'label': 0},\n",
       " 24066573: {'Cond': {}, 'Proc': {}, 'Med': {}, 'label': 1},\n",
       " 22919435: {'Cond': {}, 'Proc': {}, 'Med': {}, 'label': 0},\n",
       " 25186901: {'Cond': {}, 'Proc': {}, 'Med': {}, 'label': 0},\n",
       " 24176466: {'Cond': {}, 'Proc': {}, 'Med': {}, 'label': 0},\n",
       " 21103180: {'Cond': {}, 'Proc': {}, 'Med': {}, 'label': 1},\n",
       " 24956483: {'Cond': {}, 'Proc': {}, 'Med': {}, 'label': 0},\n",
       " 28728587: {'Cond': {}, 'Proc': {}, 'Med': {}, 'label': 0},\n",
       " 20774537: {'Cond': {}, 'Proc': {}, 'Med': {}, 'label': 0},\n",
       " 23010709: {'Cond': {}, 'Proc': {}, 'Med': {}, 'label': 0},\n",
       " 28019404: {'Cond': {}, 'Proc': {}, 'Med': {}, 'label': 0},\n",
       " 26022697: {'Cond': {}, 'Proc': {}, 'Med': {}, 'label': 0},\n",
       " 22489707: {'Cond': {}, 'Proc': {}, 'Med': {}, 'label': 0},\n",
       " 26677698: {'Cond': {}, 'Proc': {}, 'Med': {}, 'label': 0},\n",
       " 28743866: {'Cond': {}, 'Proc': {}, 'Med': {}, 'label': 1},\n",
       " 27121634: {'Cond': {}, 'Proc': {}, 'Med': {}, 'label': 0},\n",
       " 25432420: {'Cond': {}, 'Proc': {}, 'Med': {}, 'label': 0},\n",
       " 29156357: {'Cond': {}, 'Proc': {}, 'Med': {}, 'label': 0},\n",
       " 26819958: {'Cond': {}, 'Proc': {}, 'Med': {}, 'label': 0},\n",
       " 22498821: {'Cond': {}, 'Proc': {}, 'Med': {}, 'label': 0},\n",
       " 22095609: {'Cond': {}, 'Proc': {}, 'Med': {}, 'label': 0},\n",
       " 20521634: {'Cond': {}, 'Proc': {}, 'Med': {}, 'label': 1},\n",
       " 24022026: {'Cond': {}, 'Proc': {}, 'Med': {}, 'label': 0},\n",
       " 21016472: {'Cond': {}, 'Proc': {}, 'Med': {}, 'label': 0},\n",
       " 26686311: {'Cond': {}, 'Proc': {}, 'Med': {}, 'label': 0},\n",
       " 24256866: {'Cond': {}, 'Proc': {}, 'Med': {}, 'label': 0},\n",
       " 22490490: {'Cond': {}, 'Proc': {}, 'Med': {}, 'label': 0},\n",
       " 22326517: {'Cond': {}, 'Proc': {}, 'Med': {}, 'label': 0},\n",
       " 24225421: {'Cond': {}, 'Proc': {}, 'Med': {}, 'label': 0},\n",
       " 24656677: {'Cond': {}, 'Proc': {}, 'Med': {}, 'label': 0},\n",
       " 20192635: {'Cond': {}, 'Proc': {}, 'Med': {}, 'label': 0},\n",
       " 28083756: {'Cond': {}, 'Proc': {}, 'Med': {}, 'label': 0},\n",
       " 25585350: {'Cond': {}, 'Proc': {}, 'Med': {}, 'label': 0},\n",
       " 26990272: {'Cond': {}, 'Proc': {}, 'Med': {}, 'label': 0},\n",
       " 24104966: {'Cond': {}, 'Proc': {}, 'Med': {}, 'label': 0},\n",
       " 20599913: {'Cond': {}, 'Proc': {}, 'Med': {}, 'label': 0},\n",
       " 23080299: {'Cond': {}, 'Proc': {}, 'Med': {}, 'label': 0},\n",
       " 20539957: {'Cond': {}, 'Proc': {}, 'Med': {}, 'label': 0},\n",
       " 28813573: {'Cond': {}, 'Proc': {}, 'Med': {}, 'label': 0},\n",
       " 28367860: {'Cond': {}, 'Proc': {}, 'Med': {}, 'label': 0},\n",
       " 27644617: {'Cond': {}, 'Proc': {}, 'Med': {}, 'label': 0},\n",
       " 26370434: {'Cond': {}, 'Proc': {}, 'Med': {}, 'label': 0},\n",
       " 24531493: {'Cond': {}, 'Proc': {}, 'Med': {}, 'label': 0},\n",
       " 29896668: {'Cond': {}, 'Proc': {}, 'Med': {}, 'label': 0},\n",
       " 29585848: {'Cond': {}, 'Proc': {}, 'Med': {}, 'label': 0},\n",
       " 25230174: {'Cond': {}, 'Proc': {}, 'Med': {}, 'label': 0},\n",
       " 25247697: {'Cond': {}, 'Proc': {}, 'Med': {}, 'label': 0},\n",
       " 21490924: {'Cond': {}, 'Proc': {}, 'Med': {}, 'label': 0},\n",
       " 24278260: {'Cond': {}, 'Proc': {}, 'Med': {}, 'label': 0},\n",
       " 28195068: {'Cond': {}, 'Proc': {}, 'Med': {}, 'label': 0},\n",
       " 25549907: {'Cond': {}, 'Proc': {}, 'Med': {}, 'label': 1},\n",
       " 29255745: {'Cond': {}, 'Proc': {}, 'Med': {}, 'label': 1},\n",
       " 29986972: {'Cond': {}, 'Proc': {}, 'Med': {}, 'label': 0},\n",
       " 27490292: {'Cond': {}, 'Proc': {}, 'Med': {}, 'label': 0},\n",
       " 24843258: {'Cond': {}, 'Proc': {}, 'Med': {}, 'label': 0},\n",
       " 25698240: {'Cond': {}, 'Proc': {}, 'Med': {}, 'label': 0},\n",
       " 26100446: {'Cond': {}, 'Proc': {}, 'Med': {}, 'label': 0},\n",
       " 29297856: {'Cond': {}, 'Proc': {}, 'Med': {}, 'label': 1},\n",
       " 28582224: {'Cond': {}, 'Proc': {}, 'Med': {}, 'label': 0},\n",
       " 27897121: {'Cond': {}, 'Proc': {}, 'Med': {}, 'label': 0},\n",
       " 20202794: {'Cond': {}, 'Proc': {}, 'Med': {}, 'label': 0},\n",
       " 25129047: {'Cond': {}, 'Proc': {}, 'Med': {}, 'label': 0},\n",
       " 22797747: {'Cond': {}, 'Proc': {}, 'Med': {}, 'label': 0},\n",
       " 27189241: {'Cond': {}, 'Proc': {}, 'Med': {}, 'label': 0},\n",
       " 24329176: {'Cond': {}, 'Proc': {}, 'Med': {}, 'label': 0},\n",
       " 25607411: {'Cond': {}, 'Proc': {}, 'Med': {}, 'label': 0},\n",
       " 29444440: {'Cond': {}, 'Proc': {}, 'Med': {}, 'label': 0},\n",
       " 28618128: {'Cond': {}, 'Proc': {}, 'Med': {}, 'label': 0},\n",
       " 20973367: {'Cond': {}, 'Proc': {}, 'Med': {}, 'label': 0},\n",
       " 27352666: {'Cond': {}, 'Proc': {}, 'Med': {}, 'label': 0},\n",
       " 26738940: {'Cond': {}, 'Proc': {}, 'Med': {}, 'label': 0},\n",
       " 22674806: {'Cond': {}, 'Proc': {}, 'Med': {}, 'label': 0},\n",
       " 26907512: {'Cond': {}, 'Proc': {}, 'Med': {}, 'label': 0},\n",
       " 20801139: {'Cond': {}, 'Proc': {}, 'Med': {}, 'label': 0},\n",
       " 23374994: {'Cond': {}, 'Proc': {}, 'Med': {}, 'label': 0},\n",
       " 28043147: {'Cond': {}, 'Proc': {}, 'Med': {}, 'label': 0},\n",
       " 21879046: {'Cond': {}, 'Proc': {}, 'Med': {}, 'label': 1},\n",
       " 29564464: {'Cond': {}, 'Proc': {}, 'Med': {}, 'label': 0},\n",
       " 29772749: {'Cond': {}, 'Proc': {}, 'Med': {}, 'label': 0},\n",
       " 29181771: {'Cond': {}, 'Proc': {}, 'Med': {}, 'label': 0},\n",
       " 27056489: {'Cond': {}, 'Proc': {}, 'Med': {}, 'label': 1},\n",
       " 21345637: {'Cond': {}, 'Proc': {}, 'Med': {}, 'label': 1},\n",
       " 23219781: {'Cond': {}, 'Proc': {}, 'Med': {}, 'label': 1},\n",
       " 20263091: {'Cond': {}, 'Proc': {}, 'Med': {}, 'label': 1},\n",
       " 28794550: {'Cond': {}, 'Proc': {}, 'Med': {}, 'label': 0},\n",
       " 20941251: {'Cond': {}, 'Proc': {}, 'Med': {}, 'label': 0},\n",
       " 23230440: {'Cond': {}, 'Proc': {}, 'Med': {}, 'label': 0},\n",
       " 28556515: {'Cond': {}, 'Proc': {}, 'Med': {}, 'label': 0},\n",
       " 26546413: {'Cond': {}, 'Proc': {}, 'Med': {}, 'label': 0},\n",
       " 26345871: {'Cond': {}, 'Proc': {}, 'Med': {}, 'label': 1},\n",
       " 23371687: {'Cond': {}, 'Proc': {}, 'Med': {}, 'label': 0},\n",
       " 20374452: {'Cond': {}, 'Proc': {}, 'Med': {}, 'label': 0},\n",
       " 20572787: {'Cond': {}, 'Proc': {}, 'Med': {}, 'label': 0},\n",
       " 22530397: {'Cond': {}, 'Proc': {}, 'Med': {}, 'label': 0},\n",
       " 21677820: {'Cond': {}, 'Proc': {}, 'Med': {}, 'label': 0},\n",
       " 26924951: {'Cond': {}, 'Proc': {}, 'Med': {}, 'label': 0},\n",
       " 22600344: {'Cond': {}, 'Proc': {}, 'Med': {}, 'label': 0},\n",
       " 27354802: {'Cond': {}, 'Proc': {}, 'Med': {}, 'label': 0},\n",
       " 24294180: {'Cond': {}, 'Proc': {}, 'Med': {}, 'label': 0},\n",
       " 27553957: {'Cond': {}, 'Proc': {}, 'Med': {}, 'label': 0},\n",
       " 25172300: {'Cond': {}, 'Proc': {}, 'Med': {}, 'label': 1},\n",
       " 25384176: {'Cond': {}, 'Proc': {}, 'Med': {}, 'label': 0},\n",
       " 27850323: {'Cond': {}, 'Proc': {}, 'Med': {}, 'label': 0},\n",
       " 23686375: {'Cond': {}, 'Proc': {}, 'Med': {}, 'label': 0},\n",
       " 27321003: {'Cond': {}, 'Proc': {}, 'Med': {}, 'label': 0},\n",
       " 27759645: {'Cond': {}, 'Proc': {}, 'Med': {}, 'label': 0},\n",
       " 28263377: {'Cond': {}, 'Proc': {}, 'Med': {}, 'label': 0},\n",
       " 27507512: {'Cond': {}, 'Proc': {}, 'Med': {}, 'label': 0},\n",
       " 27103325: {'Cond': {}, 'Proc': {}, 'Med': {}, 'label': 0},\n",
       " 20090070: {'Cond': {}, 'Proc': {}, 'Med': {}, 'label': 0},\n",
       " 22148029: {'Cond': {}, 'Proc': {}, 'Med': {}, 'label': 1},\n",
       " 21105407: {'Cond': {}, 'Proc': {}, 'Med': {}, 'label': 0},\n",
       " 27632777: {'Cond': {}, 'Proc': {}, 'Med': {}, 'label': 0},\n",
       " 26871570: {'Cond': {}, 'Proc': {}, 'Med': {}, 'label': 0},\n",
       " 23768895: {'Cond': {}, 'Proc': {}, 'Med': {}, 'label': 1},\n",
       " 20617456: {'Cond': {}, 'Proc': {}, 'Med': {}, 'label': 0},\n",
       " 23521154: {'Cond': {}, 'Proc': {}, 'Med': {}, 'label': 0},\n",
       " 29019379: {'Cond': {}, 'Proc': {}, 'Med': {}, 'label': 0},\n",
       " 28455794: {'Cond': {}, 'Proc': {}, 'Med': {}, 'label': 0},\n",
       " 28171139: {'Cond': {}, 'Proc': {}, 'Med': {}, 'label': 1},\n",
       " 23657190: {'Cond': {}, 'Proc': {}, 'Med': {}, 'label': 0},\n",
       " 23358397: {'Cond': {}, 'Proc': {}, 'Med': {}, 'label': 0},\n",
       " 28202624: {'Cond': {}, 'Proc': {}, 'Med': {}, 'label': 0},\n",
       " 21939118: {'Cond': {}, 'Proc': {}, 'Med': {}, 'label': 0},\n",
       " 29419341: {'Cond': {}, 'Proc': {}, 'Med': {}, 'label': 1},\n",
       " 29175276: {'Cond': {}, 'Proc': {}, 'Med': {}, 'label': 1},\n",
       " 21507331: {'Cond': {}, 'Proc': {}, 'Med': {}, 'label': 0},\n",
       " 29313145: {'Cond': {}, 'Proc': {}, 'Med': {}, 'label': 0},\n",
       " 28469485: {'Cond': {}, 'Proc': {}, 'Med': {}, 'label': 0},\n",
       " 20452486: {'Cond': {}, 'Proc': {}, 'Med': {}, 'label': 1},\n",
       " 29176109: {'Cond': {}, 'Proc': {}, 'Med': {}, 'label': 1},\n",
       " 25248510: {'Cond': {}, 'Proc': {}, 'Med': {}, 'label': 1},\n",
       " 22189888: {'Cond': {}, 'Proc': {}, 'Med': {}, 'label': 0},\n",
       " 24961182: {'Cond': {}, 'Proc': {}, 'Med': {}, 'label': 0},\n",
       " 22152209: {'Cond': {}, 'Proc': {}, 'Med': {}, 'label': 0},\n",
       " 28609165: {'Cond': {}, 'Proc': {}, 'Med': {}, 'label': 0},\n",
       " 22444831: {'Cond': {}, 'Proc': {}, 'Med': {}, 'label': 0},\n",
       " 28756967: {'Cond': {}, 'Proc': {}, 'Med': {}, 'label': 0},\n",
       " 22537573: {'Cond': {}, 'Proc': {}, 'Med': {}, 'label': 0},\n",
       " 20467471: {'Cond': {}, 'Proc': {}, 'Med': {}, 'label': 1},\n",
       " 29235759: {'Cond': {}, 'Proc': {}, 'Med': {}, 'label': 0},\n",
       " 21178711: {'Cond': {}, 'Proc': {}, 'Med': {}, 'label': 0},\n",
       " 23631529: {'Cond': {}, 'Proc': {}, 'Med': {}, 'label': 0},\n",
       " 20362347: {'Cond': {}, 'Proc': {}, 'Med': {}, 'label': 0},\n",
       " 24836755: {'Cond': {}, 'Proc': {}, 'Med': {}, 'label': 1},\n",
       " 29127593: {'Cond': {}, 'Proc': {}, 'Med': {}, 'label': 1},\n",
       " 28694648: {'Cond': {}, 'Proc': {}, 'Med': {}, 'label': 0},\n",
       " 25017311: {'Cond': {}, 'Proc': {}, 'Med': {}, 'label': 0},\n",
       " 25393495: {'Cond': {}, 'Proc': {}, 'Med': {}, 'label': 0},\n",
       " 20898165: {'Cond': {}, 'Proc': {}, 'Med': {}, 'label': 1},\n",
       " 29904421: {'Cond': {}, 'Proc': {}, 'Med': {}, 'label': 0},\n",
       " 27365218: {'Cond': {}, 'Proc': {}, 'Med': {}, 'label': 0},\n",
       " 24720584: {'Cond': {}, 'Proc': {}, 'Med': {}, 'label': 0},\n",
       " 29862885: {'Cond': {}, 'Proc': {}, 'Med': {}, 'label': 0},\n",
       " 23080531: {'Cond': {}, 'Proc': {}, 'Med': {}, 'label': 0},\n",
       " 25834187: {'Cond': {}, 'Proc': {}, 'Med': {}, 'label': 0},\n",
       " 23081187: {'Cond': {}, 'Proc': {}, 'Med': {}, 'label': 1},\n",
       " 24765747: {'Cond': {}, 'Proc': {}, 'Med': {}, 'label': 0},\n",
       " 26813187: {'Cond': {}, 'Proc': {}, 'Med': {}, 'label': 0},\n",
       " 26135635: {'Cond': {}, 'Proc': {}, 'Med': {}, 'label': 1},\n",
       " 24112963: {'Cond': {}, 'Proc': {}, 'Med': {}, 'label': 0},\n",
       " 23079910: {'Cond': {}, 'Proc': {}, 'Med': {}, 'label': 0},\n",
       " 25990801: {'Cond': {}, 'Proc': {}, 'Med': {}, 'label': 0},\n",
       " 22396210: {'Cond': {}, 'Proc': {}, 'Med': {}, 'label': 0},\n",
       " 25487321: {'Cond': {}, 'Proc': {}, 'Med': {}, 'label': 0},\n",
       " 28322638: {'Cond': {}, 'Proc': {}, 'Med': {}, 'label': 0},\n",
       " 20358696: {'Cond': {}, 'Proc': {}, 'Med': {}, 'label': 0},\n",
       " 28315755: {'Cond': {}, 'Proc': {}, 'Med': {}, 'label': 1},\n",
       " 28533424: {'Cond': {}, 'Proc': {}, 'Med': {}, 'label': 1},\n",
       " 23351913: {'Cond': {}, 'Proc': {}, 'Med': {}, 'label': 1},\n",
       " 27926135: {'Cond': {}, 'Proc': {}, 'Med': {}, 'label': 0},\n",
       " 25076224: {'Cond': {}, 'Proc': {}, 'Med': {}, 'label': 0},\n",
       " 25183790: {'Cond': {}, 'Proc': {}, 'Med': {}, 'label': 0},\n",
       " 29686634: {'Cond': {}, 'Proc': {}, 'Med': {}, 'label': 0},\n",
       " 27872010: {'Cond': {}, 'Proc': {}, 'Med': {}, 'label': 0},\n",
       " 23469038: {'Cond': {}, 'Proc': {}, 'Med': {}, 'label': 0},\n",
       " 25354589: {'Cond': {}, 'Proc': {}, 'Med': {}, 'label': 0},\n",
       " 25000251: {'Cond': {}, 'Proc': {}, 'Med': {}, 'label': 0},\n",
       " 26602101: {'Cond': {}, 'Proc': {}, 'Med': {}, 'label': 0},\n",
       " 21148749: {'Cond': {}, 'Proc': {}, 'Med': {}, 'label': 0},\n",
       " 26038553: {'Cond': {}, 'Proc': {}, 'Med': {}, 'label': 1},\n",
       " 23316729: {'Cond': {}, 'Proc': {}, 'Med': {}, 'label': 0},\n",
       " 25392938: {'Cond': {}, 'Proc': {}, 'Med': {}, 'label': 0},\n",
       " 23911180: {'Cond': {}, 'Proc': {}, 'Med': {}, 'label': 0},\n",
       " 27828954: {'Cond': {}, 'Proc': {}, 'Med': {}, 'label': 0},\n",
       " 25816035: {'Cond': {}, 'Proc': {}, 'Med': {}, 'label': 0},\n",
       " 22028605: {'Cond': {}, 'Proc': {}, 'Med': {}, 'label': 1},\n",
       " 25697401: {'Cond': {}, 'Proc': {}, 'Med': {}, 'label': 0},\n",
       " 24660654: {'Cond': {}, 'Proc': {}, 'Med': {}, 'label': 0},\n",
       " 28300013: {'Cond': {}, 'Proc': {}, 'Med': {}, 'label': 0},\n",
       " 21484626: {'Cond': {}, 'Proc': {}, 'Med': {}, 'label': 0},\n",
       " 29516940: {'Cond': {}, 'Proc': {}, 'Med': {}, 'label': 1},\n",
       " 25776386: {'Cond': {}, 'Proc': {}, 'Med': {}, 'label': 0},\n",
       " 28573691: {'Cond': {}, 'Proc': {}, 'Med': {}, 'label': 0},\n",
       " 24831570: {'Cond': {}, 'Proc': {}, 'Med': {}, 'label': 0},\n",
       " 24557178: {'Cond': {}, 'Proc': {}, 'Med': {}, 'label': 1},\n",
       " 26412545: {'Cond': {}, 'Proc': {}, 'Med': {}, 'label': 1},\n",
       " 29650701: {'Cond': {}, 'Proc': {}, 'Med': {}, 'label': 1},\n",
       " 22614269: {'Cond': {}, 'Proc': {}, 'Med': {}, 'label': 0},\n",
       " 27824581: {'Cond': {}, 'Proc': {}, 'Med': {}, 'label': 1},\n",
       " 24806749: {'Cond': {}, 'Proc': {}, 'Med': {}, 'label': 0},\n",
       " 26936276: {'Cond': {}, 'Proc': {}, 'Med': {}, 'label': 0},\n",
       " 26471529: {'Cond': {}, 'Proc': {}, 'Med': {}, 'label': 0},\n",
       " 28290681: {'Cond': {}, 'Proc': {}, 'Med': {}, 'label': 0},\n",
       " 20130725: {'Cond': {}, 'Proc': {}, 'Med': {}, 'label': 0},\n",
       " 21342513: {'Cond': {}, 'Proc': {}, 'Med': {}, 'label': 0},\n",
       " 21800824: {'Cond': {}, 'Proc': {}, 'Med': {}, 'label': 0},\n",
       " 27656723: {'Cond': {}, 'Proc': {}, 'Med': {}, 'label': 0},\n",
       " 22021529: {'Cond': {}, 'Proc': {}, 'Med': {}, 'label': 0},\n",
       " 20537015: {'Cond': {}, 'Proc': {}, 'Med': {}, 'label': 0},\n",
       " 22161359: {'Cond': {}, 'Proc': {}, 'Med': {}, 'label': 0},\n",
       " 29381313: {'Cond': {}, 'Proc': {}, 'Med': {}, 'label': 1},\n",
       " 27653344: {'Cond': {}, 'Proc': {}, 'Med': {}, 'label': 0},\n",
       " 25512766: {'Cond': {}, 'Proc': {}, 'Med': {}, 'label': 0},\n",
       " 23223084: {'Cond': {}, 'Proc': {}, 'Med': {}, 'label': 0},\n",
       " ...}"
      ]
     },
     "execution_count": 41,
     "metadata": {},
     "output_type": "execute_result"
    }
   ],
   "source": [
    "dataDic"
   ]
  },
  {
   "cell_type": "code",
   "execution_count": 73,
   "id": "eligible-comedy",
   "metadata": {},
   "outputs": [],
   "source": [
    "maxcount=0\n",
    "for hid in hids:\n",
    "    grp=cond[cond['hadm_id']==hid]\n",
    "    if(grp.shape[0]==0):\n",
    "        dataDic[hid]['Cond']={'fids':list(['<PAD>'])}\n",
    "    else:\n",
    "        if(grp.shape[0]>maxcount):\n",
    "            maxcount=grp.shape[0]\n",
    "        dataDic[hid]['Cond']={'fids':list(grp['root'])}\n",
    "    #print(condDic)"
   ]
  },
  {
   "cell_type": "code",
   "execution_count": 74,
   "id": "engaging-lease",
   "metadata": {},
   "outputs": [
    {
     "data": {
      "text/plain": [
       "56"
      ]
     },
     "execution_count": 74,
     "metadata": {},
     "output_type": "execute_result"
    }
   ],
   "source": [
    "maxcount"
   ]
  },
  {
   "cell_type": "code",
   "execution_count": null,
   "id": "global-bunch",
   "metadata": {},
   "outputs": [],
   "source": [
    "def pad(grp,final):#,labelsDead,labelsSurvived,pt):\n",
    "    \n",
    "    grp=grp.sort_values(by=['time'])\n",
    "    if(non-lab):\n",
    "        new_time=1\n",
    "        for i in range(1,los,bucket):\n",
    "            grp1=grp[(grp['time']>i) & (grp['time']<i+bucket)]\n",
    "            grp1['new_time']=new_time\n",
    "            final=final.append(grp1)\n",
    "            new_time=new_time+1\n",
    "    if(meds):\n",
    "        new_time=1\n",
    "        for i in range(1,los,bucket):\n",
    "            grp1=grp[(grp['time']>i) & (grp['time']<i+bucket)]\n",
    "            grp1['new_time']=new_time\n",
    "            final=final.append(grp1)\n",
    "            new_time=new_time+1\n",
    "    \n",
    "    if(proc):\n",
    "        new_time=1\n",
    "        for i in range(1,los,bucket):\n",
    "            grp1=grp[(grp['time']>i) & (grp['time']<i+bucket)]\n",
    "            if(grp1.shape[0]==0):\n",
    "                grp1['val']=0\n",
    "            else:\n",
    "                grp1['val']=1     \n",
    "            grp1['new_time']=new_time\n",
    "            final=final.append(grp1)\n",
    "            dataDic[hid]['Proc'][grp['icd_code'][0]]=\n",
    "            new_time=new_time+1\n",
    "            \n",
    "    if(lab):\n",
    "        new_time=1\n",
    "        for i in range(1,los,bucket):\n",
    "            grp1=grp[(grp['time']>i) & (grp['time']<i+bucket)]\n",
    "            grp1['new_time']=new_time\n",
    "            final=final.append(grp1)\n",
    "            new_time=new_time+1\n",
    "      \n",
    "    return final"
   ]
  },
  {
   "cell_type": "code",
   "execution_count": null,
   "id": "tracked-organic",
   "metadata": {},
   "outputs": [],
   "source": [
    "def full_signal(grp):\n",
    "    grp=grp.sort_values(by=['time'])\n",
    "    val=[]\n",
    "    for i in range(1,los,bucket):\n",
    "        grp1=grp[(grp['time']>=i) & (grp['time']<i+bucket)]\n",
    "        if(grp1.shape[0]==0):\n",
    "            val=val.append(0)\n",
    "        else:\n",
    "            val=val.append(1)"
   ]
  },
  {
   "cell_type": "code",
   "execution_count": null,
   "id": "respiratory-cheese",
   "metadata": {},
   "outputs": [],
   "source": [
    "maxcount=0\n",
    "for hid in hids:\n",
    "    sub=proc[proc['hadm_id']==hid]\n",
    "    groups=sub.group_by('icd_code')\n",
    "    for icd_code, grp in groups:\n",
    "        sig=full_signal(grp)\n",
    "        dataDic[hid]['Proc'][icd_code]=list(sig)"
   ]
  },
  {
   "cell_type": "code",
   "execution_count": 75,
   "id": "direct-motorcycle",
   "metadata": {},
   "outputs": [],
   "source": [
    "maxcount=0\n",
    "for hid in hids:\n",
    "    grp=proc[proc['hadm_id']==hid]\n",
    "    if(grp.shape[0]==0):\n",
    "        dataDic[hid]['Proc']={'fids':list(['<PAD>'])}\n",
    "    else:\n",
    "        if(grp.shape[0]>maxcount):\n",
    "            maxcount=grp.shape[0]\n",
    "        dataDic[hid]['Proc']={'fids':list(grp['icd_code'])}\n",
    "    #print(condDic)"
   ]
  },
  {
   "cell_type": "code",
   "execution_count": 76,
   "id": "opponent-country",
   "metadata": {},
   "outputs": [
    {
     "data": {
      "text/plain": [
       "40"
      ]
     },
     "execution_count": 76,
     "metadata": {},
     "output_type": "execute_result"
    }
   ],
   "source": [
    "maxcount"
   ]
  },
  {
   "cell_type": "code",
   "execution_count": 42,
   "id": "requested-treatment",
   "metadata": {},
   "outputs": [],
   "source": [
    "los=24"
   ]
  },
  {
   "cell_type": "code",
   "execution_count": 43,
   "id": "trained-bleeding",
   "metadata": {},
   "outputs": [],
   "source": [
    "meds=meds.sort_values(by=['start_time'])"
   ]
  },
  {
   "cell_type": "code",
   "execution_count": 49,
   "id": "arranged-termination",
   "metadata": {},
   "outputs": [],
   "source": [
    "sample=meds[meds['hadm_id'].isin(hids[0:3])]"
   ]
  },
  {
   "cell_type": "code",
   "execution_count": 50,
   "id": "incorporate-cardiff",
   "metadata": {},
   "outputs": [
    {
     "data": {
      "text/plain": [
       "(33, 9)"
      ]
     },
     "execution_count": 50,
     "metadata": {},
     "output_type": "execute_result"
    }
   ],
   "source": [
    "sample.shape"
   ]
  },
  {
   "cell_type": "code",
   "execution_count": 51,
   "id": "driven-illinois",
   "metadata": {},
   "outputs": [
    {
     "data": {
      "text/plain": [
       "3"
      ]
     },
     "execution_count": 51,
     "metadata": {},
     "output_type": "execute_result"
    }
   ],
   "source": [
    "sample['hadm_id'].nunique()"
   ]
  },
  {
   "cell_type": "code",
   "execution_count": 52,
   "id": "swedish-agent",
   "metadata": {},
   "outputs": [
    {
     "data": {
      "text/html": [
       "<div>\n",
       "<style scoped>\n",
       "    .dataframe tbody tr th:only-of-type {\n",
       "        vertical-align: middle;\n",
       "    }\n",
       "\n",
       "    .dataframe tbody tr th {\n",
       "        vertical-align: top;\n",
       "    }\n",
       "\n",
       "    .dataframe thead th {\n",
       "        text-align: right;\n",
       "    }\n",
       "</style>\n",
       "<table border=\"1\" class=\"dataframe\">\n",
       "  <thead>\n",
       "    <tr style=\"text-align: right;\">\n",
       "      <th></th>\n",
       "      <th>subject_id</th>\n",
       "      <th>hadm_id</th>\n",
       "      <th>starttime</th>\n",
       "      <th>nonproprietaryname</th>\n",
       "      <th>start_hours_from_admit</th>\n",
       "      <th>stop_hours_from_admit</th>\n",
       "      <th>start_time</th>\n",
       "      <th>stop_time</th>\n",
       "      <th>select_time</th>\n",
       "    </tr>\n",
       "  </thead>\n",
       "  <tbody>\n",
       "    <tr>\n",
       "      <th>14</th>\n",
       "      <td>10000032</td>\n",
       "      <td>29079034</td>\n",
       "      <td>2180-07-23 17:00:00</td>\n",
       "      <td>emtricitabine and tenofovir disoproxil fumarate</td>\n",
       "      <td>0 days 04:25:00</td>\n",
       "      <td>2 days 09:25:00</td>\n",
       "      <td>0</td>\n",
       "      <td>24</td>\n",
       "      <td>29</td>\n",
       "    </tr>\n",
       "    <tr>\n",
       "      <th>15</th>\n",
       "      <td>10000032</td>\n",
       "      <td>25742920</td>\n",
       "      <td>2180-08-06 03:00:00</td>\n",
       "      <td>emtricitabine and tenofovir disoproxil fumarate</td>\n",
       "      <td>0 days 03:16:00</td>\n",
       "      <td>1 days 22:16:00</td>\n",
       "      <td>0</td>\n",
       "      <td>24</td>\n",
       "      <td>18</td>\n",
       "    </tr>\n",
       "    <tr>\n",
       "      <th>18</th>\n",
       "      <td>10000032</td>\n",
       "      <td>25742920</td>\n",
       "      <td>2180-08-06 03:00:00</td>\n",
       "      <td>rifaximin</td>\n",
       "      <td>0 days 03:16:00</td>\n",
       "      <td>1 days 22:16:00</td>\n",
       "      <td>0</td>\n",
       "      <td>24</td>\n",
       "      <td>18</td>\n",
       "    </tr>\n",
       "    <tr>\n",
       "      <th>17</th>\n",
       "      <td>10000032</td>\n",
       "      <td>29079034</td>\n",
       "      <td>2180-07-23 20:00:00</td>\n",
       "      <td>rifaximin</td>\n",
       "      <td>0 days 07:25:00</td>\n",
       "      <td>2 days 09:25:00</td>\n",
       "      <td>0</td>\n",
       "      <td>24</td>\n",
       "      <td>29</td>\n",
       "    </tr>\n",
       "    <tr>\n",
       "      <th>9</th>\n",
       "      <td>10000032</td>\n",
       "      <td>25742920</td>\n",
       "      <td>2180-08-06 03:00:00</td>\n",
       "      <td>raltegravir</td>\n",
       "      <td>0 days 03:16:00</td>\n",
       "      <td>1 days 22:16:00</td>\n",
       "      <td>0</td>\n",
       "      <td>24</td>\n",
       "      <td>18</td>\n",
       "    </tr>\n",
       "  </tbody>\n",
       "</table>\n",
       "</div>"
      ],
      "text/plain": [
       "    subject_id   hadm_id            starttime  \\\n",
       "14    10000032  29079034  2180-07-23 17:00:00   \n",
       "15    10000032  25742920  2180-08-06 03:00:00   \n",
       "18    10000032  25742920  2180-08-06 03:00:00   \n",
       "17    10000032  29079034  2180-07-23 20:00:00   \n",
       "9     10000032  25742920  2180-08-06 03:00:00   \n",
       "\n",
       "                                 nonproprietaryname start_hours_from_admit  \\\n",
       "14  emtricitabine and tenofovir disoproxil fumarate        0 days 04:25:00   \n",
       "15  emtricitabine and tenofovir disoproxil fumarate        0 days 03:16:00   \n",
       "18                                        rifaximin        0 days 03:16:00   \n",
       "17                                        rifaximin        0 days 07:25:00   \n",
       "9                                       raltegravir        0 days 03:16:00   \n",
       "\n",
       "   stop_hours_from_admit  start_time  stop_time  select_time  \n",
       "14       2 days 09:25:00           0         24           29  \n",
       "15       1 days 22:16:00           0         24           18  \n",
       "18       1 days 22:16:00           0         24           18  \n",
       "17       2 days 09:25:00           0         24           29  \n",
       "9        1 days 22:16:00           0         24           18  "
      ]
     },
     "execution_count": 52,
     "metadata": {},
     "output_type": "execute_result"
    }
   ],
   "source": [
    "sample.head()"
   ]
  },
  {
   "cell_type": "code",
   "execution_count": 221,
   "id": "simple-possibility",
   "metadata": {},
   "outputs": [],
   "source": [
    "def full_signal(grp):\n",
    "    grp=grp.sort_values(by=['start_time'])\n",
    "    val=[]\n",
    "    on_med=0\n",
    "    for i in range(0,los,bucket):\n",
    "        start=grp[(grp['start_time']>=i) & (grp['start_time']<i+bucket)]\n",
    "        stop=grp[(grp['stop_time']>=i) & (grp['stop_time']<i+bucket)]\n",
    "        if(start.shape[0]==0):\n",
    "            if(on_med==1):\n",
    "                if(stop.shape[0]==0):\n",
    "                    on_med=1\n",
    "                else:\n",
    "                    on_med=0\n",
    "        else:\n",
    "            on_med=1\n",
    "        val.append(on_med)\n",
    "    return val"
   ]
  },
  {
   "cell_type": "code",
   "execution_count": 92,
   "id": "norman-slope",
   "metadata": {},
   "outputs": [],
   "source": [
    "los=24\n",
    "bucket=2"
   ]
  },
  {
   "cell_type": "code",
   "execution_count": 93,
   "id": "leading-taiwan",
   "metadata": {},
   "outputs": [
    {
     "name": "stderr",
     "output_type": "stream",
     "text": [
      "100%|██████████| 12/12 [00:01<00:00,  6.13it/s]\n"
     ]
    }
   ],
   "source": [
    "final=pd.DataFrame()\n",
    "t=0\n",
    "for i in tqdm(range(0,los,bucket)): \n",
    "    sub=meds[(meds['start_time']>=i) & (meds['start_time']<i+bucket)].groupby(['hadm_id','nonproprietaryname']).agg({'stop_time':'max','subject_id':'max'})\n",
    "    sub=sub.reset_index()\n",
    "    sub['start_time']=t\n",
    "    t=t+1\n",
    "    sub['stop_time']=sub['stop_time']/bucket\n",
    "    if final.empty:\n",
    "        final=sub\n",
    "    else:\n",
    "        final=final.append(sub)"
   ]
  },
  {
   "cell_type": "code",
   "execution_count": 94,
   "id": "cross-spank",
   "metadata": {},
   "outputs": [
    {
     "data": {
      "text/html": [
       "<div>\n",
       "<style scoped>\n",
       "    .dataframe tbody tr th:only-of-type {\n",
       "        vertical-align: middle;\n",
       "    }\n",
       "\n",
       "    .dataframe tbody tr th {\n",
       "        vertical-align: top;\n",
       "    }\n",
       "\n",
       "    .dataframe thead th {\n",
       "        text-align: right;\n",
       "    }\n",
       "</style>\n",
       "<table border=\"1\" class=\"dataframe\">\n",
       "  <thead>\n",
       "    <tr style=\"text-align: right;\">\n",
       "      <th></th>\n",
       "      <th>hadm_id</th>\n",
       "      <th>nonproprietaryname</th>\n",
       "      <th>stop_time</th>\n",
       "      <th>subject_id</th>\n",
       "      <th>start_time</th>\n",
       "    </tr>\n",
       "  </thead>\n",
       "  <tbody>\n",
       "    <tr>\n",
       "      <th>0</th>\n",
       "      <td>20000019</td>\n",
       "      <td>acetaminophen</td>\n",
       "      <td>12.0</td>\n",
       "      <td>10467237</td>\n",
       "      <td>0</td>\n",
       "    </tr>\n",
       "    <tr>\n",
       "      <th>1</th>\n",
       "      <td>20000019</td>\n",
       "      <td>aspirin</td>\n",
       "      <td>12.0</td>\n",
       "      <td>10467237</td>\n",
       "      <td>0</td>\n",
       "    </tr>\n",
       "    <tr>\n",
       "      <th>2</th>\n",
       "      <td>20000019</td>\n",
       "      <td>ciprofloxacin hydrochloride</td>\n",
       "      <td>12.0</td>\n",
       "      <td>10467237</td>\n",
       "      <td>0</td>\n",
       "    </tr>\n",
       "    <tr>\n",
       "      <th>3</th>\n",
       "      <td>20000019</td>\n",
       "      <td>dextrose monohydrate</td>\n",
       "      <td>12.0</td>\n",
       "      <td>10467237</td>\n",
       "      <td>0</td>\n",
       "    </tr>\n",
       "    <tr>\n",
       "      <th>4</th>\n",
       "      <td>20000019</td>\n",
       "      <td>heparin sodium</td>\n",
       "      <td>12.0</td>\n",
       "      <td>10467237</td>\n",
       "      <td>0</td>\n",
       "    </tr>\n",
       "  </tbody>\n",
       "</table>\n",
       "</div>"
      ],
      "text/plain": [
       "    hadm_id           nonproprietaryname  stop_time  subject_id  start_time\n",
       "0  20000019                acetaminophen       12.0    10467237           0\n",
       "1  20000019                      aspirin       12.0    10467237           0\n",
       "2  20000019  ciprofloxacin hydrochloride       12.0    10467237           0\n",
       "3  20000019         dextrose monohydrate       12.0    10467237           0\n",
       "4  20000019               heparin sodium       12.0    10467237           0"
      ]
     },
     "execution_count": 94,
     "metadata": {},
     "output_type": "execute_result"
    }
   ],
   "source": [
    "final.head()"
   ]
  },
  {
   "cell_type": "code",
   "execution_count": 95,
   "id": "supposed-stupid",
   "metadata": {},
   "outputs": [
    {
     "data": {
      "text/plain": [
       "37"
      ]
     },
     "execution_count": 95,
     "metadata": {},
     "output_type": "execute_result"
    }
   ],
   "source": [
    "f2=final.groupby(['hadm_id','nonproprietaryname']).size()\n",
    "f2.groupby('hadm_id').sum().reset_index()[0].max()"
   ]
  },
  {
   "cell_type": "code",
   "execution_count": 96,
   "id": "disciplinary-excerpt",
   "metadata": {},
   "outputs": [
    {
     "data": {
      "text/plain": [
       "37"
      ]
     },
     "execution_count": 96,
     "metadata": {},
     "output_type": "execute_result"
    }
   ],
   "source": [
    "final.groupby('hadm_id').size().max()"
   ]
  },
  {
   "cell_type": "code",
   "execution_count": 97,
   "id": "fallen-simpson",
   "metadata": {},
   "outputs": [
    {
     "data": {
      "text/plain": [
       "(1722810, 5)"
      ]
     },
     "execution_count": 97,
     "metadata": {},
     "output_type": "execute_result"
    }
   ],
   "source": [
    "final.shape"
   ]
  },
  {
   "cell_type": "code",
   "execution_count": 60,
   "id": "raised-treatment",
   "metadata": {},
   "outputs": [
    {
     "data": {
      "text/plain": [
       "(1802806, 9)"
      ]
     },
     "execution_count": 60,
     "metadata": {},
     "output_type": "execute_result"
    }
   ],
   "source": [
    "meds.shape"
   ]
  },
  {
   "cell_type": "code",
   "execution_count": 393,
   "id": "driven-license",
   "metadata": {},
   "outputs": [],
   "source": [
    "sample['val']=1"
   ]
  },
  {
   "cell_type": "code",
   "execution_count": 63,
   "id": "english-canberra",
   "metadata": {},
   "outputs": [],
   "source": [
    "import numpy as np"
   ]
  },
  {
   "cell_type": "code",
   "execution_count": 61,
   "id": "obvious-range",
   "metadata": {},
   "outputs": [],
   "source": [
    "hids=final['hadm_id'].unique()"
   ]
  },
  {
   "cell_type": "code",
   "execution_count": 62,
   "id": "stretch-reserve",
   "metadata": {},
   "outputs": [
    {
     "data": {
      "text/plain": [
       "224745"
      ]
     },
     "execution_count": 62,
     "metadata": {},
     "output_type": "execute_result"
    }
   ],
   "source": [
    "len(hids)"
   ]
  },
  {
   "cell_type": "code",
   "execution_count": 99,
   "id": "improving-overview",
   "metadata": {},
   "outputs": [],
   "source": [
    "los=12#int(los/bucket)"
   ]
  },
  {
   "cell_type": "code",
   "execution_count": 100,
   "id": "considered-example",
   "metadata": {},
   "outputs": [
    {
     "data": {
      "text/plain": [
       "12"
      ]
     },
     "execution_count": 100,
     "metadata": {},
     "output_type": "execute_result"
    }
   ],
   "source": [
    "los"
   ]
  },
  {
   "cell_type": "code",
   "execution_count": 102,
   "id": "boolean-consortium",
   "metadata": {},
   "outputs": [
    {
     "name": "stderr",
     "output_type": "stream",
     "text": [
      "100%|██████████| 224745/224745 [50:33<00:00, 74.08it/s] \n"
     ]
    }
   ],
   "source": [
    "for hid in tqdm(hids):\n",
    "    df2=final[final['hadm_id']==hid]\n",
    "    #print(hid)\n",
    "    df2=df2.pivot(index='start_time',columns='nonproprietaryname',values='stop_time')\n",
    "    #print(df2.shape)\n",
    "    add_indices = pd.Index(range(los)).difference(df2.index)\n",
    "    add_df = pd.DataFrame(index=add_indices, columns=df2.columns).fillna(np.nan)\n",
    "    df2=pd.concat([df2, add_df])\n",
    "    df2=df2.ffill()\n",
    "    df2=df2.fillna(0)\n",
    "    #print(df2.head())\n",
    "    df2.iloc[:,1:]=df2.iloc[:,1:].sub(df2.index,0)\n",
    "    df2[df2>0]=1\n",
    "    df2[df2<0]=0\n",
    "    #print(df2.head())\n",
    "    dataDic[hid]['Med']=df2.iloc[:,1:].to_dict(orient=\"list\")\n",
    "    \n",
    "    ##########COND#########\n",
    "    grp=cond[cond['hadm_id']==hid]\n",
    "    if(grp.shape[0]==0):\n",
    "        dataDic[hid]['Cond']={'fids':list(['<PAD>'])}\n",
    "    else:\n",
    "        dataDic[hid]['Cond']={'fids':list(grp['root'])}"
   ]
  },
  {
   "cell_type": "code",
   "execution_count": 103,
   "id": "sharing-cooperation",
   "metadata": {},
   "outputs": [
    {
     "data": {
      "text/plain": [
       "{'Cond': {'fids': ['I70',\n",
       "   'N18',\n",
       "   'E66',\n",
       "   'Z68',\n",
       "   'I50',\n",
       "   'Z95',\n",
       "   'I25',\n",
       "   'Z51',\n",
       "   'I50',\n",
       "   'I25',\n",
       "   'K22',\n",
       "   'E78',\n",
       "   'Z51',\n",
       "   'I20',\n",
       "   'Z91',\n",
       "   'Z91',\n",
       "   'D64',\n",
       "   'E11',\n",
       "   'Z51',\n",
       "   'I12']},\n",
       " 'Proc': {},\n",
       " 'Med': {'aspirin': [1.0,\n",
       "   1.0,\n",
       "   1.0,\n",
       "   1.0,\n",
       "   1.0,\n",
       "   1.0,\n",
       "   1.0,\n",
       "   1.0,\n",
       "   1.0,\n",
       "   1.0,\n",
       "   1.0,\n",
       "   1.0],\n",
       "  'atorvastatin calcium': [1.0,\n",
       "   1.0,\n",
       "   1.0,\n",
       "   1.0,\n",
       "   1.0,\n",
       "   1.0,\n",
       "   1.0,\n",
       "   1.0,\n",
       "   1.0,\n",
       "   1.0,\n",
       "   1.0,\n",
       "   1.0],\n",
       "  'carvedilol': [0.0, 0.0, 1.0, 1.0, 1.0, 1.0, 1.0, 1.0, 1.0, 1.0, 1.0, 1.0],\n",
       "  'clopidogrel bisulfate': [1.0,\n",
       "   1.0,\n",
       "   1.0,\n",
       "   1.0,\n",
       "   1.0,\n",
       "   1.0,\n",
       "   1.0,\n",
       "   1.0,\n",
       "   1.0,\n",
       "   1.0,\n",
       "   1.0,\n",
       "   1.0],\n",
       "  'dextrose monohydrate': [1.0,\n",
       "   1.0,\n",
       "   1.0,\n",
       "   1.0,\n",
       "   1.0,\n",
       "   1.0,\n",
       "   1.0,\n",
       "   1.0,\n",
       "   1.0,\n",
       "   1.0,\n",
       "   1.0,\n",
       "   1.0],\n",
       "  'furosemide': [1.0, 1.0, 1.0, 1.0, 1.0, 1.0, 1.0, 1.0, 1.0, 1.0, 1.0, 1.0],\n",
       "  'heparin sodium': [1.0,\n",
       "   1.0,\n",
       "   1.0,\n",
       "   1.0,\n",
       "   1.0,\n",
       "   1.0,\n",
       "   1.0,\n",
       "   1.0,\n",
       "   1.0,\n",
       "   1.0,\n",
       "   1.0,\n",
       "   1.0],\n",
       "  'insulin human': [0.0,\n",
       "   1.0,\n",
       "   1.0,\n",
       "   0.0,\n",
       "   1.0,\n",
       "   1.0,\n",
       "   1.0,\n",
       "   1.0,\n",
       "   1.0,\n",
       "   0.0,\n",
       "   0.0,\n",
       "   0.0],\n",
       "  'insulin lispro': [1.0,\n",
       "   1.0,\n",
       "   1.0,\n",
       "   1.0,\n",
       "   1.0,\n",
       "   1.0,\n",
       "   1.0,\n",
       "   1.0,\n",
       "   1.0,\n",
       "   1.0,\n",
       "   1.0,\n",
       "   1.0],\n",
       "  'ipratropium bromide': [1.0,\n",
       "   1.0,\n",
       "   1.0,\n",
       "   1.0,\n",
       "   1.0,\n",
       "   1.0,\n",
       "   1.0,\n",
       "   1.0,\n",
       "   1.0,\n",
       "   1.0,\n",
       "   1.0,\n",
       "   1.0],\n",
       "  'magnesium sulfate in water': [1.0,\n",
       "   1.0,\n",
       "   1.0,\n",
       "   1.0,\n",
       "   1.0,\n",
       "   1.0,\n",
       "   1.0,\n",
       "   1.0,\n",
       "   1.0,\n",
       "   1.0,\n",
       "   1.0,\n",
       "   1.0]},\n",
       " 'label': 0}"
      ]
     },
     "execution_count": 103,
     "metadata": {},
     "output_type": "execute_result"
    }
   ],
   "source": [
    "dataDic[24947999]"
   ]
  },
  {
   "cell_type": "code",
   "execution_count": 98,
   "id": "settled-atlantic",
   "metadata": {},
   "outputs": [
    {
     "data": {
      "text/html": [
       "<div>\n",
       "<style scoped>\n",
       "    .dataframe tbody tr th:only-of-type {\n",
       "        vertical-align: middle;\n",
       "    }\n",
       "\n",
       "    .dataframe tbody tr th {\n",
       "        vertical-align: top;\n",
       "    }\n",
       "\n",
       "    .dataframe thead th {\n",
       "        text-align: right;\n",
       "    }\n",
       "</style>\n",
       "<table border=\"1\" class=\"dataframe\">\n",
       "  <thead>\n",
       "    <tr style=\"text-align: right;\">\n",
       "      <th></th>\n",
       "      <th>hadm_id</th>\n",
       "      <th>nonproprietaryname</th>\n",
       "      <th>stop_time</th>\n",
       "      <th>subject_id</th>\n",
       "      <th>start_time</th>\n",
       "    </tr>\n",
       "  </thead>\n",
       "  <tbody>\n",
       "    <tr>\n",
       "      <th>716318</th>\n",
       "      <td>24947999</td>\n",
       "      <td>allopurinol</td>\n",
       "      <td>12.0</td>\n",
       "      <td>10000980</td>\n",
       "      <td>0</td>\n",
       "    </tr>\n",
       "    <tr>\n",
       "      <th>716319</th>\n",
       "      <td>24947999</td>\n",
       "      <td>aspirin</td>\n",
       "      <td>12.0</td>\n",
       "      <td>10000980</td>\n",
       "      <td>0</td>\n",
       "    </tr>\n",
       "    <tr>\n",
       "      <th>716320</th>\n",
       "      <td>24947999</td>\n",
       "      <td>atorvastatin calcium</td>\n",
       "      <td>12.0</td>\n",
       "      <td>10000980</td>\n",
       "      <td>0</td>\n",
       "    </tr>\n",
       "    <tr>\n",
       "      <th>716321</th>\n",
       "      <td>24947999</td>\n",
       "      <td>clopidogrel bisulfate</td>\n",
       "      <td>12.0</td>\n",
       "      <td>10000980</td>\n",
       "      <td>0</td>\n",
       "    </tr>\n",
       "    <tr>\n",
       "      <th>716322</th>\n",
       "      <td>24947999</td>\n",
       "      <td>dextrose monohydrate</td>\n",
       "      <td>12.0</td>\n",
       "      <td>10000980</td>\n",
       "      <td>0</td>\n",
       "    </tr>\n",
       "    <tr>\n",
       "      <th>716323</th>\n",
       "      <td>24947999</td>\n",
       "      <td>furosemide</td>\n",
       "      <td>12.0</td>\n",
       "      <td>10000980</td>\n",
       "      <td>0</td>\n",
       "    </tr>\n",
       "    <tr>\n",
       "      <th>716324</th>\n",
       "      <td>24947999</td>\n",
       "      <td>heparin sodium</td>\n",
       "      <td>12.0</td>\n",
       "      <td>10000980</td>\n",
       "      <td>0</td>\n",
       "    </tr>\n",
       "    <tr>\n",
       "      <th>716325</th>\n",
       "      <td>24947999</td>\n",
       "      <td>insulin lispro</td>\n",
       "      <td>12.0</td>\n",
       "      <td>10000980</td>\n",
       "      <td>0</td>\n",
       "    </tr>\n",
       "    <tr>\n",
       "      <th>716326</th>\n",
       "      <td>24947999</td>\n",
       "      <td>ipratropium bromide</td>\n",
       "      <td>12.0</td>\n",
       "      <td>10000980</td>\n",
       "      <td>0</td>\n",
       "    </tr>\n",
       "    <tr>\n",
       "      <th>716327</th>\n",
       "      <td>24947999</td>\n",
       "      <td>magnesium sulfate in water</td>\n",
       "      <td>12.0</td>\n",
       "      <td>10000980</td>\n",
       "      <td>0</td>\n",
       "    </tr>\n",
       "    <tr>\n",
       "      <th>25392</th>\n",
       "      <td>24947999</td>\n",
       "      <td>insulin human</td>\n",
       "      <td>8.0</td>\n",
       "      <td>10000980</td>\n",
       "      <td>1</td>\n",
       "    </tr>\n",
       "    <tr>\n",
       "      <th>25393</th>\n",
       "      <td>24947999</td>\n",
       "      <td>insulin lispro</td>\n",
       "      <td>8.0</td>\n",
       "      <td>10000980</td>\n",
       "      <td>1</td>\n",
       "    </tr>\n",
       "    <tr>\n",
       "      <th>21302</th>\n",
       "      <td>24947999</td>\n",
       "      <td>carvedilol</td>\n",
       "      <td>12.0</td>\n",
       "      <td>10000980</td>\n",
       "      <td>2</td>\n",
       "    </tr>\n",
       "    <tr>\n",
       "      <th>13648</th>\n",
       "      <td>24947999</td>\n",
       "      <td>insulin lispro</td>\n",
       "      <td>12.0</td>\n",
       "      <td>10000980</td>\n",
       "      <td>8</td>\n",
       "    </tr>\n",
       "  </tbody>\n",
       "</table>\n",
       "</div>"
      ],
      "text/plain": [
       "         hadm_id          nonproprietaryname  stop_time  subject_id  \\\n",
       "716318  24947999                 allopurinol       12.0    10000980   \n",
       "716319  24947999                     aspirin       12.0    10000980   \n",
       "716320  24947999        atorvastatin calcium       12.0    10000980   \n",
       "716321  24947999       clopidogrel bisulfate       12.0    10000980   \n",
       "716322  24947999        dextrose monohydrate       12.0    10000980   \n",
       "716323  24947999                  furosemide       12.0    10000980   \n",
       "716324  24947999              heparin sodium       12.0    10000980   \n",
       "716325  24947999              insulin lispro       12.0    10000980   \n",
       "716326  24947999         ipratropium bromide       12.0    10000980   \n",
       "716327  24947999  magnesium sulfate in water       12.0    10000980   \n",
       "25392   24947999               insulin human        8.0    10000980   \n",
       "25393   24947999              insulin lispro        8.0    10000980   \n",
       "21302   24947999                  carvedilol       12.0    10000980   \n",
       "13648   24947999              insulin lispro       12.0    10000980   \n",
       "\n",
       "        start_time  \n",
       "716318           0  \n",
       "716319           0  \n",
       "716320           0  \n",
       "716321           0  \n",
       "716322           0  \n",
       "716323           0  \n",
       "716324           0  \n",
       "716325           0  \n",
       "716326           0  \n",
       "716327           0  \n",
       "25392            1  \n",
       "25393            1  \n",
       "21302            2  \n",
       "13648            8  "
      ]
     },
     "execution_count": 98,
     "metadata": {},
     "output_type": "execute_result"
    }
   ],
   "source": [
    "final[final['hadm_id']==24947999]"
   ]
  },
  {
   "cell_type": "code",
   "execution_count": 85,
   "id": "wired-blackjack",
   "metadata": {},
   "outputs": [
    {
     "data": {
      "text/html": [
       "<div>\n",
       "<style scoped>\n",
       "    .dataframe tbody tr th:only-of-type {\n",
       "        vertical-align: middle;\n",
       "    }\n",
       "\n",
       "    .dataframe tbody tr th {\n",
       "        vertical-align: top;\n",
       "    }\n",
       "\n",
       "    .dataframe thead th {\n",
       "        text-align: right;\n",
       "    }\n",
       "</style>\n",
       "<table border=\"1\" class=\"dataframe\">\n",
       "  <thead>\n",
       "    <tr style=\"text-align: right;\">\n",
       "      <th></th>\n",
       "      <th>subject_id</th>\n",
       "      <th>hadm_id</th>\n",
       "      <th>starttime</th>\n",
       "      <th>nonproprietaryname</th>\n",
       "      <th>start_hours_from_admit</th>\n",
       "      <th>stop_hours_from_admit</th>\n",
       "      <th>start_time</th>\n",
       "      <th>stop_time</th>\n",
       "      <th>select_time</th>\n",
       "    </tr>\n",
       "  </thead>\n",
       "  <tbody>\n",
       "    <tr>\n",
       "      <th>191</th>\n",
       "      <td>10000980</td>\n",
       "      <td>24947999</td>\n",
       "      <td>2190-11-07 12:00:00</td>\n",
       "      <td>aspirin</td>\n",
       "      <td>0 days 15:03:00</td>\n",
       "      <td>1 days 23:03:00</td>\n",
       "      <td>0</td>\n",
       "      <td>24</td>\n",
       "      <td>19</td>\n",
       "    </tr>\n",
       "    <tr>\n",
       "      <th>189</th>\n",
       "      <td>10000980</td>\n",
       "      <td>24947999</td>\n",
       "      <td>2190-11-07 14:00:00</td>\n",
       "      <td>insulin lispro</td>\n",
       "      <td>0 days 17:03:00</td>\n",
       "      <td>0 days 20:03:00</td>\n",
       "      <td>0</td>\n",
       "      <td>1</td>\n",
       "      <td>19</td>\n",
       "    </tr>\n",
       "    <tr>\n",
       "      <th>195</th>\n",
       "      <td>10000980</td>\n",
       "      <td>24947999</td>\n",
       "      <td>2190-11-07 15:00:00</td>\n",
       "      <td>insulin lispro</td>\n",
       "      <td>0 days 18:03:00</td>\n",
       "      <td>1 days 23:03:00</td>\n",
       "      <td>0</td>\n",
       "      <td>24</td>\n",
       "      <td>19</td>\n",
       "    </tr>\n",
       "    <tr>\n",
       "      <th>238</th>\n",
       "      <td>10000980</td>\n",
       "      <td>24947999</td>\n",
       "      <td>2190-11-07 12:00:00</td>\n",
       "      <td>furosemide</td>\n",
       "      <td>0 days 15:03:00</td>\n",
       "      <td>1 days 23:03:00</td>\n",
       "      <td>0</td>\n",
       "      <td>24</td>\n",
       "      <td>19</td>\n",
       "    </tr>\n",
       "    <tr>\n",
       "      <th>209</th>\n",
       "      <td>10000980</td>\n",
       "      <td>24947999</td>\n",
       "      <td>2190-11-07 12:00:00</td>\n",
       "      <td>atorvastatin calcium</td>\n",
       "      <td>0 days 15:03:00</td>\n",
       "      <td>1 days 23:03:00</td>\n",
       "      <td>0</td>\n",
       "      <td>24</td>\n",
       "      <td>19</td>\n",
       "    </tr>\n",
       "    <tr>\n",
       "      <th>229</th>\n",
       "      <td>10000980</td>\n",
       "      <td>24947999</td>\n",
       "      <td>2190-11-07 14:00:00</td>\n",
       "      <td>dextrose monohydrate</td>\n",
       "      <td>0 days 17:03:00</td>\n",
       "      <td>1 days 23:03:00</td>\n",
       "      <td>0</td>\n",
       "      <td>24</td>\n",
       "      <td>19</td>\n",
       "    </tr>\n",
       "    <tr>\n",
       "      <th>224</th>\n",
       "      <td>10000980</td>\n",
       "      <td>24947999</td>\n",
       "      <td>2190-11-07 12:00:00</td>\n",
       "      <td>ipratropium bromide</td>\n",
       "      <td>0 days 15:03:00</td>\n",
       "      <td>1 days 23:03:00</td>\n",
       "      <td>0</td>\n",
       "      <td>24</td>\n",
       "      <td>19</td>\n",
       "    </tr>\n",
       "    <tr>\n",
       "      <th>213</th>\n",
       "      <td>10000980</td>\n",
       "      <td>24947999</td>\n",
       "      <td>2190-11-07 14:00:00</td>\n",
       "      <td>magnesium sulfate in water</td>\n",
       "      <td>0 days 17:03:00</td>\n",
       "      <td>1 days 23:03:00</td>\n",
       "      <td>0</td>\n",
       "      <td>24</td>\n",
       "      <td>19</td>\n",
       "    </tr>\n",
       "    <tr>\n",
       "      <th>254</th>\n",
       "      <td>10000980</td>\n",
       "      <td>24947999</td>\n",
       "      <td>2190-11-07 12:00:00</td>\n",
       "      <td>allopurinol</td>\n",
       "      <td>0 days 15:03:00</td>\n",
       "      <td>1 days 23:03:00</td>\n",
       "      <td>0</td>\n",
       "      <td>24</td>\n",
       "      <td>19</td>\n",
       "    </tr>\n",
       "    <tr>\n",
       "      <th>250</th>\n",
       "      <td>10000980</td>\n",
       "      <td>24947999</td>\n",
       "      <td>2190-11-07 12:00:00</td>\n",
       "      <td>clopidogrel bisulfate</td>\n",
       "      <td>0 days 15:03:00</td>\n",
       "      <td>1 days 23:03:00</td>\n",
       "      <td>0</td>\n",
       "      <td>24</td>\n",
       "      <td>19</td>\n",
       "    </tr>\n",
       "    <tr>\n",
       "      <th>248</th>\n",
       "      <td>10000980</td>\n",
       "      <td>24947999</td>\n",
       "      <td>2190-11-07 12:00:00</td>\n",
       "      <td>heparin sodium</td>\n",
       "      <td>0 days 15:03:00</td>\n",
       "      <td>1 days 23:03:00</td>\n",
       "      <td>0</td>\n",
       "      <td>24</td>\n",
       "      <td>19</td>\n",
       "    </tr>\n",
       "    <tr>\n",
       "      <th>260</th>\n",
       "      <td>10000980</td>\n",
       "      <td>24947999</td>\n",
       "      <td>2190-11-07 17:00:00</td>\n",
       "      <td>furosemide</td>\n",
       "      <td>0 days 20:03:00</td>\n",
       "      <td>1 days 23:03:00</td>\n",
       "      <td>1</td>\n",
       "      <td>24</td>\n",
       "      <td>19</td>\n",
       "    </tr>\n",
       "    <tr>\n",
       "      <th>198</th>\n",
       "      <td>10000980</td>\n",
       "      <td>24947999</td>\n",
       "      <td>2190-11-07 18:00:00</td>\n",
       "      <td>insulin lispro</td>\n",
       "      <td>0 days 21:03:00</td>\n",
       "      <td>1 days 11:03:00</td>\n",
       "      <td>2</td>\n",
       "      <td>16</td>\n",
       "      <td>19</td>\n",
       "    </tr>\n",
       "    <tr>\n",
       "      <th>240</th>\n",
       "      <td>10000980</td>\n",
       "      <td>24947999</td>\n",
       "      <td>2190-11-07 18:00:00</td>\n",
       "      <td>insulin human</td>\n",
       "      <td>0 days 21:03:00</td>\n",
       "      <td>1 days 11:03:00</td>\n",
       "      <td>2</td>\n",
       "      <td>16</td>\n",
       "      <td>19</td>\n",
       "    </tr>\n",
       "    <tr>\n",
       "      <th>181</th>\n",
       "      <td>10000980</td>\n",
       "      <td>24947999</td>\n",
       "      <td>2190-11-07 20:00:00</td>\n",
       "      <td>carvedilol</td>\n",
       "      <td>0 days 23:03:00</td>\n",
       "      <td>1 days 23:03:00</td>\n",
       "      <td>4</td>\n",
       "      <td>24</td>\n",
       "      <td>19</td>\n",
       "    </tr>\n",
       "    <tr>\n",
       "      <th>199</th>\n",
       "      <td>10000980</td>\n",
       "      <td>24947999</td>\n",
       "      <td>2190-11-08 09:00:00</td>\n",
       "      <td>insulin lispro</td>\n",
       "      <td>1 days 12:03:00</td>\n",
       "      <td>1 days 23:03:00</td>\n",
       "      <td>17</td>\n",
       "      <td>24</td>\n",
       "      <td>19</td>\n",
       "    </tr>\n",
       "  </tbody>\n",
       "</table>\n",
       "</div>"
      ],
      "text/plain": [
       "     subject_id   hadm_id            starttime          nonproprietaryname  \\\n",
       "191    10000980  24947999  2190-11-07 12:00:00                     aspirin   \n",
       "189    10000980  24947999  2190-11-07 14:00:00              insulin lispro   \n",
       "195    10000980  24947999  2190-11-07 15:00:00              insulin lispro   \n",
       "238    10000980  24947999  2190-11-07 12:00:00                  furosemide   \n",
       "209    10000980  24947999  2190-11-07 12:00:00        atorvastatin calcium   \n",
       "229    10000980  24947999  2190-11-07 14:00:00        dextrose monohydrate   \n",
       "224    10000980  24947999  2190-11-07 12:00:00         ipratropium bromide   \n",
       "213    10000980  24947999  2190-11-07 14:00:00  magnesium sulfate in water   \n",
       "254    10000980  24947999  2190-11-07 12:00:00                 allopurinol   \n",
       "250    10000980  24947999  2190-11-07 12:00:00       clopidogrel bisulfate   \n",
       "248    10000980  24947999  2190-11-07 12:00:00              heparin sodium   \n",
       "260    10000980  24947999  2190-11-07 17:00:00                  furosemide   \n",
       "198    10000980  24947999  2190-11-07 18:00:00              insulin lispro   \n",
       "240    10000980  24947999  2190-11-07 18:00:00               insulin human   \n",
       "181    10000980  24947999  2190-11-07 20:00:00                  carvedilol   \n",
       "199    10000980  24947999  2190-11-08 09:00:00              insulin lispro   \n",
       "\n",
       "    start_hours_from_admit stop_hours_from_admit  start_time  stop_time  \\\n",
       "191        0 days 15:03:00       1 days 23:03:00           0         24   \n",
       "189        0 days 17:03:00       0 days 20:03:00           0          1   \n",
       "195        0 days 18:03:00       1 days 23:03:00           0         24   \n",
       "238        0 days 15:03:00       1 days 23:03:00           0         24   \n",
       "209        0 days 15:03:00       1 days 23:03:00           0         24   \n",
       "229        0 days 17:03:00       1 days 23:03:00           0         24   \n",
       "224        0 days 15:03:00       1 days 23:03:00           0         24   \n",
       "213        0 days 17:03:00       1 days 23:03:00           0         24   \n",
       "254        0 days 15:03:00       1 days 23:03:00           0         24   \n",
       "250        0 days 15:03:00       1 days 23:03:00           0         24   \n",
       "248        0 days 15:03:00       1 days 23:03:00           0         24   \n",
       "260        0 days 20:03:00       1 days 23:03:00           1         24   \n",
       "198        0 days 21:03:00       1 days 11:03:00           2         16   \n",
       "240        0 days 21:03:00       1 days 11:03:00           2         16   \n",
       "181        0 days 23:03:00       1 days 23:03:00           4         24   \n",
       "199        1 days 12:03:00       1 days 23:03:00          17         24   \n",
       "\n",
       "     select_time  \n",
       "191           19  \n",
       "189           19  \n",
       "195           19  \n",
       "238           19  \n",
       "209           19  \n",
       "229           19  \n",
       "224           19  \n",
       "213           19  \n",
       "254           19  \n",
       "250           19  \n",
       "248           19  \n",
       "260           19  \n",
       "198           19  \n",
       "240           19  \n",
       "181           19  \n",
       "199           19  "
      ]
     },
     "execution_count": 85,
     "metadata": {},
     "output_type": "execute_result"
    }
   ],
   "source": [
    "meds[meds['hadm_id']==24947999]"
   ]
  },
  {
   "cell_type": "code",
   "execution_count": 316,
   "id": "graphic-failing",
   "metadata": {},
   "outputs": [
    {
     "data": {
      "text/plain": [
       "110"
      ]
     },
     "execution_count": 316,
     "metadata": {},
     "output_type": "execute_result"
    }
   ],
   "source": [
    "sample['start_time'].max()"
   ]
  },
  {
   "cell_type": "code",
   "execution_count": null,
   "id": "thousand-carbon",
   "metadata": {},
   "outputs": [],
   "source": [
    "maxcount=0\n",
    "for hid in tqdm(hids):\n",
    "    grp=cond[cond['hadm_id']==hid]\n",
    "    if(grp.shape[0]==0):\n",
    "        dataDic[hid]['Cond']={'fids':list(['<PAD>'])}\n",
    "    else:\n",
    "        if(grp.shape[0]>maxcount):\n",
    "            maxcount=grp.shape[0]\n",
    "        dataDic[hid]['Cond']={'fids':list(grp['root'])}"
   ]
  },
  {
   "cell_type": "code",
   "execution_count": 223,
   "id": "dedicated-number",
   "metadata": {},
   "outputs": [
    {
     "name": "stderr",
     "output_type": "stream",
     "text": [
      "  0%|          | 1008/344107 [02:13<12:34:39,  7.58it/s]\n"
     ]
    },
    {
     "ename": "KeyboardInterrupt",
     "evalue": "",
     "output_type": "error",
     "traceback": [
      "\u001b[1;31m---------------------------------------------------------------------------\u001b[0m",
      "\u001b[1;31mKeyboardInterrupt\u001b[0m                         Traceback (most recent call last)",
      "\u001b[1;32m<ipython-input-223-a63671ef40f3>\u001b[0m in \u001b[0;36m<module>\u001b[1;34m\u001b[0m\n\u001b[0;32m      4\u001b[0m     \u001b[0mgroups\u001b[0m\u001b[1;33m=\u001b[0m\u001b[0msub\u001b[0m\u001b[1;33m.\u001b[0m\u001b[0mgroupby\u001b[0m\u001b[1;33m(\u001b[0m\u001b[1;34m'nonproprietaryname'\u001b[0m\u001b[1;33m)\u001b[0m\u001b[1;33m\u001b[0m\u001b[1;33m\u001b[0m\u001b[0m\n\u001b[0;32m      5\u001b[0m     \u001b[1;32mfor\u001b[0m \u001b[0mnonproprietaryname\u001b[0m\u001b[1;33m,\u001b[0m \u001b[0mgrp\u001b[0m \u001b[1;32min\u001b[0m \u001b[0mgroups\u001b[0m\u001b[1;33m:\u001b[0m\u001b[1;33m\u001b[0m\u001b[1;33m\u001b[0m\u001b[0m\n\u001b[1;32m----> 6\u001b[1;33m         \u001b[0msig\u001b[0m\u001b[1;33m=\u001b[0m\u001b[0mfull_signal\u001b[0m\u001b[1;33m(\u001b[0m\u001b[0mgrp\u001b[0m\u001b[1;33m)\u001b[0m\u001b[1;33m\u001b[0m\u001b[1;33m\u001b[0m\u001b[0m\n\u001b[0m\u001b[0;32m      7\u001b[0m         \u001b[1;31m#print(sig)\u001b[0m\u001b[1;33m\u001b[0m\u001b[1;33m\u001b[0m\u001b[1;33m\u001b[0m\u001b[0m\n\u001b[0;32m      8\u001b[0m         \u001b[0mdataDic\u001b[0m\u001b[1;33m[\u001b[0m\u001b[0mhid\u001b[0m\u001b[1;33m]\u001b[0m\u001b[1;33m[\u001b[0m\u001b[1;34m'Med'\u001b[0m\u001b[1;33m]\u001b[0m\u001b[1;33m[\u001b[0m\u001b[0mnonproprietaryname\u001b[0m\u001b[1;33m]\u001b[0m\u001b[1;33m=\u001b[0m\u001b[0mlist\u001b[0m\u001b[1;33m(\u001b[0m\u001b[0msig\u001b[0m\u001b[1;33m)\u001b[0m\u001b[1;33m\u001b[0m\u001b[1;33m\u001b[0m\u001b[0m\n",
      "\u001b[1;32m<ipython-input-221-9c55c8aadd16>\u001b[0m in \u001b[0;36mfull_signal\u001b[1;34m(grp)\u001b[0m\n\u001b[0;32m      5\u001b[0m     \u001b[1;32mfor\u001b[0m \u001b[0mi\u001b[0m \u001b[1;32min\u001b[0m \u001b[0mrange\u001b[0m\u001b[1;33m(\u001b[0m\u001b[1;36m0\u001b[0m\u001b[1;33m,\u001b[0m\u001b[0mlos\u001b[0m\u001b[1;33m,\u001b[0m\u001b[0mbucket\u001b[0m\u001b[1;33m)\u001b[0m\u001b[1;33m:\u001b[0m\u001b[1;33m\u001b[0m\u001b[1;33m\u001b[0m\u001b[0m\n\u001b[0;32m      6\u001b[0m         \u001b[0mstart\u001b[0m\u001b[1;33m=\u001b[0m\u001b[0mgrp\u001b[0m\u001b[1;33m[\u001b[0m\u001b[1;33m(\u001b[0m\u001b[0mgrp\u001b[0m\u001b[1;33m[\u001b[0m\u001b[1;34m'start_time'\u001b[0m\u001b[1;33m]\u001b[0m\u001b[1;33m>=\u001b[0m\u001b[0mi\u001b[0m\u001b[1;33m)\u001b[0m \u001b[1;33m&\u001b[0m \u001b[1;33m(\u001b[0m\u001b[0mgrp\u001b[0m\u001b[1;33m[\u001b[0m\u001b[1;34m'start_time'\u001b[0m\u001b[1;33m]\u001b[0m\u001b[1;33m<\u001b[0m\u001b[0mi\u001b[0m\u001b[1;33m+\u001b[0m\u001b[0mbucket\u001b[0m\u001b[1;33m)\u001b[0m\u001b[1;33m]\u001b[0m\u001b[1;33m\u001b[0m\u001b[1;33m\u001b[0m\u001b[0m\n\u001b[1;32m----> 7\u001b[1;33m         \u001b[0mstop\u001b[0m\u001b[1;33m=\u001b[0m\u001b[0mgrp\u001b[0m\u001b[1;33m[\u001b[0m\u001b[1;33m(\u001b[0m\u001b[0mgrp\u001b[0m\u001b[1;33m[\u001b[0m\u001b[1;34m'stop_time'\u001b[0m\u001b[1;33m]\u001b[0m\u001b[1;33m>=\u001b[0m\u001b[0mi\u001b[0m\u001b[1;33m)\u001b[0m \u001b[1;33m&\u001b[0m \u001b[1;33m(\u001b[0m\u001b[0mgrp\u001b[0m\u001b[1;33m[\u001b[0m\u001b[1;34m'stop_time'\u001b[0m\u001b[1;33m]\u001b[0m\u001b[1;33m<\u001b[0m\u001b[0mi\u001b[0m\u001b[1;33m+\u001b[0m\u001b[0mbucket\u001b[0m\u001b[1;33m)\u001b[0m\u001b[1;33m]\u001b[0m\u001b[1;33m\u001b[0m\u001b[1;33m\u001b[0m\u001b[0m\n\u001b[0m\u001b[0;32m      8\u001b[0m         \u001b[1;32mif\u001b[0m\u001b[1;33m(\u001b[0m\u001b[0mstart\u001b[0m\u001b[1;33m.\u001b[0m\u001b[0mshape\u001b[0m\u001b[1;33m[\u001b[0m\u001b[1;36m0\u001b[0m\u001b[1;33m]\u001b[0m\u001b[1;33m==\u001b[0m\u001b[1;36m0\u001b[0m\u001b[1;33m)\u001b[0m\u001b[1;33m:\u001b[0m\u001b[1;33m\u001b[0m\u001b[1;33m\u001b[0m\u001b[0m\n\u001b[0;32m      9\u001b[0m             \u001b[1;32mif\u001b[0m\u001b[1;33m(\u001b[0m\u001b[0mon_med\u001b[0m\u001b[1;33m==\u001b[0m\u001b[1;36m1\u001b[0m\u001b[1;33m)\u001b[0m\u001b[1;33m:\u001b[0m\u001b[1;33m\u001b[0m\u001b[1;33m\u001b[0m\u001b[0m\n",
      "\u001b[1;32m~\\Anaconda3\\envs\\DSRA\\lib\\site-packages\\pandas\\core\\frame.py\u001b[0m in \u001b[0;36m__getitem__\u001b[1;34m(self, key)\u001b[0m\n\u001b[0;32m   2789\u001b[0m         \u001b[1;31m# Do we have a (boolean) 1d indexer?\u001b[0m\u001b[1;33m\u001b[0m\u001b[1;33m\u001b[0m\u001b[1;33m\u001b[0m\u001b[0m\n\u001b[0;32m   2790\u001b[0m         \u001b[1;32mif\u001b[0m \u001b[0mcom\u001b[0m\u001b[1;33m.\u001b[0m\u001b[0mis_bool_indexer\u001b[0m\u001b[1;33m(\u001b[0m\u001b[0mkey\u001b[0m\u001b[1;33m)\u001b[0m\u001b[1;33m:\u001b[0m\u001b[1;33m\u001b[0m\u001b[1;33m\u001b[0m\u001b[0m\n\u001b[1;32m-> 2791\u001b[1;33m             \u001b[1;32mreturn\u001b[0m \u001b[0mself\u001b[0m\u001b[1;33m.\u001b[0m\u001b[0m_getitem_bool_array\u001b[0m\u001b[1;33m(\u001b[0m\u001b[0mkey\u001b[0m\u001b[1;33m)\u001b[0m\u001b[1;33m\u001b[0m\u001b[1;33m\u001b[0m\u001b[0m\n\u001b[0m\u001b[0;32m   2792\u001b[0m \u001b[1;33m\u001b[0m\u001b[0m\n\u001b[0;32m   2793\u001b[0m         \u001b[1;31m# We are left with two options: a single key, and a collection of keys,\u001b[0m\u001b[1;33m\u001b[0m\u001b[1;33m\u001b[0m\u001b[1;33m\u001b[0m\u001b[0m\n",
      "\u001b[1;32m~\\Anaconda3\\envs\\DSRA\\lib\\site-packages\\pandas\\core\\frame.py\u001b[0m in \u001b[0;36m_getitem_bool_array\u001b[1;34m(self, key)\u001b[0m\n\u001b[0;32m   2843\u001b[0m         \u001b[0mkey\u001b[0m \u001b[1;33m=\u001b[0m \u001b[0mcheck_bool_indexer\u001b[0m\u001b[1;33m(\u001b[0m\u001b[0mself\u001b[0m\u001b[1;33m.\u001b[0m\u001b[0mindex\u001b[0m\u001b[1;33m,\u001b[0m \u001b[0mkey\u001b[0m\u001b[1;33m)\u001b[0m\u001b[1;33m\u001b[0m\u001b[1;33m\u001b[0m\u001b[0m\n\u001b[0;32m   2844\u001b[0m         \u001b[0mindexer\u001b[0m \u001b[1;33m=\u001b[0m \u001b[0mkey\u001b[0m\u001b[1;33m.\u001b[0m\u001b[0mnonzero\u001b[0m\u001b[1;33m(\u001b[0m\u001b[1;33m)\u001b[0m\u001b[1;33m[\u001b[0m\u001b[1;36m0\u001b[0m\u001b[1;33m]\u001b[0m\u001b[1;33m\u001b[0m\u001b[1;33m\u001b[0m\u001b[0m\n\u001b[1;32m-> 2845\u001b[1;33m         \u001b[1;32mreturn\u001b[0m \u001b[0mself\u001b[0m\u001b[1;33m.\u001b[0m\u001b[0m_take_with_is_copy\u001b[0m\u001b[1;33m(\u001b[0m\u001b[0mindexer\u001b[0m\u001b[1;33m,\u001b[0m \u001b[0maxis\u001b[0m\u001b[1;33m=\u001b[0m\u001b[1;36m0\u001b[0m\u001b[1;33m)\u001b[0m\u001b[1;33m\u001b[0m\u001b[1;33m\u001b[0m\u001b[0m\n\u001b[0m\u001b[0;32m   2846\u001b[0m \u001b[1;33m\u001b[0m\u001b[0m\n\u001b[0;32m   2847\u001b[0m     \u001b[1;32mdef\u001b[0m \u001b[0m_getitem_multilevel\u001b[0m\u001b[1;33m(\u001b[0m\u001b[0mself\u001b[0m\u001b[1;33m,\u001b[0m \u001b[0mkey\u001b[0m\u001b[1;33m)\u001b[0m\u001b[1;33m:\u001b[0m\u001b[1;33m\u001b[0m\u001b[1;33m\u001b[0m\u001b[0m\n",
      "\u001b[1;32m~\\Anaconda3\\envs\\DSRA\\lib\\site-packages\\pandas\\core\\generic.py\u001b[0m in \u001b[0;36m_take_with_is_copy\u001b[1;34m(self, indices, axis, **kwargs)\u001b[0m\n\u001b[0;32m   3406\u001b[0m         \u001b[0mSee\u001b[0m \u001b[0mthe\u001b[0m \u001b[0mdocstring\u001b[0m \u001b[0mof\u001b[0m\u001b[0;31m \u001b[0m\u001b[0;31m`\u001b[0m\u001b[0mtake\u001b[0m\u001b[0;31m`\u001b[0m \u001b[1;32mfor\u001b[0m \u001b[0mfull\u001b[0m \u001b[0mexplanation\u001b[0m \u001b[0mof\u001b[0m \u001b[0mthe\u001b[0m \u001b[0mparameters\u001b[0m\u001b[1;33m.\u001b[0m\u001b[1;33m\u001b[0m\u001b[1;33m\u001b[0m\u001b[0m\n\u001b[0;32m   3407\u001b[0m         \"\"\"\n\u001b[1;32m-> 3408\u001b[1;33m         \u001b[0mresult\u001b[0m \u001b[1;33m=\u001b[0m \u001b[0mself\u001b[0m\u001b[1;33m.\u001b[0m\u001b[0mtake\u001b[0m\u001b[1;33m(\u001b[0m\u001b[0mindices\u001b[0m\u001b[1;33m=\u001b[0m\u001b[0mindices\u001b[0m\u001b[1;33m,\u001b[0m \u001b[0maxis\u001b[0m\u001b[1;33m=\u001b[0m\u001b[0maxis\u001b[0m\u001b[1;33m,\u001b[0m \u001b[1;33m**\u001b[0m\u001b[0mkwargs\u001b[0m\u001b[1;33m)\u001b[0m\u001b[1;33m\u001b[0m\u001b[1;33m\u001b[0m\u001b[0m\n\u001b[0m\u001b[0;32m   3409\u001b[0m         \u001b[1;31m# Maybe set copy if we didn't actually change the index.\u001b[0m\u001b[1;33m\u001b[0m\u001b[1;33m\u001b[0m\u001b[1;33m\u001b[0m\u001b[0m\n\u001b[0;32m   3410\u001b[0m         \u001b[1;32mif\u001b[0m \u001b[1;32mnot\u001b[0m \u001b[0mresult\u001b[0m\u001b[1;33m.\u001b[0m\u001b[0m_get_axis\u001b[0m\u001b[1;33m(\u001b[0m\u001b[0maxis\u001b[0m\u001b[1;33m)\u001b[0m\u001b[1;33m.\u001b[0m\u001b[0mequals\u001b[0m\u001b[1;33m(\u001b[0m\u001b[0mself\u001b[0m\u001b[1;33m.\u001b[0m\u001b[0m_get_axis\u001b[0m\u001b[1;33m(\u001b[0m\u001b[0maxis\u001b[0m\u001b[1;33m)\u001b[0m\u001b[1;33m)\u001b[0m\u001b[1;33m:\u001b[0m\u001b[1;33m\u001b[0m\u001b[1;33m\u001b[0m\u001b[0m\n",
      "\u001b[1;32m~\\Anaconda3\\envs\\DSRA\\lib\\site-packages\\pandas\\core\\generic.py\u001b[0m in \u001b[0;36mtake\u001b[1;34m(self, indices, axis, is_copy, **kwargs)\u001b[0m\n\u001b[0;32m   3392\u001b[0m \u001b[1;33m\u001b[0m\u001b[0m\n\u001b[0;32m   3393\u001b[0m         new_data = self._data.take(\n\u001b[1;32m-> 3394\u001b[1;33m             \u001b[0mindices\u001b[0m\u001b[1;33m,\u001b[0m \u001b[0maxis\u001b[0m\u001b[1;33m=\u001b[0m\u001b[0mself\u001b[0m\u001b[1;33m.\u001b[0m\u001b[0m_get_block_manager_axis\u001b[0m\u001b[1;33m(\u001b[0m\u001b[0maxis\u001b[0m\u001b[1;33m)\u001b[0m\u001b[1;33m,\u001b[0m \u001b[0mverify\u001b[0m\u001b[1;33m=\u001b[0m\u001b[1;32mTrue\u001b[0m\u001b[1;33m\u001b[0m\u001b[1;33m\u001b[0m\u001b[0m\n\u001b[0m\u001b[0;32m   3395\u001b[0m         )\n\u001b[0;32m   3396\u001b[0m         \u001b[1;32mreturn\u001b[0m \u001b[0mself\u001b[0m\u001b[1;33m.\u001b[0m\u001b[0m_constructor\u001b[0m\u001b[1;33m(\u001b[0m\u001b[0mnew_data\u001b[0m\u001b[1;33m)\u001b[0m\u001b[1;33m.\u001b[0m\u001b[0m__finalize__\u001b[0m\u001b[1;33m(\u001b[0m\u001b[0mself\u001b[0m\u001b[1;33m)\u001b[0m\u001b[1;33m\u001b[0m\u001b[1;33m\u001b[0m\u001b[0m\n",
      "\u001b[1;32m~\\Anaconda3\\envs\\DSRA\\lib\\site-packages\\pandas\\core\\internals\\managers.py\u001b[0m in \u001b[0;36mtake\u001b[1;34m(self, indexer, axis, verify, convert)\u001b[0m\n\u001b[0;32m   1392\u001b[0m         \u001b[0mnew_labels\u001b[0m \u001b[1;33m=\u001b[0m \u001b[0mself\u001b[0m\u001b[1;33m.\u001b[0m\u001b[0maxes\u001b[0m\u001b[1;33m[\u001b[0m\u001b[0maxis\u001b[0m\u001b[1;33m]\u001b[0m\u001b[1;33m.\u001b[0m\u001b[0mtake\u001b[0m\u001b[1;33m(\u001b[0m\u001b[0mindexer\u001b[0m\u001b[1;33m)\u001b[0m\u001b[1;33m\u001b[0m\u001b[1;33m\u001b[0m\u001b[0m\n\u001b[0;32m   1393\u001b[0m         return self.reindex_indexer(\n\u001b[1;32m-> 1394\u001b[1;33m             \u001b[0mnew_axis\u001b[0m\u001b[1;33m=\u001b[0m\u001b[0mnew_labels\u001b[0m\u001b[1;33m,\u001b[0m \u001b[0mindexer\u001b[0m\u001b[1;33m=\u001b[0m\u001b[0mindexer\u001b[0m\u001b[1;33m,\u001b[0m \u001b[0maxis\u001b[0m\u001b[1;33m=\u001b[0m\u001b[0maxis\u001b[0m\u001b[1;33m,\u001b[0m \u001b[0mallow_dups\u001b[0m\u001b[1;33m=\u001b[0m\u001b[1;32mTrue\u001b[0m\u001b[1;33m\u001b[0m\u001b[1;33m\u001b[0m\u001b[0m\n\u001b[0m\u001b[0;32m   1395\u001b[0m         )\n\u001b[0;32m   1396\u001b[0m \u001b[1;33m\u001b[0m\u001b[0m\n",
      "\u001b[1;32m~\\Anaconda3\\envs\\DSRA\\lib\\site-packages\\pandas\\core\\internals\\managers.py\u001b[0m in \u001b[0;36mreindex_indexer\u001b[1;34m(self, new_axis, indexer, axis, fill_value, allow_dups, copy)\u001b[0m\n\u001b[0;32m   1270\u001b[0m         \u001b[0mnew_axes\u001b[0m \u001b[1;33m=\u001b[0m \u001b[0mlist\u001b[0m\u001b[1;33m(\u001b[0m\u001b[0mself\u001b[0m\u001b[1;33m.\u001b[0m\u001b[0maxes\u001b[0m\u001b[1;33m)\u001b[0m\u001b[1;33m\u001b[0m\u001b[1;33m\u001b[0m\u001b[0m\n\u001b[0;32m   1271\u001b[0m         \u001b[0mnew_axes\u001b[0m\u001b[1;33m[\u001b[0m\u001b[0maxis\u001b[0m\u001b[1;33m]\u001b[0m \u001b[1;33m=\u001b[0m \u001b[0mnew_axis\u001b[0m\u001b[1;33m\u001b[0m\u001b[1;33m\u001b[0m\u001b[0m\n\u001b[1;32m-> 1272\u001b[1;33m         \u001b[1;32mreturn\u001b[0m \u001b[0mtype\u001b[0m\u001b[1;33m(\u001b[0m\u001b[0mself\u001b[0m\u001b[1;33m)\u001b[0m\u001b[1;33m(\u001b[0m\u001b[0mnew_blocks\u001b[0m\u001b[1;33m,\u001b[0m \u001b[0mnew_axes\u001b[0m\u001b[1;33m)\u001b[0m\u001b[1;33m\u001b[0m\u001b[1;33m\u001b[0m\u001b[0m\n\u001b[0m\u001b[0;32m   1273\u001b[0m \u001b[1;33m\u001b[0m\u001b[0m\n\u001b[0;32m   1274\u001b[0m     \u001b[1;32mdef\u001b[0m \u001b[0m_slice_take_blocks_ax0\u001b[0m\u001b[1;33m(\u001b[0m\u001b[0mself\u001b[0m\u001b[1;33m,\u001b[0m \u001b[0mslice_or_indexer\u001b[0m\u001b[1;33m,\u001b[0m \u001b[0mfill_tuple\u001b[0m\u001b[1;33m=\u001b[0m\u001b[1;32mNone\u001b[0m\u001b[1;33m)\u001b[0m\u001b[1;33m:\u001b[0m\u001b[1;33m\u001b[0m\u001b[1;33m\u001b[0m\u001b[0m\n",
      "\u001b[1;32m~\\Anaconda3\\envs\\DSRA\\lib\\site-packages\\pandas\\core\\internals\\managers.py\u001b[0m in \u001b[0;36m__init__\u001b[1;34m(self, blocks, axes, do_integrity_check)\u001b[0m\n\u001b[0;32m    141\u001b[0m         \u001b[0mself\u001b[0m\u001b[1;33m.\u001b[0m\u001b[0m_consolidate_check\u001b[0m\u001b[1;33m(\u001b[0m\u001b[1;33m)\u001b[0m\u001b[1;33m\u001b[0m\u001b[1;33m\u001b[0m\u001b[0m\n\u001b[0;32m    142\u001b[0m \u001b[1;33m\u001b[0m\u001b[0m\n\u001b[1;32m--> 143\u001b[1;33m         \u001b[0mself\u001b[0m\u001b[1;33m.\u001b[0m\u001b[0m_rebuild_blknos_and_blklocs\u001b[0m\u001b[1;33m(\u001b[0m\u001b[1;33m)\u001b[0m\u001b[1;33m\u001b[0m\u001b[1;33m\u001b[0m\u001b[0m\n\u001b[0m\u001b[0;32m    144\u001b[0m \u001b[1;33m\u001b[0m\u001b[0m\n\u001b[0;32m    145\u001b[0m     \u001b[1;32mdef\u001b[0m \u001b[0mmake_empty\u001b[0m\u001b[1;33m(\u001b[0m\u001b[0mself\u001b[0m\u001b[1;33m,\u001b[0m \u001b[0maxes\u001b[0m\u001b[1;33m=\u001b[0m\u001b[1;32mNone\u001b[0m\u001b[1;33m)\u001b[0m\u001b[1;33m:\u001b[0m\u001b[1;33m\u001b[0m\u001b[1;33m\u001b[0m\u001b[0m\n",
      "\u001b[1;32m~\\Anaconda3\\envs\\DSRA\\lib\\site-packages\\pandas\\core\\internals\\managers.py\u001b[0m in \u001b[0;36m_rebuild_blknos_and_blklocs\u001b[1;34m(self)\u001b[0m\n\u001b[0;32m    222\u001b[0m             \u001b[0mrl\u001b[0m \u001b[1;33m=\u001b[0m \u001b[0mblk\u001b[0m\u001b[1;33m.\u001b[0m\u001b[0mmgr_locs\u001b[0m\u001b[1;33m\u001b[0m\u001b[1;33m\u001b[0m\u001b[0m\n\u001b[0;32m    223\u001b[0m             \u001b[0mnew_blknos\u001b[0m\u001b[1;33m[\u001b[0m\u001b[0mrl\u001b[0m\u001b[1;33m.\u001b[0m\u001b[0mindexer\u001b[0m\u001b[1;33m]\u001b[0m \u001b[1;33m=\u001b[0m \u001b[0mblkno\u001b[0m\u001b[1;33m\u001b[0m\u001b[1;33m\u001b[0m\u001b[0m\n\u001b[1;32m--> 224\u001b[1;33m             \u001b[0mnew_blklocs\u001b[0m\u001b[1;33m[\u001b[0m\u001b[0mrl\u001b[0m\u001b[1;33m.\u001b[0m\u001b[0mindexer\u001b[0m\u001b[1;33m]\u001b[0m \u001b[1;33m=\u001b[0m \u001b[0mnp\u001b[0m\u001b[1;33m.\u001b[0m\u001b[0marange\u001b[0m\u001b[1;33m(\u001b[0m\u001b[0mlen\u001b[0m\u001b[1;33m(\u001b[0m\u001b[0mrl\u001b[0m\u001b[1;33m)\u001b[0m\u001b[1;33m)\u001b[0m\u001b[1;33m\u001b[0m\u001b[1;33m\u001b[0m\u001b[0m\n\u001b[0m\u001b[0;32m    225\u001b[0m \u001b[1;33m\u001b[0m\u001b[0m\n\u001b[0;32m    226\u001b[0m         \u001b[1;32mif\u001b[0m \u001b[1;33m(\u001b[0m\u001b[0mnew_blknos\u001b[0m \u001b[1;33m==\u001b[0m \u001b[1;33m-\u001b[0m\u001b[1;36m1\u001b[0m\u001b[1;33m)\u001b[0m\u001b[1;33m.\u001b[0m\u001b[0many\u001b[0m\u001b[1;33m(\u001b[0m\u001b[1;33m)\u001b[0m\u001b[1;33m:\u001b[0m\u001b[1;33m\u001b[0m\u001b[1;33m\u001b[0m\u001b[0m\n",
      "\u001b[1;31mKeyboardInterrupt\u001b[0m: "
     ]
    }
   ],
   "source": [
    "maxcount=0\n",
    "for hid in tqdm(hids):\n",
    "    sub=meds[meds['hadm_id']==hid]\n",
    "    groups=sub.groupby('nonproprietaryname')\n",
    "    for nonproprietaryname, grp in groups:\n",
    "        sig=full_signal(grp)\n",
    "        #print(sig)\n",
    "        dataDic[hid]['Med'][nonproprietaryname]=list(sig)\n",
    "    #print(dataDic)"
   ]
  },
  {
   "cell_type": "code",
   "execution_count": 77,
   "id": "unexpected-relative",
   "metadata": {},
   "outputs": [],
   "source": [
    "maxcount=0\n",
    "for hid in hids:\n",
    "    grp=meds[meds['hadm_id']==hid]\n",
    "    if(grp.shape[0]==0):\n",
    "        dataDic[hid]['Med']={'fids':list(['<PAD>'])}\n",
    "    else:\n",
    "        if(grp.shape[0]>maxcount):\n",
    "            maxcount=grp.shape[0]\n",
    "        dataDic[hid]['Med']={'fids':list(grp['nonproprietaryname'])}\n",
    "    #print(condDic)"
   ]
  },
  {
   "cell_type": "code",
   "execution_count": 78,
   "id": "human-wallpaper",
   "metadata": {},
   "outputs": [
    {
     "data": {
      "text/plain": [
       "819"
      ]
     },
     "execution_count": 78,
     "metadata": {},
     "output_type": "execute_result"
    }
   ],
   "source": [
    "maxcount"
   ]
  },
  {
   "cell_type": "code",
   "execution_count": null,
   "id": "inclusive-training",
   "metadata": {},
   "outputs": [],
   "source": [
    "def full_signal(grp):\n",
    "    grp=grp.sort_values(by=['start_time'])\n",
    "    val=[]\n",
    "    old_lab=np.nan\n",
    "    for i in range(1,los,bucket):\n",
    "        start=grp[(grp['start_time']>i) & (grp['start_time']<i+bucket)]\n",
    "        if(start.shape[0]>0):\n",
    "            old_lab=start['val'].mean()\n",
    "        val=val.append(old_lab)\n",
    "    col_mean = np.nanmean(a, axis=0)\n",
    "    #Find indices that you need to replace\n",
    "    inds = np.where(np.isnan(val))\n",
    "\n",
    "    #Place column means in the indices. Align the arrays using take\n",
    "    val[inds] = np.take(col_mean, inds[1])\n",
    "\n",
    "    return val"
   ]
  },
  {
   "cell_type": "code",
   "execution_count": null,
   "id": "impaired-thomas",
   "metadata": {},
   "outputs": [],
   "source": [
    "maxcount=0\n",
    "for hid in hids:\n",
    "    sub=labs[labs['hadm_id']==hid]\n",
    "    groups=sub.group_by('code')\n",
    "    for code, grp in groups:\n",
    "        all_mean=labs[labs['code']==code]['val'].mean()\n",
    "        subject_mean=labs[(labs['code']==code) & (labs['subject_id'].isin(list(sub['subject_id'])))]['val'].mean()\n",
    "        sig=full_signal(grp)\n",
    "        dataDic[hid]['Lab'][code]=list(sig)"
   ]
  },
  {
   "cell_type": "code",
   "execution_count": null,
   "id": "minus-residence",
   "metadata": {},
   "outputs": [],
   "source": []
  },
  {
   "cell_type": "code",
   "execution_count": 104,
   "id": "local-necessity",
   "metadata": {},
   "outputs": [
    {
     "data": {
      "text/plain": [
       "56"
      ]
     },
     "execution_count": 104,
     "metadata": {},
     "output_type": "execute_result"
    }
   ],
   "source": [
    "cond.groupby('hadm_id').size().max()"
   ]
  },
  {
   "cell_type": "code",
   "execution_count": 105,
   "id": "shaped-photograph",
   "metadata": {},
   "outputs": [],
   "source": [
    "path='C:/Users/mehak/OneDrive - University of Delaware - o365/Beheshti, Rahmat - Mehak - Brennan/model/data/'"
   ]
  },
  {
   "cell_type": "code",
   "execution_count": 106,
   "id": "surrounded-shock",
   "metadata": {},
   "outputs": [],
   "source": [
    "with open(path+'dataDic', 'wb') as fp:\n",
    "    pickle.dump(dataDic, fp)"
   ]
  },
  {
   "cell_type": "code",
   "execution_count": 107,
   "id": "rapid-florist",
   "metadata": {},
   "outputs": [],
   "source": [
    "with open(path+'hadmDic', 'wb') as fp:\n",
    "    pickle.dump(hids, fp)"
   ]
  },
  {
   "cell_type": "code",
   "execution_count": 108,
   "id": "institutional-access",
   "metadata": {},
   "outputs": [],
   "source": [
    "with open(path+'medVocab', 'wb') as fp:\n",
    "    pickle.dump(list(meds['nonproprietaryname'].unique()), fp)"
   ]
  },
  {
   "cell_type": "code",
   "execution_count": 83,
   "id": "threaded-budapest",
   "metadata": {},
   "outputs": [],
   "source": [
    "with open(path+'procVocab', 'wb') as fp:\n",
    "    pickle.dump(list(proc['icd_code'].unique()), fp)"
   ]
  },
  {
   "cell_type": "code",
   "execution_count": 109,
   "id": "pediatric-encoding",
   "metadata": {},
   "outputs": [],
   "source": [
    "with open(path+'condVocab', 'wb') as fp:\n",
    "    pickle.dump(list(cond['root'].unique()), fp)"
   ]
  },
  {
   "cell_type": "code",
   "execution_count": 110,
   "id": "average-lindsay",
   "metadata": {},
   "outputs": [
    {
     "data": {
      "text/plain": [
       "817"
      ]
     },
     "execution_count": 110,
     "metadata": {},
     "output_type": "execute_result"
    }
   ],
   "source": [
    "meds['nonproprietaryname'].nunique()"
   ]
  },
  {
   "cell_type": "code",
   "execution_count": 86,
   "id": "regulation-glory",
   "metadata": {},
   "outputs": [
    {
     "data": {
      "text/plain": [
       "4839"
      ]
     },
     "execution_count": 86,
     "metadata": {},
     "output_type": "execute_result"
    }
   ],
   "source": [
    "proc['icd_code'].nunique()"
   ]
  },
  {
   "cell_type": "code",
   "execution_count": 111,
   "id": "another-acrobat",
   "metadata": {},
   "outputs": [
    {
     "data": {
      "text/plain": [
       "1517"
      ]
     },
     "execution_count": 111,
     "metadata": {},
     "output_type": "execute_result"
    }
   ],
   "source": [
    "cond['root'].nunique()"
   ]
  },
  {
   "cell_type": "code",
   "execution_count": null,
   "id": "forward-helen",
   "metadata": {},
   "outputs": [],
   "source": []
  }
 ],
 "metadata": {
  "hide_input": false,
  "kernelspec": {
   "display_name": "Python 3",
   "language": "python",
   "name": "python3"
  },
  "language_info": {
   "codemirror_mode": {
    "name": "ipython",
    "version": 3
   },
   "file_extension": ".py",
   "mimetype": "text/x-python",
   "name": "python",
   "nbconvert_exporter": "python",
   "pygments_lexer": "ipython3",
   "version": "3.7.1"
  }
 },
 "nbformat": 4,
 "nbformat_minor": 5
}
