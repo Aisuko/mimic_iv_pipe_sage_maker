{
 "cells": [
  {
   "cell_type": "code",
   "execution_count": 46,
   "id": "available-albany",
   "metadata": {},
   "outputs": [],
   "source": [
    "import ipywidgets as widgets\n",
    "import sys\n",
    "from pathlib import Path\n",
    "import os\n",
    "import importlib\n",
    "\n",
    "\n",
    "module_path='preprocessing/day_intervals_preproc'\n",
    "if module_path not in sys.path:\n",
    "    sys.path.append(module_path)\n",
    "\n",
    "module_path='utils'\n",
    "if module_path not in sys.path:\n",
    "    sys.path.append(module_path)\n",
    "    \n",
    "module_path='preprocessing/hosp_module_preproc'\n",
    "if module_path not in sys.path:\n",
    "    sys.path.append(module_path)\n",
    "    \n",
    "module_path='model'\n",
    "if module_path not in sys.path:\n",
    "    sys.path.append(module_path)\n",
    "#print(sys.path)\n",
    "root_dir = os.path.dirname(os.path.abspath('UserInterface.ipynb'))\n",
    "import day_intervals_cohort\n",
    "from day_intervals_cohort import *\n",
    "import data_generation_icu\n",
    "\n",
    "import data_generation\n",
    "import evaluation\n",
    "\n",
    "import feature_selection_hosp\n",
    "from feature_selection_hosp import *\n",
    "import train\n",
    "from train import *\n",
    "import feature_selection_icu\n",
    "from feature_selection_icu import *\n",
    "import fairness\n",
    "import callibrate_output"
   ]
  },
  {
   "cell_type": "code",
   "execution_count": 47,
   "id": "particular-supply",
   "metadata": {},
   "outputs": [
    {
     "data": {
      "text/plain": [
       "'C:\\\\Users\\\\mehak\\\\Desktop\\\\MIMIC-IV'"
      ]
     },
     "execution_count": 47,
     "metadata": {},
     "output_type": "execute_result"
    }
   ],
   "source": [
    "root_dir"
   ]
  },
  {
   "cell_type": "code",
   "execution_count": 48,
   "id": "nutritional-chicago",
   "metadata": {},
   "outputs": [],
   "source": [
    "importlib.reload(day_intervals_cohort)\n",
    "import day_intervals_cohort\n",
    "from day_intervals_cohort import *\n",
    "\n",
    "importlib.reload(data_generation_icu)\n",
    "import data_generation_icu\n",
    "importlib.reload(data_generation)\n",
    "import data_generation\n",
    "\n",
    "importlib.reload(feature_selection_hosp)\n",
    "import feature_selection_hosp\n",
    "from feature_selection_hosp import *\n",
    "\n",
    "importlib.reload(feature_selection_icu)\n",
    "import feature_selection_icu\n",
    "from feature_selection_icu import *\n",
    "\n",
    "importlib.reload(train)\n",
    "import train\n",
    "from train import *\n",
    "\n",
    "importlib.reload(fairness)\n",
    "import fairness\n",
    "\n",
    "importlib.reload(callibrate_output)\n",
    "import callibrate_output\n",
    "\n",
    "importlib.reload(evaluation)\n",
    "import evaluation"
   ]
  },
  {
   "cell_type": "markdown",
   "id": "alive-allergy",
   "metadata": {},
   "source": [
    "# Welcome to your MIMIC-IV Project"
   ]
  },
  {
   "cell_type": "markdown",
   "id": "blocked-boutique",
   "metadata": {},
   "source": [
    "This repository explains the steps to download and clean MIMIC-IV dataset for analysis.\n",
    "\n",
    "Please go to https://physionet.org/content/mimiciv/1.0/\n",
    "\n",
    "Follow instructions to get access to MIMIC-IV dataset.\n",
    "\n",
    "Download the files using your terminal: wget -r -N -c -np --user mehakg --ask-password https://physionet.org/files/mimiciv/1.0/\n",
    "\n",
    "Save downloaded files in the parent directory of this github repo. \n",
    "\n",
    "The structure should look like -\n",
    "- mimic-iv-1.0/core\n",
    "- mimic-iv-1.0/hosp\n",
    "- mimic-iv-1.0/icu"
   ]
  },
  {
   "cell_type": "markdown",
   "id": "comparative-radio",
   "metadata": {},
   "source": [
    "## DATA EXTRACTION\n",
    "Please run below cell to select option for cohort selection.\n",
    "The cohort will be svaed in **./data/cohort/**"
   ]
  },
  {
   "cell_type": "code",
   "execution_count": 5,
   "id": "structured-dimension",
   "metadata": {
    "tags": [
     "{",
     "\"tags\":",
     "[",
     "\"hide-input\"",
     "]",
     "}"
    ]
   },
   "outputs": [
    {
     "name": "stdout",
     "output_type": "stream",
     "text": [
      "Extract Data\n",
      "Please select below if you want to work with ICU or Non-ICU data ?\n"
     ]
    },
    {
     "data": {
      "application/vnd.jupyter.widget-view+json": {
       "model_id": "ad2a284d823c43b5a479f2c003b0dbee",
       "version_major": 2,
       "version_minor": 0
      },
      "text/plain": [
       "RadioButtons(options=('ICU', 'Non-ICU'), value='ICU')"
      ]
     },
     "metadata": {},
     "output_type": "display_data"
    },
    {
     "name": "stdout",
     "output_type": "stream",
     "text": [
      "Please select what prediction task you want to perform ?\n"
     ]
    },
    {
     "data": {
      "application/vnd.jupyter.widget-view+json": {
       "model_id": "19edd737df7f497a8b1aa1f792bc944b",
       "version_major": 2,
       "version_minor": 0
      },
      "text/plain": [
       "RadioButtons(options=('30 Day Readmission', '60 Day Readmission', '90 Day Readmission', '120 Day Readmission',…"
      ]
     },
     "metadata": {},
     "output_type": "display_data"
    },
    {
     "name": "stdout",
     "output_type": "stream",
     "text": [
      "Please select if you want to perform choosen prediction task for a specific disease.\n"
     ]
    },
    {
     "data": {
      "application/vnd.jupyter.widget-view+json": {
       "model_id": "e088e532b8fc4df5981cfc93a9746c1c",
       "version_major": 2,
       "version_minor": 0
      },
      "text/plain": [
       "RadioButtons(options=('No Disease Filter', 'Heart Failure', 'CKD', 'CAD', 'COPD'), value='No Disease Filter')"
      ]
     },
     "metadata": {},
     "output_type": "display_data"
    },
    {
     "name": "stdout",
     "output_type": "stream",
     "text": [
      "**Please run below cell to extract the cohort for selected options**\n"
     ]
    }
   ],
   "source": [
    "print(\"Extract Data\")\n",
    "print(\"Please select below if you want to work with ICU or Non-ICU data ?\")\n",
    "radio_input1 = widgets.RadioButtons(options=['ICU', 'Non-ICU'],value='ICU')\n",
    "display(radio_input1)\n",
    "      \n",
    "print(\"Please select what prediction task you want to perform ?\")\n",
    "radio_input2 = widgets.RadioButtons(options=['30 Day Readmission','60 Day Readmission','90 Day Readmission','120 Day Readmission', 'Mortality'],value='30 Day Readmission')\n",
    "display(radio_input2)\n",
    "      \n",
    "print(\"Please select if you want to perform choosen prediction task for a specific disease.\")\n",
    "radio_input3 = widgets.RadioButtons(options=['No Disease Filter','Heart Failure','CKD','CAD','COPD'],value='No Disease Filter')\n",
    "display(radio_input3)\n",
    "print(\"**Please run below cell to extract the cohort for selected options**\")"
   ]
  },
  {
   "cell_type": "code",
   "execution_count": 65,
   "id": "republican-freight",
   "metadata": {},
   "outputs": [
    {
     "name": "stdout",
     "output_type": "stream",
     "text": [
      "EXTRACTING FOR: | ICU | MORTALITY |\n",
      "[ MORTALITY LABELS FINISHED ]\n",
      "[ COHORT SUCCESSFULLY SAVED ]\n",
      "[ SUMMARY SUCCESSFULLY SAVED ]\n",
      "Mortality FOR ICU DATA\n",
      "# Admission Records: 16407\n",
      "# Patients: 10274\n",
      "# Positive cases: 1474\n",
      "# Negative cases: 14933\n"
     ]
    }
   ],
   "source": [
    "data_icu=radio_input1.value==\"ICU\"\n",
    "data_mort=radio_input2.value==\"Mortality\"\n",
    "\n",
    "    \n",
    "\n",
    "if (radio_input3.value==\"Heart Failure\"):\n",
    "    icd_code='I50'\n",
    "elif (radio_input3.value==\"CKD\"):\n",
    "    icd_code='N18'\n",
    "elif (radio_input3.value==\"COPD\"):\n",
    "    icd_code='J44'\n",
    "elif (radio_input3.value==\"CAD\"):\n",
    "    icd_code='I25'\n",
    "else:\n",
    "    icd_code='No Disease Filter'\n",
    "\n",
    "cohort_output = extract_data(radio_input1.value,radio_input2.value,icd_code, root_dir)"
   ]
  },
  {
   "cell_type": "code",
   "execution_count": 6,
   "id": "composed-worker",
   "metadata": {},
   "outputs": [],
   "source": [
    "# data_icu=False\n",
    "# data_mort=True\n",
    "# cohort_output='cohort_non-icu_mortality_N18'"
   ]
  },
  {
   "cell_type": "markdown",
   "id": "quick-velvet",
   "metadata": {},
   "source": [
    "## FEATURE SELECTION\n",
    "Features available for ICU data -\n",
    "- Diagnosis (https://mimic.mit.edu/docs/iv/modules/hosp/diagnoses_icd/)\n",
    "- Procedures (https://mimic.mit.edu/docs/iv/modules/icu/procedureevents/)\n",
    "- Medications (https://mimic.mit.edu/docs/iv/modules/icu/inputevents/)\n",
    "- Output Events (https://mimic.mit.edu/docs/iv/modules/icu/outputevents/)\n",
    "- Chart Events (https://mimic.mit.edu/docs/iv/modules/icu/chartevents/)\n",
    "\n",
    "Features available for ICU data -\n",
    "- Diagnosis (https://mimic.mit.edu/docs/iv/modules/hosp/diagnoses_icd/)\n",
    "- Procedures (https://mimic.mit.edu/docs/iv/modules/hosp/procedures_icd/)\n",
    "- Medications (https://mimic.mit.edu/docs/iv/modules/hosp/prescriptions/)\n",
    "- Lab Events (https://mimic.mit.edu/docs/iv/modules/hosp/labevents/)\n",
    "\n",
    "All features will be saved in **./data/features/**\n",
    "\n",
    "**Please run below cell to select features**"
   ]
  },
  {
   "cell_type": "code",
   "execution_count": 7,
   "id": "raised-olympus",
   "metadata": {},
   "outputs": [
    {
     "name": "stdout",
     "output_type": "stream",
     "text": [
      "Feature Selection\n",
      "Which Features you want to include for cohort?\n"
     ]
    },
    {
     "data": {
      "application/vnd.jupyter.widget-view+json": {
       "model_id": "770a1479b866463c87a9ae4fe7c6416e",
       "version_major": 2,
       "version_minor": 0
      },
      "text/plain": [
       "Checkbox(value=False, description='Diagnosis')"
      ]
     },
     "metadata": {},
     "output_type": "display_data"
    },
    {
     "data": {
      "application/vnd.jupyter.widget-view+json": {
       "model_id": "6994c398ff034abba190937e669af8ea",
       "version_major": 2,
       "version_minor": 0
      },
      "text/plain": [
       "Checkbox(value=False, description='Labs')"
      ]
     },
     "metadata": {},
     "output_type": "display_data"
    },
    {
     "data": {
      "application/vnd.jupyter.widget-view+json": {
       "model_id": "bef52e8458ed4bcaafe132f758bb37a4",
       "version_major": 2,
       "version_minor": 0
      },
      "text/plain": [
       "Checkbox(value=False, description='Procedures')"
      ]
     },
     "metadata": {},
     "output_type": "display_data"
    },
    {
     "data": {
      "application/vnd.jupyter.widget-view+json": {
       "model_id": "7f2d55ddfd8c4088aecc444783ae12c6",
       "version_major": 2,
       "version_minor": 0
      },
      "text/plain": [
       "Checkbox(value=False, description='Medications')"
      ]
     },
     "metadata": {},
     "output_type": "display_data"
    },
    {
     "name": "stdout",
     "output_type": "stream",
     "text": [
      "**Please run below cell to extract selected features**\n"
     ]
    }
   ],
   "source": [
    "print(\"Feature Selection\")\n",
    "if data_icu:\n",
    "    print(\"Which Features you want to include for cohort?\")\n",
    "    check_input1 = widgets.Checkbox(description='Diagnosis')\n",
    "    display(check_input1)\n",
    "    check_input2 = widgets.Checkbox(description='Output Events')\n",
    "    display(check_input2)\n",
    "    check_input3 = widgets.Checkbox(description='Chart Events')\n",
    "    display(check_input3)\n",
    "    check_input4 = widgets.Checkbox(description='Procedures')\n",
    "    display(check_input4)\n",
    "    check_input5 = widgets.Checkbox(description='Medications')\n",
    "    display(check_input5)\n",
    "else:\n",
    "    print(\"Which Features you want to include for cohort?\")\n",
    "    check_input1 = widgets.Checkbox(description='Diagnosis')\n",
    "    display(check_input1)\n",
    "    check_input2 = widgets.Checkbox(description='Labs')\n",
    "    display(check_input2)\n",
    "    check_input3 = widgets.Checkbox(description='Procedures')\n",
    "    display(check_input3)\n",
    "    check_input4 = widgets.Checkbox(description='Medications')\n",
    "    display(check_input4)\n",
    "print(\"**Please run below cell to extract selected features**\")"
   ]
  },
  {
   "cell_type": "code",
   "execution_count": 8,
   "id": "right-drink",
   "metadata": {},
   "outputs": [],
   "source": [
    "# diag_flag=True\n",
    "# out_flag=False\n",
    "# chart_flag=False\n",
    "# lab_flag=True\n",
    "# proc_flag=True\n",
    "# med_flag=True"
   ]
  },
  {
   "cell_type": "code",
   "execution_count": 96,
   "id": "native-covering",
   "metadata": {
    "scrolled": true
   },
   "outputs": [
    {
     "name": "stdout",
     "output_type": "stream",
     "text": [
      "[EXTRACTING DIAGNOSIS DATA]\n",
      "# unique ICD-9 codes 3626\n",
      "# unique ICD-10 codes 5007\n",
      "# unique ICD-10 codes (After converting ICD-9 to ICD-10) 5340\n",
      "# unique ICD-10 codes (After clinical gruping ICD-10 codes) 1134\n",
      "# Admissions:   14763\n",
      "Total rows 336334\n",
      "[SUCCESSFULLY SAVED DIAGNOSIS DATA]\n",
      "[EXTRACTING OUPTPUT EVENTS DATA]\n",
      "# Unique Events:   68\n",
      "# Admissions:   13752\n",
      "Total rows 748086\n"
     ]
    },
    {
     "name": "stderr",
     "output_type": "stream",
     "text": [
      "\r",
      "0it [00:00, ?it/s]"
     ]
    },
    {
     "name": "stdout",
     "output_type": "stream",
     "text": [
      "[SUCCESSFULLY SAVED OUPTPUT EVENTS DATA]\n",
      "[EXTRACTING CHART EVENTS DATA]\n"
     ]
    },
    {
     "name": "stderr",
     "output_type": "stream",
     "text": [
      "33it [05:45, 10.46s/it]\n"
     ]
    },
    {
     "name": "stdout",
     "output_type": "stream",
     "text": [
      "# Unique Events:   882\n",
      "# Admissions:   14763\n",
      "Total rows 24637334\n",
      "[SUCCESSFULLY SAVED CHART EVENTS DATA]\n",
      "[EXTRACTING PROCEDURES DATA]\n",
      "# Unique Events:   148\n",
      "# Admissions:   14671\n",
      "Total rows 129173\n",
      "[SUCCESSFULLY SAVED PROCEDURES DATA]\n",
      "[EXTRACTING MEDICATIONS DATA]\n",
      "# of unique type of drug:  291\n",
      "# Admissions:   14669\n",
      "# Total rows 1662726\n",
      "[SUCCESSFULLY SAVED MEDICATIONS DATA]\n"
     ]
    }
   ],
   "source": [
    "if data_icu:\n",
    "    diag_flag=check_input1.value\n",
    "    out_flag=check_input2.value\n",
    "    chart_flag=check_input3.value\n",
    "    proc_flag=check_input4.value\n",
    "    med_flag=check_input5.value\n",
    "    feature_icu(cohort_output, diag_flag,out_flag,chart_flag,proc_flag,med_flag)\n",
    "else:\n",
    "    diag_flag=check_input1.value\n",
    "    lab_flag=check_input2.value\n",
    "    proc_flag=check_input3.value\n",
    "    med_flag=check_input4.value\n",
    "    #feature_nonicu(cohort_output, False,lab_flag,False,False)\n",
    "    feature_nonicu(cohort_output, diag_flag,lab_flag,proc_flag,med_flag)\n",
    "    #feature_nonicu(cohort_output, diag_flag,False,proc_flag,med_flag)"
   ]
  },
  {
   "cell_type": "markdown",
   "id": "ruled-portable",
   "metadata": {},
   "source": [
    "## CLINICAL GROUPING AND CLEANING OF FEATURES\n",
    "Below you will have option to clinically group diagnosis and medications.\n",
    "There also option to clean lab and chart events by performing outlier removal and unit conversion.\n",
    "\n",
    "**Please run below cell to select preprocessing for diferent features**"
   ]
  },
  {
   "cell_type": "code",
   "execution_count": 94,
   "id": "partial-manhattan",
   "metadata": {},
   "outputs": [
    {
     "name": "stdout",
     "output_type": "stream",
     "text": [
      "Do you want to group ICD 10 DIAG codes ?\n"
     ]
    },
    {
     "data": {
      "application/vnd.jupyter.widget-view+json": {
       "model_id": "c9c8f5ade7c540b9a0231c4ad303ec23",
       "version_major": 2,
       "version_minor": 0
      },
      "text/plain": [
       "RadioButtons(index=2, options=('Keep both ICD-9 and ICD-10 codes', 'Convert ICD-9 to ICD-10 codes', 'Convert I…"
      ]
     },
     "metadata": {},
     "output_type": "display_data"
    },
    {
     "name": "stdout",
     "output_type": "stream",
     "text": [
      "Clean chart events ?\n"
     ]
    },
    {
     "data": {
      "application/vnd.jupyter.widget-view+json": {
       "model_id": "6baf410daef74bc19eccb916d82fa704",
       "version_major": 2,
       "version_minor": 0
      },
      "text/plain": [
       "RadioButtons(options=('Yes', 'No'), value='Yes')"
      ]
     },
     "metadata": {},
     "output_type": "display_data"
    },
    {
     "name": "stdout",
     "output_type": "stream",
     "text": [
      "**Please run below cell to perform feature preprocessing**\n"
     ]
    }
   ],
   "source": [
    "if data_icu:\n",
    "    if diag_flag:\n",
    "        print(\"Do you want to group ICD 10 DIAG codes ?\")\n",
    "        radio_input4 = widgets.RadioButtons(options=['Keep both ICD-9 and ICD-10 codes','Convert ICD-9 to ICD-10 codes','Convert ICD-9 to ICD-10 and group ICD-10 codes'],value='Convert ICD-9 to ICD-10 and group ICD-10 codes')\n",
    "        display(radio_input4)   \n",
    "    if chart_flag:\n",
    "        print(\"Clean chart events ?\")\n",
    "        radio_input5 = widgets.RadioButtons(options=['Yes','No'],value='Yes')\n",
    "        display(radio_input5)\n",
    "    \n",
    "else:\n",
    "    if diag_flag:\n",
    "        print(\"Do you want to group ICD 10 DIAG codes ?\")\n",
    "        radio_input4 = widgets.RadioButtons(options=['Keep both ICD-9 and ICD-10 codes','Convert ICD-9 to ICD-10 codes','Convert ICD-9 to ICD-10 and group ICD-10 codes'],value='Keep both ICD-9 and ICD-10 codes')\n",
    "        display(radio_input4)         \n",
    "    if med_flag:\n",
    "        print(\"Do you want to group Medication codes to use Non propietary names?\")\n",
    "        radio_input5 = widgets.RadioButtons(options=['Yes','No'],value='Yes')\n",
    "        display(radio_input5)\n",
    "    if proc_flag:\n",
    "        print(\"Which ICD codes for Procedures you want to keep in data?\")\n",
    "        radio_input6 = widgets.RadioButtons(options=['ICD-9 and ICD-10','ICD-10'],value='ICD-9 and ICD-10')\n",
    "        display(radio_input6)\n",
    "    if lab_flag:\n",
    "        print(\"Clean labs ?\")\n",
    "        radio_input7 = widgets.RadioButtons(options=['Yes','No'],value='Yes')\n",
    "        display(radio_input7)\n",
    "print(\"**Please run below cell to perform feature preprocessing**\")"
   ]
  },
  {
   "cell_type": "code",
   "execution_count": 97,
   "id": "descending-symphony",
   "metadata": {},
   "outputs": [
    {
     "name": "stdout",
     "output_type": "stream",
     "text": [
      "[PROCESSING DIAGNOSIS DATA]\n",
      "Total number of rows 322010\n",
      "[SUCCESSFULLY SAVED DIAGNOSIS DATA]\n",
      "[PROCESSING CHART EVENTS DATA]\n",
      "Total number of rows 24386189\n",
      "[SUCCESSFULLY SAVED CHART EVENTS DATA]\n"
     ]
    }
   ],
   "source": [
    "group_diag=False\n",
    "group_med=False\n",
    "group_proc=False\n",
    "if data_icu:\n",
    "    if diag_flag:\n",
    "        group_diag=radio_input4.value\n",
    "    if chart_flag:\n",
    "        clean_chart=radio_input5.value=='Yes'\n",
    "    preprocess_features_icu(cohort_output, diag_flag, group_diag,chart_flag,clean_chart)\n",
    "else:\n",
    "    if diag_flag:\n",
    "        group_diag=radio_input4.value\n",
    "    if med_flag:\n",
    "        group_med=radio_input5.value\n",
    "    if proc_flag:\n",
    "        group_proc=radio_input6.value\n",
    "    if lab_flag:\n",
    "        clean_lab=radio_input7.value=='Yes'\n",
    "    preprocess_features_hosp(cohort_output, diag_flag,proc_flag,med_flag,lab_flag,group_diag,group_med,group_proc,clean_lab)"
   ]
  },
  {
   "cell_type": "markdown",
   "id": "sound-brush",
   "metadata": {},
   "source": [
    "### SUMMARY OF FEATURES\n",
    "\n",
    "This step will generate summary of all features extracted so far.<br>\n",
    "It will save summary files in **./data/summary/**<br>\n",
    "- These files provide summary about **mean frequency** of medical codes per admission.<br>\n",
    "- It also provides **total occurrence count** of each medical code.<br>\n",
    "- For labs and chart events it will also provide <br>**missing %** which tells how many rows for a certain medical code has missing value.\n",
    "\n",
    "Please use this information to further refine your cohort by selecting <br>which medical codes in each feature you want to keep and <br>which codes you would like to remove for downstream analysis tasks.\n",
    "\n",
    "**Please run below cell to generate summary files**"
   ]
  },
  {
   "cell_type": "code",
   "execution_count": 7,
   "id": "thick-residence",
   "metadata": {},
   "outputs": [
    {
     "name": "stdout",
     "output_type": "stream",
     "text": [
      "[GENERATING FEATURE SUMMARY]\n",
      "[SUCCESSFULLY SAVED FEATURE SUMMARY]\n"
     ]
    }
   ],
   "source": [
    "if data_icu:\n",
    "    generate_summary_icu(diag_flag,proc_flag,med_flag,out_flag,chart_flag)\n",
    "else:\n",
    "    generate_summary_hosp(diag_flag,proc_flag,med_flag,lab_flag)"
   ]
  },
  {
   "cell_type": "markdown",
   "id": "virgin-astrology",
   "metadata": {},
   "source": [
    "## Feature Selection\n",
    "\n",
    "based on the files generated in previous step and other infromation gathered by you,<br>\n",
    "Please select which medical codes you want to include in this study.\n",
    "\n",
    "Please run below cell to to select options for which features you want to perform feature selection.\n",
    "\n",
    "- Select **Yes** if you want to select a subset of medical codes for that feature and<br> **edit** the corresponding feature file for it.\n",
    "- Select **No** if you want to keep all the codes in a feature."
   ]
  },
  {
   "cell_type": "code",
   "execution_count": 20,
   "id": "immediate-seafood",
   "metadata": {},
   "outputs": [
    {
     "name": "stdout",
     "output_type": "stream",
     "text": [
      "Do you want to do Feature Selection for Diagnosis \n",
      " (If yes, please edit list of codes in ./data/summary/diag_features.csv)\n"
     ]
    },
    {
     "data": {
      "application/vnd.jupyter.widget-view+json": {
       "model_id": "4148a9362a414811b9f74031f43df786",
       "version_major": 2,
       "version_minor": 0
      },
      "text/plain": [
       "RadioButtons(index=1, options=('Yes', 'No'), value='No')"
      ]
     },
     "metadata": {},
     "output_type": "display_data"
    },
    {
     "name": "stdout",
     "output_type": "stream",
     "text": [
      "Do you want to do Feature Selection for Medication \n",
      " (If yes, please edit list of codes in ./data/summary/med_features.csv)\n"
     ]
    },
    {
     "data": {
      "application/vnd.jupyter.widget-view+json": {
       "model_id": "f647cf28a42446b9ab15917430842b0b",
       "version_major": 2,
       "version_minor": 0
      },
      "text/plain": [
       "RadioButtons(index=1, options=('Yes', 'No'), value='No')"
      ]
     },
     "metadata": {},
     "output_type": "display_data"
    },
    {
     "name": "stdout",
     "output_type": "stream",
     "text": [
      "Do you want to do Feature Selection for Procedures \n",
      " (If yes, please edit list of codes in ./data/summary/proc_features.csv)\n"
     ]
    },
    {
     "data": {
      "application/vnd.jupyter.widget-view+json": {
       "model_id": "54ab944135304cf0a2c14e83c8acf9e1",
       "version_major": 2,
       "version_minor": 0
      },
      "text/plain": [
       "RadioButtons(index=1, options=('Yes', 'No'), value='No')"
      ]
     },
     "metadata": {},
     "output_type": "display_data"
    },
    {
     "name": "stdout",
     "output_type": "stream",
     "text": [
      "Do you want to do Feature Selection for Labs \n",
      " (If yes, please edit list of codes in ./data/summary/lab_features.csv)\n"
     ]
    },
    {
     "data": {
      "application/vnd.jupyter.widget-view+json": {
       "model_id": "efad254e724a4c4e90eb833b17bd5136",
       "version_major": 2,
       "version_minor": 0
      },
      "text/plain": [
       "RadioButtons(index=1, options=('Yes', 'No'), value='No')"
      ]
     },
     "metadata": {},
     "output_type": "display_data"
    },
    {
     "name": "stdout",
     "output_type": "stream",
     "text": [
      "**Please run below cell to perform feature selection**\n"
     ]
    }
   ],
   "source": [
    "if data_icu:\n",
    "    if diag_flag:\n",
    "        print(\"Do you want to do Feature Selection for Diagnosis \\n (If yes, please edit list of codes in ./data/summary/diag_features.csv)\")\n",
    "        radio_input4 = widgets.RadioButtons(options=['Yes','No'],value='No')\n",
    "        display(radio_input4)       \n",
    "    if med_flag:\n",
    "        print(\"Do you want to do Feature Selection for Medication \\n (If yes, please edit list of codes in ./data/summary/med_features.csv)\")\n",
    "        radio_input5 = widgets.RadioButtons(options=['Yes','No'],value='No')\n",
    "        display(radio_input5)   \n",
    "    if proc_flag:\n",
    "        print(\"Do you want to do Feature Selection for Procedures \\n (If yes, please edit list of codes in ./data/summary/proc_features.csv)\")\n",
    "        radio_input6 = widgets.RadioButtons(options=['Yes','No'],value='No')\n",
    "        display(radio_input6)   \n",
    "    if out_flag:\n",
    "        print(\"Do you want to do Feature Selection for Output event \\n (If yes, please edit list of codes in ./data/summary/out_features.csv)\")\n",
    "        radio_input7 = widgets.RadioButtons(options=['Yes','No'],value='No')\n",
    "        display(radio_input7)  \n",
    "    if chart_flag:\n",
    "        print(\"Do you want to do Feature Selection for Chart events \\n (If yes, please edit list of codes in ./data/summary/chart_features.csv)\")\n",
    "        radio_input8 = widgets.RadioButtons(options=['Yes','No'],value='No')\n",
    "        display(radio_input8)  \n",
    "else:\n",
    "    if diag_flag:\n",
    "        print(\"Do you want to do Feature Selection for Diagnosis \\n (If yes, please edit list of codes in ./data/summary/diag_features.csv)\")\n",
    "        radio_input4 = widgets.RadioButtons(options=['Yes','No'],value='No')\n",
    "        display(radio_input4)         \n",
    "    if med_flag:\n",
    "        print(\"Do you want to do Feature Selection for Medication \\n (If yes, please edit list of codes in ./data/summary/med_features.csv)\")\n",
    "        radio_input5 = widgets.RadioButtons(options=['Yes','No'],value='No')\n",
    "        display(radio_input5)   \n",
    "    if proc_flag:\n",
    "        print(\"Do you want to do Feature Selection for Procedures \\n (If yes, please edit list of codes in ./data/summary/proc_features.csv)\")\n",
    "        radio_input6 = widgets.RadioButtons(options=['Yes','No'],value='No')\n",
    "        display(radio_input6)   \n",
    "    if lab_flag:\n",
    "        print(\"Do you want to do Feature Selection for Labs \\n (If yes, please edit list of codes in ./data/summary/lab_features.csv)\")\n",
    "        radio_input7 = widgets.RadioButtons(options=['Yes','No'],value='No')\n",
    "        display(radio_input7)   \n",
    "print(\"**Please run below cell to perform feature selection**\")"
   ]
  },
  {
   "cell_type": "code",
   "execution_count": 21,
   "id": "perceived-python",
   "metadata": {},
   "outputs": [],
   "source": [
    "select_diag=False\n",
    "select_med=False\n",
    "select_proc=False\n",
    "select_lab=False\n",
    "select_out=False\n",
    "select_chart=False\n",
    "\n",
    "if data_icu:\n",
    "    if diag_flag:\n",
    "        select_diag=radio_input4.value == 'Yes'\n",
    "    if med_flag:\n",
    "        select_med=radio_input5.value == 'Yes'\n",
    "    if proc_flag:\n",
    "        select_proc=radio_input6.value == 'Yes'\n",
    "    if out_flag:\n",
    "        select_out=radio_input7.value == 'Yes'\n",
    "    if chart_flag:\n",
    "        select_chart=radio_input8.value == 'Yes'\n",
    "    features_selection_icu(cohort_output, diag_flag,proc_flag,med_flag,out_flag, chart_flag,select_diag,select_med,select_proc,select_out,select_chart)\n",
    "else:\n",
    "    if diag_flag:\n",
    "        select_diag=radio_input4.value == 'Yes'\n",
    "    if med_flag:\n",
    "        select_med=radio_input5.value == 'Yes'\n",
    "    if proc_flag:\n",
    "        select_proc=radio_input6.value == 'Yes'\n",
    "    if lab_flag:\n",
    "        select_lab=radio_input7.value == 'Yes'\n",
    "    features_selection_hosp(cohort_output, diag_flag,proc_flag,med_flag,lab_flag,select_diag,select_med,select_proc,select_lab)"
   ]
  },
  {
   "cell_type": "markdown",
   "id": "speaking-agent",
   "metadata": {},
   "source": [
    "## Time-Series Representation\n",
    "In this section, please choose how you want to process and represent time-series data.\n",
    "\n",
    "- First option is to select the length of time-series data you want to include for this study. (Default is 72 hours)\n",
    "\n",
    "- Second option is to select bucket size which tells in what size time windows you want to divide your time-series.<br>\n",
    "For example, if you select **2** bucket size, it wil aggregate data for every 2 hours and <br>a time-series of length 24 hours will be represented as time-series with 12 time-windows <br>where data for every 2 hours is agggregated from original raw time-series.\n",
    "\n",
    "During this step, we will also save the time-series data in data dictionaries in the format that can be directly used for following deep learning analysis.\n",
    "\n",
    "### Imputation\n",
    "You can also choose if you want to impute lab/chart values. The imputation will be done by froward fill and mean imputation.<br>\n",
    "Values will be forward fill first and if no value exists for that admission we will use mean value for the patient.\n",
    "\n",
    "The data dictionaries will be saved in **./data/dict/**\n",
    "\n",
    "Please refer the readme to know the structure of data dictionaries.\n",
    "\n",
    "**Please run below cell to select time-series representation**"
   ]
  },
  {
   "cell_type": "code",
   "execution_count": 95,
   "id": "mechanical-three",
   "metadata": {},
   "outputs": [
    {
     "name": "stdout",
     "output_type": "stream",
     "text": [
      "=======Time-series Data Represenation=======\n",
      "Length of data to be included for time-series prediction ?\n"
     ]
    },
    {
     "data": {
      "application/vnd.jupyter.widget-view+json": {
       "model_id": "451aa1040e2f40dd8af5d6b321f96687",
       "version_major": 2,
       "version_minor": 0
      },
      "text/plain": [
       "RadioButtons(options=('Last 72 hours', 'Last 48 hours', 'Last 24 hours', 'Custom'), value='Last 72 hours')"
      ]
     },
     "metadata": {},
     "output_type": "display_data"
    },
    {
     "data": {
      "application/vnd.jupyter.widget-view+json": {
       "model_id": "ec7aafdf7741464b8c74e31876c53d03",
       "version_major": 2,
       "version_minor": 0
      },
      "text/plain": [
       "IntText(value=72, description='Last')"
      ]
     },
     "metadata": {},
     "output_type": "display_data"
    },
    {
     "name": "stdout",
     "output_type": "stream",
     "text": [
      "What time bucket size you want to choose ?\n"
     ]
    },
    {
     "data": {
      "application/vnd.jupyter.widget-view+json": {
       "model_id": "89831a6d5bee41a0b048a6312bcf305a",
       "version_major": 2,
       "version_minor": 0
      },
      "text/plain": [
       "RadioButtons(options=('1 hour', '2 hour', '3 hour', '4 hour', '5 hour', 'Custom'), value='1 hour')"
      ]
     },
     "metadata": {},
     "output_type": "display_data"
    },
    {
     "data": {
      "application/vnd.jupyter.widget-view+json": {
       "model_id": "670df3c42d944f62b972bc59fb2b49cb",
       "version_major": 2,
       "version_minor": 0
      },
      "text/plain": [
       "IntText(value=1, description='Bucket Size (in hours):')"
      ]
     },
     "metadata": {},
     "output_type": "display_data"
    },
    {
     "name": "stdout",
     "output_type": "stream",
     "text": [
      "Do you want to forward fill nd mean impute lab/chart values to form continuous data signal?\n"
     ]
    },
    {
     "data": {
      "application/vnd.jupyter.widget-view+json": {
       "model_id": "f557414a956e447bbea4e984f3521483",
       "version_major": 2,
       "version_minor": 0
      },
      "text/plain": [
       "RadioButtons(options=('Yes', 'No'), value='Yes')"
      ]
     },
     "metadata": {},
     "output_type": "display_data"
    },
    {
     "name": "stdout",
     "output_type": "stream",
     "text": [
      "**Please run below cell to perform time-series represenation and save in data dictionaries**\n"
     ]
    }
   ],
   "source": [
    "print(\"=======Time-series Data Represenation=======\")\n",
    "\n",
    "print(\"Length of data to be included for time-series prediction ?\")\n",
    "if(data_mort):\n",
    "    radio_input8 = widgets.RadioButtons(options=['First 72 hours','First 48 hours','First 24 hours','Custom'],value='First 72 hours')\n",
    "    display(radio_input8)\n",
    "    text2=widgets.IntText(\n",
    "        value=72,\n",
    "        description='Last',\n",
    "        disabled=False\n",
    "    )\n",
    "    display(text2)\n",
    "else:\n",
    "    radio_input8 = widgets.RadioButtons(options=['Last 72 hours','Last 48 hours','Last 24 hours','Custom'],value='Last 72 hours')\n",
    "    display(radio_input8)\n",
    "    text2=widgets.IntText(\n",
    "        value=72,\n",
    "        description='Last',\n",
    "        disabled=False\n",
    "    )\n",
    "    display(text2)\n",
    "    \n",
    "print(\"What time bucket size you want to choose ?\")\n",
    "radio_input7 = widgets.RadioButtons(options=['1 hour','2 hour','3 hour','4 hour','5 hour','Custom'],value='1 hour')\n",
    "display(radio_input7)\n",
    "text1=widgets.IntText(\n",
    "    value=1,\n",
    "    description='Bucket Size (in hours):',\n",
    "    disabled=False\n",
    ")\n",
    "display(text1)\n",
    "print(\"Do you want to forward fill nd mean impute lab/chart values to form continuous data signal?\")\n",
    "radio_impute = widgets.RadioButtons(options=['Yes','No'],value='Yes')\n",
    "display(radio_impute)   \n",
    "\n",
    "radio_input6 = widgets.RadioButtons(options=['0 hours','2 hours','4 hours','6 hours'],value='0 hours')\n",
    "if(data_mort):\n",
    "    print(\"If you have choosen mortality prediction task, then what prediction window length you want to keep?\")\n",
    "    radio_input6 = widgets.RadioButtons(options=['2 hours','4 hours','6 hours','8 hours','Custom'],value='2 hours')\n",
    "    display(radio_input6)\n",
    "    text3=widgets.IntText(\n",
    "    value=2,\n",
    "    description='Prediction window (in hours)',\n",
    "    disabled=False\n",
    "    )\n",
    "    display(text3)\n",
    "print(\"**Please run below cell to perform time-series represenation and save in data dictionaries**\")"
   ]
  },
  {
   "cell_type": "code",
   "execution_count": 98,
   "id": "indie-appendix",
   "metadata": {},
   "outputs": [
    {
     "name": "stdout",
     "output_type": "stream",
     "text": [
      "[ READ COHORT ]\n",
      "[ ======READING DIAGNOSIS ]\n",
      "[ ======READING PROCEDURES ]\n",
      "[ ======READING OUT EVENTS ]\n",
      "[ ======READING MEDICATIONS ]\n",
      "[ READ ALL FEATURES ]\n"
     ]
    },
    {
     "name": "stderr",
     "output_type": "stream",
     "text": [
      "\r",
      "  0%|          | 0/36 [00:00<?, ?it/s]"
     ]
    },
    {
     "name": "stdout",
     "output_type": "stream",
     "text": [
      "[ PROCESSED TIME SERIES TO EQUAL LENGTH  ]\n"
     ]
    },
    {
     "name": "stderr",
     "output_type": "stream",
     "text": [
      "100%|██████████| 36/36 [00:01<00:00, 30.86it/s]\n"
     ]
    },
    {
     "name": "stdout",
     "output_type": "stream",
     "text": [
      "bucket 2\n",
      "[ PROCESSED TIME SERIES TO EQUAL TIME INTERVAL ]\n",
      "36\n"
     ]
    },
    {
     "name": "stderr",
     "output_type": "stream",
     "text": [
      "100%|██████████| 5118/5118 [04:21<00:00, 19.58it/s]\n"
     ]
    },
    {
     "name": "stdout",
     "output_type": "stream",
     "text": [
      "[ SUCCESSFULLY SAVED DATA DICTIONARIES ]\n"
     ]
    },
    {
     "name": "stderr",
     "output_type": "stream",
     "text": [
      "\r",
      "0it [00:00, ?it/s]"
     ]
    },
    {
     "name": "stdout",
     "output_type": "stream",
     "text": [
      "[ READ COHORT ]\n",
      "[ ======READING CHART EVENTS ]\n"
     ]
    },
    {
     "name": "stderr",
     "output_type": "stream",
     "text": [
      "5it [02:25, 29.02s/it]\n"
     ]
    },
    {
     "name": "stdout",
     "output_type": "stream",
     "text": [
      "[ READ ALL FEATURES ]\n",
      "[ PROCESSED TIME SERIES TO EQUAL LENGTH  ]\n"
     ]
    },
    {
     "name": "stderr",
     "output_type": "stream",
     "text": [
      "100%|██████████| 36/36 [00:06<00:00,  5.83it/s]\n"
     ]
    },
    {
     "name": "stdout",
     "output_type": "stream",
     "text": [
      "bucket 2\n",
      "[ PROCESSED TIME SERIES TO EQUAL TIME INTERVAL ]\n"
     ]
    },
    {
     "name": "stderr",
     "output_type": "stream",
     "text": [
      "100%|██████████| 5118/5118 [04:16<00:00, 19.99it/s]\n"
     ]
    },
    {
     "name": "stdout",
     "output_type": "stream",
     "text": [
      "[ SUCCESSFULLY SAVED DATA DICTIONARIES ]\n"
     ]
    }
   ],
   "source": [
    "if (radio_input6.value=='Custom'):\n",
    "    bucket=int(text3.value)\n",
    "else:\n",
    "    predW=int(radio_input7.value[0].strip())\n",
    "if (radio_input7.value=='Custom'):\n",
    "    bucket=int(text1.value)\n",
    "else:\n",
    "    bucket=int(radio_input7.value[0].strip())\n",
    "if (radio_input8.value=='Custom'):\n",
    "    include=int(text2.value)\n",
    "else:\n",
    "    include=int(radio_input8.value[5:8].strip())\n",
    "impute=radio_impute.value=='Yes'\n",
    "if data_icu:\n",
    "    gen=data_generation_icu.Generator(cohort_output,data_mort,diag_flag,proc_flag,out_flag,False,med_flag,impute,include,bucket,predW)\n",
    "    if chart_flag:\n",
    "        gen=data_generation_icu.Generator(cohort_output,data_mort,False,False,False,chart_flag,False,impute,include,bucket,predW)\n",
    "else:\n",
    "    gen=data_generation.Generator(cohort_output,data_mort,diag_flag,lab_flag,proc_flag,med_flag,impute,include,bucket,predW)"
   ]
  },
  {
   "cell_type": "markdown",
   "id": "intimate-township",
   "metadata": {},
   "source": [
    "## Model Building\n",
    "- Time-series LSTM and Time-series CNN which will only use time-series events like medications, charts, labs, output events to train model.\n",
    "\n",
    "- Hybrid LSTM and Hybrid CNN will use static data - diagnosis, demographic data aong with other time-series data to train model.\n",
    "\n",
    "- LSTM with Attention model will use attention layer to rank the important features and learn to predict output. It will use both static and time-series data.\n",
    "\n",
    "**Go to ./model/parameter.py and define all variables needed for model building and training**\n",
    "\n",
    "**Please run below cell to select which model to use**"
   ]
  },
  {
   "cell_type": "code",
   "execution_count": 9,
   "id": "operational-pride",
   "metadata": {},
   "outputs": [
    {
     "data": {
      "application/vnd.jupyter.widget-view+json": {
       "model_id": "9692083faeff400bbb4a56c2ae219c82",
       "version_major": 2,
       "version_minor": 0
      },
      "text/plain": [
       "RadioButtons(options=('Time-series LSTM', 'Time-series CNN', 'Hybrid LSTM', 'Hybrid CNN', 'LSTM with Attention…"
      ]
     },
     "metadata": {},
     "output_type": "display_data"
    }
   ],
   "source": [
    "radio_input7=widgets.RadioButtons(options=['Time-series LSTM','Time-series CNN','Hybrid LSTM','Hybrid CNN','LSTM with Attention'],value='Time-series LSTM')\n",
    "display(radio_input7)"
   ]
  },
  {
   "cell_type": "code",
   "execution_count": 10,
   "id": "collectible-component",
   "metadata": {
    "scrolled": true
   },
   "outputs": [
    {
     "name": "stdout",
     "output_type": "stream",
     "text": [
      "For Medications which data you want to use in prediction model?\n"
     ]
    },
    {
     "data": {
      "application/vnd.jupyter.widget-view+json": {
       "model_id": "10e71d33b512496585b9cadde9e0ee9d",
       "version_major": 2,
       "version_minor": 0
      },
      "text/plain": [
       "RadioButtons(options=('Time Signal', 'Data Signal (Dose)'), value='Time Signal')"
      ]
     },
     "metadata": {},
     "output_type": "display_data"
    },
    {
     "name": "stdout",
     "output_type": "stream",
     "text": [
      "For Lab Events which data you want to use in prediction model?\n"
     ]
    },
    {
     "data": {
      "application/vnd.jupyter.widget-view+json": {
       "model_id": "0ec1d00ee1be4ab6bd166d5a75464831",
       "version_major": 2,
       "version_minor": 0
      },
      "text/plain": [
       "RadioButtons(options=('Time Signal', 'Data Signal (Value of vitals)'), value='Time Signal')"
      ]
     },
     "metadata": {},
     "output_type": "display_data"
    },
    {
     "name": "stdout",
     "output_type": "stream",
     "text": [
      "**Please run below cell train and test model**\n"
     ]
    }
   ],
   "source": [
    "# diag_flag=False\n",
    "# out_flag=False\n",
    "# chart_flag=False\n",
    "# lab_flag=False\n",
    "# proc_flag=False\n",
    "# med_flag=False\n",
    "\n",
    "\n",
    "if data_icu:\n",
    "#     diag_flag=check_input1.value\n",
    "#     out_flag=check_input2.value\n",
    "#     chart_flag=check_input3.value\n",
    "#     proc_flag=check_input4.value\n",
    "#     med_flag=check_input5.value\n",
    "    if med_flag:\n",
    "        print(\"For Medications which data you want to use in prediction model?\")\n",
    "        radio_input10 = widgets.RadioButtons(options=['Time Signal','Data Signal (Amount of medication)'],value='Time Signal')\n",
    "        display(radio_input10)\n",
    "    if chart_flag:\n",
    "        print(\"For Chart Events which data you want to use in prediction model?\")\n",
    "        radio_input11 = widgets.RadioButtons(options=['Time Signal','Data Signal (Value of vitals)'],value='Time Signal')\n",
    "        display(radio_input11)\n",
    "    \n",
    "else:\n",
    "#     diag_flag=check_input1.value\n",
    "#     lab_flag=check_input2.value\n",
    "#     proc_flag=check_input3.value\n",
    "#     med_flag=check_input4.value\n",
    "    if med_flag:\n",
    "        print(\"For Medications which data you want to use in prediction model?\")\n",
    "        radio_input10 = widgets.RadioButtons(options=['Time Signal','Data Signal (Dose)'],value='Time Signal')\n",
    "        display(radio_input10)\n",
    "    if lab_flag:\n",
    "        print(\"For Lab Events which data you want to use in prediction model?\")\n",
    "        radio_input11 = widgets.RadioButtons(options=['Time Signal','Data Signal (Value of vitals)'],value='Time Signal')\n",
    "        display(radio_input11)\n",
    "\n",
    "print(\"**Please run below cell train and test model**\")"
   ]
  },
  {
   "cell_type": "code",
   "execution_count": 49,
   "id": "challenging-composer",
   "metadata": {
    "scrolled": false
   },
   "outputs": [
    {
     "name": "stdout",
     "output_type": "stream",
     "text": [
      "[ TRAIN-TEST-VALIDATION SET CREATED ]\n",
      "[ MODEL CREATED ]\n",
      "LSTMBase(\n",
      "  (med): CodeBase(\n",
      "    (codeEmbed): Embedding(863, 52, padding_idx=0)\n",
      "    (codeRnn): LSTM(4524, 512, batch_first=True)\n",
      "  )\n",
      "  (proc): CodeBase(\n",
      "    (codeEmbed): Embedding(3470, 52, padding_idx=0)\n",
      "    (codeRnn): LSTM(1040, 512, batch_first=True)\n",
      "  )\n",
      "  (lab): CodeBase(\n",
      "    (codeEmbed): Embedding(768, 52, padding_idx=0)\n",
      "    (codeRnn): LSTM(46072, 512, batch_first=True)\n",
      "  )\n",
      "  (fc1): Linear(in_features=1536, out_features=768, bias=False)\n",
      "  (fc2): Linear(in_features=768, out_features=1, bias=False)\n",
      ")\n",
      "[ TRAINING STARTED ]\n",
      "======= EPOCH 0.0 ========\n",
      "Cond torch.Size([100, 56])\n",
      "tensor([ 26.,  10.,  11., 105.,  10.,   2., 191.,  47.,  91.,   0.,   0.,   0.,\n",
      "          0.,   0.,   0.,   0.,   0.,   0.,   0.,   0.,   0.,   0.,   0.,   0.,\n",
      "          0.,   0.,   0.,   0.,   0.,   0.,   0.,   0.,   0.,   0.,   0.,   0.,\n",
      "          0.,   0.,   0.,   0.,   0.,   0.,   0.,   0.,   0.,   0.,   0.,   0.,\n",
      "          0.,   0.,   0.,   0.,   0.,   0.,   0.,   0.])\n",
      "Cond torch.Size([100, 56])\n",
      "tensor([ 44.,  63.,  11.,  42.,  41.,   2.,  44.,  91.,  82., 128., 125.,   3.,\n",
      "        150.,  47.,  84., 102.,   0.,   0.,   0.,   0.,   0.,   0.,   0.,   0.,\n",
      "          0.,   0.,   0.,   0.,   0.,   0.,   0.,   0.,   0.,   0.,   0.,   0.,\n",
      "          0.,   0.,   0.,   0.,   0.,   0.,   0.,   0.,   0.,   0.,   0.,   0.,\n",
      "          0.,   0.,   0.,   0.,   0.,   0.,   0.,   0.])\n"
     ]
    },
    {
     "ename": "KeyboardInterrupt",
     "evalue": "",
     "output_type": "error",
     "traceback": [
      "\u001b[1;31m---------------------------------------------------------------------------\u001b[0m",
      "\u001b[1;31mKeyboardInterrupt\u001b[0m                         Traceback (most recent call last)",
      "\u001b[1;32m<ipython-input-49-f7d871747185>\u001b[0m in \u001b[0;36m<module>\u001b[1;34m\u001b[0m\n\u001b[0;32m      2\u001b[0m     \u001b[0mmodel\u001b[0m\u001b[1;33m=\u001b[0m\u001b[0mModel_Train\u001b[0m\u001b[1;33m(\u001b[0m\u001b[0mdiag_flag\u001b[0m\u001b[1;33m,\u001b[0m\u001b[0mproc_flag\u001b[0m\u001b[1;33m,\u001b[0m\u001b[0mout_flag\u001b[0m\u001b[1;33m,\u001b[0m\u001b[0mchart_flag\u001b[0m\u001b[1;33m,\u001b[0m\u001b[0mmed_flag\u001b[0m\u001b[1;33m,\u001b[0m\u001b[1;32mFalse\u001b[0m\u001b[1;33m,\u001b[0m\u001b[0mradio_input10\u001b[0m\u001b[1;33m.\u001b[0m\u001b[0mvalue\u001b[0m\u001b[1;33m==\u001b[0m\u001b[1;34m'Time Signal'\u001b[0m\u001b[1;33m,\u001b[0m\u001b[0mradio_input11\u001b[0m\u001b[1;33m.\u001b[0m\u001b[0mvalue\u001b[0m\u001b[1;33m==\u001b[0m\u001b[1;34m'Time Signal'\u001b[0m\u001b[1;33m,\u001b[0m\u001b[0mradio_input7\u001b[0m\u001b[1;33m.\u001b[0m\u001b[0mvalue\u001b[0m\u001b[1;33m,\u001b[0m\u001b[0mmodel_name\u001b[0m\u001b[1;33m=\u001b[0m\u001b[1;34m'attn_icu_read'\u001b[0m\u001b[1;33m,\u001b[0m\u001b[0mtrain\u001b[0m\u001b[1;33m=\u001b[0m\u001b[1;32mFalse\u001b[0m\u001b[1;33m,\u001b[0m\u001b[0minit_batches\u001b[0m\u001b[1;33m=\u001b[0m\u001b[1;32mFalse\u001b[0m\u001b[1;33m)\u001b[0m\u001b[1;33m\u001b[0m\u001b[1;33m\u001b[0m\u001b[0m\n\u001b[0;32m      3\u001b[0m \u001b[1;32melse\u001b[0m\u001b[1;33m:\u001b[0m\u001b[1;33m\u001b[0m\u001b[1;33m\u001b[0m\u001b[0m\n\u001b[1;32m----> 4\u001b[1;33m     \u001b[0mmodel\u001b[0m\u001b[1;33m=\u001b[0m\u001b[0mModel_Train\u001b[0m\u001b[1;33m(\u001b[0m\u001b[0mdiag_flag\u001b[0m\u001b[1;33m,\u001b[0m\u001b[0mproc_flag\u001b[0m\u001b[1;33m,\u001b[0m\u001b[1;32mFalse\u001b[0m\u001b[1;33m,\u001b[0m\u001b[1;32mFalse\u001b[0m\u001b[1;33m,\u001b[0m\u001b[0mmed_flag\u001b[0m\u001b[1;33m,\u001b[0m\u001b[0mlab_flag\u001b[0m\u001b[1;33m,\u001b[0m\u001b[0mradio_input10\u001b[0m\u001b[1;33m.\u001b[0m\u001b[0mvalue\u001b[0m\u001b[1;33m==\u001b[0m\u001b[1;34m'Time Signal'\u001b[0m\u001b[1;33m,\u001b[0m\u001b[0mradio_input11\u001b[0m\u001b[1;33m.\u001b[0m\u001b[0mvalue\u001b[0m\u001b[1;33m==\u001b[0m\u001b[1;34m'Time Signal'\u001b[0m\u001b[1;33m,\u001b[0m\u001b[0mradio_input7\u001b[0m\u001b[1;33m.\u001b[0m\u001b[0mvalue\u001b[0m\u001b[1;33m,\u001b[0m\u001b[0mmodel_name\u001b[0m\u001b[1;33m=\u001b[0m\u001b[1;34m'test'\u001b[0m\u001b[1;33m,\u001b[0m\u001b[0mtrain\u001b[0m\u001b[1;33m=\u001b[0m\u001b[1;32mTrue\u001b[0m\u001b[1;33m,\u001b[0m\u001b[0minit_batches\u001b[0m\u001b[1;33m=\u001b[0m\u001b[1;32mFalse\u001b[0m\u001b[1;33m)\u001b[0m\u001b[1;33m\u001b[0m\u001b[1;33m\u001b[0m\u001b[0m\n\u001b[0m",
      "\u001b[1;32m~\\Desktop\\MIMIC-IV\\model\\train.py\u001b[0m in \u001b[0;36m__init__\u001b[1;34m(self, diag_flag, proc_flag, out_flag, chart_flag, med_flag, lab_flag, med_signal, lab_signal, model_type, model_name, train, init_batches)\u001b[0m\n\u001b[0;32m     86\u001b[0m         \u001b[1;32mif\u001b[0m \u001b[0mtrain\u001b[0m\u001b[1;33m:\u001b[0m\u001b[1;33m\u001b[0m\u001b[1;33m\u001b[0m\u001b[0m\n\u001b[0;32m     87\u001b[0m             \u001b[0mprint\u001b[0m\u001b[1;33m(\u001b[0m\u001b[1;34m\"[ TRAINING STARTED ]\"\u001b[0m\u001b[1;33m)\u001b[0m\u001b[1;33m\u001b[0m\u001b[1;33m\u001b[0m\u001b[0m\n\u001b[1;32m---> 88\u001b[1;33m             \u001b[0mself\u001b[0m\u001b[1;33m.\u001b[0m\u001b[0mmodel_train\u001b[0m\u001b[1;33m(\u001b[0m\u001b[1;33m)\u001b[0m\u001b[1;33m\u001b[0m\u001b[1;33m\u001b[0m\u001b[0m\n\u001b[0m\u001b[0;32m     89\u001b[0m             \u001b[0mprint\u001b[0m\u001b[1;33m(\u001b[0m\u001b[1;34m\"[ TRAINING COMPLETED ]\"\u001b[0m\u001b[1;33m)\u001b[0m\u001b[1;33m\u001b[0m\u001b[1;33m\u001b[0m\u001b[0m\n\u001b[0;32m     90\u001b[0m \u001b[1;33m\u001b[0m\u001b[0m\n",
      "\u001b[1;32m~\\Desktop\\MIMIC-IV\\model\\train.py\u001b[0m in \u001b[0;36mmodel_train\u001b[1;34m(self)\u001b[0m\n\u001b[0;32m    213\u001b[0m                         \u001b[1;31m#print(labs[0,10,0:5,:])\u001b[0m\u001b[1;33m\u001b[0m\u001b[1;33m\u001b[0m\u001b[1;33m\u001b[0m\u001b[0m\n\u001b[0;32m    214\u001b[0m                         \u001b[1;31m#print(labs[0,10,0:5,:])\u001b[0m\u001b[1;33m\u001b[0m\u001b[1;33m\u001b[0m\u001b[1;33m\u001b[0m\u001b[0m\n\u001b[1;32m--> 215\u001b[1;33m                         \u001b[0mlabs\u001b[0m\u001b[1;33m=\u001b[0m\u001b[0mlabs\u001b[0m\u001b[1;33m.\u001b[0m\u001b[0mtype\u001b[0m\u001b[1;33m(\u001b[0m\u001b[0mtorch\u001b[0m\u001b[1;33m.\u001b[0m\u001b[0mLongTensor\u001b[0m\u001b[1;33m)\u001b[0m\u001b[1;33m\u001b[0m\u001b[1;33m\u001b[0m\u001b[0m\n\u001b[0m\u001b[0;32m    216\u001b[0m \u001b[1;33m\u001b[0m\u001b[0m\n\u001b[0;32m    217\u001b[0m                     \u001b[0mdemo\u001b[0m\u001b[1;33m=\u001b[0m\u001b[0mtorch\u001b[0m\u001b[1;33m.\u001b[0m\u001b[0mtensor\u001b[0m\u001b[1;33m(\u001b[0m\u001b[0mdemo\u001b[0m\u001b[1;33m)\u001b[0m\u001b[1;33m\u001b[0m\u001b[1;33m\u001b[0m\u001b[0m\n",
      "\u001b[1;31mKeyboardInterrupt\u001b[0m: "
     ]
    }
   ],
   "source": [
    "if data_icu:\n",
    "    model=Model_Train(diag_flag,proc_flag,out_flag,chart_flag,med_flag,False,radio_input10.value=='Time Signal',radio_input11.value=='Time Signal',radio_input7.value,model_name='attn_icu_read',train=False,init_batches=False)\n",
    "else:\n",
    "    model=Model_Train(diag_flag,proc_flag,False,False,med_flag,lab_flag,radio_input10.value=='Time Signal',radio_input11.value=='Time Signal',radio_input7.value,model_name='test',train=True,init_batches=False)"
   ]
  },
  {
   "cell_type": "markdown",
   "id": "lucky-parish",
   "metadata": {},
   "source": [
    "### EVALUATION AS STANDALONE MODULE\n",
    "Below cell shows an exaple of how evaluation module can be used as a standalone module.\n",
    "\n",
    "evaluation.Loss class can be instantiated and model output and ground truth can be passed to it to obtain results.\n",
    "\n",
    "In the example below we captured model output and ground truth in a file and used that file to read the data.\n",
    "\n",
    "In function definition ***loss(prob,truth,logits,False)***\n",
    "\n",
    "prob -> List of Output predicted probabilities of case being positive\n",
    "\n",
    "truth -> List of ground truth labels\n",
    "\n",
    "logits -> List of logits obtained from last fully connected layer before applying softmax.sigmoid function in the model."
   ]
  },
  {
   "cell_type": "code",
   "execution_count": 9,
   "id": "streaming-integration",
   "metadata": {},
   "outputs": [
    {
     "name": "stdout",
     "output_type": "stream",
     "text": [
      "======= TESTING ========\n",
      "BCE Loss: 0.15\n",
      "AU-ROC: 0.84\n",
      "AU-PRC: 0.22\n",
      "AU-PRC Baaseline: 0.04\n",
      "Accuracy: 0.95\n",
      "Precision: 0.35\n",
      "Recall: 0.07\n",
      "Specificity: 0.99\n",
      "NPV: 0.96\n",
      "ECE: 0.01\n",
      "MCE: 0.90\n"
     ]
    },
    {
     "data": {
      "image/png": "[encoded data removed]",
      "text/plain": [
       "<Figure size 576x432 with 1 Axes>"
      ]
     },
     "metadata": {
      "needs_background": "light"
     },
     "output_type": "display_data"
    },
    {
     "data": {
      "image/png": "[encoded data removed]",
      "text/plain": [
       "<Figure size 576x576 with 1 Axes>"
      ]
     },
     "metadata": {
      "needs_background": "light"
     },
     "output_type": "display_data"
    }
   ],
   "source": [
    "if torch.cuda.is_available():\n",
    "    device='cuda:0'\n",
    "#device='cpu'\n",
    "loss=evaluation.Loss(device,acc=True,ppv=True,sensi=True,tnr=True,npv=True,auroc=True,aurocPlot=True,auprc=True,auprcPlot=True,callb=True,callbPlot=True)\n",
    "with open(\"./data/output/outputDict\", 'rb') as fp:\n",
    "    outputDict=pickle.load(fp)\n",
    "prob=list(outputDict['Prob'])\n",
    "truth=list(outputDict['Labels'])\n",
    "logits=list(outputDict['Logits'])\n",
    "#print(torch.tensor(prob))\n",
    "print(\"======= TESTING ========\")\n",
    "loss(prob,truth,logits,train=False,standalone=True)\n"
   ]
  },
  {
   "cell_type": "markdown",
   "id": "mounted-testing",
   "metadata": {},
   "source": [
    "### FAIRNESS EVALUATION\n",
    "In train and testing step we save output files in **./data/output/** folder.\n",
    "\n",
    "This file conatins list of demographic variables included in training and testing of the model.\n",
    "\n",
    "It also contains the ground truth labels and predicted probability for each sample.\n",
    "\n",
    "We use the above saved data to perform fairness evaluation of the results obtained from model testing.\n",
    "\n",
    "This module can be used as stand-alone module also.\n",
    "\n",
    "Please create a file that contains predicted probabilites form the last sigmoid layer in column named **Prob** and\n",
    "ground truth labels for each sample in column named **Labels**."
   ]
  },
  {
   "cell_type": "code",
   "execution_count": 13,
   "id": "civilian-direction",
   "metadata": {},
   "outputs": [
    {
     "data": {
      "text/html": [
       "<style  type=\"text/css\" >\n",
       "    #T_464276ca_bc23_11ec_b7a2_0c96e676e184row0_col0 {\n",
       "            background-color:  yellow;\n",
       "        }    #T_464276ca_bc23_11ec_b7a2_0c96e676e184row0_col1 {\n",
       "            background-color:  yellow;\n",
       "        }    #T_464276ca_bc23_11ec_b7a2_0c96e676e184row0_col2 {\n",
       "            background-color:  yellow;\n",
       "        }    #T_464276ca_bc23_11ec_b7a2_0c96e676e184row0_col3 {\n",
       "            background-color:  yellow;\n",
       "        }    #T_464276ca_bc23_11ec_b7a2_0c96e676e184row0_col4 {\n",
       "            background-color:  yellow;\n",
       "        }    #T_464276ca_bc23_11ec_b7a2_0c96e676e184row0_col5 {\n",
       "            background-color:  yellow;\n",
       "        }    #T_464276ca_bc23_11ec_b7a2_0c96e676e184row0_col6 {\n",
       "            background-color:  yellow;\n",
       "        }    #T_464276ca_bc23_11ec_b7a2_0c96e676e184row0_col7 {\n",
       "            background-color:  yellow;\n",
       "        }    #T_464276ca_bc23_11ec_b7a2_0c96e676e184row0_col8 {\n",
       "            background-color:  yellow;\n",
       "        }    #T_464276ca_bc23_11ec_b7a2_0c96e676e184row0_col9 {\n",
       "            background-color:  yellow;\n",
       "        }    #T_464276ca_bc23_11ec_b7a2_0c96e676e184row0_col10 {\n",
       "            background-color:  yellow;\n",
       "        }    #T_464276ca_bc23_11ec_b7a2_0c96e676e184row0_col11 {\n",
       "            background-color:  yellow;\n",
       "        }    #T_464276ca_bc23_11ec_b7a2_0c96e676e184row0_col12 {\n",
       "            background-color:  yellow;\n",
       "        }    #T_464276ca_bc23_11ec_b7a2_0c96e676e184row1_col0 {\n",
       "            background-color:  yellow;\n",
       "        }    #T_464276ca_bc23_11ec_b7a2_0c96e676e184row1_col1 {\n",
       "            background-color:  yellow;\n",
       "        }    #T_464276ca_bc23_11ec_b7a2_0c96e676e184row1_col2 {\n",
       "            background-color:  yellow;\n",
       "        }    #T_464276ca_bc23_11ec_b7a2_0c96e676e184row1_col3 {\n",
       "            background-color:  yellow;\n",
       "        }    #T_464276ca_bc23_11ec_b7a2_0c96e676e184row1_col4 {\n",
       "            background-color:  yellow;\n",
       "        }    #T_464276ca_bc23_11ec_b7a2_0c96e676e184row1_col5 {\n",
       "            background-color:  yellow;\n",
       "        }    #T_464276ca_bc23_11ec_b7a2_0c96e676e184row1_col6 {\n",
       "            background-color:  yellow;\n",
       "        }    #T_464276ca_bc23_11ec_b7a2_0c96e676e184row1_col7 {\n",
       "            background-color:  yellow;\n",
       "        }    #T_464276ca_bc23_11ec_b7a2_0c96e676e184row1_col8 {\n",
       "            background-color:  yellow;\n",
       "        }    #T_464276ca_bc23_11ec_b7a2_0c96e676e184row1_col9 {\n",
       "            background-color:  yellow;\n",
       "        }    #T_464276ca_bc23_11ec_b7a2_0c96e676e184row1_col10 {\n",
       "            background-color:  yellow;\n",
       "        }    #T_464276ca_bc23_11ec_b7a2_0c96e676e184row1_col11 {\n",
       "            background-color:  yellow;\n",
       "        }    #T_464276ca_bc23_11ec_b7a2_0c96e676e184row1_col12 {\n",
       "            background-color:  yellow;\n",
       "        }    #T_464276ca_bc23_11ec_b7a2_0c96e676e184row2_col0 {\n",
       "            background-color:  yellow;\n",
       "        }    #T_464276ca_bc23_11ec_b7a2_0c96e676e184row2_col1 {\n",
       "            background-color:  yellow;\n",
       "        }    #T_464276ca_bc23_11ec_b7a2_0c96e676e184row2_col2 {\n",
       "            background-color:  yellow;\n",
       "        }    #T_464276ca_bc23_11ec_b7a2_0c96e676e184row2_col3 {\n",
       "            background-color:  yellow;\n",
       "        }    #T_464276ca_bc23_11ec_b7a2_0c96e676e184row2_col4 {\n",
       "            background-color:  yellow;\n",
       "        }    #T_464276ca_bc23_11ec_b7a2_0c96e676e184row2_col5 {\n",
       "            background-color:  yellow;\n",
       "        }    #T_464276ca_bc23_11ec_b7a2_0c96e676e184row2_col6 {\n",
       "            background-color:  yellow;\n",
       "        }    #T_464276ca_bc23_11ec_b7a2_0c96e676e184row2_col7 {\n",
       "            background-color:  yellow;\n",
       "        }    #T_464276ca_bc23_11ec_b7a2_0c96e676e184row2_col8 {\n",
       "            background-color:  yellow;\n",
       "        }    #T_464276ca_bc23_11ec_b7a2_0c96e676e184row2_col9 {\n",
       "            background-color:  yellow;\n",
       "        }    #T_464276ca_bc23_11ec_b7a2_0c96e676e184row2_col10 {\n",
       "            background-color:  yellow;\n",
       "        }    #T_464276ca_bc23_11ec_b7a2_0c96e676e184row2_col11 {\n",
       "            background-color:  yellow;\n",
       "        }    #T_464276ca_bc23_11ec_b7a2_0c96e676e184row2_col12 {\n",
       "            background-color:  yellow;\n",
       "        }    #T_464276ca_bc23_11ec_b7a2_0c96e676e184row3_col0 {\n",
       "            background-color:  yellow;\n",
       "        }    #T_464276ca_bc23_11ec_b7a2_0c96e676e184row3_col1 {\n",
       "            background-color:  yellow;\n",
       "        }    #T_464276ca_bc23_11ec_b7a2_0c96e676e184row3_col2 {\n",
       "            background-color:  yellow;\n",
       "        }    #T_464276ca_bc23_11ec_b7a2_0c96e676e184row3_col3 {\n",
       "            background-color:  yellow;\n",
       "        }    #T_464276ca_bc23_11ec_b7a2_0c96e676e184row3_col4 {\n",
       "            background-color:  yellow;\n",
       "        }    #T_464276ca_bc23_11ec_b7a2_0c96e676e184row3_col5 {\n",
       "            background-color:  yellow;\n",
       "        }    #T_464276ca_bc23_11ec_b7a2_0c96e676e184row3_col6 {\n",
       "            background-color:  yellow;\n",
       "        }    #T_464276ca_bc23_11ec_b7a2_0c96e676e184row3_col7 {\n",
       "            background-color:  yellow;\n",
       "        }    #T_464276ca_bc23_11ec_b7a2_0c96e676e184row3_col8 {\n",
       "            background-color:  yellow;\n",
       "        }    #T_464276ca_bc23_11ec_b7a2_0c96e676e184row3_col9 {\n",
       "            background-color:  yellow;\n",
       "        }    #T_464276ca_bc23_11ec_b7a2_0c96e676e184row3_col10 {\n",
       "            background-color:  yellow;\n",
       "        }    #T_464276ca_bc23_11ec_b7a2_0c96e676e184row3_col11 {\n",
       "            background-color:  yellow;\n",
       "        }    #T_464276ca_bc23_11ec_b7a2_0c96e676e184row3_col12 {\n",
       "            background-color:  yellow;\n",
       "        }    #T_464276ca_bc23_11ec_b7a2_0c96e676e184row4_col0 {\n",
       "            background-color:  yellow;\n",
       "        }    #T_464276ca_bc23_11ec_b7a2_0c96e676e184row4_col1 {\n",
       "            background-color:  yellow;\n",
       "        }    #T_464276ca_bc23_11ec_b7a2_0c96e676e184row4_col2 {\n",
       "            background-color:  yellow;\n",
       "        }    #T_464276ca_bc23_11ec_b7a2_0c96e676e184row4_col3 {\n",
       "            background-color:  yellow;\n",
       "        }    #T_464276ca_bc23_11ec_b7a2_0c96e676e184row4_col4 {\n",
       "            background-color:  yellow;\n",
       "        }    #T_464276ca_bc23_11ec_b7a2_0c96e676e184row4_col5 {\n",
       "            background-color:  yellow;\n",
       "        }    #T_464276ca_bc23_11ec_b7a2_0c96e676e184row4_col6 {\n",
       "            background-color:  yellow;\n",
       "        }    #T_464276ca_bc23_11ec_b7a2_0c96e676e184row4_col7 {\n",
       "            background-color:  yellow;\n",
       "        }    #T_464276ca_bc23_11ec_b7a2_0c96e676e184row4_col8 {\n",
       "            background-color:  yellow;\n",
       "        }    #T_464276ca_bc23_11ec_b7a2_0c96e676e184row4_col9 {\n",
       "            background-color:  yellow;\n",
       "        }    #T_464276ca_bc23_11ec_b7a2_0c96e676e184row4_col10 {\n",
       "            background-color:  yellow;\n",
       "        }    #T_464276ca_bc23_11ec_b7a2_0c96e676e184row4_col11 {\n",
       "            background-color:  yellow;\n",
       "        }    #T_464276ca_bc23_11ec_b7a2_0c96e676e184row4_col12 {\n",
       "            background-color:  yellow;\n",
       "        }    #T_464276ca_bc23_11ec_b7a2_0c96e676e184row5_col0 {\n",
       "            background-color:  yellow;\n",
       "        }    #T_464276ca_bc23_11ec_b7a2_0c96e676e184row5_col1 {\n",
       "            background-color:  yellow;\n",
       "        }    #T_464276ca_bc23_11ec_b7a2_0c96e676e184row5_col2 {\n",
       "            background-color:  yellow;\n",
       "        }    #T_464276ca_bc23_11ec_b7a2_0c96e676e184row5_col3 {\n",
       "            background-color:  yellow;\n",
       "        }    #T_464276ca_bc23_11ec_b7a2_0c96e676e184row5_col4 {\n",
       "            background-color:  yellow;\n",
       "        }    #T_464276ca_bc23_11ec_b7a2_0c96e676e184row5_col5 {\n",
       "            background-color:  yellow;\n",
       "        }    #T_464276ca_bc23_11ec_b7a2_0c96e676e184row5_col6 {\n",
       "            background-color:  yellow;\n",
       "        }    #T_464276ca_bc23_11ec_b7a2_0c96e676e184row5_col7 {\n",
       "            background-color:  yellow;\n",
       "        }    #T_464276ca_bc23_11ec_b7a2_0c96e676e184row5_col8 {\n",
       "            background-color:  yellow;\n",
       "        }    #T_464276ca_bc23_11ec_b7a2_0c96e676e184row5_col9 {\n",
       "            background-color:  yellow;\n",
       "        }    #T_464276ca_bc23_11ec_b7a2_0c96e676e184row5_col10 {\n",
       "            background-color:  yellow;\n",
       "        }    #T_464276ca_bc23_11ec_b7a2_0c96e676e184row5_col11 {\n",
       "            background-color:  yellow;\n",
       "        }    #T_464276ca_bc23_11ec_b7a2_0c96e676e184row5_col12 {\n",
       "            background-color:  yellow;\n",
       "        }    #T_464276ca_bc23_11ec_b7a2_0c96e676e184row6_col0 {\n",
       "            background-color:  yellow;\n",
       "        }    #T_464276ca_bc23_11ec_b7a2_0c96e676e184row6_col1 {\n",
       "            background-color:  yellow;\n",
       "        }    #T_464276ca_bc23_11ec_b7a2_0c96e676e184row6_col2 {\n",
       "            background-color:  yellow;\n",
       "        }    #T_464276ca_bc23_11ec_b7a2_0c96e676e184row6_col3 {\n",
       "            background-color:  yellow;\n",
       "        }    #T_464276ca_bc23_11ec_b7a2_0c96e676e184row6_col4 {\n",
       "            background-color:  yellow;\n",
       "        }    #T_464276ca_bc23_11ec_b7a2_0c96e676e184row6_col5 {\n",
       "            background-color:  yellow;\n",
       "        }    #T_464276ca_bc23_11ec_b7a2_0c96e676e184row6_col6 {\n",
       "            background-color:  yellow;\n",
       "        }    #T_464276ca_bc23_11ec_b7a2_0c96e676e184row6_col7 {\n",
       "            background-color:  yellow;\n",
       "        }    #T_464276ca_bc23_11ec_b7a2_0c96e676e184row6_col8 {\n",
       "            background-color:  yellow;\n",
       "        }    #T_464276ca_bc23_11ec_b7a2_0c96e676e184row6_col9 {\n",
       "            background-color:  yellow;\n",
       "        }    #T_464276ca_bc23_11ec_b7a2_0c96e676e184row6_col10 {\n",
       "            background-color:  yellow;\n",
       "        }    #T_464276ca_bc23_11ec_b7a2_0c96e676e184row6_col11 {\n",
       "            background-color:  yellow;\n",
       "        }    #T_464276ca_bc23_11ec_b7a2_0c96e676e184row6_col12 {\n",
       "            background-color:  yellow;\n",
       "        }    #T_464276ca_bc23_11ec_b7a2_0c96e676e184row7_col0 {\n",
       "            background-color:  yellow;\n",
       "        }    #T_464276ca_bc23_11ec_b7a2_0c96e676e184row7_col1 {\n",
       "            background-color:  yellow;\n",
       "        }    #T_464276ca_bc23_11ec_b7a2_0c96e676e184row7_col2 {\n",
       "            background-color:  yellow;\n",
       "        }    #T_464276ca_bc23_11ec_b7a2_0c96e676e184row7_col3 {\n",
       "            background-color:  yellow;\n",
       "        }    #T_464276ca_bc23_11ec_b7a2_0c96e676e184row7_col4 {\n",
       "            background-color:  yellow;\n",
       "        }    #T_464276ca_bc23_11ec_b7a2_0c96e676e184row7_col5 {\n",
       "            background-color:  yellow;\n",
       "        }    #T_464276ca_bc23_11ec_b7a2_0c96e676e184row7_col6 {\n",
       "            background-color:  yellow;\n",
       "        }    #T_464276ca_bc23_11ec_b7a2_0c96e676e184row7_col7 {\n",
       "            background-color:  yellow;\n",
       "        }    #T_464276ca_bc23_11ec_b7a2_0c96e676e184row7_col8 {\n",
       "            background-color:  yellow;\n",
       "        }    #T_464276ca_bc23_11ec_b7a2_0c96e676e184row7_col9 {\n",
       "            background-color:  yellow;\n",
       "        }    #T_464276ca_bc23_11ec_b7a2_0c96e676e184row7_col10 {\n",
       "            background-color:  yellow;\n",
       "        }    #T_464276ca_bc23_11ec_b7a2_0c96e676e184row7_col11 {\n",
       "            background-color:  yellow;\n",
       "        }    #T_464276ca_bc23_11ec_b7a2_0c96e676e184row7_col12 {\n",
       "            background-color:  yellow;\n",
       "        }    #T_464276ca_bc23_11ec_b7a2_0c96e676e184row8_col0 {\n",
       "            background-color:  green;\n",
       "        }    #T_464276ca_bc23_11ec_b7a2_0c96e676e184row8_col1 {\n",
       "            background-color:  green;\n",
       "        }    #T_464276ca_bc23_11ec_b7a2_0c96e676e184row8_col2 {\n",
       "            background-color:  green;\n",
       "        }    #T_464276ca_bc23_11ec_b7a2_0c96e676e184row8_col3 {\n",
       "            background-color:  green;\n",
       "        }    #T_464276ca_bc23_11ec_b7a2_0c96e676e184row8_col4 {\n",
       "            background-color:  green;\n",
       "        }    #T_464276ca_bc23_11ec_b7a2_0c96e676e184row8_col5 {\n",
       "            background-color:  green;\n",
       "        }    #T_464276ca_bc23_11ec_b7a2_0c96e676e184row8_col6 {\n",
       "            background-color:  green;\n",
       "        }    #T_464276ca_bc23_11ec_b7a2_0c96e676e184row8_col7 {\n",
       "            background-color:  green;\n",
       "        }    #T_464276ca_bc23_11ec_b7a2_0c96e676e184row8_col8 {\n",
       "            background-color:  green;\n",
       "        }    #T_464276ca_bc23_11ec_b7a2_0c96e676e184row8_col9 {\n",
       "            background-color:  green;\n",
       "        }    #T_464276ca_bc23_11ec_b7a2_0c96e676e184row8_col10 {\n",
       "            background-color:  green;\n",
       "        }    #T_464276ca_bc23_11ec_b7a2_0c96e676e184row8_col11 {\n",
       "            background-color:  green;\n",
       "        }    #T_464276ca_bc23_11ec_b7a2_0c96e676e184row8_col12 {\n",
       "            background-color:  green;\n",
       "        }    #T_464276ca_bc23_11ec_b7a2_0c96e676e184row9_col0 {\n",
       "            background-color:  green;\n",
       "        }    #T_464276ca_bc23_11ec_b7a2_0c96e676e184row9_col1 {\n",
       "            background-color:  green;\n",
       "        }    #T_464276ca_bc23_11ec_b7a2_0c96e676e184row9_col2 {\n",
       "            background-color:  green;\n",
       "        }    #T_464276ca_bc23_11ec_b7a2_0c96e676e184row9_col3 {\n",
       "            background-color:  green;\n",
       "        }    #T_464276ca_bc23_11ec_b7a2_0c96e676e184row9_col4 {\n",
       "            background-color:  green;\n",
       "        }    #T_464276ca_bc23_11ec_b7a2_0c96e676e184row9_col5 {\n",
       "            background-color:  green;\n",
       "        }    #T_464276ca_bc23_11ec_b7a2_0c96e676e184row9_col6 {\n",
       "            background-color:  green;\n",
       "        }    #T_464276ca_bc23_11ec_b7a2_0c96e676e184row9_col7 {\n",
       "            background-color:  green;\n",
       "        }    #T_464276ca_bc23_11ec_b7a2_0c96e676e184row9_col8 {\n",
       "            background-color:  green;\n",
       "        }    #T_464276ca_bc23_11ec_b7a2_0c96e676e184row9_col9 {\n",
       "            background-color:  green;\n",
       "        }    #T_464276ca_bc23_11ec_b7a2_0c96e676e184row9_col10 {\n",
       "            background-color:  green;\n",
       "        }    #T_464276ca_bc23_11ec_b7a2_0c96e676e184row9_col11 {\n",
       "            background-color:  green;\n",
       "        }    #T_464276ca_bc23_11ec_b7a2_0c96e676e184row9_col12 {\n",
       "            background-color:  green;\n",
       "        }    #T_464276ca_bc23_11ec_b7a2_0c96e676e184row10_col0 {\n",
       "            background-color:  red;\n",
       "        }    #T_464276ca_bc23_11ec_b7a2_0c96e676e184row10_col1 {\n",
       "            background-color:  red;\n",
       "        }    #T_464276ca_bc23_11ec_b7a2_0c96e676e184row10_col2 {\n",
       "            background-color:  red;\n",
       "        }    #T_464276ca_bc23_11ec_b7a2_0c96e676e184row10_col3 {\n",
       "            background-color:  red;\n",
       "        }    #T_464276ca_bc23_11ec_b7a2_0c96e676e184row10_col4 {\n",
       "            background-color:  red;\n",
       "        }    #T_464276ca_bc23_11ec_b7a2_0c96e676e184row10_col5 {\n",
       "            background-color:  red;\n",
       "        }    #T_464276ca_bc23_11ec_b7a2_0c96e676e184row10_col6 {\n",
       "            background-color:  red;\n",
       "        }    #T_464276ca_bc23_11ec_b7a2_0c96e676e184row10_col7 {\n",
       "            background-color:  red;\n",
       "        }    #T_464276ca_bc23_11ec_b7a2_0c96e676e184row10_col8 {\n",
       "            background-color:  red;\n",
       "        }    #T_464276ca_bc23_11ec_b7a2_0c96e676e184row10_col9 {\n",
       "            background-color:  red;\n",
       "        }    #T_464276ca_bc23_11ec_b7a2_0c96e676e184row10_col10 {\n",
       "            background-color:  red;\n",
       "        }    #T_464276ca_bc23_11ec_b7a2_0c96e676e184row10_col11 {\n",
       "            background-color:  red;\n",
       "        }    #T_464276ca_bc23_11ec_b7a2_0c96e676e184row10_col12 {\n",
       "            background-color:  red;\n",
       "        }    #T_464276ca_bc23_11ec_b7a2_0c96e676e184row11_col0 {\n",
       "            background-color:  red;\n",
       "        }    #T_464276ca_bc23_11ec_b7a2_0c96e676e184row11_col1 {\n",
       "            background-color:  red;\n",
       "        }    #T_464276ca_bc23_11ec_b7a2_0c96e676e184row11_col2 {\n",
       "            background-color:  red;\n",
       "        }    #T_464276ca_bc23_11ec_b7a2_0c96e676e184row11_col3 {\n",
       "            background-color:  red;\n",
       "        }    #T_464276ca_bc23_11ec_b7a2_0c96e676e184row11_col4 {\n",
       "            background-color:  red;\n",
       "        }    #T_464276ca_bc23_11ec_b7a2_0c96e676e184row11_col5 {\n",
       "            background-color:  red;\n",
       "        }    #T_464276ca_bc23_11ec_b7a2_0c96e676e184row11_col6 {\n",
       "            background-color:  red;\n",
       "        }    #T_464276ca_bc23_11ec_b7a2_0c96e676e184row11_col7 {\n",
       "            background-color:  red;\n",
       "        }    #T_464276ca_bc23_11ec_b7a2_0c96e676e184row11_col8 {\n",
       "            background-color:  red;\n",
       "        }    #T_464276ca_bc23_11ec_b7a2_0c96e676e184row11_col9 {\n",
       "            background-color:  red;\n",
       "        }    #T_464276ca_bc23_11ec_b7a2_0c96e676e184row11_col10 {\n",
       "            background-color:  red;\n",
       "        }    #T_464276ca_bc23_11ec_b7a2_0c96e676e184row11_col11 {\n",
       "            background-color:  red;\n",
       "        }    #T_464276ca_bc23_11ec_b7a2_0c96e676e184row11_col12 {\n",
       "            background-color:  red;\n",
       "        }    #T_464276ca_bc23_11ec_b7a2_0c96e676e184row12_col0 {\n",
       "            background-color:  red;\n",
       "        }    #T_464276ca_bc23_11ec_b7a2_0c96e676e184row12_col1 {\n",
       "            background-color:  red;\n",
       "        }    #T_464276ca_bc23_11ec_b7a2_0c96e676e184row12_col2 {\n",
       "            background-color:  red;\n",
       "        }    #T_464276ca_bc23_11ec_b7a2_0c96e676e184row12_col3 {\n",
       "            background-color:  red;\n",
       "        }    #T_464276ca_bc23_11ec_b7a2_0c96e676e184row12_col4 {\n",
       "            background-color:  red;\n",
       "        }    #T_464276ca_bc23_11ec_b7a2_0c96e676e184row12_col5 {\n",
       "            background-color:  red;\n",
       "        }    #T_464276ca_bc23_11ec_b7a2_0c96e676e184row12_col6 {\n",
       "            background-color:  red;\n",
       "        }    #T_464276ca_bc23_11ec_b7a2_0c96e676e184row12_col7 {\n",
       "            background-color:  red;\n",
       "        }    #T_464276ca_bc23_11ec_b7a2_0c96e676e184row12_col8 {\n",
       "            background-color:  red;\n",
       "        }    #T_464276ca_bc23_11ec_b7a2_0c96e676e184row12_col9 {\n",
       "            background-color:  red;\n",
       "        }    #T_464276ca_bc23_11ec_b7a2_0c96e676e184row12_col10 {\n",
       "            background-color:  red;\n",
       "        }    #T_464276ca_bc23_11ec_b7a2_0c96e676e184row12_col11 {\n",
       "            background-color:  red;\n",
       "        }    #T_464276ca_bc23_11ec_b7a2_0c96e676e184row12_col12 {\n",
       "            background-color:  red;\n",
       "        }    #T_464276ca_bc23_11ec_b7a2_0c96e676e184row13_col0 {\n",
       "            background-color:  red;\n",
       "        }    #T_464276ca_bc23_11ec_b7a2_0c96e676e184row13_col1 {\n",
       "            background-color:  red;\n",
       "        }    #T_464276ca_bc23_11ec_b7a2_0c96e676e184row13_col2 {\n",
       "            background-color:  red;\n",
       "        }    #T_464276ca_bc23_11ec_b7a2_0c96e676e184row13_col3 {\n",
       "            background-color:  red;\n",
       "        }    #T_464276ca_bc23_11ec_b7a2_0c96e676e184row13_col4 {\n",
       "            background-color:  red;\n",
       "        }    #T_464276ca_bc23_11ec_b7a2_0c96e676e184row13_col5 {\n",
       "            background-color:  red;\n",
       "        }    #T_464276ca_bc23_11ec_b7a2_0c96e676e184row13_col6 {\n",
       "            background-color:  red;\n",
       "        }    #T_464276ca_bc23_11ec_b7a2_0c96e676e184row13_col7 {\n",
       "            background-color:  red;\n",
       "        }    #T_464276ca_bc23_11ec_b7a2_0c96e676e184row13_col8 {\n",
       "            background-color:  red;\n",
       "        }    #T_464276ca_bc23_11ec_b7a2_0c96e676e184row13_col9 {\n",
       "            background-color:  red;\n",
       "        }    #T_464276ca_bc23_11ec_b7a2_0c96e676e184row13_col10 {\n",
       "            background-color:  red;\n",
       "        }    #T_464276ca_bc23_11ec_b7a2_0c96e676e184row13_col11 {\n",
       "            background-color:  red;\n",
       "        }    #T_464276ca_bc23_11ec_b7a2_0c96e676e184row13_col12 {\n",
       "            background-color:  red;\n",
       "        }    #T_464276ca_bc23_11ec_b7a2_0c96e676e184row14_col0 {\n",
       "            background-color:  red;\n",
       "        }    #T_464276ca_bc23_11ec_b7a2_0c96e676e184row14_col1 {\n",
       "            background-color:  red;\n",
       "        }    #T_464276ca_bc23_11ec_b7a2_0c96e676e184row14_col2 {\n",
       "            background-color:  red;\n",
       "        }    #T_464276ca_bc23_11ec_b7a2_0c96e676e184row14_col3 {\n",
       "            background-color:  red;\n",
       "        }    #T_464276ca_bc23_11ec_b7a2_0c96e676e184row14_col4 {\n",
       "            background-color:  red;\n",
       "        }    #T_464276ca_bc23_11ec_b7a2_0c96e676e184row14_col5 {\n",
       "            background-color:  red;\n",
       "        }    #T_464276ca_bc23_11ec_b7a2_0c96e676e184row14_col6 {\n",
       "            background-color:  red;\n",
       "        }    #T_464276ca_bc23_11ec_b7a2_0c96e676e184row14_col7 {\n",
       "            background-color:  red;\n",
       "        }    #T_464276ca_bc23_11ec_b7a2_0c96e676e184row14_col8 {\n",
       "            background-color:  red;\n",
       "        }    #T_464276ca_bc23_11ec_b7a2_0c96e676e184row14_col9 {\n",
       "            background-color:  red;\n",
       "        }    #T_464276ca_bc23_11ec_b7a2_0c96e676e184row14_col10 {\n",
       "            background-color:  red;\n",
       "        }    #T_464276ca_bc23_11ec_b7a2_0c96e676e184row14_col11 {\n",
       "            background-color:  red;\n",
       "        }    #T_464276ca_bc23_11ec_b7a2_0c96e676e184row14_col12 {\n",
       "            background-color:  red;\n",
       "        }    #T_464276ca_bc23_11ec_b7a2_0c96e676e184row15_col0 {\n",
       "            background-color:  red;\n",
       "        }    #T_464276ca_bc23_11ec_b7a2_0c96e676e184row15_col1 {\n",
       "            background-color:  red;\n",
       "        }    #T_464276ca_bc23_11ec_b7a2_0c96e676e184row15_col2 {\n",
       "            background-color:  red;\n",
       "        }    #T_464276ca_bc23_11ec_b7a2_0c96e676e184row15_col3 {\n",
       "            background-color:  red;\n",
       "        }    #T_464276ca_bc23_11ec_b7a2_0c96e676e184row15_col4 {\n",
       "            background-color:  red;\n",
       "        }    #T_464276ca_bc23_11ec_b7a2_0c96e676e184row15_col5 {\n",
       "            background-color:  red;\n",
       "        }    #T_464276ca_bc23_11ec_b7a2_0c96e676e184row15_col6 {\n",
       "            background-color:  red;\n",
       "        }    #T_464276ca_bc23_11ec_b7a2_0c96e676e184row15_col7 {\n",
       "            background-color:  red;\n",
       "        }    #T_464276ca_bc23_11ec_b7a2_0c96e676e184row15_col8 {\n",
       "            background-color:  red;\n",
       "        }    #T_464276ca_bc23_11ec_b7a2_0c96e676e184row15_col9 {\n",
       "            background-color:  red;\n",
       "        }    #T_464276ca_bc23_11ec_b7a2_0c96e676e184row15_col10 {\n",
       "            background-color:  red;\n",
       "        }    #T_464276ca_bc23_11ec_b7a2_0c96e676e184row15_col11 {\n",
       "            background-color:  red;\n",
       "        }    #T_464276ca_bc23_11ec_b7a2_0c96e676e184row15_col12 {\n",
       "            background-color:  red;\n",
       "        }    #T_464276ca_bc23_11ec_b7a2_0c96e676e184row16_col0 {\n",
       "            background-color:  red;\n",
       "        }    #T_464276ca_bc23_11ec_b7a2_0c96e676e184row16_col1 {\n",
       "            background-color:  red;\n",
       "        }    #T_464276ca_bc23_11ec_b7a2_0c96e676e184row16_col2 {\n",
       "            background-color:  red;\n",
       "        }    #T_464276ca_bc23_11ec_b7a2_0c96e676e184row16_col3 {\n",
       "            background-color:  red;\n",
       "        }    #T_464276ca_bc23_11ec_b7a2_0c96e676e184row16_col4 {\n",
       "            background-color:  red;\n",
       "        }    #T_464276ca_bc23_11ec_b7a2_0c96e676e184row16_col5 {\n",
       "            background-color:  red;\n",
       "        }    #T_464276ca_bc23_11ec_b7a2_0c96e676e184row16_col6 {\n",
       "            background-color:  red;\n",
       "        }    #T_464276ca_bc23_11ec_b7a2_0c96e676e184row16_col7 {\n",
       "            background-color:  red;\n",
       "        }    #T_464276ca_bc23_11ec_b7a2_0c96e676e184row16_col8 {\n",
       "            background-color:  red;\n",
       "        }    #T_464276ca_bc23_11ec_b7a2_0c96e676e184row16_col9 {\n",
       "            background-color:  red;\n",
       "        }    #T_464276ca_bc23_11ec_b7a2_0c96e676e184row16_col10 {\n",
       "            background-color:  red;\n",
       "        }    #T_464276ca_bc23_11ec_b7a2_0c96e676e184row16_col11 {\n",
       "            background-color:  red;\n",
       "        }    #T_464276ca_bc23_11ec_b7a2_0c96e676e184row16_col12 {\n",
       "            background-color:  red;\n",
       "        }    #T_464276ca_bc23_11ec_b7a2_0c96e676e184row17_col0 {\n",
       "            background-color:  red;\n",
       "        }    #T_464276ca_bc23_11ec_b7a2_0c96e676e184row17_col1 {\n",
       "            background-color:  red;\n",
       "        }    #T_464276ca_bc23_11ec_b7a2_0c96e676e184row17_col2 {\n",
       "            background-color:  red;\n",
       "        }    #T_464276ca_bc23_11ec_b7a2_0c96e676e184row17_col3 {\n",
       "            background-color:  red;\n",
       "        }    #T_464276ca_bc23_11ec_b7a2_0c96e676e184row17_col4 {\n",
       "            background-color:  red;\n",
       "        }    #T_464276ca_bc23_11ec_b7a2_0c96e676e184row17_col5 {\n",
       "            background-color:  red;\n",
       "        }    #T_464276ca_bc23_11ec_b7a2_0c96e676e184row17_col6 {\n",
       "            background-color:  red;\n",
       "        }    #T_464276ca_bc23_11ec_b7a2_0c96e676e184row17_col7 {\n",
       "            background-color:  red;\n",
       "        }    #T_464276ca_bc23_11ec_b7a2_0c96e676e184row17_col8 {\n",
       "            background-color:  red;\n",
       "        }    #T_464276ca_bc23_11ec_b7a2_0c96e676e184row17_col9 {\n",
       "            background-color:  red;\n",
       "        }    #T_464276ca_bc23_11ec_b7a2_0c96e676e184row17_col10 {\n",
       "            background-color:  red;\n",
       "        }    #T_464276ca_bc23_11ec_b7a2_0c96e676e184row17_col11 {\n",
       "            background-color:  red;\n",
       "        }    #T_464276ca_bc23_11ec_b7a2_0c96e676e184row17_col12 {\n",
       "            background-color:  red;\n",
       "        }</style><table id=\"T_464276ca_bc23_11ec_b7a2_0c96e676e184\" ><thead>    <tr>        <th class=\"blank level0\" ></th>        <th class=\"col_heading level0 col0\" >sensitive_attribute</th>        <th class=\"col_heading level0 col1\" >group</th>        <th class=\"col_heading level0 col2\" >tp</th>        <th class=\"col_heading level0 col3\" >tn</th>        <th class=\"col_heading level0 col4\" >fp</th>        <th class=\"col_heading level0 col5\" >fn</th>        <th class=\"col_heading level0 col6\" >tpr</th>        <th class=\"col_heading level0 col7\" >tnr</th>        <th class=\"col_heading level0 col8\" >fpr</th>        <th class=\"col_heading level0 col9\" >fnr</th>        <th class=\"col_heading level0 col10\" >pr</th>        <th class=\"col_heading level0 col11\" >nr</th>        <th class=\"col_heading level0 col12\" >accuracy</th>    </tr></thead><tbody>\n",
       "                <tr>\n",
       "                        <th id=\"T_464276ca_bc23_11ec_b7a2_0c96e676e184level0_row0\" class=\"row_heading level0 row0\" >0</th>\n",
       "                        <td id=\"T_464276ca_bc23_11ec_b7a2_0c96e676e184row0_col0\" class=\"data row0 col0\" >ethnicity</td>\n",
       "                        <td id=\"T_464276ca_bc23_11ec_b7a2_0c96e676e184row0_col1\" class=\"data row0 col1\" >AMERICAN INDIAN/ALASKA NATIVE</td>\n",
       "                        <td id=\"T_464276ca_bc23_11ec_b7a2_0c96e676e184row0_col2\" class=\"data row0 col2\" >0</td>\n",
       "                        <td id=\"T_464276ca_bc23_11ec_b7a2_0c96e676e184row0_col3\" class=\"data row0 col3\" >32</td>\n",
       "                        <td id=\"T_464276ca_bc23_11ec_b7a2_0c96e676e184row0_col4\" class=\"data row0 col4\" >0</td>\n",
       "                        <td id=\"T_464276ca_bc23_11ec_b7a2_0c96e676e184row0_col5\" class=\"data row0 col5\" >2</td>\n",
       "                        <td id=\"T_464276ca_bc23_11ec_b7a2_0c96e676e184row0_col6\" class=\"data row0 col6\" >0.000000</td>\n",
       "                        <td id=\"T_464276ca_bc23_11ec_b7a2_0c96e676e184row0_col7\" class=\"data row0 col7\" >1.000000</td>\n",
       "                        <td id=\"T_464276ca_bc23_11ec_b7a2_0c96e676e184row0_col8\" class=\"data row0 col8\" >0.000000</td>\n",
       "                        <td id=\"T_464276ca_bc23_11ec_b7a2_0c96e676e184row0_col9\" class=\"data row0 col9\" >1.000000</td>\n",
       "                        <td id=\"T_464276ca_bc23_11ec_b7a2_0c96e676e184row0_col10\" class=\"data row0 col10\" >0.000000</td>\n",
       "                        <td id=\"T_464276ca_bc23_11ec_b7a2_0c96e676e184row0_col11\" class=\"data row0 col11\" >1.000000</td>\n",
       "                        <td id=\"T_464276ca_bc23_11ec_b7a2_0c96e676e184row0_col12\" class=\"data row0 col12\" >0.941176</td>\n",
       "            </tr>\n",
       "            <tr>\n",
       "                        <th id=\"T_464276ca_bc23_11ec_b7a2_0c96e676e184level0_row1\" class=\"row_heading level0 row1\" >1</th>\n",
       "                        <td id=\"T_464276ca_bc23_11ec_b7a2_0c96e676e184row1_col0\" class=\"data row1 col0\" >ethnicity</td>\n",
       "                        <td id=\"T_464276ca_bc23_11ec_b7a2_0c96e676e184row1_col1\" class=\"data row1 col1\" >ASIAN</td>\n",
       "                        <td id=\"T_464276ca_bc23_11ec_b7a2_0c96e676e184row1_col2\" class=\"data row1 col2\" >0</td>\n",
       "                        <td id=\"T_464276ca_bc23_11ec_b7a2_0c96e676e184row1_col3\" class=\"data row1 col3\" >194</td>\n",
       "                        <td id=\"T_464276ca_bc23_11ec_b7a2_0c96e676e184row1_col4\" class=\"data row1 col4\" >0</td>\n",
       "                        <td id=\"T_464276ca_bc23_11ec_b7a2_0c96e676e184row1_col5\" class=\"data row1 col5\" >11</td>\n",
       "                        <td id=\"T_464276ca_bc23_11ec_b7a2_0c96e676e184row1_col6\" class=\"data row1 col6\" >0.000000</td>\n",
       "                        <td id=\"T_464276ca_bc23_11ec_b7a2_0c96e676e184row1_col7\" class=\"data row1 col7\" >1.000000</td>\n",
       "                        <td id=\"T_464276ca_bc23_11ec_b7a2_0c96e676e184row1_col8\" class=\"data row1 col8\" >0.000000</td>\n",
       "                        <td id=\"T_464276ca_bc23_11ec_b7a2_0c96e676e184row1_col9\" class=\"data row1 col9\" >1.000000</td>\n",
       "                        <td id=\"T_464276ca_bc23_11ec_b7a2_0c96e676e184row1_col10\" class=\"data row1 col10\" >0.000000</td>\n",
       "                        <td id=\"T_464276ca_bc23_11ec_b7a2_0c96e676e184row1_col11\" class=\"data row1 col11\" >1.000000</td>\n",
       "                        <td id=\"T_464276ca_bc23_11ec_b7a2_0c96e676e184row1_col12\" class=\"data row1 col12\" >0.946341</td>\n",
       "            </tr>\n",
       "            <tr>\n",
       "                        <th id=\"T_464276ca_bc23_11ec_b7a2_0c96e676e184level0_row2\" class=\"row_heading level0 row2\" >2</th>\n",
       "                        <td id=\"T_464276ca_bc23_11ec_b7a2_0c96e676e184row2_col0\" class=\"data row2 col0\" >ethnicity</td>\n",
       "                        <td id=\"T_464276ca_bc23_11ec_b7a2_0c96e676e184row2_col1\" class=\"data row2 col1\" >BLACK/AFRICAN AMERICAN</td>\n",
       "                        <td id=\"T_464276ca_bc23_11ec_b7a2_0c96e676e184row2_col2\" class=\"data row2 col2\" >1</td>\n",
       "                        <td id=\"T_464276ca_bc23_11ec_b7a2_0c96e676e184row2_col3\" class=\"data row2 col3\" >1618</td>\n",
       "                        <td id=\"T_464276ca_bc23_11ec_b7a2_0c96e676e184row2_col4\" class=\"data row2 col4\" >0</td>\n",
       "                        <td id=\"T_464276ca_bc23_11ec_b7a2_0c96e676e184row2_col5\" class=\"data row2 col5\" >63</td>\n",
       "                        <td id=\"T_464276ca_bc23_11ec_b7a2_0c96e676e184row2_col6\" class=\"data row2 col6\" >0.015625</td>\n",
       "                        <td id=\"T_464276ca_bc23_11ec_b7a2_0c96e676e184row2_col7\" class=\"data row2 col7\" >1.000000</td>\n",
       "                        <td id=\"T_464276ca_bc23_11ec_b7a2_0c96e676e184row2_col8\" class=\"data row2 col8\" >0.000000</td>\n",
       "                        <td id=\"T_464276ca_bc23_11ec_b7a2_0c96e676e184row2_col9\" class=\"data row2 col9\" >0.984375</td>\n",
       "                        <td id=\"T_464276ca_bc23_11ec_b7a2_0c96e676e184row2_col10\" class=\"data row2 col10\" >0.000595</td>\n",
       "                        <td id=\"T_464276ca_bc23_11ec_b7a2_0c96e676e184row2_col11\" class=\"data row2 col11\" >0.999405</td>\n",
       "                        <td id=\"T_464276ca_bc23_11ec_b7a2_0c96e676e184row2_col12\" class=\"data row2 col12\" >0.962545</td>\n",
       "            </tr>\n",
       "            <tr>\n",
       "                        <th id=\"T_464276ca_bc23_11ec_b7a2_0c96e676e184level0_row3\" class=\"row_heading level0 row3\" >3</th>\n",
       "                        <td id=\"T_464276ca_bc23_11ec_b7a2_0c96e676e184row3_col0\" class=\"data row3 col0\" >ethnicity</td>\n",
       "                        <td id=\"T_464276ca_bc23_11ec_b7a2_0c96e676e184row3_col1\" class=\"data row3 col1\" >HISPANIC/LATINO</td>\n",
       "                        <td id=\"T_464276ca_bc23_11ec_b7a2_0c96e676e184row3_col2\" class=\"data row3 col2\" >0</td>\n",
       "                        <td id=\"T_464276ca_bc23_11ec_b7a2_0c96e676e184row3_col3\" class=\"data row3 col3\" >359</td>\n",
       "                        <td id=\"T_464276ca_bc23_11ec_b7a2_0c96e676e184row3_col4\" class=\"data row3 col4\" >0</td>\n",
       "                        <td id=\"T_464276ca_bc23_11ec_b7a2_0c96e676e184row3_col5\" class=\"data row3 col5\" >12</td>\n",
       "                        <td id=\"T_464276ca_bc23_11ec_b7a2_0c96e676e184row3_col6\" class=\"data row3 col6\" >0.000000</td>\n",
       "                        <td id=\"T_464276ca_bc23_11ec_b7a2_0c96e676e184row3_col7\" class=\"data row3 col7\" >1.000000</td>\n",
       "                        <td id=\"T_464276ca_bc23_11ec_b7a2_0c96e676e184row3_col8\" class=\"data row3 col8\" >0.000000</td>\n",
       "                        <td id=\"T_464276ca_bc23_11ec_b7a2_0c96e676e184row3_col9\" class=\"data row3 col9\" >1.000000</td>\n",
       "                        <td id=\"T_464276ca_bc23_11ec_b7a2_0c96e676e184row3_col10\" class=\"data row3 col10\" >0.000000</td>\n",
       "                        <td id=\"T_464276ca_bc23_11ec_b7a2_0c96e676e184row3_col11\" class=\"data row3 col11\" >1.000000</td>\n",
       "                        <td id=\"T_464276ca_bc23_11ec_b7a2_0c96e676e184row3_col12\" class=\"data row3 col12\" >0.967655</td>\n",
       "            </tr>\n",
       "            <tr>\n",
       "                        <th id=\"T_464276ca_bc23_11ec_b7a2_0c96e676e184level0_row4\" class=\"row_heading level0 row4\" >4</th>\n",
       "                        <td id=\"T_464276ca_bc23_11ec_b7a2_0c96e676e184row4_col0\" class=\"data row4 col0\" >ethnicity</td>\n",
       "                        <td id=\"T_464276ca_bc23_11ec_b7a2_0c96e676e184row4_col1\" class=\"data row4 col1\" >OTHER</td>\n",
       "                        <td id=\"T_464276ca_bc23_11ec_b7a2_0c96e676e184row4_col2\" class=\"data row4 col2\" >0</td>\n",
       "                        <td id=\"T_464276ca_bc23_11ec_b7a2_0c96e676e184row4_col3\" class=\"data row4 col3\" >268</td>\n",
       "                        <td id=\"T_464276ca_bc23_11ec_b7a2_0c96e676e184row4_col4\" class=\"data row4 col4\" >0</td>\n",
       "                        <td id=\"T_464276ca_bc23_11ec_b7a2_0c96e676e184row4_col5\" class=\"data row4 col5\" >12</td>\n",
       "                        <td id=\"T_464276ca_bc23_11ec_b7a2_0c96e676e184row4_col6\" class=\"data row4 col6\" >0.000000</td>\n",
       "                        <td id=\"T_464276ca_bc23_11ec_b7a2_0c96e676e184row4_col7\" class=\"data row4 col7\" >1.000000</td>\n",
       "                        <td id=\"T_464276ca_bc23_11ec_b7a2_0c96e676e184row4_col8\" class=\"data row4 col8\" >0.000000</td>\n",
       "                        <td id=\"T_464276ca_bc23_11ec_b7a2_0c96e676e184row4_col9\" class=\"data row4 col9\" >1.000000</td>\n",
       "                        <td id=\"T_464276ca_bc23_11ec_b7a2_0c96e676e184row4_col10\" class=\"data row4 col10\" >0.000000</td>\n",
       "                        <td id=\"T_464276ca_bc23_11ec_b7a2_0c96e676e184row4_col11\" class=\"data row4 col11\" >1.000000</td>\n",
       "                        <td id=\"T_464276ca_bc23_11ec_b7a2_0c96e676e184row4_col12\" class=\"data row4 col12\" >0.957143</td>\n",
       "            </tr>\n",
       "            <tr>\n",
       "                        <th id=\"T_464276ca_bc23_11ec_b7a2_0c96e676e184level0_row5\" class=\"row_heading level0 row5\" >5</th>\n",
       "                        <td id=\"T_464276ca_bc23_11ec_b7a2_0c96e676e184row5_col0\" class=\"data row5 col0\" >ethnicity</td>\n",
       "                        <td id=\"T_464276ca_bc23_11ec_b7a2_0c96e676e184row5_col1\" class=\"data row5 col1\" >UNABLE TO OBTAIN</td>\n",
       "                        <td id=\"T_464276ca_bc23_11ec_b7a2_0c96e676e184row5_col2\" class=\"data row5 col2\" >0</td>\n",
       "                        <td id=\"T_464276ca_bc23_11ec_b7a2_0c96e676e184row5_col3\" class=\"data row5 col3\" >21</td>\n",
       "                        <td id=\"T_464276ca_bc23_11ec_b7a2_0c96e676e184row5_col4\" class=\"data row5 col4\" >0</td>\n",
       "                        <td id=\"T_464276ca_bc23_11ec_b7a2_0c96e676e184row5_col5\" class=\"data row5 col5\" >4</td>\n",
       "                        <td id=\"T_464276ca_bc23_11ec_b7a2_0c96e676e184row5_col6\" class=\"data row5 col6\" >0.000000</td>\n",
       "                        <td id=\"T_464276ca_bc23_11ec_b7a2_0c96e676e184row5_col7\" class=\"data row5 col7\" >1.000000</td>\n",
       "                        <td id=\"T_464276ca_bc23_11ec_b7a2_0c96e676e184row5_col8\" class=\"data row5 col8\" >0.000000</td>\n",
       "                        <td id=\"T_464276ca_bc23_11ec_b7a2_0c96e676e184row5_col9\" class=\"data row5 col9\" >1.000000</td>\n",
       "                        <td id=\"T_464276ca_bc23_11ec_b7a2_0c96e676e184row5_col10\" class=\"data row5 col10\" >0.000000</td>\n",
       "                        <td id=\"T_464276ca_bc23_11ec_b7a2_0c96e676e184row5_col11\" class=\"data row5 col11\" >1.000000</td>\n",
       "                        <td id=\"T_464276ca_bc23_11ec_b7a2_0c96e676e184row5_col12\" class=\"data row5 col12\" >0.840000</td>\n",
       "            </tr>\n",
       "            <tr>\n",
       "                        <th id=\"T_464276ca_bc23_11ec_b7a2_0c96e676e184level0_row6\" class=\"row_heading level0 row6\" >6</th>\n",
       "                        <td id=\"T_464276ca_bc23_11ec_b7a2_0c96e676e184row6_col0\" class=\"data row6 col0\" >ethnicity</td>\n",
       "                        <td id=\"T_464276ca_bc23_11ec_b7a2_0c96e676e184row6_col1\" class=\"data row6 col1\" >UNKNOWN</td>\n",
       "                        <td id=\"T_464276ca_bc23_11ec_b7a2_0c96e676e184row6_col2\" class=\"data row6 col2\" >3</td>\n",
       "                        <td id=\"T_464276ca_bc23_11ec_b7a2_0c96e676e184row6_col3\" class=\"data row6 col3\" >165</td>\n",
       "                        <td id=\"T_464276ca_bc23_11ec_b7a2_0c96e676e184row6_col4\" class=\"data row6 col4\" >0</td>\n",
       "                        <td id=\"T_464276ca_bc23_11ec_b7a2_0c96e676e184row6_col5\" class=\"data row6 col5\" >27</td>\n",
       "                        <td id=\"T_464276ca_bc23_11ec_b7a2_0c96e676e184row6_col6\" class=\"data row6 col6\" >0.100000</td>\n",
       "                        <td id=\"T_464276ca_bc23_11ec_b7a2_0c96e676e184row6_col7\" class=\"data row6 col7\" >1.000000</td>\n",
       "                        <td id=\"T_464276ca_bc23_11ec_b7a2_0c96e676e184row6_col8\" class=\"data row6 col8\" >0.000000</td>\n",
       "                        <td id=\"T_464276ca_bc23_11ec_b7a2_0c96e676e184row6_col9\" class=\"data row6 col9\" >0.900000</td>\n",
       "                        <td id=\"T_464276ca_bc23_11ec_b7a2_0c96e676e184row6_col10\" class=\"data row6 col10\" >0.015385</td>\n",
       "                        <td id=\"T_464276ca_bc23_11ec_b7a2_0c96e676e184row6_col11\" class=\"data row6 col11\" >0.984615</td>\n",
       "                        <td id=\"T_464276ca_bc23_11ec_b7a2_0c96e676e184row6_col12\" class=\"data row6 col12\" >0.861538</td>\n",
       "            </tr>\n",
       "            <tr>\n",
       "                        <th id=\"T_464276ca_bc23_11ec_b7a2_0c96e676e184level0_row7\" class=\"row_heading level0 row7\" >7</th>\n",
       "                        <td id=\"T_464276ca_bc23_11ec_b7a2_0c96e676e184row7_col0\" class=\"data row7 col0\" >ethnicity</td>\n",
       "                        <td id=\"T_464276ca_bc23_11ec_b7a2_0c96e676e184row7_col1\" class=\"data row7 col1\" >WHITE</td>\n",
       "                        <td id=\"T_464276ca_bc23_11ec_b7a2_0c96e676e184row7_col2\" class=\"data row7 col2\" >2</td>\n",
       "                        <td id=\"T_464276ca_bc23_11ec_b7a2_0c96e676e184row7_col3\" class=\"data row7 col3\" >4851</td>\n",
       "                        <td id=\"T_464276ca_bc23_11ec_b7a2_0c96e676e184row7_col4\" class=\"data row7 col4\" >2</td>\n",
       "                        <td id=\"T_464276ca_bc23_11ec_b7a2_0c96e676e184row7_col5\" class=\"data row7 col5\" >253</td>\n",
       "                        <td id=\"T_464276ca_bc23_11ec_b7a2_0c96e676e184row7_col6\" class=\"data row7 col6\" >0.007843</td>\n",
       "                        <td id=\"T_464276ca_bc23_11ec_b7a2_0c96e676e184row7_col7\" class=\"data row7 col7\" >0.999588</td>\n",
       "                        <td id=\"T_464276ca_bc23_11ec_b7a2_0c96e676e184row7_col8\" class=\"data row7 col8\" >0.000412</td>\n",
       "                        <td id=\"T_464276ca_bc23_11ec_b7a2_0c96e676e184row7_col9\" class=\"data row7 col9\" >0.992157</td>\n",
       "                        <td id=\"T_464276ca_bc23_11ec_b7a2_0c96e676e184row7_col10\" class=\"data row7 col10\" >0.000783</td>\n",
       "                        <td id=\"T_464276ca_bc23_11ec_b7a2_0c96e676e184row7_col11\" class=\"data row7 col11\" >0.999217</td>\n",
       "                        <td id=\"T_464276ca_bc23_11ec_b7a2_0c96e676e184row7_col12\" class=\"data row7 col12\" >0.950078</td>\n",
       "            </tr>\n",
       "            <tr>\n",
       "                        <th id=\"T_464276ca_bc23_11ec_b7a2_0c96e676e184level0_row8\" class=\"row_heading level0 row8\" >8</th>\n",
       "                        <td id=\"T_464276ca_bc23_11ec_b7a2_0c96e676e184row8_col0\" class=\"data row8 col0\" >gender</td>\n",
       "                        <td id=\"T_464276ca_bc23_11ec_b7a2_0c96e676e184row8_col1\" class=\"data row8 col1\" >F</td>\n",
       "                        <td id=\"T_464276ca_bc23_11ec_b7a2_0c96e676e184row8_col2\" class=\"data row8 col2\" >2</td>\n",
       "                        <td id=\"T_464276ca_bc23_11ec_b7a2_0c96e676e184row8_col3\" class=\"data row8 col3\" >3168</td>\n",
       "                        <td id=\"T_464276ca_bc23_11ec_b7a2_0c96e676e184row8_col4\" class=\"data row8 col4\" >0</td>\n",
       "                        <td id=\"T_464276ca_bc23_11ec_b7a2_0c96e676e184row8_col5\" class=\"data row8 col5\" >152</td>\n",
       "                        <td id=\"T_464276ca_bc23_11ec_b7a2_0c96e676e184row8_col6\" class=\"data row8 col6\" >0.012987</td>\n",
       "                        <td id=\"T_464276ca_bc23_11ec_b7a2_0c96e676e184row8_col7\" class=\"data row8 col7\" >1.000000</td>\n",
       "                        <td id=\"T_464276ca_bc23_11ec_b7a2_0c96e676e184row8_col8\" class=\"data row8 col8\" >0.000000</td>\n",
       "                        <td id=\"T_464276ca_bc23_11ec_b7a2_0c96e676e184row8_col9\" class=\"data row8 col9\" >0.987013</td>\n",
       "                        <td id=\"T_464276ca_bc23_11ec_b7a2_0c96e676e184row8_col10\" class=\"data row8 col10\" >0.000602</td>\n",
       "                        <td id=\"T_464276ca_bc23_11ec_b7a2_0c96e676e184row8_col11\" class=\"data row8 col11\" >0.999398</td>\n",
       "                        <td id=\"T_464276ca_bc23_11ec_b7a2_0c96e676e184row8_col12\" class=\"data row8 col12\" >0.954244</td>\n",
       "            </tr>\n",
       "            <tr>\n",
       "                        <th id=\"T_464276ca_bc23_11ec_b7a2_0c96e676e184level0_row9\" class=\"row_heading level0 row9\" >9</th>\n",
       "                        <td id=\"T_464276ca_bc23_11ec_b7a2_0c96e676e184row9_col0\" class=\"data row9 col0\" >gender</td>\n",
       "                        <td id=\"T_464276ca_bc23_11ec_b7a2_0c96e676e184row9_col1\" class=\"data row9 col1\" >M</td>\n",
       "                        <td id=\"T_464276ca_bc23_11ec_b7a2_0c96e676e184row9_col2\" class=\"data row9 col2\" >4</td>\n",
       "                        <td id=\"T_464276ca_bc23_11ec_b7a2_0c96e676e184row9_col3\" class=\"data row9 col3\" >4340</td>\n",
       "                        <td id=\"T_464276ca_bc23_11ec_b7a2_0c96e676e184row9_col4\" class=\"data row9 col4\" >2</td>\n",
       "                        <td id=\"T_464276ca_bc23_11ec_b7a2_0c96e676e184row9_col5\" class=\"data row9 col5\" >232</td>\n",
       "                        <td id=\"T_464276ca_bc23_11ec_b7a2_0c96e676e184row9_col6\" class=\"data row9 col6\" >0.016949</td>\n",
       "                        <td id=\"T_464276ca_bc23_11ec_b7a2_0c96e676e184row9_col7\" class=\"data row9 col7\" >0.999539</td>\n",
       "                        <td id=\"T_464276ca_bc23_11ec_b7a2_0c96e676e184row9_col8\" class=\"data row9 col8\" >0.000461</td>\n",
       "                        <td id=\"T_464276ca_bc23_11ec_b7a2_0c96e676e184row9_col9\" class=\"data row9 col9\" >0.983051</td>\n",
       "                        <td id=\"T_464276ca_bc23_11ec_b7a2_0c96e676e184row9_col10\" class=\"data row9 col10\" >0.001311</td>\n",
       "                        <td id=\"T_464276ca_bc23_11ec_b7a2_0c96e676e184row9_col11\" class=\"data row9 col11\" >0.998689</td>\n",
       "                        <td id=\"T_464276ca_bc23_11ec_b7a2_0c96e676e184row9_col12\" class=\"data row9 col12\" >0.948886</td>\n",
       "            </tr>\n",
       "            <tr>\n",
       "                        <th id=\"T_464276ca_bc23_11ec_b7a2_0c96e676e184level0_row10\" class=\"row_heading level0 row10\" >10</th>\n",
       "                        <td id=\"T_464276ca_bc23_11ec_b7a2_0c96e676e184row10_col0\" class=\"data row10 col0\" >age_binned</td>\n",
       "                        <td id=\"T_464276ca_bc23_11ec_b7a2_0c96e676e184row10_col1\" class=\"data row10 col1\" >20-30</td>\n",
       "                        <td id=\"T_464276ca_bc23_11ec_b7a2_0c96e676e184row10_col2\" class=\"data row10 col2\" >0</td>\n",
       "                        <td id=\"T_464276ca_bc23_11ec_b7a2_0c96e676e184row10_col3\" class=\"data row10 col3\" >99</td>\n",
       "                        <td id=\"T_464276ca_bc23_11ec_b7a2_0c96e676e184row10_col4\" class=\"data row10 col4\" >0</td>\n",
       "                        <td id=\"T_464276ca_bc23_11ec_b7a2_0c96e676e184row10_col5\" class=\"data row10 col5\" >1</td>\n",
       "                        <td id=\"T_464276ca_bc23_11ec_b7a2_0c96e676e184row10_col6\" class=\"data row10 col6\" >0.000000</td>\n",
       "                        <td id=\"T_464276ca_bc23_11ec_b7a2_0c96e676e184row10_col7\" class=\"data row10 col7\" >1.000000</td>\n",
       "                        <td id=\"T_464276ca_bc23_11ec_b7a2_0c96e676e184row10_col8\" class=\"data row10 col8\" >0.000000</td>\n",
       "                        <td id=\"T_464276ca_bc23_11ec_b7a2_0c96e676e184row10_col9\" class=\"data row10 col9\" >1.000000</td>\n",
       "                        <td id=\"T_464276ca_bc23_11ec_b7a2_0c96e676e184row10_col10\" class=\"data row10 col10\" >0.000000</td>\n",
       "                        <td id=\"T_464276ca_bc23_11ec_b7a2_0c96e676e184row10_col11\" class=\"data row10 col11\" >1.000000</td>\n",
       "                        <td id=\"T_464276ca_bc23_11ec_b7a2_0c96e676e184row10_col12\" class=\"data row10 col12\" >0.990000</td>\n",
       "            </tr>\n",
       "            <tr>\n",
       "                        <th id=\"T_464276ca_bc23_11ec_b7a2_0c96e676e184level0_row11\" class=\"row_heading level0 row11\" >11</th>\n",
       "                        <td id=\"T_464276ca_bc23_11ec_b7a2_0c96e676e184row11_col0\" class=\"data row11 col0\" >age_binned</td>\n",
       "                        <td id=\"T_464276ca_bc23_11ec_b7a2_0c96e676e184row11_col1\" class=\"data row11 col1\" >30-40</td>\n",
       "                        <td id=\"T_464276ca_bc23_11ec_b7a2_0c96e676e184row11_col2\" class=\"data row11 col2\" >0</td>\n",
       "                        <td id=\"T_464276ca_bc23_11ec_b7a2_0c96e676e184row11_col3\" class=\"data row11 col3\" >256</td>\n",
       "                        <td id=\"T_464276ca_bc23_11ec_b7a2_0c96e676e184row11_col4\" class=\"data row11 col4\" >0</td>\n",
       "                        <td id=\"T_464276ca_bc23_11ec_b7a2_0c96e676e184row11_col5\" class=\"data row11 col5\" >3</td>\n",
       "                        <td id=\"T_464276ca_bc23_11ec_b7a2_0c96e676e184row11_col6\" class=\"data row11 col6\" >0.000000</td>\n",
       "                        <td id=\"T_464276ca_bc23_11ec_b7a2_0c96e676e184row11_col7\" class=\"data row11 col7\" >1.000000</td>\n",
       "                        <td id=\"T_464276ca_bc23_11ec_b7a2_0c96e676e184row11_col8\" class=\"data row11 col8\" >0.000000</td>\n",
       "                        <td id=\"T_464276ca_bc23_11ec_b7a2_0c96e676e184row11_col9\" class=\"data row11 col9\" >1.000000</td>\n",
       "                        <td id=\"T_464276ca_bc23_11ec_b7a2_0c96e676e184row11_col10\" class=\"data row11 col10\" >0.000000</td>\n",
       "                        <td id=\"T_464276ca_bc23_11ec_b7a2_0c96e676e184row11_col11\" class=\"data row11 col11\" >1.000000</td>\n",
       "                        <td id=\"T_464276ca_bc23_11ec_b7a2_0c96e676e184row11_col12\" class=\"data row11 col12\" >0.988417</td>\n",
       "            </tr>\n",
       "            <tr>\n",
       "                        <th id=\"T_464276ca_bc23_11ec_b7a2_0c96e676e184level0_row12\" class=\"row_heading level0 row12\" >12</th>\n",
       "                        <td id=\"T_464276ca_bc23_11ec_b7a2_0c96e676e184row12_col0\" class=\"data row12 col0\" >age_binned</td>\n",
       "                        <td id=\"T_464276ca_bc23_11ec_b7a2_0c96e676e184row12_col1\" class=\"data row12 col1\" >40-50</td>\n",
       "                        <td id=\"T_464276ca_bc23_11ec_b7a2_0c96e676e184row12_col2\" class=\"data row12 col2\" >0</td>\n",
       "                        <td id=\"T_464276ca_bc23_11ec_b7a2_0c96e676e184row12_col3\" class=\"data row12 col3\" >517</td>\n",
       "                        <td id=\"T_464276ca_bc23_11ec_b7a2_0c96e676e184row12_col4\" class=\"data row12 col4\" >0</td>\n",
       "                        <td id=\"T_464276ca_bc23_11ec_b7a2_0c96e676e184row12_col5\" class=\"data row12 col5\" >16</td>\n",
       "                        <td id=\"T_464276ca_bc23_11ec_b7a2_0c96e676e184row12_col6\" class=\"data row12 col6\" >0.000000</td>\n",
       "                        <td id=\"T_464276ca_bc23_11ec_b7a2_0c96e676e184row12_col7\" class=\"data row12 col7\" >1.000000</td>\n",
       "                        <td id=\"T_464276ca_bc23_11ec_b7a2_0c96e676e184row12_col8\" class=\"data row12 col8\" >0.000000</td>\n",
       "                        <td id=\"T_464276ca_bc23_11ec_b7a2_0c96e676e184row12_col9\" class=\"data row12 col9\" >1.000000</td>\n",
       "                        <td id=\"T_464276ca_bc23_11ec_b7a2_0c96e676e184row12_col10\" class=\"data row12 col10\" >0.000000</td>\n",
       "                        <td id=\"T_464276ca_bc23_11ec_b7a2_0c96e676e184row12_col11\" class=\"data row12 col11\" >1.000000</td>\n",
       "                        <td id=\"T_464276ca_bc23_11ec_b7a2_0c96e676e184row12_col12\" class=\"data row12 col12\" >0.969981</td>\n",
       "            </tr>\n",
       "            <tr>\n",
       "                        <th id=\"T_464276ca_bc23_11ec_b7a2_0c96e676e184level0_row13\" class=\"row_heading level0 row13\" >13</th>\n",
       "                        <td id=\"T_464276ca_bc23_11ec_b7a2_0c96e676e184row13_col0\" class=\"data row13 col0\" >age_binned</td>\n",
       "                        <td id=\"T_464276ca_bc23_11ec_b7a2_0c96e676e184row13_col1\" class=\"data row13 col1\" >50-60</td>\n",
       "                        <td id=\"T_464276ca_bc23_11ec_b7a2_0c96e676e184row13_col2\" class=\"data row13 col2\" >0</td>\n",
       "                        <td id=\"T_464276ca_bc23_11ec_b7a2_0c96e676e184row13_col3\" class=\"data row13 col3\" >1118</td>\n",
       "                        <td id=\"T_464276ca_bc23_11ec_b7a2_0c96e676e184row13_col4\" class=\"data row13 col4\" >0</td>\n",
       "                        <td id=\"T_464276ca_bc23_11ec_b7a2_0c96e676e184row13_col5\" class=\"data row13 col5\" >42</td>\n",
       "                        <td id=\"T_464276ca_bc23_11ec_b7a2_0c96e676e184row13_col6\" class=\"data row13 col6\" >0.000000</td>\n",
       "                        <td id=\"T_464276ca_bc23_11ec_b7a2_0c96e676e184row13_col7\" class=\"data row13 col7\" >1.000000</td>\n",
       "                        <td id=\"T_464276ca_bc23_11ec_b7a2_0c96e676e184row13_col8\" class=\"data row13 col8\" >0.000000</td>\n",
       "                        <td id=\"T_464276ca_bc23_11ec_b7a2_0c96e676e184row13_col9\" class=\"data row13 col9\" >1.000000</td>\n",
       "                        <td id=\"T_464276ca_bc23_11ec_b7a2_0c96e676e184row13_col10\" class=\"data row13 col10\" >0.000000</td>\n",
       "                        <td id=\"T_464276ca_bc23_11ec_b7a2_0c96e676e184row13_col11\" class=\"data row13 col11\" >1.000000</td>\n",
       "                        <td id=\"T_464276ca_bc23_11ec_b7a2_0c96e676e184row13_col12\" class=\"data row13 col12\" >0.963793</td>\n",
       "            </tr>\n",
       "            <tr>\n",
       "                        <th id=\"T_464276ca_bc23_11ec_b7a2_0c96e676e184level0_row14\" class=\"row_heading level0 row14\" >14</th>\n",
       "                        <td id=\"T_464276ca_bc23_11ec_b7a2_0c96e676e184row14_col0\" class=\"data row14 col0\" >age_binned</td>\n",
       "                        <td id=\"T_464276ca_bc23_11ec_b7a2_0c96e676e184row14_col1\" class=\"data row14 col1\" >60-70</td>\n",
       "                        <td id=\"T_464276ca_bc23_11ec_b7a2_0c96e676e184row14_col2\" class=\"data row14 col2\" >1</td>\n",
       "                        <td id=\"T_464276ca_bc23_11ec_b7a2_0c96e676e184row14_col3\" class=\"data row14 col3\" >1732</td>\n",
       "                        <td id=\"T_464276ca_bc23_11ec_b7a2_0c96e676e184row14_col4\" class=\"data row14 col4\" >2</td>\n",
       "                        <td id=\"T_464276ca_bc23_11ec_b7a2_0c96e676e184row14_col5\" class=\"data row14 col5\" >79</td>\n",
       "                        <td id=\"T_464276ca_bc23_11ec_b7a2_0c96e676e184row14_col6\" class=\"data row14 col6\" >0.012500</td>\n",
       "                        <td id=\"T_464276ca_bc23_11ec_b7a2_0c96e676e184row14_col7\" class=\"data row14 col7\" >0.998847</td>\n",
       "                        <td id=\"T_464276ca_bc23_11ec_b7a2_0c96e676e184row14_col8\" class=\"data row14 col8\" >0.001153</td>\n",
       "                        <td id=\"T_464276ca_bc23_11ec_b7a2_0c96e676e184row14_col9\" class=\"data row14 col9\" >0.987500</td>\n",
       "                        <td id=\"T_464276ca_bc23_11ec_b7a2_0c96e676e184row14_col10\" class=\"data row14 col10\" >0.001654</td>\n",
       "                        <td id=\"T_464276ca_bc23_11ec_b7a2_0c96e676e184row14_col11\" class=\"data row14 col11\" >0.998346</td>\n",
       "                        <td id=\"T_464276ca_bc23_11ec_b7a2_0c96e676e184row14_col12\" class=\"data row14 col12\" >0.955347</td>\n",
       "            </tr>\n",
       "            <tr>\n",
       "                        <th id=\"T_464276ca_bc23_11ec_b7a2_0c96e676e184level0_row15\" class=\"row_heading level0 row15\" >15</th>\n",
       "                        <td id=\"T_464276ca_bc23_11ec_b7a2_0c96e676e184row15_col0\" class=\"data row15 col0\" >age_binned</td>\n",
       "                        <td id=\"T_464276ca_bc23_11ec_b7a2_0c96e676e184row15_col1\" class=\"data row15 col1\" >70-80</td>\n",
       "                        <td id=\"T_464276ca_bc23_11ec_b7a2_0c96e676e184row15_col2\" class=\"data row15 col2\" >3</td>\n",
       "                        <td id=\"T_464276ca_bc23_11ec_b7a2_0c96e676e184row15_col3\" class=\"data row15 col3\" >1818</td>\n",
       "                        <td id=\"T_464276ca_bc23_11ec_b7a2_0c96e676e184row15_col4\" class=\"data row15 col4\" >0</td>\n",
       "                        <td id=\"T_464276ca_bc23_11ec_b7a2_0c96e676e184row15_col5\" class=\"data row15 col5\" >106</td>\n",
       "                        <td id=\"T_464276ca_bc23_11ec_b7a2_0c96e676e184row15_col6\" class=\"data row15 col6\" >0.027523</td>\n",
       "                        <td id=\"T_464276ca_bc23_11ec_b7a2_0c96e676e184row15_col7\" class=\"data row15 col7\" >1.000000</td>\n",
       "                        <td id=\"T_464276ca_bc23_11ec_b7a2_0c96e676e184row15_col8\" class=\"data row15 col8\" >0.000000</td>\n",
       "                        <td id=\"T_464276ca_bc23_11ec_b7a2_0c96e676e184row15_col9\" class=\"data row15 col9\" >0.972477</td>\n",
       "                        <td id=\"T_464276ca_bc23_11ec_b7a2_0c96e676e184row15_col10\" class=\"data row15 col10\" >0.001557</td>\n",
       "                        <td id=\"T_464276ca_bc23_11ec_b7a2_0c96e676e184row15_col11\" class=\"data row15 col11\" >0.998443</td>\n",
       "                        <td id=\"T_464276ca_bc23_11ec_b7a2_0c96e676e184row15_col12\" class=\"data row15 col12\" >0.944992</td>\n",
       "            </tr>\n",
       "            <tr>\n",
       "                        <th id=\"T_464276ca_bc23_11ec_b7a2_0c96e676e184level0_row16\" class=\"row_heading level0 row16\" >16</th>\n",
       "                        <td id=\"T_464276ca_bc23_11ec_b7a2_0c96e676e184row16_col0\" class=\"data row16 col0\" >age_binned</td>\n",
       "                        <td id=\"T_464276ca_bc23_11ec_b7a2_0c96e676e184row16_col1\" class=\"data row16 col1\" >80-90</td>\n",
       "                        <td id=\"T_464276ca_bc23_11ec_b7a2_0c96e676e184row16_col2\" class=\"data row16 col2\" >2</td>\n",
       "                        <td id=\"T_464276ca_bc23_11ec_b7a2_0c96e676e184row16_col3\" class=\"data row16 col3\" >1555</td>\n",
       "                        <td id=\"T_464276ca_bc23_11ec_b7a2_0c96e676e184row16_col4\" class=\"data row16 col4\" >0</td>\n",
       "                        <td id=\"T_464276ca_bc23_11ec_b7a2_0c96e676e184row16_col5\" class=\"data row16 col5\" >104</td>\n",
       "                        <td id=\"T_464276ca_bc23_11ec_b7a2_0c96e676e184row16_col6\" class=\"data row16 col6\" >0.018868</td>\n",
       "                        <td id=\"T_464276ca_bc23_11ec_b7a2_0c96e676e184row16_col7\" class=\"data row16 col7\" >1.000000</td>\n",
       "                        <td id=\"T_464276ca_bc23_11ec_b7a2_0c96e676e184row16_col8\" class=\"data row16 col8\" >0.000000</td>\n",
       "                        <td id=\"T_464276ca_bc23_11ec_b7a2_0c96e676e184row16_col9\" class=\"data row16 col9\" >0.981132</td>\n",
       "                        <td id=\"T_464276ca_bc23_11ec_b7a2_0c96e676e184row16_col10\" class=\"data row16 col10\" >0.001204</td>\n",
       "                        <td id=\"T_464276ca_bc23_11ec_b7a2_0c96e676e184row16_col11\" class=\"data row16 col11\" >0.998796</td>\n",
       "                        <td id=\"T_464276ca_bc23_11ec_b7a2_0c96e676e184row16_col12\" class=\"data row16 col12\" >0.937387</td>\n",
       "            </tr>\n",
       "            <tr>\n",
       "                        <th id=\"T_464276ca_bc23_11ec_b7a2_0c96e676e184level0_row17\" class=\"row_heading level0 row17\" >17</th>\n",
       "                        <td id=\"T_464276ca_bc23_11ec_b7a2_0c96e676e184row17_col0\" class=\"data row17 col0\" >age_binned</td>\n",
       "                        <td id=\"T_464276ca_bc23_11ec_b7a2_0c96e676e184row17_col1\" class=\"data row17 col1\" >90-100</td>\n",
       "                        <td id=\"T_464276ca_bc23_11ec_b7a2_0c96e676e184row17_col2\" class=\"data row17 col2\" >0</td>\n",
       "                        <td id=\"T_464276ca_bc23_11ec_b7a2_0c96e676e184row17_col3\" class=\"data row17 col3\" >413</td>\n",
       "                        <td id=\"T_464276ca_bc23_11ec_b7a2_0c96e676e184row17_col4\" class=\"data row17 col4\" >0</td>\n",
       "                        <td id=\"T_464276ca_bc23_11ec_b7a2_0c96e676e184row17_col5\" class=\"data row17 col5\" >33</td>\n",
       "                        <td id=\"T_464276ca_bc23_11ec_b7a2_0c96e676e184row17_col6\" class=\"data row17 col6\" >0.000000</td>\n",
       "                        <td id=\"T_464276ca_bc23_11ec_b7a2_0c96e676e184row17_col7\" class=\"data row17 col7\" >1.000000</td>\n",
       "                        <td id=\"T_464276ca_bc23_11ec_b7a2_0c96e676e184row17_col8\" class=\"data row17 col8\" >0.000000</td>\n",
       "                        <td id=\"T_464276ca_bc23_11ec_b7a2_0c96e676e184row17_col9\" class=\"data row17 col9\" >1.000000</td>\n",
       "                        <td id=\"T_464276ca_bc23_11ec_b7a2_0c96e676e184row17_col10\" class=\"data row17 col10\" >0.000000</td>\n",
       "                        <td id=\"T_464276ca_bc23_11ec_b7a2_0c96e676e184row17_col11\" class=\"data row17 col11\" >1.000000</td>\n",
       "                        <td id=\"T_464276ca_bc23_11ec_b7a2_0c96e676e184row17_col12\" class=\"data row17 col12\" >0.926009</td>\n",
       "            </tr>\n",
       "    </tbody></table>"
      ],
      "text/plain": [
       "<pandas.io.formats.style.Styler at 0x1ff266ca240>"
      ]
     },
     "metadata": {},
     "output_type": "display_data"
    }
   ],
   "source": [
    "fairness.fairness_evaluation(inputFile='outputDict',outputFile='fairnessReport')"
   ]
  },
  {
   "cell_type": "markdown",
   "id": "international-wagner",
   "metadata": {},
   "source": [
    "### MODEL CALLIBRATION\n",
    "\n",
    "Please run below cell if you want to callibrate predicted probabilites of the model on test data.\n",
    "It will use the output saved during the testing of the model.\n",
    "\n",
    "The file is saved in **./data/output/**.\n",
    "\n",
    "This module can be used as stand-alone module also.\n",
    "\n",
    "Please create a file that contain predicted logits form the last fully connected layer in column named **Logits** and <br>ground truth labels for each sample in a column named **Labels**."
   ]
  },
  {
   "cell_type": "code",
   "execution_count": 41,
   "id": "secure-flavor",
   "metadata": {},
   "outputs": [
    {
     "name": "stdout",
     "output_type": "stream",
     "text": [
      "BEFORE CALLIBRATION\n",
      "BCE Loss: 0.42\n",
      "AU-ROC: 0.73\n",
      "AU-PRC: 0.38\n",
      "AU-PRC Baaseline: 0.16\n",
      "Accuracy: 0.85\n",
      "Precision: 0.53\n",
      "Recall: 0.21\n",
      "Specificity: 0.97\n",
      "NPV: 0.87\n",
      "ECE: 0.06\n",
      "MCE: 0.24\n",
      "AFTER CALLIBRATION\n",
      "BCE Loss: 0.39\n",
      "AU-ROC: 0.73\n",
      "AU-PRC: 0.38\n",
      "AU-PRC Baaseline: 0.16\n",
      "Accuracy: 0.85\n",
      "Precision: 0.53\n",
      "Recall: 0.21\n",
      "Specificity: 0.97\n",
      "NPV: 0.87\n",
      "ECE: 0.05\n",
      "MCE: 0.95\n"
     ]
    },
    {
     "data": {
      "image/png": "[encoded data removed]",
      "text/plain": [
       "<Figure size 576x432 with 1 Axes>"
      ]
     },
     "metadata": {
      "needs_background": "light"
     },
     "output_type": "display_data"
    },
    {
     "data": {
      "image/png": "[encoded data removed]",
      "text/plain": [
       "<Figure size 576x576 with 1 Axes>"
      ]
     },
     "metadata": {
      "needs_background": "light"
     },
     "output_type": "display_data"
    },
    {
     "data": {
      "image/png": "[encoded data removed]",
      "text/plain": [
       "<Figure size 576x432 with 1 Axes>"
      ]
     },
     "metadata": {
      "needs_background": "light"
     },
     "output_type": "display_data"
    },
    {
     "data": {
      "image/png": "[encoded data removed]",
      "text/plain": [
       "<Figure size 576x576 with 1 Axes>"
      ]
     },
     "metadata": {
      "needs_background": "light"
     },
     "output_type": "display_data"
    }
   ],
   "source": [
    "callibrate_output.callibrate(inputFile='outputDict',outputFile='callibratedResults')"
   ]
  },
  {
   "cell_type": "code",
   "execution_count": null,
   "id": "fleet-canyon",
   "metadata": {},
   "outputs": [],
   "source": []
  }
 ],
 "metadata": {
  "hide_input": false,
  "kernelspec": {
   "display_name": "Python [conda env:DSRA] *",
   "language": "python",
   "name": "conda-env-DSRA-py"
  },
  "language_info": {
   "codemirror_mode": {
    "name": "ipython",
    "version": 3
   },
   "file_extension": ".py",
   "mimetype": "text/x-python",
   "name": "python",
   "nbconvert_exporter": "python",
   "pygments_lexer": "ipython3",
   "version": "3.7.1"
  }
 },
 "nbformat": 4,
 "nbformat_minor": 5
}
