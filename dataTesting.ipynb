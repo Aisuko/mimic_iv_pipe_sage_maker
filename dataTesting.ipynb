{
 "cells": [
  {
   "cell_type": "code",
   "execution_count": 1,
   "id": "sticky-charlotte",
   "metadata": {},
   "outputs": [],
   "source": [
    "import pandas as pd"
   ]
  },
  {
   "cell_type": "code",
   "execution_count": 10,
   "id": "finite-capture",
   "metadata": {},
   "outputs": [],
   "source": [
    "data=pd.read_csv('data/day_intervals/cohort/cohort30day.csv.gz', compression='gzip', header=0, index_col=None)"
   ]
  },
  {
   "cell_type": "code",
   "execution_count": 11,
   "id": "authentic-enclosure",
   "metadata": {},
   "outputs": [
    {
     "data": {
      "text/html": [
       "<div>\n",
       "<style scoped>\n",
       "    .dataframe tbody tr th:only-of-type {\n",
       "        vertical-align: middle;\n",
       "    }\n",
       "\n",
       "    .dataframe tbody tr th {\n",
       "        vertical-align: top;\n",
       "    }\n",
       "\n",
       "    .dataframe thead th {\n",
       "        text-align: right;\n",
       "    }\n",
       "</style>\n",
       "<table border=\"1\" class=\"dataframe\">\n",
       "  <thead>\n",
       "    <tr style=\"text-align: right;\">\n",
       "      <th></th>\n",
       "      <th>admittime</th>\n",
       "      <th>hadm_id</th>\n",
       "      <th>min_valid_year</th>\n",
       "      <th>subject_id</th>\n",
       "      <th>label</th>\n",
       "    </tr>\n",
       "  </thead>\n",
       "  <tbody>\n",
       "    <tr>\n",
       "      <th>0</th>\n",
       "      <td>2180-06-26 18:27:00</td>\n",
       "      <td>22841357.0</td>\n",
       "      <td>2183.0</td>\n",
       "      <td>10000032.0</td>\n",
       "      <td>1</td>\n",
       "    </tr>\n",
       "    <tr>\n",
       "      <th>1</th>\n",
       "      <td>2180-07-23 12:35:00</td>\n",
       "      <td>29079034.0</td>\n",
       "      <td>2183.0</td>\n",
       "      <td>10000032.0</td>\n",
       "      <td>1</td>\n",
       "    </tr>\n",
       "    <tr>\n",
       "      <th>2</th>\n",
       "      <td>2146-12-05 19:07:00</td>\n",
       "      <td>20032235.0</td>\n",
       "      <td>2155.0</td>\n",
       "      <td>10000826.0</td>\n",
       "      <td>1</td>\n",
       "    </tr>\n",
       "    <tr>\n",
       "      <th>3</th>\n",
       "      <td>2146-12-18 17:39:00</td>\n",
       "      <td>21086876.0</td>\n",
       "      <td>2155.0</td>\n",
       "      <td>10000826.0</td>\n",
       "      <td>1</td>\n",
       "    </tr>\n",
       "    <tr>\n",
       "      <th>4</th>\n",
       "      <td>2124-05-14 17:25:00</td>\n",
       "      <td>29957930.0</td>\n",
       "      <td>2133.0</td>\n",
       "      <td>10000883.0</td>\n",
       "      <td>1</td>\n",
       "    </tr>\n",
       "  </tbody>\n",
       "</table>\n",
       "</div>"
      ],
      "text/plain": [
       "             admittime     hadm_id  min_valid_year  subject_id  label\n",
       "0  2180-06-26 18:27:00  22841357.0          2183.0  10000032.0      1\n",
       "1  2180-07-23 12:35:00  29079034.0          2183.0  10000032.0      1\n",
       "2  2146-12-05 19:07:00  20032235.0          2155.0  10000826.0      1\n",
       "3  2146-12-18 17:39:00  21086876.0          2155.0  10000826.0      1\n",
       "4  2124-05-14 17:25:00  29957930.0          2133.0  10000883.0      1"
      ]
     },
     "execution_count": 11,
     "metadata": {},
     "output_type": "execute_result"
    }
   ],
   "source": [
    "data.head()"
   ]
  },
  {
   "cell_type": "code",
   "execution_count": 13,
   "id": "changing-indication",
   "metadata": {},
   "outputs": [
    {
     "data": {
      "text/plain": [
       "189743"
      ]
     },
     "execution_count": 13,
     "metadata": {},
     "output_type": "execute_result"
    }
   ],
   "source": [
    "data['subject_id'].nunique()"
   ]
  },
  {
   "cell_type": "code",
   "execution_count": 25,
   "id": "adjusted-witness",
   "metadata": {},
   "outputs": [
    {
     "data": {
      "text/plain": [
       "81175"
      ]
     },
     "execution_count": 25,
     "metadata": {},
     "output_type": "execute_result"
    }
   ],
   "source": [
    "data[data['label']==1]['hadm_id'].nunique()"
   ]
  },
  {
   "cell_type": "code",
   "execution_count": 26,
   "id": "related-glasgow",
   "metadata": {},
   "outputs": [
    {
     "data": {
      "text/plain": [
       "367636"
      ]
     },
     "execution_count": 26,
     "metadata": {},
     "output_type": "execute_result"
    }
   ],
   "source": [
    "data[data['label']==0]['hadm_id'].nunique()"
   ]
  },
  {
   "cell_type": "code",
   "execution_count": 14,
   "id": "czech-fountain",
   "metadata": {},
   "outputs": [
    {
     "data": {
      "text/plain": [
       "448811"
      ]
     },
     "execution_count": 14,
     "metadata": {},
     "output_type": "execute_result"
    }
   ],
   "source": [
    "data['hadm_id'].nunique()"
   ]
  },
  {
   "cell_type": "code",
   "execution_count": 4,
   "id": "recorded-graph",
   "metadata": {},
   "outputs": [],
   "source": [
    "data=pd.read_csv('data/long_format/diag/long_diag_icd10_roots.csv.gz', compression='gzip', header=0, index_col=None)"
   ]
  },
  {
   "cell_type": "code",
   "execution_count": 8,
   "id": "proprietary-michael",
   "metadata": {},
   "outputs": [],
   "source": [
    "cond=pd.read_csv('data/long_format/diag/norm_diag_icd10_roots.csv.gz', compression='gzip', header=0, index_col=None)"
   ]
  },
  {
   "cell_type": "code",
   "execution_count": 9,
   "id": "outdoor-gauge",
   "metadata": {},
   "outputs": [
    {
     "data": {
      "text/html": [
       "<div>\n",
       "<style scoped>\n",
       "    .dataframe tbody tr th:only-of-type {\n",
       "        vertical-align: middle;\n",
       "    }\n",
       "\n",
       "    .dataframe tbody tr th {\n",
       "        vertical-align: top;\n",
       "    }\n",
       "\n",
       "    .dataframe thead th {\n",
       "        text-align: right;\n",
       "    }\n",
       "</style>\n",
       "<table border=\"1\" class=\"dataframe\">\n",
       "  <thead>\n",
       "    <tr style=\"text-align: right;\">\n",
       "      <th></th>\n",
       "      <th>subject_id</th>\n",
       "      <th>hadm_id</th>\n",
       "      <th>root</th>\n",
       "      <th>timedelta</th>\n",
       "    </tr>\n",
       "  </thead>\n",
       "  <tbody>\n",
       "    <tr>\n",
       "      <th>0</th>\n",
       "      <td>15734973</td>\n",
       "      <td>20475282</td>\n",
       "      <td>D58</td>\n",
       "      <td>0</td>\n",
       "    </tr>\n",
       "    <tr>\n",
       "      <th>1</th>\n",
       "      <td>15734973</td>\n",
       "      <td>20012083</td>\n",
       "      <td>O44</td>\n",
       "      <td>1798</td>\n",
       "    </tr>\n",
       "    <tr>\n",
       "      <th>2</th>\n",
       "      <td>15734973</td>\n",
       "      <td>20012083</td>\n",
       "      <td>D58</td>\n",
       "      <td>1798</td>\n",
       "    </tr>\n",
       "    <tr>\n",
       "      <th>3</th>\n",
       "      <td>11442057</td>\n",
       "      <td>21518990</td>\n",
       "      <td>O61</td>\n",
       "      <td>22</td>\n",
       "    </tr>\n",
       "    <tr>\n",
       "      <th>4</th>\n",
       "      <td>11442057</td>\n",
       "      <td>21518990</td>\n",
       "      <td>O10</td>\n",
       "      <td>22</td>\n",
       "    </tr>\n",
       "  </tbody>\n",
       "</table>\n",
       "</div>"
      ],
      "text/plain": [
       "   subject_id   hadm_id root  timedelta\n",
       "0    15734973  20475282  D58          0\n",
       "1    15734973  20012083  O44       1798\n",
       "2    15734973  20012083  D58       1798\n",
       "3    11442057  21518990  O61         22\n",
       "4    11442057  21518990  O10         22"
      ]
     },
     "execution_count": 9,
     "metadata": {},
     "output_type": "execute_result"
    }
   ],
   "source": [
    "cond.head()"
   ]
  },
  {
   "cell_type": "code",
   "execution_count": 12,
   "id": "printable-patrick",
   "metadata": {},
   "outputs": [],
   "source": [
    "cond=cond[cond['hadm_id'].isin(data['hadm_id'])]"
   ]
  },
  {
   "cell_type": "code",
   "execution_count": 15,
   "id": "activated-substitute",
   "metadata": {},
   "outputs": [
    {
     "data": {
      "text/plain": [
       "139536"
      ]
     },
     "execution_count": 15,
     "metadata": {},
     "output_type": "execute_result"
    }
   ],
   "source": [
    "cond['subject_id'].nunique()"
   ]
  },
  {
   "cell_type": "code",
   "execution_count": 16,
   "id": "lucky-needle",
   "metadata": {},
   "outputs": [
    {
     "data": {
      "text/plain": [
       "297274"
      ]
     },
     "execution_count": 16,
     "metadata": {},
     "output_type": "execute_result"
    }
   ],
   "source": [
    "cond['hadm_id'].nunique()"
   ]
  },
  {
   "cell_type": "code",
   "execution_count": 17,
   "id": "therapeutic-separation",
   "metadata": {},
   "outputs": [],
   "source": [
    "meds=pd.read_csv('data/long_format/meds/norm_med_nonproprietaryname.csv.gz', compression='gzip', header=0, index_col=None)"
   ]
  },
  {
   "cell_type": "code",
   "execution_count": 18,
   "id": "still-champion",
   "metadata": {},
   "outputs": [
    {
     "data": {
      "text/html": [
       "<div>\n",
       "<style scoped>\n",
       "    .dataframe tbody tr th:only-of-type {\n",
       "        vertical-align: middle;\n",
       "    }\n",
       "\n",
       "    .dataframe tbody tr th {\n",
       "        vertical-align: top;\n",
       "    }\n",
       "\n",
       "    .dataframe thead th {\n",
       "        text-align: right;\n",
       "    }\n",
       "</style>\n",
       "<table border=\"1\" class=\"dataframe\">\n",
       "  <thead>\n",
       "    <tr style=\"text-align: right;\">\n",
       "      <th></th>\n",
       "      <th>subject_id</th>\n",
       "      <th>hadm_id</th>\n",
       "      <th>nonproprietaryname</th>\n",
       "      <th>timedelta</th>\n",
       "    </tr>\n",
       "  </thead>\n",
       "  <tbody>\n",
       "    <tr>\n",
       "      <th>0</th>\n",
       "      <td>10000032</td>\n",
       "      <td>22595853</td>\n",
       "      <td>spironolactone</td>\n",
       "      <td>44</td>\n",
       "    </tr>\n",
       "    <tr>\n",
       "      <th>1</th>\n",
       "      <td>10000032</td>\n",
       "      <td>29079034</td>\n",
       "      <td>tramadol hydrochloride</td>\n",
       "      <td>122</td>\n",
       "    </tr>\n",
       "    <tr>\n",
       "      <th>2</th>\n",
       "      <td>10000032</td>\n",
       "      <td>29079034</td>\n",
       "      <td>docusate sodium</td>\n",
       "      <td>122</td>\n",
       "    </tr>\n",
       "    <tr>\n",
       "      <th>3</th>\n",
       "      <td>10000032</td>\n",
       "      <td>29079034</td>\n",
       "      <td>docusate sodium</td>\n",
       "      <td>122</td>\n",
       "    </tr>\n",
       "    <tr>\n",
       "      <th>4</th>\n",
       "      <td>10000032</td>\n",
       "      <td>25742920</td>\n",
       "      <td>fluticasone propionate</td>\n",
       "      <td>135</td>\n",
       "    </tr>\n",
       "  </tbody>\n",
       "</table>\n",
       "</div>"
      ],
      "text/plain": [
       "   subject_id   hadm_id      nonproprietaryname  timedelta\n",
       "0    10000032  22595853          spironolactone         44\n",
       "1    10000032  29079034  tramadol hydrochloride        122\n",
       "2    10000032  29079034         docusate sodium        122\n",
       "3    10000032  29079034         docusate sodium        122\n",
       "4    10000032  25742920  fluticasone propionate        135"
      ]
     },
     "execution_count": 18,
     "metadata": {},
     "output_type": "execute_result"
    }
   ],
   "source": [
    "meds.head()"
   ]
  },
  {
   "cell_type": "code",
   "execution_count": 36,
   "id": "martial-cholesterol",
   "metadata": {},
   "outputs": [],
   "source": [
    "meds=meds[meds['hadm_id'].isin(data['hadm_id'])]"
   ]
  },
  {
   "cell_type": "code",
   "execution_count": 38,
   "id": "informed-broadway",
   "metadata": {},
   "outputs": [
    {
     "data": {
      "text/plain": [
       "124082"
      ]
     },
     "execution_count": 38,
     "metadata": {},
     "output_type": "execute_result"
    }
   ],
   "source": [
    "meds['subject_id'].nunique()"
   ]
  },
  {
   "cell_type": "code",
   "execution_count": 39,
   "id": "stupid-prospect",
   "metadata": {},
   "outputs": [
    {
     "data": {
      "text/plain": [
       "256171"
      ]
     },
     "execution_count": 39,
     "metadata": {},
     "output_type": "execute_result"
    }
   ],
   "source": [
    "meds['hadm_id'].nunique()"
   ]
  },
  {
   "cell_type": "code",
   "execution_count": 19,
   "id": "parental-quality",
   "metadata": {},
   "outputs": [],
   "source": [
    "proc=pd.read_csv('data/long_format/proc/norm_proc_icd10.csv.gz', compression='gzip', header=0, index_col=None)"
   ]
  },
  {
   "cell_type": "code",
   "execution_count": 20,
   "id": "scheduled-provision",
   "metadata": {},
   "outputs": [
    {
     "data": {
      "text/html": [
       "<div>\n",
       "<style scoped>\n",
       "    .dataframe tbody tr th:only-of-type {\n",
       "        vertical-align: middle;\n",
       "    }\n",
       "\n",
       "    .dataframe tbody tr th {\n",
       "        vertical-align: top;\n",
       "    }\n",
       "\n",
       "    .dataframe thead th {\n",
       "        text-align: right;\n",
       "    }\n",
       "</style>\n",
       "<table border=\"1\" class=\"dataframe\">\n",
       "  <thead>\n",
       "    <tr style=\"text-align: right;\">\n",
       "      <th></th>\n",
       "      <th>subject_id</th>\n",
       "      <th>hadm_id</th>\n",
       "      <th>icd_code</th>\n",
       "      <th>timedelta</th>\n",
       "    </tr>\n",
       "  </thead>\n",
       "  <tbody>\n",
       "    <tr>\n",
       "      <th>0</th>\n",
       "      <td>10001401</td>\n",
       "      <td>21544441</td>\n",
       "      <td>0UT9FZZ</td>\n",
       "      <td>52</td>\n",
       "    </tr>\n",
       "    <tr>\n",
       "      <th>1</th>\n",
       "      <td>10001401</td>\n",
       "      <td>21544441</td>\n",
       "      <td>07BC4ZX</td>\n",
       "      <td>52</td>\n",
       "    </tr>\n",
       "    <tr>\n",
       "      <th>2</th>\n",
       "      <td>10001401</td>\n",
       "      <td>21544441</td>\n",
       "      <td>0TTB4ZZ</td>\n",
       "      <td>52</td>\n",
       "    </tr>\n",
       "    <tr>\n",
       "      <th>3</th>\n",
       "      <td>10001401</td>\n",
       "      <td>21544441</td>\n",
       "      <td>8E0W4CZ</td>\n",
       "      <td>52</td>\n",
       "    </tr>\n",
       "    <tr>\n",
       "      <th>4</th>\n",
       "      <td>10001401</td>\n",
       "      <td>21544441</td>\n",
       "      <td>0T1807C</td>\n",
       "      <td>52</td>\n",
       "    </tr>\n",
       "  </tbody>\n",
       "</table>\n",
       "</div>"
      ],
      "text/plain": [
       "   subject_id   hadm_id icd_code  timedelta\n",
       "0    10001401  21544441  0UT9FZZ         52\n",
       "1    10001401  21544441  07BC4ZX         52\n",
       "2    10001401  21544441  0TTB4ZZ         52\n",
       "3    10001401  21544441  8E0W4CZ         52\n",
       "4    10001401  21544441  0T1807C         52"
      ]
     },
     "execution_count": 20,
     "metadata": {},
     "output_type": "execute_result"
    }
   ],
   "source": [
    "proc.head()"
   ]
  },
  {
   "cell_type": "code",
   "execution_count": 37,
   "id": "written-enlargement",
   "metadata": {},
   "outputs": [],
   "source": [
    "proc=proc[proc['hadm_id'].isin(data['hadm_id'])]"
   ]
  },
  {
   "cell_type": "code",
   "execution_count": 40,
   "id": "ranging-observation",
   "metadata": {},
   "outputs": [
    {
     "data": {
      "text/plain": [
       "10810"
      ]
     },
     "execution_count": 40,
     "metadata": {},
     "output_type": "execute_result"
    }
   ],
   "source": [
    "proc['subject_id'].nunique()"
   ]
  },
  {
   "cell_type": "code",
   "execution_count": 41,
   "id": "enabling-twenty",
   "metadata": {},
   "outputs": [
    {
     "data": {
      "text/plain": [
       "13555"
      ]
     },
     "execution_count": 41,
     "metadata": {},
     "output_type": "execute_result"
    }
   ],
   "source": [
    "proc['hadm_id'].nunique()"
   ]
  },
  {
   "cell_type": "code",
   "execution_count": 21,
   "id": "amber-default",
   "metadata": {},
   "outputs": [],
   "source": [
    "labs=pd.read_csv('data/long_format/labs/norm_labs_units_cleaned.csv.gz', compression='gzip', header=0, index_col=None)"
   ]
  },
  {
   "cell_type": "code",
   "execution_count": 33,
   "id": "regional-receptor",
   "metadata": {},
   "outputs": [
    {
     "data": {
      "text/html": [
       "<div>\n",
       "<style scoped>\n",
       "    .dataframe tbody tr th:only-of-type {\n",
       "        vertical-align: middle;\n",
       "    }\n",
       "\n",
       "    .dataframe tbody tr th {\n",
       "        vertical-align: top;\n",
       "    }\n",
       "\n",
       "    .dataframe thead th {\n",
       "        text-align: right;\n",
       "    }\n",
       "</style>\n",
       "<table border=\"1\" class=\"dataframe\">\n",
       "  <thead>\n",
       "    <tr style=\"text-align: right;\">\n",
       "      <th></th>\n",
       "      <th>subject_id</th>\n",
       "      <th>hadm_id</th>\n",
       "      <th>valuenum</th>\n",
       "      <th>timedelta</th>\n",
       "      <th>valuenum.1</th>\n",
       "    </tr>\n",
       "  </thead>\n",
       "  <tbody>\n",
       "    <tr>\n",
       "      <th>0</th>\n",
       "      <td>10000032</td>\n",
       "      <td>22841357.0</td>\n",
       "      <td>15.7</td>\n",
       "      <td>95</td>\n",
       "      <td>15.7</td>\n",
       "    </tr>\n",
       "    <tr>\n",
       "      <th>20</th>\n",
       "      <td>10000032</td>\n",
       "      <td>22841357.0</td>\n",
       "      <td>99.0</td>\n",
       "      <td>95</td>\n",
       "      <td>99.0</td>\n",
       "    </tr>\n",
       "    <tr>\n",
       "      <th>21</th>\n",
       "      <td>10000032</td>\n",
       "      <td>22841357.0</td>\n",
       "      <td>137.0</td>\n",
       "      <td>95</td>\n",
       "      <td>137.0</td>\n",
       "    </tr>\n",
       "    <tr>\n",
       "      <th>23</th>\n",
       "      <td>10000032</td>\n",
       "      <td>22841357.0</td>\n",
       "      <td>3.6</td>\n",
       "      <td>95</td>\n",
       "      <td>3.6</td>\n",
       "    </tr>\n",
       "    <tr>\n",
       "      <th>24</th>\n",
       "      <td>10000032</td>\n",
       "      <td>22841357.0</td>\n",
       "      <td>6.6</td>\n",
       "      <td>95</td>\n",
       "      <td>6.6</td>\n",
       "    </tr>\n",
       "  </tbody>\n",
       "</table>\n",
       "</div>"
      ],
      "text/plain": [
       "    subject_id     hadm_id  valuenum  timedelta  valuenum.1\n",
       "0     10000032  22841357.0      15.7         95        15.7\n",
       "20    10000032  22841357.0      99.0         95        99.0\n",
       "21    10000032  22841357.0     137.0         95       137.0\n",
       "23    10000032  22841357.0       3.6         95         3.6\n",
       "24    10000032  22841357.0       6.6         95         6.6"
      ]
     },
     "execution_count": 33,
     "metadata": {},
     "output_type": "execute_result"
    }
   ],
   "source": [
    "labs.head()"
   ]
  },
  {
   "cell_type": "code",
   "execution_count": 34,
   "id": "extra-kidney",
   "metadata": {},
   "outputs": [
    {
     "data": {
      "text/plain": [
       "(31543774, 5)"
      ]
     },
     "execution_count": 34,
     "metadata": {},
     "output_type": "execute_result"
    }
   ],
   "source": [
    "labs.shape"
   ]
  },
  {
   "cell_type": "code",
   "execution_count": 32,
   "id": "sharing-prayer",
   "metadata": {},
   "outputs": [],
   "source": [
    "labs=labs.dropna()"
   ]
  },
  {
   "cell_type": "code",
   "execution_count": 29,
   "id": "vital-murder",
   "metadata": {},
   "outputs": [
    {
     "data": {
      "text/plain": [
       "subject_id           0\n",
       "hadm_id       21636266\n",
       "valuenum             0\n",
       "timedelta            0\n",
       "valuenum.1           0\n",
       "dtype: int64"
      ]
     },
     "execution_count": 29,
     "metadata": {},
     "output_type": "execute_result"
    }
   ],
   "source": [
    "labs.isna().sum()"
   ]
  },
  {
   "cell_type": "code",
   "execution_count": 31,
   "id": "diverse-leone",
   "metadata": {},
   "outputs": [
    {
     "data": {
      "text/plain": [
       "0.4068493743141224"
      ]
     },
     "execution_count": 31,
     "metadata": {},
     "output_type": "execute_result"
    }
   ],
   "source": [
    "21636266/53180040"
   ]
  },
  {
   "cell_type": "code",
   "execution_count": 35,
   "id": "united-study",
   "metadata": {},
   "outputs": [],
   "source": [
    "labs=labs[labs['hadm_id'].isin(data['hadm_id'])]"
   ]
  },
  {
   "cell_type": "code",
   "execution_count": 42,
   "id": "immediate-patent",
   "metadata": {},
   "outputs": [
    {
     "data": {
      "text/plain": [
       "114824"
      ]
     },
     "execution_count": 42,
     "metadata": {},
     "output_type": "execute_result"
    }
   ],
   "source": [
    "labs['subject_id'].nunique()"
   ]
  },
  {
   "cell_type": "code",
   "execution_count": 43,
   "id": "cleared-accent",
   "metadata": {},
   "outputs": [
    {
     "data": {
      "text/plain": [
       "239156"
      ]
     },
     "execution_count": 43,
     "metadata": {},
     "output_type": "execute_result"
    }
   ],
   "source": [
    "labs['hadm_id'].nunique()"
   ]
  },
  {
   "cell_type": "code",
   "execution_count": null,
   "id": "extreme-messaging",
   "metadata": {},
   "outputs": [],
   "source": []
  }
 ],
 "metadata": {
  "kernelspec": {
   "display_name": "Python 3",
   "language": "python",
   "name": "python3"
  },
  "language_info": {
   "codemirror_mode": {
    "name": "ipython",
    "version": 3
   },
   "file_extension": ".py",
   "mimetype": "text/x-python",
   "name": "python",
   "nbconvert_exporter": "python",
   "pygments_lexer": "ipython3",
   "version": "3.7.1"
  }
 },
 "nbformat": 4,
 "nbformat_minor": 5
}
