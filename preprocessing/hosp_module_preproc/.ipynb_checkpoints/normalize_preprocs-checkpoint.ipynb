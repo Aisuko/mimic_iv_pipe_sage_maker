{
 "cells": [
  {
   "cell_type": "code",
   "execution_count": 1,
   "metadata": {},
   "outputs": [],
   "source": [
    "import os\n",
    "import pickle\n",
    "import pandas as pd\n",
    "os.chdir('../../')\n",
    "import numpy as np"
   ]
  },
  {
   "cell_type": "code",
   "execution_count": 11,
   "metadata": {},
   "outputs": [],
   "source": [
    "# For each dataset, grab minimum datetime per patient (must be from non-NaN rows of that dataset's feature col).\n",
    "# Then, for each patient, find the lowest minimum and make that their timedelta_0\n",
    "\n",
    "\n",
    "def get_timedelta_0(path, target_col, time_col):\n",
    "    df = None\n",
    "    if path.endswith('gzip'):\n",
    "        df = pd.read_pickle(path, compression='gzip')\n",
    "    else:\n",
    "        df = pd.read_csv(path, compression='gzip', header=0, index_col=None, parse_dates=[time_col])\n",
    "    if target_col:\n",
    "        df.dropna(subset=[target_col], inplace=True)\n",
    "        \n",
    "    return pd.DataFrame(df.groupby('subject_id')[time_col].min()).reset_index()\n",
    "\n",
    "def get_cohort_timedeltas(paths:list, target_cols:list, time_cols:list):\n",
    "    cohort = pd.read_pickle(\"./data/cohort.gzip\", compression='gzip')[['subject_id', 'label']]\n",
    "    for path, target_col, time_col in zip(paths, target_cols, time_cols):\n",
    "        cohort = cohort.merge(\n",
    "            get_timedelta_0(path, target_col, time_col),\n",
    "            how='left',\n",
    "            left_on='subject_id',\n",
    "            right_on='subject_id',\n",
    "        )\n",
    "    cohort['timedelta_0'] = cohort[['admittime','charttime','starttime','chartdate']].min(axis=1, skipna=True)\n",
    "    return cohort[['subject_id', 'timedelta_0']]\n",
    "\n",
    "def long_format_modules(cohort, paths, file_names, target_cols:list, time_cols:list):\n",
    "    for path, file_name, target_col, time_col in zip(paths, file_names, target_cols, time_cols):\n",
    "        df = None\n",
    "        if path.endswith('gzip'):\n",
    "            df = pd.read_pickle(path, compression='gzip')\n",
    "        else:\n",
    "            df = pd.read_csv(path, compression='gzip', header=0, index_col=None, parse_dates=[time_col])\n",
    "\n",
    "        long_df = df.merge(cohort[['subject_id','timedelta_0']], how='inner', left_on='subject_id', right_on='subject_id')\n",
    "        long_df['timedelta'] = (long_df[time_col] - long_df['timedelta_0']).dt.days\n",
    "\n",
    "        cols = ['subject_id', 'hadm_id', target_col, 'timedelta']\n",
    "        if 'lab' in path:\n",
    "            cols.append('itemid')\n",
    "\n",
    "        long_df[cols].to_csv(file_name, index=False, compression='gzip')\n",
    "\n"
   ]
  },
  {
   "cell_type": "code",
   "execution_count": 3,
   "metadata": {},
   "outputs": [],
   "source": [
    "paths= [\n",
    "    './data/adm_cohort.gzip',\n",
    "    './data/long_format/labs/preproc_labs_units_cleaned.gzip',\n",
    "    './data/long_format/meds/preproc_med_nonproprietaryname.csv.gz',\n",
    "    './data/long_format/proc/preproc_proc_icd10.csv.gz'\n",
    "    ]\n",
    "time_cols = ['admittime', 'charttime', 'starttime', 'chartdate']\n",
    "target_cols = [None, 'valuenum', 'nonproprietaryname', 'icd_code']\n",
    "cohort = get_cohort_timedeltas(paths, target_cols, time_cols)"
   ]
  },
  {
   "cell_type": "code",
   "execution_count": 5,
   "metadata": {},
   "outputs": [
    {
     "data": {
      "text/html": [
       "<div>\n",
       "<style scoped>\n",
       "    .dataframe tbody tr th:only-of-type {\n",
       "        vertical-align: middle;\n",
       "    }\n",
       "\n",
       "    .dataframe tbody tr th {\n",
       "        vertical-align: top;\n",
       "    }\n",
       "\n",
       "    .dataframe thead th {\n",
       "        text-align: right;\n",
       "    }\n",
       "</style>\n",
       "<table border=\"1\" class=\"dataframe\">\n",
       "  <thead>\n",
       "    <tr style=\"text-align: right;\">\n",
       "      <th></th>\n",
       "      <th>subject_id</th>\n",
       "      <th>timedelta_0</th>\n",
       "    </tr>\n",
       "  </thead>\n",
       "  <tbody>\n",
       "    <tr>\n",
       "      <th>0</th>\n",
       "      <td>10018928</td>\n",
       "      <td>2125-01-03 12:25:00</td>\n",
       "    </tr>\n",
       "    <tr>\n",
       "      <th>1</th>\n",
       "      <td>10074117</td>\n",
       "      <td>2118-02-17 20:45:00</td>\n",
       "    </tr>\n",
       "    <tr>\n",
       "      <th>2</th>\n",
       "      <td>10076543</td>\n",
       "      <td>2187-03-14 10:00:00</td>\n",
       "    </tr>\n",
       "    <tr>\n",
       "      <th>3</th>\n",
       "      <td>10098428</td>\n",
       "      <td>2119-05-12 00:20:00</td>\n",
       "    </tr>\n",
       "    <tr>\n",
       "      <th>4</th>\n",
       "      <td>10127185</td>\n",
       "      <td>2141-10-31 10:00:00</td>\n",
       "    </tr>\n",
       "    <tr>\n",
       "      <th>...</th>\n",
       "      <td>...</td>\n",
       "      <td>...</td>\n",
       "    </tr>\n",
       "    <tr>\n",
       "      <th>144043</th>\n",
       "      <td>19997448</td>\n",
       "      <td>2120-11-22 12:55:00</td>\n",
       "    </tr>\n",
       "    <tr>\n",
       "      <th>144044</th>\n",
       "      <td>19997887</td>\n",
       "      <td>2113-08-22 10:17:00</td>\n",
       "    </tr>\n",
       "    <tr>\n",
       "      <th>144045</th>\n",
       "      <td>19998203</td>\n",
       "      <td>2132-12-15 02:35:00</td>\n",
       "    </tr>\n",
       "    <tr>\n",
       "      <th>144046</th>\n",
       "      <td>19998350</td>\n",
       "      <td>2127-05-09 19:40:00</td>\n",
       "    </tr>\n",
       "    <tr>\n",
       "      <th>144047</th>\n",
       "      <td>19999068</td>\n",
       "      <td>2161-08-24 03:45:00</td>\n",
       "    </tr>\n",
       "  </tbody>\n",
       "</table>\n",
       "<p>144048 rows × 2 columns</p>\n",
       "</div>"
      ],
      "text/plain": [
       "        subject_id         timedelta_0\n",
       "0         10018928 2125-01-03 12:25:00\n",
       "1         10074117 2118-02-17 20:45:00\n",
       "2         10076543 2187-03-14 10:00:00\n",
       "3         10098428 2119-05-12 00:20:00\n",
       "4         10127185 2141-10-31 10:00:00\n",
       "...            ...                 ...\n",
       "144043    19997448 2120-11-22 12:55:00\n",
       "144044    19997887 2113-08-22 10:17:00\n",
       "144045    19998203 2132-12-15 02:35:00\n",
       "144046    19998350 2127-05-09 19:40:00\n",
       "144047    19999068 2161-08-24 03:45:00\n",
       "\n",
       "[144048 rows x 2 columns]"
      ]
     },
     "execution_count": 5,
     "metadata": {},
     "output_type": "execute_result"
    }
   ],
   "source": [
    "cohort"
   ]
  },
  {
   "cell_type": "code",
   "execution_count": 6,
   "metadata": {},
   "outputs": [
    {
     "data": {
      "text/html": [
       "<div>\n",
       "<style scoped>\n",
       "    .dataframe tbody tr th:only-of-type {\n",
       "        vertical-align: middle;\n",
       "    }\n",
       "\n",
       "    .dataframe tbody tr th {\n",
       "        vertical-align: top;\n",
       "    }\n",
       "\n",
       "    .dataframe thead th {\n",
       "        text-align: right;\n",
       "    }\n",
       "</style>\n",
       "<table border=\"1\" class=\"dataframe\">\n",
       "  <thead>\n",
       "    <tr style=\"text-align: right;\">\n",
       "      <th></th>\n",
       "      <th>subject_id</th>\n",
       "      <th>timedelta_0</th>\n",
       "    </tr>\n",
       "  </thead>\n",
       "  <tbody>\n",
       "  </tbody>\n",
       "</table>\n",
       "</div>"
      ],
      "text/plain": [
       "Empty DataFrame\n",
       "Columns: [subject_id, timedelta_0]\n",
       "Index: []"
      ]
     },
     "execution_count": 6,
     "metadata": {},
     "output_type": "execute_result"
    }
   ],
   "source": [
    "cohort.loc[cohort.timedelta_0.isna()]"
   ]
  },
  {
   "cell_type": "code",
   "execution_count": 12,
   "metadata": {},
   "outputs": [],
   "source": [
    "paths= [\n",
    "    './data/long_format/diag/preproc_diag_icd10_roots.csv.gz',\n",
    "    './data/long_format/labs/preproc_labs_units_cleaned.csv.gz',\n",
    "    './data/long_format/meds/preproc_med_nonproprietaryname.csv.gz',\n",
    "    './data/long_format/proc/preproc_proc_icd10.csv.gz'\n",
    "    ]\n",
    "\n",
    "file_names = [\n",
    "    './data/long_format/diag/norm_diag_icd10_roots.csv.gz',\n",
    "    './data/long_format/labs/norm_labs_units_cleaned.csv.gz',\n",
    "    './data/long_format/meds/norm_med_nonproprietaryname.csv.gz',\n",
    "    './data/long_format/proc/norm_proc_icd10.csv.gz'\n",
    "    ]\n",
    "time_cols = ['admittime', 'charttime', 'starttime', 'chartdate']\n",
    "target_cols = ['root', 'valuenum', 'nonproprietaryname', 'icd_code']\n",
    "\n",
    "long_format_modules(cohort, paths, file_names, target_cols, time_cols)"
   ]
  },
  {
   "cell_type": "markdown",
   "metadata": {},
   "source": [
    "### Normalizing"
   ]
  },
  {
   "cell_type": "code",
   "execution_count": 5,
   "metadata": {},
   "outputs": [],
   "source": [
    "# Save gzipped pickle files as csv\n",
    "for dirpath, subdirs, files in os.walk(\"./data/long_format\"):\n",
    "    for x in files:\n",
    "        path = os.path.join(dirpath, x)\n",
    "        pd.read_pickle(path, compression='gzip').to_csv(path[:-5] + \".csv.gz\", compression='gzip', index=False)"
   ]
  },
  {
   "cell_type": "code",
   "execution_count": 20,
   "metadata": {},
   "outputs": [],
   "source": [
    "for name in file_names:\n",
    "    df = pd.read_csv(name, compression='gzip', header=0, index_col=None)\n",
    "    g = df.groupby('subject_id')['timedelta']\n",
    "    df['timedelta'] -= g.transform('min')\n",
    "\n",
    "    df.to_csv(name[:-7] + \"_norm.csv.gz\", compression='gzip', index=False)"
   ]
  },
  {
   "cell_type": "code",
   "execution_count": 13,
   "metadata": {},
   "outputs": [
    {
     "data": {
      "text/html": [
       "<div>\n",
       "<style scoped>\n",
       "    .dataframe tbody tr th:only-of-type {\n",
       "        vertical-align: middle;\n",
       "    }\n",
       "\n",
       "    .dataframe tbody tr th {\n",
       "        vertical-align: top;\n",
       "    }\n",
       "\n",
       "    .dataframe thead th {\n",
       "        text-align: right;\n",
       "    }\n",
       "</style>\n",
       "<table border=\"1\" class=\"dataframe\">\n",
       "  <thead>\n",
       "    <tr style=\"text-align: right;\">\n",
       "      <th></th>\n",
       "      <th>subject_id</th>\n",
       "      <th>hadm_id</th>\n",
       "      <th>root</th>\n",
       "      <th>timedelta</th>\n",
       "    </tr>\n",
       "  </thead>\n",
       "  <tbody>\n",
       "    <tr>\n",
       "      <th>0</th>\n",
       "      <td>15734973</td>\n",
       "      <td>20475282</td>\n",
       "      <td>D58</td>\n",
       "      <td>0</td>\n",
       "    </tr>\n",
       "    <tr>\n",
       "      <th>1</th>\n",
       "      <td>15734973</td>\n",
       "      <td>20012083</td>\n",
       "      <td>O44</td>\n",
       "      <td>1798</td>\n",
       "    </tr>\n",
       "    <tr>\n",
       "      <th>2</th>\n",
       "      <td>15734973</td>\n",
       "      <td>20012083</td>\n",
       "      <td>D58</td>\n",
       "      <td>1798</td>\n",
       "    </tr>\n",
       "    <tr>\n",
       "      <th>3</th>\n",
       "      <td>11442057</td>\n",
       "      <td>21518990</td>\n",
       "      <td>O61</td>\n",
       "      <td>22</td>\n",
       "    </tr>\n",
       "    <tr>\n",
       "      <th>4</th>\n",
       "      <td>11442057</td>\n",
       "      <td>21518990</td>\n",
       "      <td>O10</td>\n",
       "      <td>22</td>\n",
       "    </tr>\n",
       "    <tr>\n",
       "      <th>...</th>\n",
       "      <td>...</td>\n",
       "      <td>...</td>\n",
       "      <td>...</td>\n",
       "      <td>...</td>\n",
       "    </tr>\n",
       "    <tr>\n",
       "      <th>2800973</th>\n",
       "      <td>18104115</td>\n",
       "      <td>23751828</td>\n",
       "      <td>L02</td>\n",
       "      <td>2469</td>\n",
       "    </tr>\n",
       "    <tr>\n",
       "      <th>2800974</th>\n",
       "      <td>18104115</td>\n",
       "      <td>23751828</td>\n",
       "      <td>Z21</td>\n",
       "      <td>2469</td>\n",
       "    </tr>\n",
       "    <tr>\n",
       "      <th>2800975</th>\n",
       "      <td>18104115</td>\n",
       "      <td>23751828</td>\n",
       "      <td>Z23</td>\n",
       "      <td>2469</td>\n",
       "    </tr>\n",
       "    <tr>\n",
       "      <th>2800976</th>\n",
       "      <td>18104115</td>\n",
       "      <td>23751828</td>\n",
       "      <td>E78</td>\n",
       "      <td>2469</td>\n",
       "    </tr>\n",
       "    <tr>\n",
       "      <th>2800977</th>\n",
       "      <td>18104115</td>\n",
       "      <td>23751828</td>\n",
       "      <td>N40</td>\n",
       "      <td>2469</td>\n",
       "    </tr>\n",
       "  </tbody>\n",
       "</table>\n",
       "<p>2800978 rows × 4 columns</p>\n",
       "</div>"
      ],
      "text/plain": [
       "         subject_id   hadm_id root  timedelta\n",
       "0          15734973  20475282  D58          0\n",
       "1          15734973  20012083  O44       1798\n",
       "2          15734973  20012083  D58       1798\n",
       "3          11442057  21518990  O61         22\n",
       "4          11442057  21518990  O10         22\n",
       "...             ...       ...  ...        ...\n",
       "2800973    18104115  23751828  L02       2469\n",
       "2800974    18104115  23751828  Z21       2469\n",
       "2800975    18104115  23751828  Z23       2469\n",
       "2800976    18104115  23751828  E78       2469\n",
       "2800977    18104115  23751828  N40       2469\n",
       "\n",
       "[2800978 rows x 4 columns]"
      ]
     },
     "execution_count": 13,
     "metadata": {},
     "output_type": "execute_result"
    }
   ],
   "source": [
    "test = pd.read_csv(\"./data/long_format/diag/norm_diag_icd10_roots.csv.gz\", compression='gzip', header=0, index_col=None)\n",
    "test\n"
   ]
  },
  {
   "cell_type": "code",
   "execution_count": 38,
   "metadata": {},
   "outputs": [
    {
     "name": "stdout",
     "output_type": "stream",
     "text": [
      "NOW TESTING:  DIAG\n",
      "\tCurrent dataset:  ./data/long_format/diag\\norm_diag_icd10_roots.csv.gz\n",
      "\t\tShapes are identical\n",
      "NOW TESTING:  MEDS\n",
      "\tCurrent dataset:  ./data/long_format/meds\\norm_med_nonproprietaryname.csv.gz\n",
      "\t\tShapes are identical\n",
      "NOW TESTING:  LABS\n",
      "\tCurrent dataset:  ./data/long_format/labs\\norm_labs_units_cleaned.csv.gz\n",
      "\t\tShapes are identical\n",
      "NOW TESTING:  PROC\n",
      "\tCurrent dataset:  ./data/long_format/proc\\norm_proc_icd10.csv.gz\n",
      "\t\tShapes are identical\n",
      "30 IDs do not have a timedelta_0 in any of the 4 hosp datasets, but are present in patients and admissions\n",
      "18 IDs are not present in any of the 4 hosp datasets, but are present in patients and admissions\n"
     ]
    }
   ],
   "source": [
    "def test_size(path:str, cohort):\n",
    "    subset_norm = set()\n",
    "    subset_base = set()\n",
    "    for dirpath, subdirs, files in os.walk(path):\n",
    "        for x in files:\n",
    "            f_path = os.path.join(dirpath, x)\n",
    "            # print(f_path)\n",
    "            if \"norm_\" in f_path:\n",
    "                print(\"\\tCurrent dataset: \", f_path)\n",
    "                norm = pd.read_csv(f_path, compression='gzip', header=0, index_col=None)\n",
    "                base = pd.read_csv(f_path.replace(\"norm_\", \"preproc_\"), compression='gzip', header=0, index_col=None)\n",
    "\n",
    "                # Test case 1; ensure shapes between original and normalized data haven't changed\n",
    "                assert norm.shape == base.shape, f\"Error; norm.shape should be {base.shape}, was {norm.shape}\"\n",
    "                print(\"\\t\\tShapes are identical\")\n",
    "\n",
    "                # Test case 2; each unique subject_id should have a timedelta row of 0 for their minimum\n",
    "                # present recording\n",
    "                subset_norm.update(norm.loc[norm.timedelta == 0].subject_id.unique())\n",
    "                subset_base.update(base.subject_id.unique())\n",
    "    return subset_norm, subset_base\n",
    "\n",
    "def test_datasets(base_path, directories, cohort):\n",
    "    norm_ids = set()\n",
    "    preproc_ids = set()\n",
    "    total_ids = cohort.subject_id.nunique()\n",
    "    for f in directories:\n",
    "        print(\"NOW TESTING: \", f.upper())\n",
    "        subset_norm, subset_base = test_size(base_path + f, cohort)\n",
    "        norm_ids.update(subset_norm)\n",
    "        preproc_ids.update(subset_base)\n",
    "\n",
    "    # assert len(norm_ids) == len(preproc_ids), f\"Error; only {len(norm_ids)} unique ids in norms, should be {len(preproc_ids)}\"\n",
    "    # print(\"Identical number of unique IDs in normalized and preprocessed datasets\")\n",
    "    print(f\"{total_ids - len(norm_ids)} IDs do not have a timedelta_0 in any of the 4 hosp datasets, but are present in patients and admissions\")\n",
    "    print(f\"{total_ids - len(preproc_ids)} IDs are not present in any of the 4 hosp datasets, but are present in patients and admissions\")\n",
    "\n",
    "test_datasets(\"./data/long_format/\", [\"diag\", \"meds\", \"labs\", \"proc\"], cohort)"
   ]
  },
  {
   "cell_type": "code",
   "execution_count": 39,
   "metadata": {},
   "outputs": [
    {
     "data": {
      "text/plain": [
       "144048"
      ]
     },
     "execution_count": 39,
     "metadata": {},
     "output_type": "execute_result"
    }
   ],
   "source": [
    "cohort.shape[0]"
   ]
  },
  {
   "cell_type": "code",
   "execution_count": 57,
   "metadata": {},
   "outputs": [
    {
     "data": {
      "text/plain": [
       "142558"
      ]
     },
     "execution_count": 57,
     "metadata": {},
     "output_type": "execute_result"
    }
   ],
   "source": [
    "pd.read_csv('./data/long_format/diag\\preproc_diag_icd10.csv.gz', compression='gzip', header=0, index_col=None).subject_id.nunique()"
   ]
  },
  {
   "cell_type": "code",
   "execution_count": null,
   "metadata": {},
   "outputs": [],
   "source": []
  }
 ],
 "metadata": {
  "hide_input": false,
  "interpreter": {
   "hash": "39d0725753d0ad0b2b78de10b3b7451c8aa9b3c904c7c1796a98e42af75eb3a5"
  },
  "kernelspec": {
   "display_name": "Python 3",
   "language": "python",
   "name": "python3"
  },
  "language_info": {
   "codemirror_mode": {
    "name": "ipython",
    "version": 3
   },
   "file_extension": ".py",
   "mimetype": "text/x-python",
   "name": "python",
   "nbconvert_exporter": "python",
   "pygments_lexer": "ipython3",
   "version": "3.7.1"
  }
 },
 "nbformat": 4,
 "nbformat_minor": 2
}
