{
 "cells": [
  {
   "cell_type": "markdown",
   "metadata": {},
   "source": [
    "# Preprocessing: procedures_icd Table"
   ]
  },
  {
   "cell_type": "code",
   "execution_count": 1,
   "metadata": {},
   "outputs": [],
   "source": [
    "import os\n",
    "os.chdir('../../')\n",
    "from utils.hosp_preprocess_util import *\n",
    "import pickle"
   ]
  },
  {
   "cell_type": "markdown",
   "metadata": {},
   "source": [
    "### Getting the Procedures table into long format with timedelta"
   ]
  },
  {
   "cell_type": "code",
   "execution_count": 2,
   "metadata": {},
   "outputs": [
    {
     "data": {
      "text/html": [
       "<div>\n",
       "<style scoped>\n",
       "    .dataframe tbody tr th:only-of-type {\n",
       "        vertical-align: middle;\n",
       "    }\n",
       "\n",
       "    .dataframe tbody tr th {\n",
       "        vertical-align: top;\n",
       "    }\n",
       "\n",
       "    .dataframe thead th {\n",
       "        text-align: right;\n",
       "    }\n",
       "</style>\n",
       "<table border=\"1\" class=\"dataframe\">\n",
       "  <thead>\n",
       "    <tr style=\"text-align: right;\">\n",
       "      <th></th>\n",
       "      <th>subject_id</th>\n",
       "      <th>hadm_id</th>\n",
       "      <th>seq_num</th>\n",
       "      <th>chartdate</th>\n",
       "      <th>icd_code</th>\n",
       "      <th>icd_version</th>\n",
       "      <th>admit_year</th>\n",
       "      <th>label</th>\n",
       "      <th>base_anchor_year</th>\n",
       "      <th>max_year_group</th>\n",
       "      <th>min_year_group</th>\n",
       "      <th>anchor_year</th>\n",
       "      <th>timedelta_years</th>\n",
       "    </tr>\n",
       "  </thead>\n",
       "  <tbody>\n",
       "    <tr>\n",
       "      <th>516275</th>\n",
       "      <td>10000032</td>\n",
       "      <td>25742920</td>\n",
       "      <td>1</td>\n",
       "      <td>2180-08-06</td>\n",
       "      <td>5491</td>\n",
       "      <td>9</td>\n",
       "      <td>2180</td>\n",
       "      <td>0</td>\n",
       "      <td>2174</td>\n",
       "      <td>2016</td>\n",
       "      <td>2014</td>\n",
       "      <td>2180</td>\n",
       "      <td>6.0</td>\n",
       "    </tr>\n",
       "    <tr>\n",
       "      <th>516273</th>\n",
       "      <td>10000032</td>\n",
       "      <td>22595853</td>\n",
       "      <td>1</td>\n",
       "      <td>2180-05-07</td>\n",
       "      <td>5491</td>\n",
       "      <td>9</td>\n",
       "      <td>2180</td>\n",
       "      <td>0</td>\n",
       "      <td>2174</td>\n",
       "      <td>2016</td>\n",
       "      <td>2014</td>\n",
       "      <td>2180</td>\n",
       "      <td>6.0</td>\n",
       "    </tr>\n",
       "    <tr>\n",
       "      <th>516274</th>\n",
       "      <td>10000032</td>\n",
       "      <td>22841357</td>\n",
       "      <td>1</td>\n",
       "      <td>2180-06-27</td>\n",
       "      <td>5491</td>\n",
       "      <td>9</td>\n",
       "      <td>2180</td>\n",
       "      <td>0</td>\n",
       "      <td>2174</td>\n",
       "      <td>2016</td>\n",
       "      <td>2014</td>\n",
       "      <td>2180</td>\n",
       "      <td>6.0</td>\n",
       "    </tr>\n",
       "    <tr>\n",
       "      <th>473014</th>\n",
       "      <td>10000280</td>\n",
       "      <td>25852320</td>\n",
       "      <td>1</td>\n",
       "      <td>2151-03-18</td>\n",
       "      <td>8938</td>\n",
       "      <td>9</td>\n",
       "      <td>2151</td>\n",
       "      <td>0</td>\n",
       "      <td>2151</td>\n",
       "      <td>2010</td>\n",
       "      <td>2008</td>\n",
       "      <td>2151</td>\n",
       "      <td>0.0</td>\n",
       "    </tr>\n",
       "    <tr>\n",
       "      <th>248724</th>\n",
       "      <td>10000560</td>\n",
       "      <td>28979390</td>\n",
       "      <td>1</td>\n",
       "      <td>2189-10-16</td>\n",
       "      <td>5551</td>\n",
       "      <td>9</td>\n",
       "      <td>2189</td>\n",
       "      <td>0</td>\n",
       "      <td>2189</td>\n",
       "      <td>2010</td>\n",
       "      <td>2008</td>\n",
       "      <td>2189</td>\n",
       "      <td>0.0</td>\n",
       "    </tr>\n",
       "  </tbody>\n",
       "</table>\n",
       "</div>"
      ],
      "text/plain": [
       "        subject_id   hadm_id  seq_num  chartdate icd_code  icd_version  \\\n",
       "516275    10000032  25742920        1 2180-08-06     5491            9   \n",
       "516273    10000032  22595853        1 2180-05-07     5491            9   \n",
       "516274    10000032  22841357        1 2180-06-27     5491            9   \n",
       "473014    10000280  25852320        1 2151-03-18     8938            9   \n",
       "248724    10000560  28979390        1 2189-10-16     5551            9   \n",
       "\n",
       "        admit_year  label  base_anchor_year  max_year_group  min_year_group  \\\n",
       "516275        2180      0              2174            2016            2014   \n",
       "516273        2180      0              2174            2016            2014   \n",
       "516274        2180      0              2174            2016            2014   \n",
       "473014        2151      0              2151            2010            2008   \n",
       "248724        2189      0              2189            2010            2008   \n",
       "\n",
       "        anchor_year  timedelta_years  \n",
       "516275         2180              6.0  \n",
       "516273         2180              6.0  \n",
       "516274         2180              6.0  \n",
       "473014         2151              0.0  \n",
       "248724         2189              0.0  "
      ]
     },
     "execution_count": 2,
     "metadata": {},
     "output_type": "execute_result"
    }
   ],
   "source": [
    "# Use custom function to get timedelta according to the procedure's chartdate\n",
    "proc = timestamp_cohort_data(\"./mimic-iv-1.0/hosp/procedures_icd.csv.gz\", './data/cohort.gzip', 'chartdate', 'base_anchor_year', dtypes=None, usecols=None)\n",
    "proc.head()"
   ]
  },
  {
   "cell_type": "code",
   "execution_count": 3,
   "metadata": {},
   "outputs": [
    {
     "name": "stdout",
     "output_type": "stream",
     "text": [
      "# Unique ICD9 Procedures:   2549\n",
      "# Unique ICD10 Procedures:  4932\n",
      "\n",
      "Value counts of each ICD version:\n",
      " 9     466147\n",
      "10     44906\n",
      "Name: icd_version, dtype: int64\n"
     ]
    }
   ],
   "source": [
    "# Print unique counts and value_counts\n",
    "print(\"# Unique ICD9 Procedures:  \", proc.loc[proc.icd_version == 9].icd_code.dropna().nunique())\n",
    "print(\"# Unique ICD10 Procedures: \",proc.loc[proc.icd_version == 10].icd_code.dropna().nunique())\n",
    "\n",
    "print(\"\\nValue counts of each ICD version:\\n\", proc.icd_version.value_counts())"
   ]
  },
  {
   "cell_type": "markdown",
   "metadata": {},
   "source": [
    "### Saving the long-format dataset"
   ]
  },
  {
   "cell_type": "code",
   "execution_count": 4,
   "metadata": {},
   "outputs": [],
   "source": [
    "# Save two versions of procedures dataset; one with all procedure codes (ICD9 & 10), and then one with only ICD10 codes\n",
    "proc[['subject_id', 'hadm_id', 'icd_code', 'chartdate']].dropna().to_csv(\"./data/long_format/proc/preproc_proc.csv.gz\", compression='gzip', index=False)\n",
    "proc.loc[proc.icd_version == 10][['subject_id', 'hadm_id', 'icd_code', 'chartdate']].dropna().to_csv(\"./data/long_format/proc/preproc_proc_icd10.csv.gz\", compression='gzip', index=False)"
   ]
  },
  {
   "cell_type": "code",
   "execution_count": 7,
   "metadata": {},
   "outputs": [
    {
     "data": {
      "text/html": [
       "<div>\n",
       "<style scoped>\n",
       "    .dataframe tbody tr th:only-of-type {\n",
       "        vertical-align: middle;\n",
       "    }\n",
       "\n",
       "    .dataframe tbody tr th {\n",
       "        vertical-align: top;\n",
       "    }\n",
       "\n",
       "    .dataframe thead th {\n",
       "        text-align: right;\n",
       "    }\n",
       "</style>\n",
       "<table border=\"1\" class=\"dataframe\">\n",
       "  <thead>\n",
       "    <tr style=\"text-align: right;\">\n",
       "      <th></th>\n",
       "      <th>subject_id</th>\n",
       "      <th>hadm_id</th>\n",
       "      <th>icd_code</th>\n",
       "      <th>timedelta_days</th>\n",
       "    </tr>\n",
       "  </thead>\n",
       "  <tbody>\n",
       "    <tr>\n",
       "      <th>374582</th>\n",
       "      <td>10001401</td>\n",
       "      <td>21544441</td>\n",
       "      <td>0UT9FZZ</td>\n",
       "      <td>2345</td>\n",
       "    </tr>\n",
       "    <tr>\n",
       "      <th>374583</th>\n",
       "      <td>10001401</td>\n",
       "      <td>21544441</td>\n",
       "      <td>07BC4ZX</td>\n",
       "      <td>2345</td>\n",
       "    </tr>\n",
       "    <tr>\n",
       "      <th>374584</th>\n",
       "      <td>10001401</td>\n",
       "      <td>21544441</td>\n",
       "      <td>0TTB4ZZ</td>\n",
       "      <td>2345</td>\n",
       "    </tr>\n",
       "    <tr>\n",
       "      <th>374585</th>\n",
       "      <td>10001401</td>\n",
       "      <td>21544441</td>\n",
       "      <td>8E0W4CZ</td>\n",
       "      <td>2345</td>\n",
       "    </tr>\n",
       "    <tr>\n",
       "      <th>374586</th>\n",
       "      <td>10001401</td>\n",
       "      <td>21544441</td>\n",
       "      <td>0T1807C</td>\n",
       "      <td>2345</td>\n",
       "    </tr>\n",
       "  </tbody>\n",
       "</table>\n",
       "</div>"
      ],
      "text/plain": [
       "        subject_id   hadm_id icd_code  timedelta_days\n",
       "374582    10001401  21544441  0UT9FZZ            2345\n",
       "374583    10001401  21544441  07BC4ZX            2345\n",
       "374584    10001401  21544441  0TTB4ZZ            2345\n",
       "374585    10001401  21544441  8E0W4CZ            2345\n",
       "374586    10001401  21544441  0T1807C            2345"
      ]
     },
     "execution_count": 7,
     "metadata": {},
     "output_type": "execute_result"
    }
   ],
   "source": [
    "pd.read_pickle(\"./data/long_format/proc/long_proc_icd10_p4.gzip\", compression='gzip')"
   ]
  }
 ],
 "metadata": {
  "hide_input": false,
  "interpreter": {
   "hash": "39d0725753d0ad0b2b78de10b3b7451c8aa9b3c904c7c1796a98e42af75eb3a5"
  },
  "kernelspec": {
   "display_name": "Python 3",
   "language": "python",
   "name": "python3"
  },
  "language_info": {
   "codemirror_mode": {
    "name": "ipython",
    "version": 3
   },
   "file_extension": ".py",
   "mimetype": "text/x-python",
   "name": "python",
   "nbconvert_exporter": "python",
   "pygments_lexer": "ipython3",
   "version": "3.7.1"
  }
 },
 "nbformat": 4,
 "nbformat_minor": 2
}
