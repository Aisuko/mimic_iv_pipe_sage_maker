{
 "cells": [
  {
   "cell_type": "markdown",
   "metadata": {},
   "source": [
    "# Preprocessing: prescriptions Table"
   ]
  },
  {
   "cell_type": "code",
   "execution_count": 1,
   "metadata": {},
   "outputs": [],
   "source": [
    "import pickle\n",
    "import os\n",
    "os.chdir('../../')\n",
    "from utils.hosp_preprocess_util import *    # module of preprocessing functions"
   ]
  },
  {
   "cell_type": "markdown",
   "metadata": {},
   "source": [
    "### Reading in Prescriptions Data"
   ]
  },
  {
   "cell_type": "code",
   "execution_count": null,
   "metadata": {},
   "outputs": [
    {
     "data": {
      "text/html": [
       "<div>\n",
       "<style scoped>\n",
       "    .dataframe tbody tr th:only-of-type {\n",
       "        vertical-align: middle;\n",
       "    }\n",
       "\n",
       "    .dataframe tbody tr th {\n",
       "        vertical-align: top;\n",
       "    }\n",
       "\n",
       "    .dataframe thead th {\n",
       "        text-align: right;\n",
       "    }\n",
       "</style>\n",
       "<table border=\"1\" class=\"dataframe\">\n",
       "  <thead>\n",
       "    <tr style=\"text-align: right;\">\n",
       "      <th></th>\n",
       "      <th>subject_id</th>\n",
       "      <th>hadm_id</th>\n",
       "      <th>starttime</th>\n",
       "      <th>drug</th>\n",
       "      <th>ndc</th>\n",
       "    </tr>\n",
       "  </thead>\n",
       "  <tbody>\n",
       "    <tr>\n",
       "      <th>0</th>\n",
       "      <td>17868682</td>\n",
       "      <td>22726960</td>\n",
       "      <td>2160-01-07 08:00:00</td>\n",
       "      <td>BuPROPion (Sustained Release)</td>\n",
       "      <td>591083960.0</td>\n",
       "    </tr>\n",
       "    <tr>\n",
       "      <th>1</th>\n",
       "      <td>17868682</td>\n",
       "      <td>22726960</td>\n",
       "      <td>2160-01-07 08:00:00</td>\n",
       "      <td>BuPROPion (Sustained Release)</td>\n",
       "      <td>591083960.0</td>\n",
       "    </tr>\n",
       "    <tr>\n",
       "      <th>2</th>\n",
       "      <td>17868682</td>\n",
       "      <td>22726960</td>\n",
       "      <td>2160-01-07 10:00:00</td>\n",
       "      <td>Aspirin</td>\n",
       "      <td>904404073.0</td>\n",
       "    </tr>\n",
       "    <tr>\n",
       "      <th>3</th>\n",
       "      <td>17868682</td>\n",
       "      <td>22726960</td>\n",
       "      <td>2160-01-07 14:00:00</td>\n",
       "      <td>1/2 NS</td>\n",
       "      <td>338004304.0</td>\n",
       "    </tr>\n",
       "    <tr>\n",
       "      <th>4</th>\n",
       "      <td>17868682</td>\n",
       "      <td>22726960</td>\n",
       "      <td>2160-01-07 15:00:00</td>\n",
       "      <td>Pneumococcal Vac Polyvalent</td>\n",
       "      <td>6494300.0</td>\n",
       "    </tr>\n",
       "  </tbody>\n",
       "</table>\n",
       "</div>"
      ],
      "text/plain": [
       "   subject_id   hadm_id            starttime                           drug  \\\n",
       "0    17868682  22726960  2160-01-07 08:00:00  BuPROPion (Sustained Release)   \n",
       "1    17868682  22726960  2160-01-07 08:00:00  BuPROPion (Sustained Release)   \n",
       "2    17868682  22726960  2160-01-07 10:00:00                        Aspirin   \n",
       "3    17868682  22726960  2160-01-07 14:00:00                         1/2 NS   \n",
       "4    17868682  22726960  2160-01-07 15:00:00    Pneumococcal Vac Polyvalent   \n",
       "\n",
       "           ndc  \n",
       "0  591083960.0  \n",
       "1  591083960.0  \n",
       "2  904404073.0  \n",
       "3  338004304.0  \n",
       "4    6494300.0  "
      ]
     },
     "execution_count": 2,
     "metadata": {},
     "output_type": "execute_result"
    }
   ],
   "source": [
    "mimic4_path = \"./mimic-iv-1.0/hosp/prescriptions.csv.gz\"\n",
    "med = pd.read_csv(mimic4_path, compression='gzip', usecols=['subject_id', 'hadm_id', 'drug', 'starttime', 'ndc'])\n",
    "med.head()"
   ]
  },
  {
   "cell_type": "code",
   "execution_count": null,
   "metadata": {},
   "outputs": [
    {
     "data": {
      "text/plain": [
       "(17008053, 5)"
      ]
     },
     "execution_count": 3,
     "metadata": {},
     "output_type": "execute_result"
    }
   ],
   "source": [
    "med.shape"
   ]
  },
  {
   "cell_type": "code",
   "execution_count": null,
   "metadata": {},
   "outputs": [
    {
     "name": "stdout",
     "output_type": "stream",
     "text": [
      "Number of unique entires in 'drug' col:                                     10254\n",
      "Number of unique entires in 'drug' col after applying lower() and strip():  8357\n"
     ]
    }
   ],
   "source": [
    "print(\"Number of unique entires in \\'drug\\' col:                                    \", med.drug.dropna().nunique())\n",
    "print(\"Number of unique entires in \\'drug\\' col after applying lower() and strip(): \", med.drug.dropna().apply(lambda x: x.lower().strip()).nunique())"
   ]
  },
  {
   "cell_type": "code",
   "execution_count": null,
   "metadata": {},
   "outputs": [
    {
     "data": {
      "text/plain": [
       "(17008053, 5)"
      ]
     },
     "execution_count": 5,
     "metadata": {},
     "output_type": "execute_result"
    }
   ],
   "source": [
    "# Normalize drug strings and remove potential duplicates\n",
    "\n",
    "med.drug = med.drug.fillna(\"\").astype(str)\n",
    "med.drug = med.drug.apply(lambda x: x.lower().strip().replace(\" \", \"_\") if not \"\" else \"\")\n",
    "# med = med.drop_duplicates(subset=['hadm_id', 'drug'])\n",
    "\n",
    "med.shape"
   ]
  },
  {
   "cell_type": "markdown",
   "metadata": {},
   "source": [
    "### Filtering Based on NDC Codes"
   ]
  },
  {
   "cell_type": "code",
   "execution_count": null,
   "metadata": {},
   "outputs": [],
   "source": [
    "# Convert any nan values to a dummy value\n",
    "med.ndc = med.ndc.fillna(-1)\n",
    "\n",
    "# Ensures the decimal is removed from the ndc col\n",
    "med.ndc = med.ndc.astype(\"Int64\")"
   ]
  },
  {
   "cell_type": "code",
   "execution_count": null,
   "metadata": {},
   "outputs": [],
   "source": [
    "# The NDC codes in the prescription dataset is the 11-digit NDC code, although codes are missing\n",
    "# their leading 0's because the column was interpreted as a float then integer; this function restores\n",
    "# the leading 0's, then obtains only the PRODUCT and MANUFACTUERER parts of the NDC code (first 9 digits)\n",
    "def to_str(ndc):\n",
    "    if ndc < 0:         # dummy values are < 0\n",
    "        return np.nan\n",
    "    ndc = str(ndc)\n",
    "    return ((\"0\"*(11 - len(ndc))) + ndc)[0:-2]\n",
    "\n",
    "# The mapping table is ALSO incorrectly formatted for 11 digit NDC codes. An 11 digit NDC is in the\n",
    "# form of xxxxx-xxxx-xx for manufactuerer-product-dosage. The hyphens are in the correct spots, but\n",
    "# the number of digits within each section may not be 5-4-2, in which case we add leading 0's to each\n",
    "# to restore the 11 digit format. However, we only take the 5-4 sections, just like the to_str function\n",
    "def format_ndc_table(ndc):\n",
    "    parts = ndc.split(\"-\")\n",
    "    return (\"0\"*(5 - len(parts[0])) + parts[0]) + (\"0\"*(4 - len(parts[1])) + parts[1])"
   ]
  },
  {
   "cell_type": "code",
   "execution_count": null,
   "metadata": {},
   "outputs": [],
   "source": [
    "# Read in NDC mapping table\n",
    "ndc_map = read_ndc_mapping('./utils/mappings/ndc_product.txt')[['productndc', 'nonproprietaryname', 'pharm_classes']]\n",
    "\n",
    "### The full_map code is optional if you want to use the excluded and unfinished NDC tables ###\n",
    "\n",
    "# ndc_map_ex = read_ndc_mapping('./utils/mappings/ndc_products_excluded.txt')\n",
    "# ndc_map_unf = read_ndc_mapping('./utils/mappings/ndc_unfinished_product.txt')\n",
    "\n",
    "# full_map = pd.concat([ndc_map[['productndc', 'nonproprietaryname', 'pharm_classes']], ndc_map_unf[['productndc', 'nonproprietaryname', 'pharm_classes']]], axis=0)\n",
    "# full_map.drop_duplicates(inplace=True)\n",
    "# full_map = ndc_map[['productndc', 'nonproprietaryname', 'pharm_classes']]\n",
    "# full_map.head()"
   ]
  },
  {
   "cell_type": "code",
   "execution_count": null,
   "metadata": {},
   "outputs": [],
   "source": [
    "# Normalize the NDC codes in the mapping table so that they can be merged\n",
    "ndc_map['new_ndc'] = ndc_map.productndc.apply(format_ndc_table)\n",
    "ndc_map.drop_duplicates(subset=['new_ndc', 'nonproprietaryname'], inplace=True)\n",
    "med['new_ndc'] = med.ndc.apply(to_str)    "
   ]
  },
  {
   "cell_type": "code",
   "execution_count": null,
   "metadata": {},
   "outputs": [
    {
     "name": "stdout",
     "output_type": "stream",
     "text": [
      "# of Adjusted 11-Digit NDC codes in prescriptions data:                   5527\n",
      "# of Adjusted 11-Digit NDC codes after mergining with NDC mapping table:  2991\n"
     ]
    }
   ],
   "source": [
    "# Check how many NDC codes exist before merging with mapping table\n",
    "print(\"# of Adjusted 11-Digit NDC codes in prescriptions data:                  \", med.new_ndc.nunique())\n",
    "\n",
    "# Left join the med dataset to the mapping information\n",
    "med = med.merge(ndc_map, how='inner', left_on='new_ndc', right_on='new_ndc')\n",
    "\n",
    "print(\"# of Adjusted 11-Digit NDC codes after mergining with NDC mapping table: \", med.new_ndc.nunique())"
   ]
  },
  {
   "cell_type": "code",
   "execution_count": null,
   "metadata": {},
   "outputs": [
    {
     "data": {
      "text/plain": [
       "heparin sodium                                                              120190\n",
       "sodium chloride                                                             117496\n",
       "dextrose monohydrate                                                         84219\n",
       "sodium chloride, potassium chloride, sodium lactate and calcium chloride     79494\n",
       "oxycodone hydrochloride                                                      78711\n",
       "bisacodyl                                                                    71802\n",
       "acetaminophen                                                                68826\n",
       "magnesium sulfate in water                                                   63403\n",
       "potassium chloride                                                           63317\n",
       "phytonadione                                                                 58419\n",
       "docusate sodium                                                              56687\n",
       "hydromorphone hydrochloride                                                  53493\n",
       "ondansetron                                                                  51075\n",
       "erythromycin                                                                 48543\n",
       "vancomycin hydrochloride                                                     48091\n",
       "Name: nonproprietaryname, dtype: int64"
      ]
     },
     "execution_count": 11,
     "metadata": {},
     "output_type": "execute_result"
    }
   ],
   "source": [
    "# Mapping table maps nonproprietary drug names to NDC codes, check the unique counts per patient\n",
    "med_counts = med.drop_duplicates(subset=['nonproprietaryname', 'subject_id']).nonproprietaryname.value_counts()\n",
    "med_counts[:15]"
   ]
  },
  {
   "cell_type": "markdown",
   "metadata": {},
   "source": [
    "### Filtering Based on Established Pharmacologic Class (EPC)\n",
    "\n",
    "EPCs are another label in the NDC mapping table that categorizes drugs, which further reduces the number of classes in the dataset"
   ]
  },
  {
   "cell_type": "code",
   "execution_count": null,
   "metadata": {},
   "outputs": [],
   "source": [
    "# In NDC mapping table, the pharm_class col is structured as a text string, separating different pharm classes from eachother\n",
    "# This can be [PE], [EPC], and others, but we're interested in EPC. Luckily, between each commas, it states if a phrase is [EPC]\n",
    "# So, we just string split by commas and keep phrases containing \"[EPC]\"\n",
    "def get_EPC(s):\n",
    "    \"\"\"Gets the Established Pharmacologic Class (EPC) from the mapping table\"\"\"\n",
    "    if type(s) != str:\n",
    "        return np.nan\n",
    "    words = s.split(\",\")\n",
    "    return [x for x in words if \"[EPC]\" in x]"
   ]
  },
  {
   "cell_type": "code",
   "execution_count": null,
   "metadata": {},
   "outputs": [],
   "source": [
    "# Function generates a list of EPCs, as a drug can have multiple EPCs\n",
    "med['EPC'] = med.pharm_classes.apply(get_EPC)"
   ]
  },
  {
   "cell_type": "code",
   "execution_count": null,
   "metadata": {},
   "outputs": [
    {
     "data": {
      "text/html": [
       "<div>\n",
       "<style scoped>\n",
       "    .dataframe tbody tr th:only-of-type {\n",
       "        vertical-align: middle;\n",
       "    }\n",
       "\n",
       "    .dataframe tbody tr th {\n",
       "        vertical-align: top;\n",
       "    }\n",
       "\n",
       "    .dataframe thead th {\n",
       "        text-align: right;\n",
       "    }\n",
       "</style>\n",
       "<table border=\"1\" class=\"dataframe\">\n",
       "  <thead>\n",
       "    <tr style=\"text-align: right;\">\n",
       "      <th></th>\n",
       "      <th>subject_id</th>\n",
       "      <th>hadm_id</th>\n",
       "      <th>starttime</th>\n",
       "      <th>drug</th>\n",
       "      <th>ndc</th>\n",
       "      <th>new_ndc</th>\n",
       "      <th>productndc</th>\n",
       "      <th>nonproprietaryname</th>\n",
       "      <th>pharm_classes</th>\n",
       "      <th>EPC</th>\n",
       "    </tr>\n",
       "  </thead>\n",
       "  <tbody>\n",
       "    <tr>\n",
       "      <th>0</th>\n",
       "      <td>17868682</td>\n",
       "      <td>22726960</td>\n",
       "      <td>2160-01-07 10:00:00</td>\n",
       "      <td>aspirin</td>\n",
       "      <td>904404073</td>\n",
       "      <td>009044040</td>\n",
       "      <td>0904-4040</td>\n",
       "      <td>aspirin</td>\n",
       "      <td>NaN</td>\n",
       "      <td>NaN</td>\n",
       "    </tr>\n",
       "    <tr>\n",
       "      <th>1</th>\n",
       "      <td>17067646</td>\n",
       "      <td>20845642</td>\n",
       "      <td>2159-02-23 10:00:00</td>\n",
       "      <td>aspirin</td>\n",
       "      <td>904404073</td>\n",
       "      <td>009044040</td>\n",
       "      <td>0904-4040</td>\n",
       "      <td>aspirin</td>\n",
       "      <td>NaN</td>\n",
       "      <td>NaN</td>\n",
       "    </tr>\n",
       "    <tr>\n",
       "      <th>2</th>\n",
       "      <td>17067646</td>\n",
       "      <td>25358552</td>\n",
       "      <td>2159-08-08 10:00:00</td>\n",
       "      <td>aspirin</td>\n",
       "      <td>904404073</td>\n",
       "      <td>009044040</td>\n",
       "      <td>0904-4040</td>\n",
       "      <td>aspirin</td>\n",
       "      <td>NaN</td>\n",
       "      <td>NaN</td>\n",
       "    </tr>\n",
       "    <tr>\n",
       "      <th>3</th>\n",
       "      <td>13359788</td>\n",
       "      <td>27483342</td>\n",
       "      <td>2143-11-22 19:00:00</td>\n",
       "      <td>aspirin</td>\n",
       "      <td>904404073</td>\n",
       "      <td>009044040</td>\n",
       "      <td>0904-4040</td>\n",
       "      <td>aspirin</td>\n",
       "      <td>NaN</td>\n",
       "      <td>NaN</td>\n",
       "    </tr>\n",
       "    <tr>\n",
       "      <th>4</th>\n",
       "      <td>15346117</td>\n",
       "      <td>20604717</td>\n",
       "      <td>2195-01-21 10:00:00</td>\n",
       "      <td>aspirin</td>\n",
       "      <td>904404073</td>\n",
       "      <td>009044040</td>\n",
       "      <td>0904-4040</td>\n",
       "      <td>aspirin</td>\n",
       "      <td>NaN</td>\n",
       "      <td>NaN</td>\n",
       "    </tr>\n",
       "    <tr>\n",
       "      <th>...</th>\n",
       "      <td>...</td>\n",
       "      <td>...</td>\n",
       "      <td>...</td>\n",
       "      <td>...</td>\n",
       "      <td>...</td>\n",
       "      <td>...</td>\n",
       "      <td>...</td>\n",
       "      <td>...</td>\n",
       "      <td>...</td>\n",
       "      <td>...</td>\n",
       "    </tr>\n",
       "    <tr>\n",
       "      <th>9263468</th>\n",
       "      <td>10760672</td>\n",
       "      <td>29128660</td>\n",
       "      <td>2129-06-07 08:00:00</td>\n",
       "      <td>deferoxamine_(dfo)</td>\n",
       "      <td>409233725</td>\n",
       "      <td>004092337</td>\n",
       "      <td>0409-2337</td>\n",
       "      <td>deferoxamine mesylate</td>\n",
       "      <td>Iron Chelating Activity [MoA],Iron Chelator [EPC]</td>\n",
       "      <td>[Iron Chelator [EPC]]</td>\n",
       "    </tr>\n",
       "    <tr>\n",
       "      <th>9263469</th>\n",
       "      <td>10760672</td>\n",
       "      <td>29128660</td>\n",
       "      <td>2129-06-08 08:00:00</td>\n",
       "      <td>deferoxamine_(dfo)</td>\n",
       "      <td>409233725</td>\n",
       "      <td>004092337</td>\n",
       "      <td>0409-2337</td>\n",
       "      <td>deferoxamine mesylate</td>\n",
       "      <td>Iron Chelating Activity [MoA],Iron Chelator [EPC]</td>\n",
       "      <td>[Iron Chelator [EPC]]</td>\n",
       "    </tr>\n",
       "    <tr>\n",
       "      <th>9263470</th>\n",
       "      <td>12744652</td>\n",
       "      <td>29642134</td>\n",
       "      <td>2130-12-13 15:00:00</td>\n",
       "      <td>deferoxamine_(dfo)</td>\n",
       "      <td>409233725</td>\n",
       "      <td>004092337</td>\n",
       "      <td>0409-2337</td>\n",
       "      <td>deferoxamine mesylate</td>\n",
       "      <td>Iron Chelating Activity [MoA],Iron Chelator [EPC]</td>\n",
       "      <td>[Iron Chelator [EPC]]</td>\n",
       "    </tr>\n",
       "    <tr>\n",
       "      <th>9263471</th>\n",
       "      <td>15350929</td>\n",
       "      <td>27196331</td>\n",
       "      <td>2128-07-05 08:00:00</td>\n",
       "      <td>deferoxamine_(dfo)</td>\n",
       "      <td>409233725</td>\n",
       "      <td>004092337</td>\n",
       "      <td>0409-2337</td>\n",
       "      <td>deferoxamine mesylate</td>\n",
       "      <td>Iron Chelating Activity [MoA],Iron Chelator [EPC]</td>\n",
       "      <td>[Iron Chelator [EPC]]</td>\n",
       "    </tr>\n",
       "    <tr>\n",
       "      <th>9263472</th>\n",
       "      <td>16449425</td>\n",
       "      <td>27993931</td>\n",
       "      <td>2129-08-29 22:00:00</td>\n",
       "      <td>idelalisib</td>\n",
       "      <td>61958170101</td>\n",
       "      <td>619581701</td>\n",
       "      <td>61958-1701</td>\n",
       "      <td>idelalisib</td>\n",
       "      <td>Kinase Inhibitor [EPC],Kinase Inhibitors [MoA]...</td>\n",
       "      <td>[Kinase Inhibitor [EPC]]</td>\n",
       "    </tr>\n",
       "  </tbody>\n",
       "</table>\n",
       "<p>9263473 rows × 10 columns</p>\n",
       "</div>"
      ],
      "text/plain": [
       "         subject_id   hadm_id            starttime                drug  \\\n",
       "0          17868682  22726960  2160-01-07 10:00:00             aspirin   \n",
       "1          17067646  20845642  2159-02-23 10:00:00             aspirin   \n",
       "2          17067646  25358552  2159-08-08 10:00:00             aspirin   \n",
       "3          13359788  27483342  2143-11-22 19:00:00             aspirin   \n",
       "4          15346117  20604717  2195-01-21 10:00:00             aspirin   \n",
       "...             ...       ...                  ...                 ...   \n",
       "9263468    10760672  29128660  2129-06-07 08:00:00  deferoxamine_(dfo)   \n",
       "9263469    10760672  29128660  2129-06-08 08:00:00  deferoxamine_(dfo)   \n",
       "9263470    12744652  29642134  2130-12-13 15:00:00  deferoxamine_(dfo)   \n",
       "9263471    15350929  27196331  2128-07-05 08:00:00  deferoxamine_(dfo)   \n",
       "9263472    16449425  27993931  2129-08-29 22:00:00          idelalisib   \n",
       "\n",
       "                 ndc    new_ndc  productndc     nonproprietaryname  \\\n",
       "0          904404073  009044040   0904-4040                aspirin   \n",
       "1          904404073  009044040   0904-4040                aspirin   \n",
       "2          904404073  009044040   0904-4040                aspirin   \n",
       "3          904404073  009044040   0904-4040                aspirin   \n",
       "4          904404073  009044040   0904-4040                aspirin   \n",
       "...              ...        ...         ...                    ...   \n",
       "9263468    409233725  004092337   0409-2337  deferoxamine mesylate   \n",
       "9263469    409233725  004092337   0409-2337  deferoxamine mesylate   \n",
       "9263470    409233725  004092337   0409-2337  deferoxamine mesylate   \n",
       "9263471    409233725  004092337   0409-2337  deferoxamine mesylate   \n",
       "9263472  61958170101  619581701  61958-1701             idelalisib   \n",
       "\n",
       "                                             pharm_classes  \\\n",
       "0                                                      NaN   \n",
       "1                                                      NaN   \n",
       "2                                                      NaN   \n",
       "3                                                      NaN   \n",
       "4                                                      NaN   \n",
       "...                                                    ...   \n",
       "9263468  Iron Chelating Activity [MoA],Iron Chelator [EPC]   \n",
       "9263469  Iron Chelating Activity [MoA],Iron Chelator [EPC]   \n",
       "9263470  Iron Chelating Activity [MoA],Iron Chelator [EPC]   \n",
       "9263471  Iron Chelating Activity [MoA],Iron Chelator [EPC]   \n",
       "9263472  Kinase Inhibitor [EPC],Kinase Inhibitors [MoA]...   \n",
       "\n",
       "                              EPC  \n",
       "0                             NaN  \n",
       "1                             NaN  \n",
       "2                             NaN  \n",
       "3                             NaN  \n",
       "4                             NaN  \n",
       "...                           ...  \n",
       "9263468     [Iron Chelator [EPC]]  \n",
       "9263469     [Iron Chelator [EPC]]  \n",
       "9263470     [Iron Chelator [EPC]]  \n",
       "9263471     [Iron Chelator [EPC]]  \n",
       "9263472  [Kinase Inhibitor [EPC]]  \n",
       "\n",
       "[9263473 rows x 10 columns]"
      ]
     },
     "execution_count": 14,
     "metadata": {},
     "output_type": "execute_result"
    }
   ],
   "source": [
    "# Observe modified dataset. When One hot encoding and pivoting, you need to remove NaN and duplicates from the drug/nonpropietaryname/EPC\n",
    "# Duplicates should be removed using drop_duplicates(subset=[hadm_id, target_col])\n",
    "med"
   ]
  },
  {
   "cell_type": "code",
   "execution_count": null,
   "metadata": {},
   "outputs": [],
   "source": [
    "# Most common EPCs in this chunk of the dataset\n",
    "# epc_med = pd.DataFrame(output, columns=mlb.classes_)\n",
    "# epc_med.sum().sort_values(ascending=False).head(20)"
   ]
  },
  {
   "cell_type": "markdown",
   "metadata": {},
   "source": [
    "### Saving the Modified Prescriptions Table\n",
    "\n",
    "Now, we save the modified dataset with our collumns of interest"
   ]
  },
  {
   "cell_type": "code",
   "execution_count": null,
   "metadata": {},
   "outputs": [],
   "source": [
    "med[['subject_id', 'hadm_id', 'starttime',\t'drug',\t'nonproprietaryname', 'EPC']].to_csv('./data/meds/prescriptions_full.csv.gz', compression='gzip', index=False)"
   ]
  },
  {
   "cell_type": "markdown",
   "metadata": {},
   "source": [
    "### Getting the Modified Prescriptions table into long format with timedelta"
   ]
  },
  {
   "cell_type": "code",
   "execution_count": null,
   "metadata": {},
   "outputs": [],
   "source": [
    "# The timestamp_cohort_data turns the dataset into the long-format for generating the final dataset\n",
    "# Three datasets are generating for three separate feature columns\n",
    "for col, idx in zip([\"drug\", \"nonproprietaryname\"],[3, 4]):\n",
    "    use_mlb = False\n",
    "    if col == \"EPC\":\n",
    "        use_mlb = True\n",
    "    df = timestamp_cohort_data('./data/meds/prescriptions_full.csv.gz', './data/cohort.gzip', dtypes=None, time_col='starttime', anchor_col='base_anchor_year',usecols=[0, 1, 2, idx])\n",
    "    df[['subject_id', 'hadm_id', col, 'starttime']].dropna().to_csv(\"./data/long_format/meds/preproc_med_\" + col +\".csv.gz\", compression='gzip', index=False)\n",
    "\n",
    "    # pivot_df = pivot_cohort(df, prefix=\"med_\", target_col=col, values='values', use_mlb=use_mlb, max_features=100)\n",
    "\n",
    "    # pivot_df.fillna(0).astype(int).to_pickle('./data/meds/pivot_' + col + '.gzip', compression='gzip')"
   ]
  },
  {
   "cell_type": "code",
   "execution_count": null,
   "metadata": {},
   "outputs": [],
   "source": [
    "# Check that data was generated properly\n",
    "pd.read_pickle('./data/long_format/meds/long_med_EPC.gzip', compression='gzip')"
   ]
  },
  {
   "cell_type": "markdown",
   "metadata": {},
   "source": [
    "## OneHotEncoding and Pivoting"
   ]
  },
  {
   "cell_type": "code",
   "execution_count": null,
   "metadata": {},
   "outputs": [
    {
     "name": "stderr",
     "output_type": "stream",
     "text": [
      "C:\\Users\\Brennan\\anaconda3\\lib\\site-packages\\IPython\\core\\interactiveshell.py:3437: DtypeWarning: Columns (4) have mixed types.Specify dtype option on import or set low_memory=False.\n",
      "  exec(code_obj, self.user_global_ns, self.user_ns)\n"
     ]
    }
   ],
   "source": [
    "# ohe_med = timestamp_cohort_data('./data/prescriptions_full.csv.gz', './data/cohort.gzip', dtypes=None, time_col='starttime', usecols=[0, 1, 2])\n",
    "# pivot_med = pivot_cohort(ohe_med, prefix=\"med_\", target_col='drug', values='values', ohe=True)\n",
    "\n",
    "# ohe_med_nonprop = timestamp_cohort_data('./data/prescriptions_full.csv.gz', './data/cohort.gzip', dtypes=None, time_col='starttime', usecols=[0, 1, 3])\n",
    "# pivot_med_nonprop = pivot_cohort(ohe_med_nonprop, prefix=\"med_\", target_col='nonproprietaryname', values='values', ohe=True)\n",
    "\n",
    "# ohe_med_EPC = timestamp_cohort_data('./data/prescriptions_full.csv.gz', './data/cohort.gzip', dtypes=None, time_col='starttime', usecols=[0, 1, 4])\n",
    "# pivot_med_EPC = pivot_cohort(ohe_med_EPC, prefix=\"med_\", target_col='EPC', values='values', use_mlb=True)"
   ]
  },
  {
   "cell_type": "code",
   "execution_count": null,
   "metadata": {},
   "outputs": [],
   "source": []
  }
 ],
 "metadata": {
  "interpreter": {
   "hash": "39d0725753d0ad0b2b78de10b3b7451c8aa9b3c904c7c1796a98e42af75eb3a5"
  },
  "kernelspec": {
   "display_name": "Python 3.8.8 64-bit ('base': conda)",
   "language": "python",
   "name": "python3"
  },
  "language_info": {
   "codemirror_mode": {
    "name": "ipython",
    "version": 3
   },
   "file_extension": ".py",
   "mimetype": "text/x-python",
   "name": "python",
   "nbconvert_exporter": "python",
   "pygments_lexer": "ipython3",
   "version": "3.8.8"
  },
  "orig_nbformat": 4
 },
 "nbformat": 4,
 "nbformat_minor": 2
}
