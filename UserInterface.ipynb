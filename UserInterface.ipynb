{
 "cells": [
  {
   "cell_type": "code",
   "execution_count": 1,
   "id": "italic-private",
   "metadata": {},
   "outputs": [
    {
     "data": {
      "application/javascript": [
       "function toggler(){\n",
       "    if(window.already_toggling){\n",
       "        // Don't add multiple buttons.\n",
       "        return 0\n",
       "    }\n",
       "    let btn = $('.input').append('<button>Toggle Code</button>')\n",
       "        .children('button');\n",
       "    btn.on('click', function(e){\n",
       "        let tgt = e.currentTarget;\n",
       "        $(tgt).parent().children('.inner_cell').toggle()\n",
       "    })\n",
       "    window.already_toggling = true;\n",
       "}\n",
       "// Since javascript cells are executed as soon as we load\n",
       "// the notebook (if it's trusted), and this cell might be at the\n",
       "// top of the notebook (so is executed first), we need to\n",
       "// allow time for all of the other code cells to load before\n",
       "// running. Let's give it 5 seconds.\n",
       "\n",
       "setTimeout(toggler, 5000);\n"
      ],
      "text/plain": [
       "<IPython.core.display.Javascript object>"
      ]
     },
     "metadata": {},
     "output_type": "display_data"
    }
   ],
   "source": [
    "%%javascript\n",
    "function toggler(){\n",
    "    if(window.already_toggling){\n",
    "        // Don't add multiple buttons.\n",
    "        return 0\n",
    "    }\n",
    "    let btn = $('.input').append('<button>Toggle Code</button>')\n",
    "        .children('button');\n",
    "    btn.on('click', function(e){\n",
    "        let tgt = e.currentTarget;\n",
    "        $(tgt).parent().children('.inner_cell').toggle()\n",
    "    })\n",
    "    window.already_toggling = true;\n",
    "}\n",
    "// Since javascript cells are executed as soon as we load\n",
    "// the notebook (if it's trusted), and this cell might be at the\n",
    "// top of the notebook (so is executed first), we need to\n",
    "// allow time for all of the other code cells to load before\n",
    "// running. Let's give it 5 seconds.\n",
    "\n",
    "setTimeout(toggler, 5000);"
   ]
  },
  {
   "cell_type": "code",
   "execution_count": 2,
   "id": "available-albany",
   "metadata": {},
   "outputs": [],
   "source": [
    "import ipywidgets as widgets\n",
    "import sys\n",
    "from pathlib import Path\n",
    "import os"
   ]
  },
  {
   "cell_type": "code",
   "execution_count": 3,
   "id": "clinical-manchester",
   "metadata": {},
   "outputs": [],
   "source": [
    "module_path='preprocessing/day_intervals_preproc'\n",
    "if module_path not in sys.path:\n",
    "    sys.path.append(module_path)\n",
    "root_dir = os.path.dirname(os.path.abspath('UserInterface.ipynb'))\n",
    "from day_intervals_cohort import *"
   ]
  },
  {
   "cell_type": "markdown",
   "id": "representative-reggae",
   "metadata": {},
   "source": [
    "# Welcome to your MIMIC-IV Project"
   ]
  },
  {
   "cell_type": "markdown",
   "id": "olive-dialogue",
   "metadata": {},
   "source": [
    "A. Extract Data"
   ]
  },
  {
   "cell_type": "markdown",
   "id": "distant-zoning",
   "metadata": {},
   "source": [
    "1. Please select below if you want to work with ICU or Non-ICU data ?"
   ]
  },
  {
   "cell_type": "code",
   "execution_count": 4,
   "id": "structured-dimension",
   "metadata": {
    "tags": [
     "{",
     "\"tags\":",
     "[",
     "\"hide-input\"",
     "]",
     "}"
    ]
   },
   "outputs": [
    {
     "data": {
      "application/vnd.jupyter.widget-view+json": {
       "model_id": "4ac2d35651314a078f8e204435d36873",
       "version_major": 2,
       "version_minor": 0
      },
      "text/plain": [
       "RadioButtons(options=('ICU', 'Non-ICU'), value='ICU')"
      ]
     },
     "metadata": {},
     "output_type": "display_data"
    }
   ],
   "source": [
    "radio_input1 = widgets.RadioButtons(options=['ICU', 'Non-ICU'],value='ICU')\n",
    "radio_input1"
   ]
  },
  {
   "cell_type": "markdown",
   "id": "informal-munich",
   "metadata": {},
   "source": [
    "2. Please select what prediction task you want to perform ?"
   ]
  },
  {
   "cell_type": "code",
   "execution_count": 5,
   "id": "ranking-aerospace",
   "metadata": {},
   "outputs": [
    {
     "data": {
      "application/vnd.jupyter.widget-view+json": {
       "model_id": "ec2d24d015194f31a34e1dbf01a37f1d",
       "version_major": 2,
       "version_minor": 0
      },
      "text/plain": [
       "RadioButtons(options=('30 Day Readmission', '60 Day Readmission', '90 Day Readmission', '120 Day Readmission',…"
      ]
     },
     "metadata": {},
     "output_type": "display_data"
    }
   ],
   "source": [
    "radio_input2 = widgets.RadioButtons(options=['30 Day Readmission','60 Day Readmission','90 Day Readmission','120 Day Readmission', 'Mortality'],value='30 Day Readmission')\n",
    "radio_input2"
   ]
  },
  {
   "cell_type": "markdown",
   "id": "freelance-bowling",
   "metadata": {},
   "source": [
    "3. Please select if you want to perform choosen prediction task for a specific disease."
   ]
  },
  {
   "cell_type": "code",
   "execution_count": 6,
   "id": "eastern-deposit",
   "metadata": {},
   "outputs": [
    {
     "data": {
      "application/vnd.jupyter.widget-view+json": {
       "model_id": "f9b19bab008a4e0a967c70f222aa8d52",
       "version_major": 2,
       "version_minor": 0
      },
      "text/plain": [
       "RadioButtons(options=('No Disease Filter', 'Heart Failure', 'CKD', 'Respiratory Failure', 'COPD'), value='No D…"
      ]
     },
     "metadata": {},
     "output_type": "display_data"
    }
   ],
   "source": [
    "radio_input3 = widgets.RadioButtons(options=['No Disease Filter','Heart Failure','CKD','Respiratory Failure','COPD'],value='No Disease Filter')\n",
    "radio_input3"
   ]
  },
  {
   "cell_type": "code",
   "execution_count": 7,
   "id": "horizontal-journal",
   "metadata": {},
   "outputs": [
    {
     "data": {
      "application/vnd.jupyter.widget-view+json": {
       "model_id": "26cdf369a32240a8be28e6f3b91d3104",
       "version_major": 2,
       "version_minor": 0
      },
      "text/plain": [
       "Button(description='Extract Data', style=ButtonStyle())"
      ]
     },
     "metadata": {},
     "output_type": "display_data"
    }
   ],
   "source": [
    "extract_button = widgets.Button(description='Extract Data')\n",
    "extract_button"
   ]
  },
  {
   "cell_type": "code",
   "execution_count": 8,
   "id": "constant-blake",
   "metadata": {},
   "outputs": [
    {
     "name": "stdout",
     "output_type": "stream",
     "text": [
      "EXTRACTING FOR: | ICU | 30 DAY READMISSION |\n"
     ]
    },
    {
     "ename": "TypeError",
     "evalue": "'module' object is not callable",
     "output_type": "error",
     "traceback": [
      "\u001b[1;31m---------------------------------------------------------------------------\u001b[0m",
      "\u001b[1;31mTypeError\u001b[0m                                 Traceback (most recent call last)",
      "\u001b[1;32m<ipython-input-8-2245e57e1f74>\u001b[0m in \u001b[0;36m<module>\u001b[1;34m\u001b[0m\n\u001b[1;32m----> 1\u001b[1;33m \u001b[0msummary\u001b[0m \u001b[1;33m=\u001b[0m \u001b[0mextract_data\u001b[0m\u001b[1;33m(\u001b[0m\u001b[0mradio_input1\u001b[0m\u001b[1;33m.\u001b[0m\u001b[0mvalue\u001b[0m\u001b[1;33m,\u001b[0m\u001b[0mradio_input2\u001b[0m\u001b[1;33m.\u001b[0m\u001b[0mvalue\u001b[0m\u001b[1;33m,\u001b[0m \u001b[0mroot_dir\u001b[0m\u001b[1;33m)\u001b[0m\u001b[1;33m\u001b[0m\u001b[1;33m\u001b[0m\u001b[0m\n\u001b[0m",
      "\u001b[1;32m~\\Desktop\\MIMIC-IV\\preprocessing\\day_intervals_preproc\\day_intervals_cohort.py\u001b[0m in \u001b[0;36mextract_data\u001b[1;34m(use_ICU, label, root_dir, cohort_output, summary_output)\u001b[0m\n\u001b[0;32m    214\u001b[0m     \u001b[1;32melse\u001b[0m\u001b[1;33m:\u001b[0m\u001b[1;33m\u001b[0m\u001b[1;33m\u001b[0m\u001b[0m\n\u001b[0;32m    215\u001b[0m         \u001b[0minterval\u001b[0m \u001b[1;33m=\u001b[0m \u001b[0mint\u001b[0m\u001b[1;33m(\u001b[0m\u001b[0mlabel\u001b[0m\u001b[1;33m[\u001b[0m\u001b[1;33m:\u001b[0m\u001b[1;36m3\u001b[0m\u001b[1;33m]\u001b[0m\u001b[1;33m.\u001b[0m\u001b[0mstrip\u001b[0m\u001b[1;33m(\u001b[0m\u001b[1;33m)\u001b[0m\u001b[1;33m)\u001b[0m\u001b[1;33m\u001b[0m\u001b[1;33m\u001b[0m\u001b[0m\n\u001b[1;32m--> 216\u001b[1;33m         \u001b[0mcohort\u001b[0m\u001b[1;33m,\u001b[0m \u001b[0minvalid\u001b[0m \u001b[1;33m=\u001b[0m \u001b[0mget_case_ctrls\u001b[0m\u001b[1;33m(\u001b[0m\u001b[0mpts\u001b[0m\u001b[1;33m,\u001b[0m \u001b[0minterval\u001b[0m\u001b[1;33m,\u001b[0m \u001b[0mgroup_col\u001b[0m\u001b[1;33m,\u001b[0m \u001b[0mvisit_col\u001b[0m\u001b[1;33m,\u001b[0m \u001b[0madmit_col\u001b[0m\u001b[1;33m,\u001b[0m \u001b[0mdisch_col\u001b[0m\u001b[1;33m,\u001b[0m\u001b[1;34m'min_valid_year'\u001b[0m\u001b[1;33m,\u001b[0m \u001b[0mdeath_col\u001b[0m\u001b[1;33m)\u001b[0m\u001b[1;33m\u001b[0m\u001b[1;33m\u001b[0m\u001b[0m\n\u001b[0m\u001b[0;32m    217\u001b[0m \u001b[1;33m\u001b[0m\u001b[0m\n\u001b[0;32m    218\u001b[0m     \u001b[1;31m# save output\u001b[0m\u001b[1;33m\u001b[0m\u001b[1;33m\u001b[0m\u001b[1;33m\u001b[0m\u001b[0m\n",
      "\u001b[1;32m~\\Desktop\\MIMIC-IV\\preprocessing\\day_intervals_preproc\\day_intervals_cohort.py\u001b[0m in \u001b[0;36mget_case_ctrls\u001b[1;34m(df, gap, group_col, visit_col, admit_col, disch_col, valid_col, death_col, use_mort)\u001b[0m\n\u001b[0;32m    150\u001b[0m         \u001b[0mgap\u001b[0m \u001b[1;33m=\u001b[0m \u001b[0mdatetime\u001b[0m\u001b[1;33m.\u001b[0m\u001b[0mtimedelta\u001b[0m\u001b[1;33m(\u001b[0m\u001b[0mdays\u001b[0m\u001b[1;33m=\u001b[0m\u001b[0mgap\u001b[0m\u001b[1;33m)\u001b[0m\u001b[1;33m\u001b[0m\u001b[1;33m\u001b[0m\u001b[0m\n\u001b[0;32m    151\u001b[0m         \u001b[1;31m# transform gap into a timedelta to compare with datetime columns\u001b[0m\u001b[1;33m\u001b[0m\u001b[1;33m\u001b[0m\u001b[1;33m\u001b[0m\u001b[0m\n\u001b[1;32m--> 152\u001b[1;33m         \u001b[0mcase\u001b[0m\u001b[1;33m,\u001b[0m \u001b[0mctrl\u001b[0m\u001b[1;33m,\u001b[0m \u001b[0minvalid\u001b[0m \u001b[1;33m=\u001b[0m \u001b[0mpartition_by_readmit\u001b[0m\u001b[1;33m(\u001b[0m\u001b[0mdf\u001b[0m\u001b[1;33m,\u001b[0m \u001b[0mgap\u001b[0m\u001b[1;33m,\u001b[0m \u001b[0mgroup_col\u001b[0m\u001b[1;33m,\u001b[0m \u001b[0mvisit_col\u001b[0m\u001b[1;33m,\u001b[0m \u001b[0madmit_col\u001b[0m\u001b[1;33m,\u001b[0m \u001b[0mdisch_col\u001b[0m\u001b[1;33m,\u001b[0m \u001b[0mvalid_col\u001b[0m\u001b[1;33m)\u001b[0m\u001b[1;33m\u001b[0m\u001b[1;33m\u001b[0m\u001b[0m\n\u001b[0m\u001b[0;32m    153\u001b[0m \u001b[1;33m\u001b[0m\u001b[0m\n\u001b[0;32m    154\u001b[0m         \u001b[1;31m# case hadm_ids are labelled 1 for readmission, ctrls have a 0 label\u001b[0m\u001b[1;33m\u001b[0m\u001b[1;33m\u001b[0m\u001b[1;33m\u001b[0m\u001b[0m\n",
      "\u001b[1;32m~\\Desktop\\MIMIC-IV\\preprocessing\\day_intervals_preproc\\day_intervals_cohort.py\u001b[0m in \u001b[0;36mpartition_by_readmit\u001b[1;34m(df, gap, group_col, visit_col, admit_col, disch_col, valid_col)\u001b[0m\n\u001b[0;32m     82\u001b[0m     \u001b[1;31m# to ensure that the most current hadm_id is last in a group.\u001b[0m\u001b[1;33m\u001b[0m\u001b[1;33m\u001b[0m\u001b[1;33m\u001b[0m\u001b[0m\n\u001b[0;32m     83\u001b[0m     \u001b[0mgrouped\u001b[0m\u001b[1;33m=\u001b[0m \u001b[0mdf\u001b[0m\u001b[1;33m[\u001b[0m\u001b[1;33m[\u001b[0m\u001b[0mgroup_col\u001b[0m\u001b[1;33m,\u001b[0m \u001b[0mvisit_col\u001b[0m\u001b[1;33m,\u001b[0m \u001b[0madmit_col\u001b[0m\u001b[1;33m,\u001b[0m \u001b[0mdisch_col\u001b[0m\u001b[1;33m,\u001b[0m \u001b[0mvalid_col\u001b[0m\u001b[1;33m]\u001b[0m\u001b[1;33m]\u001b[0m\u001b[1;33m.\u001b[0m\u001b[0msort_values\u001b[0m\u001b[1;33m(\u001b[0m\u001b[0mby\u001b[0m\u001b[1;33m=\u001b[0m\u001b[1;33m[\u001b[0m\u001b[0mgroup_col\u001b[0m\u001b[1;33m,\u001b[0m \u001b[0madmit_col\u001b[0m\u001b[1;33m]\u001b[0m\u001b[1;33m)\u001b[0m\u001b[1;33m.\u001b[0m\u001b[0mgroupby\u001b[0m\u001b[1;33m(\u001b[0m\u001b[0mgroup_col\u001b[0m\u001b[1;33m)\u001b[0m\u001b[1;33m\u001b[0m\u001b[1;33m\u001b[0m\u001b[0m\n\u001b[1;32m---> 84\u001b[1;33m     \u001b[1;32mfor\u001b[0m \u001b[0msubject\u001b[0m\u001b[1;33m,\u001b[0m \u001b[0mgroup\u001b[0m \u001b[1;32min\u001b[0m \u001b[0mtqdm\u001b[0m\u001b[1;33m(\u001b[0m\u001b[0mgrouped\u001b[0m\u001b[1;33m)\u001b[0m\u001b[1;33m:\u001b[0m\u001b[1;33m\u001b[0m\u001b[1;33m\u001b[0m\u001b[0m\n\u001b[0m\u001b[0;32m     85\u001b[0m         \u001b[0mmax_year\u001b[0m \u001b[1;33m=\u001b[0m \u001b[0mgroup\u001b[0m\u001b[1;33m.\u001b[0m\u001b[0mmax\u001b[0m\u001b[1;33m(\u001b[0m\u001b[1;33m)\u001b[0m\u001b[1;33m[\u001b[0m\u001b[0mdisch_col\u001b[0m\u001b[1;33m]\u001b[0m\u001b[1;33m.\u001b[0m\u001b[0myear\u001b[0m\u001b[1;33m\u001b[0m\u001b[1;33m\u001b[0m\u001b[0m\n\u001b[0;32m     86\u001b[0m \u001b[1;33m\u001b[0m\u001b[0m\n",
      "\u001b[1;31mTypeError\u001b[0m: 'module' object is not callable"
     ]
    }
   ],
   "source": [
    "summary = extract_data(radio_input1.value,radio_input2.value, root_dir)"
   ]
  },
  {
   "cell_type": "markdown",
   "id": "productive-savannah",
   "metadata": {},
   "source": [
    "Below is summary of cohort selected according to your choices -"
   ]
  },
  {
   "cell_type": "markdown",
   "id": "pediatric-making",
   "metadata": {},
   "source": [
    "B. Lets Clean data and get it ready for model learning!"
   ]
  },
  {
   "cell_type": "markdown",
   "id": "printable-saying",
   "metadata": {},
   "source": [
    "1. Do you want to group ICD 10 DIAG codes ?"
   ]
  },
  {
   "cell_type": "code",
   "execution_count": 8,
   "id": "mechanical-three",
   "metadata": {},
   "outputs": [
    {
     "data": {
      "application/vnd.jupyter.widget-view+json": {
       "model_id": "b373d8a6f0404543aa0b5ceaec8eec66",
       "version_major": 2,
       "version_minor": 0
      },
      "text/plain": [
       "RadioButtons(options=('Yes', 'No'), value='Yes')"
      ]
     },
     "metadata": {},
     "output_type": "display_data"
    }
   ],
   "source": [
    "radio_input4 = widgets.RadioButtons(options=['Yes','No'],value='Yes')\n",
    "radio_input4"
   ]
  },
  {
   "cell_type": "markdown",
   "id": "sharp-vessel",
   "metadata": {},
   "source": [
    "2. Do you want to group Medication codes to use Non propietary?"
   ]
  },
  {
   "cell_type": "code",
   "execution_count": 9,
   "id": "cooperative-radical",
   "metadata": {},
   "outputs": [
    {
     "data": {
      "application/vnd.jupyter.widget-view+json": {
       "model_id": "0892a8a891ca4e3f9d61e95a8997ac40",
       "version_major": 2,
       "version_minor": 0
      },
      "text/plain": [
       "RadioButtons(options=('Yes', 'No'), value='Yes')"
      ]
     },
     "metadata": {},
     "output_type": "display_data"
    }
   ],
   "source": [
    "radio_input5 = widgets.RadioButtons(options=['Yes','No'],value='Yes')\n",
    "radio_input5"
   ]
  },
  {
   "cell_type": "markdown",
   "id": "entitled-preservation",
   "metadata": {},
   "source": [
    "3. Do you want to remove outliers for all features?"
   ]
  },
  {
   "cell_type": "code",
   "execution_count": 10,
   "id": "lucky-utilization",
   "metadata": {},
   "outputs": [
    {
     "data": {
      "application/vnd.jupyter.widget-view+json": {
       "model_id": "1220f42f831f454b90b24267778acbb3",
       "version_major": 2,
       "version_minor": 0
      },
      "text/plain": [
       "RadioButtons(options=('Yes', 'No'), value='Yes')"
      ]
     },
     "metadata": {},
     "output_type": "display_data"
    }
   ],
   "source": [
    "radio_input6 = widgets.RadioButtons(options=['Yes','No'],value='Yes')\n",
    "radio_input6"
   ]
  },
  {
   "cell_type": "markdown",
   "id": "accompanied-visitor",
   "metadata": {},
   "source": [
    "4. What time bucket size you want to choose ?"
   ]
  },
  {
   "cell_type": "code",
   "execution_count": 11,
   "id": "comparable-voluntary",
   "metadata": {},
   "outputs": [
    {
     "data": {
      "application/vnd.jupyter.widget-view+json": {
       "model_id": "abfb096b0e8c4434825252e728389d1b",
       "version_major": 2,
       "version_minor": 0
      },
      "text/plain": [
       "RadioButtons(options=('1 hour', '2 hour', '3 hour', '4 hour', '5 hour'), value='1 hour')"
      ]
     },
     "metadata": {},
     "output_type": "display_data"
    }
   ],
   "source": [
    "radio_input7 = widgets.RadioButtons(options=['1 hour','2 hour','3 hour','4 hour','5 hour'],value='1 hour')\n",
    "radio_input7"
   ]
  },
  {
   "cell_type": "markdown",
   "id": "reported-affair",
   "metadata": {},
   "source": [
    "5. Do you want data for whole admission or ?"
   ]
  },
  {
   "cell_type": "code",
   "execution_count": 12,
   "id": "physical-street",
   "metadata": {},
   "outputs": [
    {
     "data": {
      "application/vnd.jupyter.widget-view+json": {
       "model_id": "20added5a7424b51a67350e005aa898a",
       "version_major": 2,
       "version_minor": 0
      },
      "text/plain": [
       "RadioButtons(options=('All', 'Last 24 hours', 'Last 48 hours', 'Last 72 hours'), value='All')"
      ]
     },
     "metadata": {},
     "output_type": "display_data"
    }
   ],
   "source": [
    "radio_input8 = widgets.RadioButtons(options=['All','Last 24 hours','Last 48 hours','Last 72 hours'],value='All')\n",
    "radio_input8"
   ]
  },
  {
   "cell_type": "code",
   "execution_count": 13,
   "id": "compliant-speaker",
   "metadata": {},
   "outputs": [
    {
     "data": {
      "application/vnd.jupyter.widget-view+json": {
       "model_id": "ac1114e8e568475089fa5394266a734a",
       "version_major": 2,
       "version_minor": 0
      },
      "text/plain": [
       "Button(description='Preprocess Data', style=ButtonStyle())"
      ]
     },
     "metadata": {},
     "output_type": "display_data"
    }
   ],
   "source": [
    "clean_button = widgets.Button(description='Preprocess Data')\n",
    "clean_button"
   ]
  },
  {
   "cell_type": "markdown",
   "id": "juvenile-auditor",
   "metadata": {},
   "source": [
    "D. Evaluation"
   ]
  },
  {
   "cell_type": "code",
   "execution_count": null,
   "id": "fourth-lecture",
   "metadata": {},
   "outputs": [],
   "source": []
  }
 ],
 "metadata": {
  "hide_input": false,
  "kernelspec": {
   "display_name": "Python [conda env:DSRA] *",
   "language": "python",
   "name": "conda-env-DSRA-py"
  },
  "language_info": {
   "codemirror_mode": {
    "name": "ipython",
    "version": 3
   },
   "file_extension": ".py",
   "mimetype": "text/x-python",
   "name": "python",
   "nbconvert_exporter": "python",
   "pygments_lexer": "ipython3",
   "version": "3.7.1"
  }
 },
 "nbformat": 4,
 "nbformat_minor": 5
}
