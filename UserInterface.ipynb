{
 "cells": [
  {
   "cell_type": "code",
   "execution_count": 9,
   "id": "available-albany",
   "metadata": {},
   "outputs": [],
   "source": [
    "import ipywidgets as widgets"
   ]
  },
  {
   "cell_type": "markdown",
   "id": "balanced-attack",
   "metadata": {},
   "source": [
    "Welcome to your MIMIC-IV Project"
   ]
  },
  {
   "cell_type": "markdown",
   "id": "lesbian-electric",
   "metadata": {},
   "source": [
    "Please select below if you want to work with ICU or Non-ICU data ?"
   ]
  },
  {
   "cell_type": "code",
   "execution_count": 21,
   "id": "broken-record",
   "metadata": {
    "tags": [
     "hide-input"
    ]
   },
   "outputs": [
    {
     "data": {
      "application/vnd.jupyter.widget-view+json": {
       "model_id": "0306fd5eeac046b0afab16a09b10676c",
       "version_major": 2,
       "version_minor": 0
      },
      "text/plain": [
       "RadioButtons(options=('ICU', 'Non-ICU'), value='ICU')"
      ]
     },
     "metadata": {},
     "output_type": "display_data"
    }
   ],
   "source": [
    "radio_input1 = widgets.RadioButtons(options=['ICU', 'Non-ICU'],value='ICU')\n",
    "radio_input1"
   ]
  },
  {
   "cell_type": "markdown",
   "id": "essential-pound",
   "metadata": {},
   "source": [
    "Please select what prediction task you want to perform ?"
   ]
  },
  {
   "cell_type": "code",
   "execution_count": 26,
   "id": "ranking-aerospace",
   "metadata": {},
   "outputs": [
    {
     "data": {
      "application/vnd.jupyter.widget-view+json": {
       "model_id": "b7ac8ed3ab7a41009faf008d63a57971",
       "version_major": 2,
       "version_minor": 0
      },
      "text/plain": [
       "RadioButtons(options=('30 day Readmission', '60 day Readmission', '90 day Readmission', '120 day Readmission',…"
      ]
     },
     "metadata": {},
     "output_type": "display_data"
    }
   ],
   "source": [
    "radio_input2 = widgets.RadioButtons(options=['30 day Readmission','60 day Readmission','90 day Readmission','120 day Readmission', 'Mortality'],value='30 day Readmission')\n",
    "radio_input2"
   ]
  },
  {
   "cell_type": "markdown",
   "id": "elegant-gender",
   "metadata": {},
   "source": [
    "Please select if you want to perform choosen prediction task for a specific disease."
   ]
  },
  {
   "cell_type": "code",
   "execution_count": 27,
   "id": "eastern-deposit",
   "metadata": {},
   "outputs": [
    {
     "data": {
      "application/vnd.jupyter.widget-view+json": {
       "model_id": "39c0cb5e6b4348c0bce5150592dca3f9",
       "version_major": 2,
       "version_minor": 0
      },
      "text/plain": [
       "RadioButtons(options=('Heart Failure', 'CKD', 'Respiratory Failure', 'COPD'), value='Heart Failure')"
      ]
     },
     "metadata": {},
     "output_type": "display_data"
    }
   ],
   "source": [
    "radio_input3 = widgets.RadioButtons(options=['Heart Failure','CKD','Respiratory Failure','COPD'],value='Heart Failure')\n",
    "radio_input3"
   ]
  },
  {
   "cell_type": "code",
   "execution_count": 31,
   "id": "horizontal-journal",
   "metadata": {},
   "outputs": [
    {
     "data": {
      "application/vnd.jupyter.widget-view+json": {
       "model_id": "69b1c2bb6af74c7fb289012d5f5229a1",
       "version_major": 2,
       "version_minor": 0
      },
      "text/plain": [
       "Button(description='Extract Data', style=ButtonStyle())"
      ]
     },
     "metadata": {},
     "output_type": "display_data"
    }
   ],
   "source": [
    "extract_button = widgets.Button(description='Extract Data')\n",
    "extract_button"
   ]
  },
  {
   "cell_type": "code",
   "execution_count": null,
   "id": "constant-blake",
   "metadata": {},
   "outputs": [],
   "source": [
    "extract_data(radio_input1.value)"
   ]
  },
  {
   "cell_type": "markdown",
   "id": "suffering-envelope",
   "metadata": {},
   "source": [
    "Below is summary of cohort selected according to your choices -"
   ]
  },
  {
   "cell_type": "code",
   "execution_count": null,
   "id": "sustained-position",
   "metadata": {},
   "outputs": [],
   "source": [
    "summary(cohort)"
   ]
  },
  {
   "cell_type": "markdown",
   "id": "accurate-economics",
   "metadata": {},
   "source": [
    "Lets Clean data and get it ready for model learning!"
   ]
  },
  {
   "cell_type": "markdown",
   "id": "brown-gravity",
   "metadata": {},
   "source": [
    "1. Feature Reduction"
   ]
  },
  {
   "cell_type": "markdown",
   "id": "charged-faculty",
   "metadata": {},
   "source": [
    "    Do you want to group ICD 10 DIAG codes ?"
   ]
  },
  {
   "cell_type": "code",
   "execution_count": 28,
   "id": "mechanical-three",
   "metadata": {},
   "outputs": [
    {
     "data": {
      "application/vnd.jupyter.widget-view+json": {
       "model_id": "94d4c7fcbce24e9fa3223c647370f2b5",
       "version_major": 2,
       "version_minor": 0
      },
      "text/plain": [
       "RadioButtons(options=('Yes', 'No'), value='Yes')"
      ]
     },
     "metadata": {},
     "output_type": "display_data"
    }
   ],
   "source": [
    "radio_input4 = widgets.RadioButtons(options=['Yes','No'],value='Yes')\n",
    "radio_input4"
   ]
  },
  {
   "cell_type": "markdown",
   "id": "bottom-royalty",
   "metadata": {},
   "source": [
    "Do you want to group Medication codes to use Non propietary?"
   ]
  },
  {
   "cell_type": "code",
   "execution_count": 29,
   "id": "cooperative-radical",
   "metadata": {},
   "outputs": [
    {
     "data": {
      "application/vnd.jupyter.widget-view+json": {
       "model_id": "589b0ced43f747abaf3a77e838c6e26c",
       "version_major": 2,
       "version_minor": 0
      },
      "text/plain": [
       "RadioButtons(options=('Yes', 'No'), value='Yes')"
      ]
     },
     "metadata": {},
     "output_type": "display_data"
    }
   ],
   "source": [
    "radio_input5 = widgets.RadioButtons(options=['Yes','No'],value='Yes')\n",
    "radio_input5"
   ]
  },
  {
   "cell_type": "markdown",
   "id": "sustained-track",
   "metadata": {},
   "source": [
    "2. Outlier Removal"
   ]
  },
  {
   "cell_type": "markdown",
   "id": "laden-technical",
   "metadata": {},
   "source": [
    "    Do you want to remove outliers for all features?"
   ]
  },
  {
   "cell_type": "code",
   "execution_count": 30,
   "id": "lucky-utilization",
   "metadata": {},
   "outputs": [
    {
     "data": {
      "application/vnd.jupyter.widget-view+json": {
       "model_id": "b48b0ec849ce4950a025b50b8fe924c8",
       "version_major": 2,
       "version_minor": 0
      },
      "text/plain": [
       "RadioButtons(options=('Yes', 'No'), value='Yes')"
      ]
     },
     "metadata": {},
     "output_type": "display_data"
    }
   ],
   "source": [
    "radio_input6 = widgets.RadioButtons(options=['Yes','No'],value='Yes')\n",
    "radio_input6"
   ]
  },
  {
   "cell_type": "markdown",
   "id": "dried-fisher",
   "metadata": {},
   "source": [
    "What time bucket size you want to choose ?"
   ]
  },
  {
   "cell_type": "code",
   "execution_count": 33,
   "id": "comparable-voluntary",
   "metadata": {},
   "outputs": [
    {
     "data": {
      "application/vnd.jupyter.widget-view+json": {
       "model_id": "4e42bceb381d4f65b7d361093940ec2c",
       "version_major": 2,
       "version_minor": 0
      },
      "text/plain": [
       "RadioButtons(options=('1 hour', '2 hour', '3 hour', '4 hour', '5 hour'), value='1 hour')"
      ]
     },
     "metadata": {},
     "output_type": "display_data"
    }
   ],
   "source": [
    "radio_input7 = widgets.RadioButtons(options=['1 hour','2 hour','3 hour','4 hour','5 hour'],value='1 hour')\n",
    "radio_input7"
   ]
  },
  {
   "cell_type": "markdown",
   "id": "separate-caution",
   "metadata": {},
   "source": [
    "Do you want data for whole admission or ?"
   ]
  },
  {
   "cell_type": "code",
   "execution_count": 34,
   "id": "physical-street",
   "metadata": {},
   "outputs": [
    {
     "data": {
      "application/vnd.jupyter.widget-view+json": {
       "model_id": "3972c1382cc5425caceba298d773bdbe",
       "version_major": 2,
       "version_minor": 0
      },
      "text/plain": [
       "RadioButtons(options=('All', 'Last 24 hours', 'Last 48 hours', 'Last 72 hours'), value='All')"
      ]
     },
     "metadata": {},
     "output_type": "display_data"
    }
   ],
   "source": [
    "radio_input8 = widgets.RadioButtons(options=['All','Last 24 hours','Last 48 hours','Last 72 hours'],value='All')\n",
    "radio_input8"
   ]
  },
  {
   "cell_type": "code",
   "execution_count": 32,
   "id": "compliant-speaker",
   "metadata": {},
   "outputs": [
    {
     "data": {
      "application/vnd.jupyter.widget-view+json": {
       "model_id": "8d6dbc9cf999478984f24803ff6fdc86",
       "version_major": 2,
       "version_minor": 0
      },
      "text/plain": [
       "Button(description='Preprocess Data', style=ButtonStyle())"
      ]
     },
     "metadata": {},
     "output_type": "display_data"
    }
   ],
   "source": [
    "clean_button = widgets.Button(description='Preprocess Data')\n",
    "clean_button"
   ]
  },
  {
   "cell_type": "code",
   "execution_count": null,
   "id": "ignored-photographer",
   "metadata": {},
   "outputs": [],
   "source": []
  }
 ],
 "metadata": {
  "kernelspec": {
   "display_name": "Python [conda env:DSRA] *",
   "language": "python",
   "name": "conda-env-DSRA-py"
  },
  "language_info": {
   "codemirror_mode": {
    "name": "ipython",
    "version": 3
   },
   "file_extension": ".py",
   "mimetype": "text/x-python",
   "name": "python",
   "nbconvert_exporter": "python",
   "pygments_lexer": "ipython3",
   "version": "3.7.1"
  }
 },
 "nbformat": 4,
 "nbformat_minor": 5
}
